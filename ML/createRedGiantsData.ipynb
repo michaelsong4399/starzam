{
 "cells": [
  {
   "cell_type": "code",
   "execution_count": 1,
   "metadata": {},
   "outputs": [],
   "source": [
    "import os\n",
    "import concurrent.futures\n",
    "import multiprocess as mp\n",
    "import random\n",
    "\n",
    "\n",
    "from astropy.io import fits\n",
    "from matplotlib import pyplot as plt\n",
    "import numpy as np\n",
    "import lightkurve as lk\n",
    "from astroquery.simbad import Simbad\n",
    "import pandas as pd \n",
    "from numpy import genfromtxt\n",
    "\n",
    "\n",
    "#tf\n",
    "from __future__ import absolute_import, division, print_function, unicode_literals\n",
    "import tensorflow as tf\n",
    "from tensorflow import keras\n",
    "from tensorflow.keras import datasets, layers, models\n",
    "\n",
    "\n",
    "from sklearn.model_selection import train_test_split\n",
    "from sklearn.linear_model import LinearRegression\n",
    "from sklearn.metrics import r2_score, mean_squared_error, mean_absolute_error"
   ]
  },
  {
   "cell_type": "code",
   "execution_count": 2,
   "metadata": {},
   "outputs": [
    {
     "name": "stdout",
     "output_type": "stream",
     "text": [
      "Filename: /Users/michaelsong/Documents/GitHub/starzam/Labels/J_ApJS_236_42_table2.dat.gz.fits\n",
      "No.    Name      Ver    Type      Cards   Dimensions   Format\n",
      "  0  PRIMARY       1 PrimaryHDU     114   ()      \n",
      "  1  table2.dat    1 TableHDU       162   16094R x 20C   [I8, I4, I3, F5.3, F5.3, F5.2, F4.2, F4.2, F4.2, F5.2, F4.2, F4.2, F4.2, F5.2, F4.2, F4.2, F4.2, F5.2, F5.2, I1]   \n",
      "[(757137, 4751, 139, 2.383, 0.012, -0.08, 0.3, 1.7, 0.14, 13.91, 0.41, 1.55, 0.13, 13.26, 0.39, 1.72, 0.14, 13.97, 0.41, 1)\n",
      " (892010, 4834, 151, 2.161, 0.023, 0.21, 0.3, 1.42, 0.29, 16.37, 1.38, 1.36, 0.28, 16.02, 1.34, 1.43, 0.3, 16.47, 1.39, 0)\n",
      " (892738, 4534, 135, 1.769, 0.022, -0.25, 0.3, 1.15, 0.21, 23.15, 1.62, 0.99, 0.18, 21.49, 1.48, 1.12, 0.2, 22.86, 1.6, 0)\n",
      " ...\n",
      " (12885196, 4846, 142, 2.878, 0.008, 0.07, 0.3, 1.55, 0.1, 7.5, 0.17, 1.46, 0.09, 7.29, 0.16, 1.57, 0.1, 7.55, 0.17, 1)\n",
      " (12885373, 4855, 144, 2.627, 0.009, 0.12, 0.3, 1.49, 0.09, 9.83, 0.22, 1.42, 0.09, 9.59, 0.22, 1.51, 0.1, 9.9, 0.22, 1)\n",
      " (12934574, 4834, 143, 2.387, 0.012, 0.01, 0.3, 1.02, 0.1, 10.72, 0.42, 0.99, 0.1, 10.57, 0.41, 1.03, 0.1, 10.74, 0.42, 2)]\n"
     ]
    },
    {
     "name": "stderr",
     "output_type": "stream",
     "text": [
      "WARNING: VerifyWarning: It is strongly recommended that column names contain only upper and lower-case ASCII letters, digits, or underscores for maximum compatibility with other software (got '[Fe/H]'). [astropy.io.fits.column]\n"
     ]
    }
   ],
   "source": [
    "hdul = fits.open('/Users/michaelsong/Documents/GitHub/starzam/Labels/J_ApJS_236_42_table2.dat.gz.fits')\n",
    "\n",
    "hdul.info()\n",
    "print(hdul[1].data)"
   ]
  },
  {
   "cell_type": "code",
   "execution_count": 3,
   "metadata": {},
   "outputs": [
    {
     "name": "stdout",
     "output_type": "stream",
     "text": [
      "4134\n",
      "2884 1146\n",
      "[12.64322393  3.01461823  5.1850582   3.78007941  4.72722984  6.61668392\n",
      "  4.61931635  3.08647375  6.78547504  3.17914494  4.80879995  0.9935621\n",
      "  4.39004802 10.14670651  8.6282496   6.45913251 12.17769887  5.34243587\n",
      "  3.54330461 16.17302037  5.71573001  6.05717721  5.10344678  4.37293807\n",
      "  1.27238123 10.49138001  6.81652618  2.45898988  0.5161188   4.28121559\n",
      "  1.43389115  0.74330265  2.64172001  2.76112893  1.27997778  0.33767567\n",
      "  2.97810698  1.41028003  1.19041698  1.89767808  1.59331636  1.26902919\n",
      "  1.15664369  2.59023616  0.87124678  1.44719482  1.32514662  1.18635239\n",
      "  1.3480541   0.36700124  0.11968683  0.78818292  0.89265212  0.4154108\n",
      "  1.02452335  1.12221132  0.20735838  0.42419001  0.46519454  1.36561205\n",
      "  1.24395541  0.4567286   0.60627518  0.83884407  0.48369706  0.54817106\n",
      "  0.50165938  0.68842418  0.589237    0.98896752  0.43887154  0.72773679\n",
      "  0.9261075   0.52177779  0.84000301  0.38464013  0.28739114  0.66712479\n",
      "  0.8148812   0.25357022  0.83808964  0.93391275  0.44989105  0.92837106\n",
      "  0.6056435   0.2164105   0.43987269  0.21795245  0.56876213  0.28634651\n",
      "  0.81946496  0.46407163  0.19045506  0.46359444  0.51131939  0.4152009\n",
      "  0.3799604   0.28410408  0.23478475  0.30410893  0.77776384  0.02973795\n",
      "  0.36865639  0.4061775   0.63684397  0.52762316  0.69144084  0.8426852\n",
      "  0.54456331  0.30695211  0.54140921  0.48340921  0.5394806   0.60071753\n",
      "  0.74062587  0.2915423   0.37939461  0.75568821  0.08035627  0.16510933\n",
      "  0.1117304   0.40619266  0.58626379  0.91075806  0.90557635  0.10360855\n",
      "  0.18760757  0.8458468   0.57656084  0.37218618  0.09734776  0.45834055\n",
      "  0.25550702  0.6703267   0.5467682   0.14864004  0.40426609  0.56020362\n",
      "  0.56179654  0.47084372  0.57328838  0.26734437  0.41510236  0.22133102\n",
      "  0.3291205   0.29229516  0.27713143  1.0046733   0.65613868  0.14421818\n",
      "  0.38095538  0.7932034   0.59716725  0.3807449   0.61642122  0.45679456\n",
      "  0.31170771  0.57905211  0.35143881  0.63719014  0.71656595  0.18138661\n",
      "  0.43205451  0.59083477  0.36493391  0.93242347  0.47126317  0.75025058\n",
      "  0.67073112  0.4453707   0.10287286  0.32401163  0.34439902  0.41876386\n",
      "  0.492139    0.42148691  0.24669888  0.26797     0.19852686  0.67261077\n",
      "  0.56299742  0.44382703  0.42055457  0.51439359  0.8867099   0.68617034\n",
      "  0.40596968  0.58381725  0.21034471  0.38519664  0.65563502  0.43557261\n",
      "  0.33978874  0.27113014  0.62704594  0.92809731  0.43097325  0.38373821\n",
      "  0.29359721  0.55856277  0.53331701  0.20860603  0.09851384  0.28033982\n",
      "  0.98397538  0.86356403  0.09261753  0.35592956  0.32349913  0.60400999\n",
      "  0.27101355  0.23937106  0.31946803  0.52627663  0.84524352  0.24303422\n",
      "  0.46204848  0.43850906  0.32831042  0.98659719  0.47910374  0.20278882\n",
      "  0.46032481  0.37708812  0.73981903  0.69833051  0.54073864  0.32289426\n",
      "  0.08313128  0.23524465  0.5034427   0.72767662  0.36254635  0.14035049\n",
      "  0.55748723]\n"
     ]
    }
   ],
   "source": [
    "test_lk = lk.search_lightcurve('KIC '+str(757137), author='Kepler',exptime=1800)[2].download().remove_outliers(sigma=20, sigma_upper=4).normalize()\n",
    "print(len(test_lk.time.value))\n",
    "l = random.randrange(250, len(test_lk.time.value))\n",
    "s = random.randrange(0,len(test_lk.time.value)-l)\n",
    "print(s,l)\n",
    "test_lk2 = test_lk.truncate(after=test_lk.time.value[s+l],before=test_lk.time.value[s])\n",
    "test_periodogram = test_lk2.to_periodogram(frequency = [x for x in np.arange(1,24.5,0.1)])\n",
    "freq = np.asarray([test_periodogram.frequency,test_periodogram.power*100000])\n",
    "print(freq[1])"
   ]
  },
  {
   "cell_type": "code",
   "execution_count": 4,
   "metadata": {},
   "outputs": [],
   "source": [
    "def prepsr(i,sr,j):\n",
    "    r = True\n",
    "    if r:\n",
    "        test_lk = sr[j].download().remove_outliers(sigma=20, sigma_upper=4).normalize()\n",
    "        l = random.randrange(240, len(test_lk.time.value))\n",
    "        s = random.randrange(0,len(test_lk.time.value)-l)\n",
    "        lightcurve = test_lk.truncate(after=test_lk.time.value[s+l],before=test_lk.time.value[s])\n",
    "    else:\n",
    "        lightcurve = sr[j].download().remove_outliers(sigma=20, sigma_upper=4).normalize()\n",
    "    \n",
    "    periodogram = lightcurve.to_periodogram(frequency = [x for x in np.arange(1,24.5,0.1)])\n",
    "    # periodogram = periodogram.bin(binsize=10, method='mean')\n",
    "    freq = np.asarray([periodogram.frequency,periodogram.power*100000])\n",
    "    # pd.DataFrame(freq[1]).to_csv(\"/content/drive/MyDrive/Research - Yihong Song and Rohit Prasanna/Yihong/Data/\"+str(labeled_data[\"Kepler_ID\"][i])+\"_\"+str(j)+\".csv\")\n",
    "    return np.append(np.append(np.append(np.append(hdul[1].data[i][0:2],hdul[1].data[i][3]),hdul[1].data[i][5]),[j]),freq[1])\n",
    "\n",
    "def getlc(i):\n",
    "    lc_data = []\n",
    "    sr = lk.search_lightcurve('KIC '+str(hdul[1].data[i][0]), author='Kepler',exptime=1800)\n",
    "    # return prepsr(i,sr,1)\n",
    "    for j in range(len(sr)):\n",
    "        # x = wrap(prepsr(i,sr,j))\n",
    "        # if x is not None:\n",
    "        lc_data.append(prepsr(i,sr,j))\n",
    "        # y = wrap(external_function_raises)\n",
    "        # if y is not None:\n",
    "        #     lc_data.append(y)\n",
    "    return lc_data\n",
    "\n",
    "def getdata(start):\n",
    "    # for k in range(start,int(191449/100)+1,1):\n",
    "    for k in range(start,start+1,1):\n",
    "        lc_data = []\n",
    "        for i in range(k*10,(k+1)*10,1):\n",
    "            try:\n",
    "                lc_data = lc_data+getlc(i)\n",
    "            except:\n",
    "                continue\n",
    "            print(\"\\r\"+str(i),end=\"\")\n",
    "        # print(lc_data)\n",
    "        pd.DataFrame(lc_data).to_csv(\"/Users/michaelsong/Documents/GitHub/starzam/Data_v5/\"+str(1610+k)+\".csv\")"
   ]
  },
  {
   "cell_type": "code",
   "execution_count": 16,
   "metadata": {},
   "outputs": [
    {
     "name": "stdout",
     "output_type": "stream",
     "text": [
      "9"
     ]
    }
   ],
   "source": [
    "getdata(0)"
   ]
  },
  {
   "cell_type": "code",
   "execution_count": 11,
   "metadata": {},
   "outputs": [
    {
     "name": "stdout",
     "output_type": "stream",
     "text": [
      "16065"
     ]
    },
    {
     "name": "stderr",
     "output_type": "stream",
     "text": [
      "WARNING: File may have been truncated: actual file length (262144) is smaller than the expected size (440640) [astropy.io.fits.file]\n"
     ]
    },
    {
     "name": "stdout",
     "output_type": "stream",
     "text": [
      "16089[None, None, None, None, None, None, None, None, None, None]\n"
     ]
    }
   ],
   "source": [
    "# with concurrent.futures.ProcessPoolExecutor() as executor:\n",
    "#     print(executor.map(getdata, [1,2,3]))\n",
    "\n",
    "with mp.Pool(8) as pool:\n",
    "    print(pool.map(getdata, [x for x in range(1600,1610)]))"
   ]
  },
  {
   "cell_type": "code",
   "execution_count": null,
   "metadata": {},
   "outputs": [],
   "source": [
    "\n"
   ]
  }
 ],
 "metadata": {
  "interpreter": {
   "hash": "47065cae1920ebace9a059c93d67134c9a065e51e3ecb9809a1abf9fcf371550"
  },
  "kernelspec": {
   "display_name": "Python 3.9.7 64-bit ('base': conda)",
   "name": "python3"
  },
  "language_info": {
   "codemirror_mode": {
    "name": "ipython",
    "version": 3
   },
   "file_extension": ".py",
   "mimetype": "text/x-python",
   "name": "python",
   "nbconvert_exporter": "python",
   "pygments_lexer": "ipython3",
   "version": "3.9.7"
  },
  "orig_nbformat": 4
 },
 "nbformat": 4,
 "nbformat_minor": 2
}
