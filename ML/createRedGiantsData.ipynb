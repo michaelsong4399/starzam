{
 "cells": [
  {
   "cell_type": "code",
   "execution_count": 1,
   "metadata": {},
   "outputs": [],
   "source": [
    "import os\n",
    "import concurrent.futures\n",
    "import multiprocess as mp\n",
    "import random\n",
    "\n",
    "\n",
    "from astropy.io import fits\n",
    "from matplotlib import pyplot as plt\n",
    "import numpy as np\n",
    "import lightkurve as lk\n",
    "from astroquery.simbad import Simbad\n",
    "import pandas as pd \n",
    "from numpy import genfromtxt\n",
    "\n",
    "\n",
    "#tf\n",
    "from __future__ import absolute_import, division, print_function, unicode_literals\n",
    "import tensorflow as tf\n",
    "from tensorflow import keras\n",
    "from tensorflow.keras import datasets, layers, models\n",
    "\n",
    "\n",
    "from sklearn.model_selection import train_test_split\n",
    "from sklearn.linear_model import LinearRegression\n",
    "from sklearn.metrics import r2_score, mean_squared_error, mean_absolute_error"
   ]
  },
  {
   "cell_type": "code",
   "execution_count": 2,
   "metadata": {},
   "outputs": [
    {
     "name": "stdout",
     "output_type": "stream",
     "text": [
      "Filename: /Users/michaelsong/Documents/GitHub/starzam/Labels/J_ApJS_236_42_table2.dat.gz.fits\n",
      "No.    Name      Ver    Type      Cards   Dimensions   Format\n",
      "  0  PRIMARY       1 PrimaryHDU     114   ()      \n",
      "  1  table2.dat    1 TableHDU       162   16094R x 20C   [I8, I4, I3, F5.3, F5.3, F5.2, F4.2, F4.2, F4.2, F5.2, F4.2, F4.2, F4.2, F5.2, F4.2, F4.2, F4.2, F5.2, F5.2, I1]   \n"
     ]
    },
    {
     "name": "stderr",
     "output_type": "stream",
     "text": [
      "WARNING: VerifyWarning: It is strongly recommended that column names contain only upper and lower-case ASCII letters, digits, or underscores for maximum compatibility with other software (got '[Fe/H]'). [astropy.io.fits.column]\n"
     ]
    },
    {
     "name": "stdout",
     "output_type": "stream",
     "text": [
      "[(757137, 4751, 139, 2.383, 0.012, -0.08, 0.3, 1.7, 0.14, 13.91, 0.41, 1.55, 0.13, 13.26, 0.39, 1.72, 0.14, 13.97, 0.41, 1)\n",
      " (892010, 4834, 151, 2.161, 0.023, 0.21, 0.3, 1.42, 0.29, 16.37, 1.38, 1.36, 0.28, 16.02, 1.34, 1.43, 0.3, 16.47, 1.39, 0)\n",
      " (892738, 4534, 135, 1.769, 0.022, -0.25, 0.3, 1.15, 0.21, 23.15, 1.62, 0.99, 0.18, 21.49, 1.48, 1.12, 0.2, 22.86, 1.6, 0)\n",
      " ...\n",
      " (12885196, 4846, 142, 2.878, 0.008, 0.07, 0.3, 1.55, 0.1, 7.5, 0.17, 1.46, 0.09, 7.29, 0.16, 1.57, 0.1, 7.55, 0.17, 1)\n",
      " (12885373, 4855, 144, 2.627, 0.009, 0.12, 0.3, 1.49, 0.09, 9.83, 0.22, 1.42, 0.09, 9.59, 0.22, 1.51, 0.1, 9.9, 0.22, 1)\n",
      " (12934574, 4834, 143, 2.387, 0.012, 0.01, 0.3, 1.02, 0.1, 10.72, 0.42, 0.99, 0.1, 10.57, 0.41, 1.03, 0.1, 10.74, 0.42, 2)]\n"
     ]
    }
   ],
   "source": [
    "hdul = fits.open('/Users/michaelsong/Documents/GitHub/starzam/Labels/J_ApJS_236_42_table2.dat.gz.fits')\n",
    "\n",
    "hdul.info()\n",
    "print(hdul[1].data)"
   ]
  },
  {
   "cell_type": "code",
   "execution_count": 3,
   "metadata": {},
   "outputs": [
    {
     "name": "stdout",
     "output_type": "stream",
     "text": [
      "[(757137, 4751, 139, 2.383, 0.012, -0.08, 0.3, 1.7, 0.14, 13.91, 0.41, 1.55, 0.13, 13.26, 0.39, 1.72, 0.14, 13.97, 0.41, 1)\n",
      " (892010, 4834, 151, 2.161, 0.023, 0.21, 0.3, 1.42, 0.29, 16.37, 1.38, 1.36, 0.28, 16.02, 1.34, 1.43, 0.3, 16.47, 1.39, 0)\n",
      " (892738, 4534, 135, 1.769, 0.022, -0.25, 0.3, 1.15, 0.21, 23.15, 1.62, 0.99, 0.18, 21.49, 1.48, 1.12, 0.2, 22.86, 1.6, 0)\n",
      " ...\n",
      " (12885196, 4846, 142, 2.878, 0.008, 0.07, 0.3, 1.55, 0.1, 7.5, 0.17, 1.46, 0.09, 7.29, 0.16, 1.57, 0.1, 7.55, 0.17, 1)\n",
      " (12885373, 4855, 144, 2.627, 0.009, 0.12, 0.3, 1.49, 0.09, 9.83, 0.22, 1.42, 0.09, 9.59, 0.22, 1.51, 0.1, 9.9, 0.22, 1)\n",
      " (12934574, 4834, 143, 2.387, 0.012, 0.01, 0.3, 1.02, 0.1, 10.72, 0.42, 0.99, 0.1, 10.57, 0.41, 1.03, 0.1, 10.74, 0.42, 2)]\n",
      "[139. 151. 135. ... 142. 144. 143.]\n"
     ]
    }
   ],
   "source": [
    "print(hdul[1].data)\n",
    "teffe = []\n",
    "for i in range(len(hdul[1].data)):\n",
    "   teffe = np.append(teffe, hdul[1].data[i][2])\n",
    "print(teffe)"
   ]
  },
  {
   "cell_type": "code",
   "execution_count": 4,
   "metadata": {},
   "outputs": [
    {
     "name": "stdout",
     "output_type": "stream",
     "text": [
      "122.85609543929415\n",
      "7625 8469\n"
     ]
    }
   ],
   "source": [
    "print(sum(teffe)/len(teffe))\n",
    "count = 0\n",
    "for i in range(len(teffe)):\n",
    "    if teffe[i] <= 100:\n",
    "        count += 1\n",
    "print(count, len(teffe)-count)"
   ]
  },
  {
   "cell_type": "code",
   "execution_count": 5,
   "metadata": {},
   "outputs": [
    {
     "name": "stdout",
     "output_type": "stream",
     "text": [
      "4134\n",
      "770 1738\n",
      "[5.24204169 6.3253993  2.81822677 4.36254768 5.02275538 1.64259439\n",
      " 8.23901335 3.80093387 3.47781742 4.67749315 5.94100463 4.21183629\n",
      " 8.79729259 2.56233368 2.65508444 2.48662571 1.35904076 2.92738102\n",
      " 3.50587931 6.12230787 3.33885046 4.26613244 0.80785171 1.63094469\n",
      " 4.10210314 2.38671387 3.09196283 1.84297081 3.97728383 2.59121494\n",
      " 2.29998895 1.0885984  0.88510526 0.4453222  1.73753853 0.18103211\n",
      " 0.43585955 1.68101277 1.0636674  1.85000617 2.6784093  0.4572161\n",
      " 1.55523051 1.58822179 0.97404079 1.76364973 1.94745304 0.62560543\n",
      " 0.46727238 1.49189682 0.58807248 0.91329129 1.31698368 0.48116855\n",
      " 1.13067258 0.78262293 0.89455732 1.23372847 0.51191291 1.32041496\n",
      " 0.73435041 0.55920519 1.16726627 0.17746462 1.33527485 0.79465399\n",
      " 0.69607481 0.15598112 0.78855346 0.83793982 0.45647425 0.79817084\n",
      " 0.89986127 0.41535298 0.91136554 0.4510925  0.33310507 0.65072494\n",
      " 0.29556039 0.63622895 0.21631519 0.18728782 0.22235355 0.59312701\n",
      " 0.38025965 0.3755345  0.21607905 0.64028148 0.2394773  0.36759619\n",
      " 0.3085304  0.35384318 0.31766855 0.30608899 0.18809264 0.32343613\n",
      " 0.43062827 0.28976662 0.61945968 0.35569305 0.29720707 0.57724691\n",
      " 0.52320844 0.41916452 0.43749621 0.23747684 0.35701345 0.43932368\n",
      " 0.32127107 0.21158209 0.61363325 0.21918166 0.35063836 0.24994834\n",
      " 0.46509202 0.13436015 0.52063872 0.18719693 0.19437248 0.28505505\n",
      " 0.14694961 0.17896034 0.41977663 0.27189982 0.50358695 0.49961121\n",
      " 0.19296177 0.03420419 0.39021983 0.23675173 0.22447244 0.13668352\n",
      " 0.75035406 0.16768763 0.67965821 0.2123248  0.3535599  0.26638038\n",
      " 0.17219009 0.24432601 0.10174572 0.24270302 0.69638363 0.35374525\n",
      " 0.39587155 0.39550718 0.28322769 0.09742985 0.1387199  0.40993034\n",
      " 0.15860935 0.13578545 0.23383098 0.5545415  0.50476633 0.3834329\n",
      " 0.19591392 0.32283992 0.48783734 0.41293209 0.32994223 0.11770831\n",
      " 0.52327781 0.27112867 0.31778398 0.17616734 0.13448468 0.3150925\n",
      " 0.21244249 0.1690949  0.24349054 0.09690473 0.44395349 0.35256007\n",
      " 0.55022618 0.12089497 0.35654258 0.19150339 0.19130318 0.44356714\n",
      " 0.30075325 0.30005939 0.29037255 0.38524632 0.17065578 0.46179184\n",
      " 0.22669991 0.10880498 0.22528971 0.3028062  0.10975814 0.20962358\n",
      " 0.1301747  0.28110449 0.2796731  0.29537367 0.48758829 0.34164287\n",
      " 0.08117553 0.30024077 0.42327905 0.41965343 0.36982769 0.07743164\n",
      " 0.0537531  0.21506395 0.56376423 0.38383412 0.28050158 0.20354254\n",
      " 0.62873174 0.09071401 0.37418032 0.161807   0.32076189 0.04193931\n",
      " 0.3654577  0.22109514 0.36034357 0.72191305 0.41778478 0.14834838\n",
      " 0.25448904 0.29547024 0.12449694 0.12474988 0.27878634 0.26173035\n",
      " 0.32589717 0.2406091  0.37815059 0.05105652 0.22093261 0.09358809\n",
      " 0.3300419 ]\n"
     ]
    }
   ],
   "source": [
    "test_lk = lk.search_lightcurve('KIC '+str(757137), author='Kepler',exptime=1800)[2].download().remove_outliers(sigma=20, sigma_upper=4).normalize()\n",
    "print(len(test_lk.time.value))\n",
    "l = random.randrange(250, len(test_lk.time.value))\n",
    "s = random.randrange(0,len(test_lk.time.value)-l)\n",
    "print(s,l)\n",
    "test_lk2 = test_lk.truncate(after=test_lk.time.value[s+l],before=test_lk.time.value[s])\n",
    "test_periodogram = test_lk2.to_periodogram(frequency = [x for x in np.arange(1,24.5,0.1)])\n",
    "freq = np.asarray([test_periodogram.frequency,test_periodogram.power*100000])\n",
    "print(freq[1])"
   ]
  },
  {
   "cell_type": "code",
   "execution_count": 32,
   "metadata": {},
   "outputs": [],
   "source": [
    "def prepsr(i,sr,j):\n",
    "    r = True\n",
    "    if r:\n",
    "        test_lk = sr[j].download().remove_outliers(sigma=20, sigma_upper=4).normalize()\n",
    "        # l = random.randrange(i+240, len(test_lk.time.value))\n",
    "        # s = random.randrange(0,len(test_lk.time.value)-l)\n",
    "        lightcurve = test_lk.truncate(after=test_lk.time.value[1+i],before=test_lk.time.value[0])\n",
    "    else:\n",
    "        lightcurve = sr[j].download().remove_outliers(sigma=20, sigma_upper=4).normalize()\n",
    "    \n",
    "    periodogram = lightcurve.to_periodogram(frequency = [x for x in np.arange(1,24.5,0.1)])\n",
    "    # periodogram = periodogram.bin(binsize=10, method='mean')\n",
    "    freq = np.asarray([periodogram.frequency,periodogram.power*100000])\n",
    "    # pd.DataFrame(freq[1]).to_csv(\"/content/drive/MyDrive/Research - Yihong Song and Rohit Prasanna/Yihong/Data/\"+str(labeled_data[\"Kepler_ID\"][i])+\"_\"+str(j)+\".csv\")\n",
    "    return np.append(np.append(hdul[1].data[i][0:7],[j]),freq[1])\n",
    "\n",
    "def getlc(i):\n",
    "    lc_data = []\n",
    "    sr = lk.search_lightcurve('KIC '+str(hdul[1].data[i][0]), author='Kepler',exptime=1800)\n",
    "    # return prepsr(i,sr,1)\n",
    "    for j in range(len(sr)):\n",
    "        # x = wrap(prepsr(i,sr,j))\n",
    "        # if x is not None:\n",
    "        lc_data.append(prepsr(i,sr,j))\n",
    "        # y = wrap(external_function_raises)\n",
    "        # if y is not None:\n",
    "        #     lc_data.append(y)\n",
    "    return lc_data\n",
    "\n",
    "def getdata(start):\n",
    "    # for k in range(start,int(191449/100)+1,1):\n",
    "    for k in range(start,start+1,1):\n",
    "        lc_data = []\n",
    "        for i in range(k*10,(k+1)*10,1):\n",
    "            try:\n",
    "                lc_data = lc_data+getlc(i)\n",
    "            except:\n",
    "                continue\n",
    "            print(\"\\r\"+str(i),end=\"\")\n",
    "        # print(lc_data)\n",
    "        pd.DataFrame(lc_data).to_csv(\"/Users/michaelsong/Documents/GitHub/starzam/Data_Length/\"+str(k)+\".csv\")"
   ]
  },
  {
   "cell_type": "code",
   "execution_count": null,
   "metadata": {},
   "outputs": [],
   "source": []
  },
  {
   "cell_type": "code",
   "execution_count": 33,
   "metadata": {},
   "outputs": [
    {
     "name": "stderr",
     "output_type": "stream",
     "text": [
      "/Users/michaelsong/miniforge3/lib/python3.9/site-packages/astropy/units/quantity.py:614: RuntimeWarning: invalid value encountered in sqrt\n",
      "  result = super().__array_ufunc__(function, method, *arrays, **kwargs)\n",
      "/Users/michaelsong/miniforge3/lib/python3.9/site-packages/astropy/units/quantity.py:614: RuntimeWarning: invalid value encountered in sqrt\n",
      "  result = super().__array_ufunc__(function, method, *arrays, **kwargs)\n",
      "/Users/michaelsong/miniforge3/lib/python3.9/site-packages/astropy/units/quantity.py:614: RuntimeWarning: invalid value encountered in sqrt\n",
      "  result = super().__array_ufunc__(function, method, *arrays, **kwargs)\n",
      "/Users/michaelsong/miniforge3/lib/python3.9/site-packages/astropy/units/quantity.py:614: RuntimeWarning: invalid value encountered in sqrt\n",
      "  result = super().__array_ufunc__(function, method, *arrays, **kwargs)\n",
      "/Users/michaelsong/miniforge3/lib/python3.9/site-packages/astropy/units/quantity.py:614: RuntimeWarning: invalid value encountered in sqrt\n",
      "  result = super().__array_ufunc__(function, method, *arrays, **kwargs)\n",
      "/Users/michaelsong/miniforge3/lib/python3.9/site-packages/astropy/units/quantity.py:614: RuntimeWarning: invalid value encountered in sqrt\n",
      "  result = super().__array_ufunc__(function, method, *arrays, **kwargs)\n",
      "/Users/michaelsong/miniforge3/lib/python3.9/site-packages/astropy/units/quantity.py:614: RuntimeWarning: invalid value encountered in sqrt\n",
      "  result = super().__array_ufunc__(function, method, *arrays, **kwargs)\n",
      "/Users/michaelsong/miniforge3/lib/python3.9/site-packages/astropy/units/quantity.py:614: RuntimeWarning: invalid value encountered in sqrt\n",
      "  result = super().__array_ufunc__(function, method, *arrays, **kwargs)\n",
      "/Users/michaelsong/miniforge3/lib/python3.9/site-packages/astropy/units/quantity.py:614: RuntimeWarning: invalid value encountered in sqrt\n",
      "  result = super().__array_ufunc__(function, method, *arrays, **kwargs)\n",
      "/Users/michaelsong/miniforge3/lib/python3.9/site-packages/astropy/timeseries/periodograms/lombscargle/implementations/fast_impl.py:122: RuntimeWarning: divide by zero encountered in true_divide\n",
      "  power = (YC * YC / CC + YS * YS / SS)\n",
      "/Users/michaelsong/miniforge3/lib/python3.9/site-packages/astropy/units/quantity.py:614: RuntimeWarning: invalid value encountered in sqrt\n",
      "  result = super().__array_ufunc__(function, method, *arrays, **kwargs)\n",
      "/Users/michaelsong/miniforge3/lib/python3.9/site-packages/astropy/units/quantity.py:614: RuntimeWarning: invalid value encountered in sqrt\n",
      "  result = super().__array_ufunc__(function, method, *arrays, **kwargs)\n"
     ]
    },
    {
     "name": "stdout",
     "output_type": "stream",
     "text": [
      "0"
     ]
    },
    {
     "name": "stderr",
     "output_type": "stream",
     "text": [
      "/Users/michaelsong/miniforge3/lib/python3.9/site-packages/astropy/units/quantity.py:614: RuntimeWarning: invalid value encountered in sqrt\n",
      "  result = super().__array_ufunc__(function, method, *arrays, **kwargs)\n",
      "/Users/michaelsong/miniforge3/lib/python3.9/site-packages/astropy/units/quantity.py:614: RuntimeWarning: invalid value encountered in sqrt\n",
      "  result = super().__array_ufunc__(function, method, *arrays, **kwargs)\n",
      "/Users/michaelsong/miniforge3/lib/python3.9/site-packages/astropy/units/quantity.py:614: RuntimeWarning: invalid value encountered in sqrt\n",
      "  result = super().__array_ufunc__(function, method, *arrays, **kwargs)\n"
     ]
    },
    {
     "name": "stdout",
     "output_type": "stream",
     "text": [
      "1"
     ]
    },
    {
     "name": "stderr",
     "output_type": "stream",
     "text": [
      "/Users/michaelsong/miniforge3/lib/python3.9/site-packages/astropy/units/quantity.py:614: RuntimeWarning: invalid value encountered in sqrt\n",
      "  result = super().__array_ufunc__(function, method, *arrays, **kwargs)\n",
      "/Users/michaelsong/miniforge3/lib/python3.9/site-packages/astropy/units/quantity.py:614: RuntimeWarning: invalid value encountered in sqrt\n",
      "  result = super().__array_ufunc__(function, method, *arrays, **kwargs)\n",
      "/Users/michaelsong/miniforge3/lib/python3.9/site-packages/astropy/units/quantity.py:614: RuntimeWarning: invalid value encountered in sqrt\n",
      "  result = super().__array_ufunc__(function, method, *arrays, **kwargs)\n",
      "/Users/michaelsong/miniforge3/lib/python3.9/site-packages/astropy/units/quantity.py:614: RuntimeWarning: invalid value encountered in sqrt\n",
      "  result = super().__array_ufunc__(function, method, *arrays, **kwargs)\n",
      "/Users/michaelsong/miniforge3/lib/python3.9/site-packages/astropy/units/quantity.py:614: RuntimeWarning: invalid value encountered in sqrt\n",
      "  result = super().__array_ufunc__(function, method, *arrays, **kwargs)\n",
      "/Users/michaelsong/miniforge3/lib/python3.9/site-packages/astropy/units/quantity.py:614: RuntimeWarning: invalid value encountered in sqrt\n",
      "  result = super().__array_ufunc__(function, method, *arrays, **kwargs)\n",
      "/Users/michaelsong/miniforge3/lib/python3.9/site-packages/astropy/units/quantity.py:614: RuntimeWarning: invalid value encountered in sqrt\n",
      "  result = super().__array_ufunc__(function, method, *arrays, **kwargs)\n",
      "/Users/michaelsong/miniforge3/lib/python3.9/site-packages/astropy/units/quantity.py:614: RuntimeWarning: invalid value encountered in sqrt\n",
      "  result = super().__array_ufunc__(function, method, *arrays, **kwargs)\n",
      "/Users/michaelsong/miniforge3/lib/python3.9/site-packages/astropy/units/quantity.py:614: RuntimeWarning: invalid value encountered in sqrt\n",
      "  result = super().__array_ufunc__(function, method, *arrays, **kwargs)\n",
      "/Users/michaelsong/miniforge3/lib/python3.9/site-packages/astropy/units/quantity.py:614: RuntimeWarning: invalid value encountered in sqrt\n",
      "  result = super().__array_ufunc__(function, method, *arrays, **kwargs)\n"
     ]
    },
    {
     "name": "stdout",
     "output_type": "stream",
     "text": [
      "2"
     ]
    },
    {
     "name": "stderr",
     "output_type": "stream",
     "text": [
      "/Users/michaelsong/miniforge3/lib/python3.9/site-packages/astropy/units/quantity.py:614: RuntimeWarning: invalid value encountered in sqrt\n",
      "  result = super().__array_ufunc__(function, method, *arrays, **kwargs)\n",
      "/Users/michaelsong/miniforge3/lib/python3.9/site-packages/astropy/units/quantity.py:614: RuntimeWarning: invalid value encountered in sqrt\n",
      "  result = super().__array_ufunc__(function, method, *arrays, **kwargs)\n",
      "/Users/michaelsong/miniforge3/lib/python3.9/site-packages/astropy/units/quantity.py:614: RuntimeWarning: invalid value encountered in sqrt\n",
      "  result = super().__array_ufunc__(function, method, *arrays, **kwargs)\n"
     ]
    },
    {
     "name": "stdout",
     "output_type": "stream",
     "text": [
      "3"
     ]
    },
    {
     "name": "stderr",
     "output_type": "stream",
     "text": [
      "/Users/michaelsong/miniforge3/lib/python3.9/site-packages/astropy/units/quantity.py:614: RuntimeWarning: invalid value encountered in sqrt\n",
      "  result = super().__array_ufunc__(function, method, *arrays, **kwargs)\n",
      "/Users/michaelsong/miniforge3/lib/python3.9/site-packages/astropy/units/quantity.py:614: RuntimeWarning: invalid value encountered in sqrt\n",
      "  result = super().__array_ufunc__(function, method, *arrays, **kwargs)\n",
      "/Users/michaelsong/miniforge3/lib/python3.9/site-packages/astropy/units/quantity.py:614: RuntimeWarning: invalid value encountered in sqrt\n",
      "  result = super().__array_ufunc__(function, method, *arrays, **kwargs)\n",
      "/Users/michaelsong/miniforge3/lib/python3.9/site-packages/astropy/units/quantity.py:614: RuntimeWarning: invalid value encountered in sqrt\n",
      "  result = super().__array_ufunc__(function, method, *arrays, **kwargs)\n",
      "/Users/michaelsong/miniforge3/lib/python3.9/site-packages/astropy/units/quantity.py:614: RuntimeWarning: invalid value encountered in sqrt\n",
      "  result = super().__array_ufunc__(function, method, *arrays, **kwargs)\n",
      "/Users/michaelsong/miniforge3/lib/python3.9/site-packages/astropy/units/quantity.py:614: RuntimeWarning: invalid value encountered in sqrt\n",
      "  result = super().__array_ufunc__(function, method, *arrays, **kwargs)\n",
      "/Users/michaelsong/miniforge3/lib/python3.9/site-packages/astropy/units/quantity.py:614: RuntimeWarning: invalid value encountered in sqrt\n",
      "  result = super().__array_ufunc__(function, method, *arrays, **kwargs)\n",
      "/Users/michaelsong/miniforge3/lib/python3.9/site-packages/astropy/units/quantity.py:614: RuntimeWarning: invalid value encountered in sqrt\n",
      "  result = super().__array_ufunc__(function, method, *arrays, **kwargs)\n"
     ]
    },
    {
     "name": "stdout",
     "output_type": "stream",
     "text": [
      "4"
     ]
    },
    {
     "name": "stderr",
     "output_type": "stream",
     "text": [
      "/Users/michaelsong/miniforge3/lib/python3.9/site-packages/astropy/units/quantity.py:614: RuntimeWarning: invalid value encountered in sqrt\n",
      "  result = super().__array_ufunc__(function, method, *arrays, **kwargs)\n",
      "/Users/michaelsong/miniforge3/lib/python3.9/site-packages/astropy/units/quantity.py:614: RuntimeWarning: invalid value encountered in sqrt\n",
      "  result = super().__array_ufunc__(function, method, *arrays, **kwargs)\n",
      "/Users/michaelsong/miniforge3/lib/python3.9/site-packages/astropy/units/quantity.py:614: RuntimeWarning: invalid value encountered in sqrt\n",
      "  result = super().__array_ufunc__(function, method, *arrays, **kwargs)\n",
      "/Users/michaelsong/miniforge3/lib/python3.9/site-packages/astropy/units/quantity.py:614: RuntimeWarning: invalid value encountered in sqrt\n",
      "  result = super().__array_ufunc__(function, method, *arrays, **kwargs)\n",
      "/Users/michaelsong/miniforge3/lib/python3.9/site-packages/astropy/units/quantity.py:614: RuntimeWarning: invalid value encountered in sqrt\n",
      "  result = super().__array_ufunc__(function, method, *arrays, **kwargs)\n",
      "/Users/michaelsong/miniforge3/lib/python3.9/site-packages/astropy/units/quantity.py:614: RuntimeWarning: invalid value encountered in sqrt\n",
      "  result = super().__array_ufunc__(function, method, *arrays, **kwargs)\n",
      "/Users/michaelsong/miniforge3/lib/python3.9/site-packages/astropy/units/quantity.py:614: RuntimeWarning: invalid value encountered in sqrt\n",
      "  result = super().__array_ufunc__(function, method, *arrays, **kwargs)\n",
      "/Users/michaelsong/miniforge3/lib/python3.9/site-packages/astropy/units/quantity.py:614: RuntimeWarning: invalid value encountered in sqrt\n",
      "  result = super().__array_ufunc__(function, method, *arrays, **kwargs)\n",
      "/Users/michaelsong/miniforge3/lib/python3.9/site-packages/astropy/units/quantity.py:614: RuntimeWarning: invalid value encountered in sqrt\n",
      "  result = super().__array_ufunc__(function, method, *arrays, **kwargs)\n"
     ]
    },
    {
     "name": "stdout",
     "output_type": "stream",
     "text": [
      "5"
     ]
    },
    {
     "name": "stderr",
     "output_type": "stream",
     "text": [
      "/Users/michaelsong/miniforge3/lib/python3.9/site-packages/astropy/units/quantity.py:614: RuntimeWarning: invalid value encountered in sqrt\n",
      "  result = super().__array_ufunc__(function, method, *arrays, **kwargs)\n",
      "/Users/michaelsong/miniforge3/lib/python3.9/site-packages/astropy/units/quantity.py:614: RuntimeWarning: invalid value encountered in sqrt\n",
      "  result = super().__array_ufunc__(function, method, *arrays, **kwargs)\n",
      "/Users/michaelsong/miniforge3/lib/python3.9/site-packages/astropy/units/quantity.py:614: RuntimeWarning: invalid value encountered in sqrt\n",
      "  result = super().__array_ufunc__(function, method, *arrays, **kwargs)\n",
      "/Users/michaelsong/miniforge3/lib/python3.9/site-packages/astropy/units/quantity.py:614: RuntimeWarning: invalid value encountered in sqrt\n",
      "  result = super().__array_ufunc__(function, method, *arrays, **kwargs)\n",
      "/Users/michaelsong/miniforge3/lib/python3.9/site-packages/astropy/units/quantity.py:614: RuntimeWarning: invalid value encountered in sqrt\n",
      "  result = super().__array_ufunc__(function, method, *arrays, **kwargs)\n",
      "/Users/michaelsong/miniforge3/lib/python3.9/site-packages/astropy/units/quantity.py:614: RuntimeWarning: invalid value encountered in sqrt\n",
      "  result = super().__array_ufunc__(function, method, *arrays, **kwargs)\n",
      "/Users/michaelsong/miniforge3/lib/python3.9/site-packages/astropy/units/quantity.py:614: RuntimeWarning: invalid value encountered in sqrt\n",
      "  result = super().__array_ufunc__(function, method, *arrays, **kwargs)\n",
      "/Users/michaelsong/miniforge3/lib/python3.9/site-packages/astropy/units/quantity.py:614: RuntimeWarning: invalid value encountered in sqrt\n",
      "  result = super().__array_ufunc__(function, method, *arrays, **kwargs)\n",
      "/Users/michaelsong/miniforge3/lib/python3.9/site-packages/astropy/units/quantity.py:614: RuntimeWarning: invalid value encountered in sqrt\n",
      "  result = super().__array_ufunc__(function, method, *arrays, **kwargs)\n",
      "/Users/michaelsong/miniforge3/lib/python3.9/site-packages/astropy/units/quantity.py:614: RuntimeWarning: invalid value encountered in sqrt\n",
      "  result = super().__array_ufunc__(function, method, *arrays, **kwargs)\n",
      "/Users/michaelsong/miniforge3/lib/python3.9/site-packages/astropy/units/quantity.py:614: RuntimeWarning: invalid value encountered in sqrt\n",
      "  result = super().__array_ufunc__(function, method, *arrays, **kwargs)\n",
      "/Users/michaelsong/miniforge3/lib/python3.9/site-packages/astropy/units/quantity.py:614: RuntimeWarning: invalid value encountered in sqrt\n",
      "  result = super().__array_ufunc__(function, method, *arrays, **kwargs)\n",
      "/Users/michaelsong/miniforge3/lib/python3.9/site-packages/astropy/units/quantity.py:614: RuntimeWarning: invalid value encountered in sqrt\n",
      "  result = super().__array_ufunc__(function, method, *arrays, **kwargs)\n",
      "/Users/michaelsong/miniforge3/lib/python3.9/site-packages/astropy/units/quantity.py:614: RuntimeWarning: invalid value encountered in sqrt\n",
      "  result = super().__array_ufunc__(function, method, *arrays, **kwargs)\n"
     ]
    },
    {
     "name": "stdout",
     "output_type": "stream",
     "text": [
      "6"
     ]
    },
    {
     "name": "stderr",
     "output_type": "stream",
     "text": [
      "/Users/michaelsong/miniforge3/lib/python3.9/site-packages/astropy/units/quantity.py:614: RuntimeWarning: invalid value encountered in sqrt\n",
      "  result = super().__array_ufunc__(function, method, *arrays, **kwargs)\n",
      "/Users/michaelsong/miniforge3/lib/python3.9/site-packages/astropy/units/quantity.py:614: RuntimeWarning: invalid value encountered in sqrt\n",
      "  result = super().__array_ufunc__(function, method, *arrays, **kwargs)\n"
     ]
    },
    {
     "name": "stdout",
     "output_type": "stream",
     "text": [
      "7"
     ]
    },
    {
     "name": "stderr",
     "output_type": "stream",
     "text": [
      "/Users/michaelsong/miniforge3/lib/python3.9/site-packages/astropy/units/quantity.py:614: RuntimeWarning: invalid value encountered in sqrt\n",
      "  result = super().__array_ufunc__(function, method, *arrays, **kwargs)\n",
      "/Users/michaelsong/miniforge3/lib/python3.9/site-packages/astropy/units/quantity.py:614: RuntimeWarning: invalid value encountered in sqrt\n",
      "  result = super().__array_ufunc__(function, method, *arrays, **kwargs)\n",
      "/Users/michaelsong/miniforge3/lib/python3.9/site-packages/astropy/units/quantity.py:614: RuntimeWarning: invalid value encountered in sqrt\n",
      "  result = super().__array_ufunc__(function, method, *arrays, **kwargs)\n",
      "/Users/michaelsong/miniforge3/lib/python3.9/site-packages/astropy/units/quantity.py:614: RuntimeWarning: invalid value encountered in sqrt\n",
      "  result = super().__array_ufunc__(function, method, *arrays, **kwargs)\n"
     ]
    },
    {
     "name": "stdout",
     "output_type": "stream",
     "text": [
      "8"
     ]
    },
    {
     "name": "stderr",
     "output_type": "stream",
     "text": [
      "/Users/michaelsong/miniforge3/lib/python3.9/site-packages/astropy/units/quantity.py:614: RuntimeWarning: invalid value encountered in sqrt\n",
      "  result = super().__array_ufunc__(function, method, *arrays, **kwargs)\n",
      "/Users/michaelsong/miniforge3/lib/python3.9/site-packages/astropy/units/quantity.py:614: RuntimeWarning: invalid value encountered in sqrt\n",
      "  result = super().__array_ufunc__(function, method, *arrays, **kwargs)\n",
      "/Users/michaelsong/miniforge3/lib/python3.9/site-packages/astropy/units/quantity.py:614: RuntimeWarning: invalid value encountered in sqrt\n",
      "  result = super().__array_ufunc__(function, method, *arrays, **kwargs)\n",
      "/Users/michaelsong/miniforge3/lib/python3.9/site-packages/astropy/units/quantity.py:614: RuntimeWarning: invalid value encountered in sqrt\n",
      "  result = super().__array_ufunc__(function, method, *arrays, **kwargs)\n",
      "/Users/michaelsong/miniforge3/lib/python3.9/site-packages/astropy/units/quantity.py:614: RuntimeWarning: invalid value encountered in sqrt\n",
      "  result = super().__array_ufunc__(function, method, *arrays, **kwargs)\n"
     ]
    },
    {
     "name": "stdout",
     "output_type": "stream",
     "text": [
      "9"
     ]
    },
    {
     "name": "stderr",
     "output_type": "stream",
     "text": [
      "/Users/michaelsong/miniforge3/lib/python3.9/site-packages/astropy/units/quantity.py:614: RuntimeWarning: invalid value encountered in sqrt\n",
      "  result = super().__array_ufunc__(function, method, *arrays, **kwargs)\n",
      "/Users/michaelsong/miniforge3/lib/python3.9/site-packages/astropy/units/quantity.py:614: RuntimeWarning: invalid value encountered in sqrt\n",
      "  result = super().__array_ufunc__(function, method, *arrays, **kwargs)\n"
     ]
    }
   ],
   "source": [
    "getdata(0)"
   ]
  },
  {
   "cell_type": "code",
   "execution_count": 34,
   "metadata": {},
   "outputs": [
    {
     "name": "stderr",
     "output_type": "stream",
     "text": [
      "/Users/michaelsong/miniforge3/lib/python3.9/site-packages/astropy/units/quantity.py:614: RuntimeWarning: invalid value encountered in sqrt\n",
      "  result = super().__array_ufunc__(function, method, *arrays, **kwargs)\n",
      "/Users/michaelsong/miniforge3/lib/python3.9/site-packages/astropy/units/quantity.py:614: RuntimeWarning: invalid value encountered in sqrt\n",
      "  result = super().__array_ufunc__(function, method, *arrays, **kwargs)\n",
      "/Users/michaelsong/miniforge3/lib/python3.9/site-packages/astropy/units/quantity.py:614: RuntimeWarning: invalid value encountered in sqrt\n",
      "  result = super().__array_ufunc__(function, method, *arrays, **kwargs)\n",
      "/Users/michaelsong/miniforge3/lib/python3.9/site-packages/astropy/units/quantity.py:614: RuntimeWarning: invalid value encountered in sqrt\n",
      "  result = super().__array_ufunc__(function, method, *arrays, **kwargs)\n",
      "/Users/michaelsong/miniforge3/lib/python3.9/site-packages/astropy/units/quantity.py:614: RuntimeWarning: invalid value encountered in sqrt\n",
      "  result = super().__array_ufunc__(function, method, *arrays, **kwargs)\n",
      "/Users/michaelsong/miniforge3/lib/python3.9/site-packages/astropy/units/quantity.py:614: RuntimeWarning: invalid value encountered in sqrt\n",
      "  result = super().__array_ufunc__(function, method, *arrays, **kwargs)\n",
      "/Users/michaelsong/miniforge3/lib/python3.9/site-packages/astropy/units/quantity.py:614: RuntimeWarning: invalid value encountered in sqrt\n",
      "  result = super().__array_ufunc__(function, method, *arrays, **kwargs)\n",
      "/Users/michaelsong/miniforge3/lib/python3.9/site-packages/astropy/units/quantity.py:614: RuntimeWarning: invalid value encountered in sqrt\n",
      "  result = super().__array_ufunc__(function, method, *arrays, **kwargs)\n",
      "/Users/michaelsong/miniforge3/lib/python3.9/site-packages/astropy/units/quantity.py:614: RuntimeWarning: invalid value encountered in sqrt\n",
      "  result = super().__array_ufunc__(function, method, *arrays, **kwargs)\n",
      "WARNING: File may have been truncated: actual file length (393216) is smaller than the expected size (457920) [astropy.io.fits.file]\n",
      "/Users/michaelsong/miniforge3/lib/python3.9/site-packages/astropy/timeseries/periodograms/lombscargle/implementations/fast_impl.py:122: RuntimeWarning: divide by zero encountered in true_divide\n",
      "  power = (YC * YC / CC + YS * YS / SS)\n",
      "/Users/michaelsong/miniforge3/lib/python3.9/site-packages/astropy/units/quantity.py:614: RuntimeWarning: invalid value encountered in sqrt\n",
      "  result = super().__array_ufunc__(function, method, *arrays, **kwargs)\n"
     ]
    },
    {
     "name": "stdout",
     "output_type": "stream",
     "text": [
      "0"
     ]
    },
    {
     "name": "stderr",
     "output_type": "stream",
     "text": [
      "/Users/michaelsong/miniforge3/lib/python3.9/site-packages/astropy/units/quantity.py:614: RuntimeWarning: invalid value encountered in sqrt\n",
      "  result = super().__array_ufunc__(function, method, *arrays, **kwargs)\n",
      "/Users/michaelsong/miniforge3/lib/python3.9/site-packages/astropy/units/quantity.py:614: RuntimeWarning: invalid value encountered in sqrt\n",
      "  result = super().__array_ufunc__(function, method, *arrays, **kwargs)\n",
      "/Users/michaelsong/miniforge3/lib/python3.9/site-packages/astropy/units/quantity.py:614: RuntimeWarning: invalid value encountered in sqrt\n",
      "  result = super().__array_ufunc__(function, method, *arrays, **kwargs)\n"
     ]
    },
    {
     "name": "stdout",
     "output_type": "stream",
     "text": [
      "1"
     ]
    },
    {
     "name": "stderr",
     "output_type": "stream",
     "text": [
      "/Users/michaelsong/miniforge3/lib/python3.9/site-packages/astropy/units/quantity.py:614: RuntimeWarning: invalid value encountered in sqrt\n",
      "  result = super().__array_ufunc__(function, method, *arrays, **kwargs)\n"
     ]
    },
    {
     "name": "stdout",
     "output_type": "stream",
     "text": [
      "40"
     ]
    },
    {
     "name": "stderr",
     "output_type": "stream",
     "text": [
      "/Users/michaelsong/miniforge3/lib/python3.9/site-packages/astropy/units/quantity.py:614: RuntimeWarning: invalid value encountered in sqrt\n",
      "  result = super().__array_ufunc__(function, method, *arrays, **kwargs)\n"
     ]
    },
    {
     "name": "stdout",
     "output_type": "stream",
     "text": [
      "240"
     ]
    },
    {
     "name": "stderr",
     "output_type": "stream",
     "text": [
      "/Users/michaelsong/miniforge3/lib/python3.9/site-packages/astropy/units/quantity.py:614: RuntimeWarning: invalid value encountered in sqrt\n",
      "  result = super().__array_ufunc__(function, method, *arrays, **kwargs)\n",
      "/Users/michaelsong/miniforge3/lib/python3.9/site-packages/astropy/units/quantity.py:614: RuntimeWarning: invalid value encountered in sqrt\n",
      "  result = super().__array_ufunc__(function, method, *arrays, **kwargs)\n",
      "/Users/michaelsong/miniforge3/lib/python3.9/site-packages/astropy/units/quantity.py:614: RuntimeWarning: invalid value encountered in sqrt\n",
      "  result = super().__array_ufunc__(function, method, *arrays, **kwargs)\n"
     ]
    },
    {
     "name": "stdout",
     "output_type": "stream",
     "text": [
      "81"
     ]
    },
    {
     "name": "stderr",
     "output_type": "stream",
     "text": [
      "/Users/michaelsong/miniforge3/lib/python3.9/site-packages/astropy/units/quantity.py:614: RuntimeWarning: invalid value encountered in sqrt\n",
      "  result = super().__array_ufunc__(function, method, *arrays, **kwargs)\n",
      "/Users/michaelsong/miniforge3/lib/python3.9/site-packages/astropy/units/quantity.py:614: RuntimeWarning: invalid value encountered in sqrt\n",
      "  result = super().__array_ufunc__(function, method, *arrays, **kwargs)\n",
      "/Users/michaelsong/miniforge3/lib/python3.9/site-packages/astropy/units/quantity.py:614: RuntimeWarning: invalid value encountered in sqrt\n",
      "  result = super().__array_ufunc__(function, method, *arrays, **kwargs)\n",
      "/Users/michaelsong/miniforge3/lib/python3.9/site-packages/astropy/units/quantity.py:614: RuntimeWarning: invalid value encountered in sqrt\n",
      "  result = super().__array_ufunc__(function, method, *arrays, **kwargs)\n"
     ]
    },
    {
     "name": "stdout",
     "output_type": "stream",
     "text": [
      "121"
     ]
    },
    {
     "name": "stderr",
     "output_type": "stream",
     "text": [
      "/Users/michaelsong/miniforge3/lib/python3.9/site-packages/astropy/units/quantity.py:614: RuntimeWarning: invalid value encountered in sqrt\n",
      "  result = super().__array_ufunc__(function, method, *arrays, **kwargs)\n"
     ]
    },
    {
     "name": "stdout",
     "output_type": "stream",
     "text": [
      "281"
     ]
    },
    {
     "name": "stderr",
     "output_type": "stream",
     "text": [
      "/Users/michaelsong/miniforge3/lib/python3.9/site-packages/astropy/units/quantity.py:614: RuntimeWarning: invalid value encountered in sqrt\n",
      "  result = super().__array_ufunc__(function, method, *arrays, **kwargs)\n"
     ]
    },
    {
     "name": "stdout",
     "output_type": "stream",
     "text": [
      "82"
     ]
    },
    {
     "name": "stderr",
     "output_type": "stream",
     "text": [
      "/Users/michaelsong/miniforge3/lib/python3.9/site-packages/astropy/units/quantity.py:614: RuntimeWarning: invalid value encountered in sqrt\n",
      "  result = super().__array_ufunc__(function, method, *arrays, **kwargs)\n",
      "/Users/michaelsong/miniforge3/lib/python3.9/site-packages/astropy/units/quantity.py:614: RuntimeWarning: invalid value encountered in sqrt\n",
      "  result = super().__array_ufunc__(function, method, *arrays, **kwargs)\n"
     ]
    },
    {
     "name": "stdout",
     "output_type": "stream",
     "text": [
      "122"
     ]
    },
    {
     "name": "stderr",
     "output_type": "stream",
     "text": [
      "/Users/michaelsong/miniforge3/lib/python3.9/site-packages/astropy/units/quantity.py:614: RuntimeWarning: invalid value encountered in sqrt\n",
      "  result = super().__array_ufunc__(function, method, *arrays, **kwargs)\n"
     ]
    },
    {
     "name": "stdout",
     "output_type": "stream",
     "text": [
      "201"
     ]
    },
    {
     "name": "stderr",
     "output_type": "stream",
     "text": [
      "/Users/michaelsong/miniforge3/lib/python3.9/site-packages/astropy/units/quantity.py:614: RuntimeWarning: invalid value encountered in sqrt\n",
      "  result = super().__array_ufunc__(function, method, *arrays, **kwargs)\n",
      "/Users/michaelsong/miniforge3/lib/python3.9/site-packages/astropy/units/quantity.py:614: RuntimeWarning: invalid value encountered in sqrt\n",
      "  result = super().__array_ufunc__(function, method, *arrays, **kwargs)\n",
      "/Users/michaelsong/miniforge3/lib/python3.9/site-packages/astropy/units/quantity.py:614: RuntimeWarning: invalid value encountered in sqrt\n",
      "  result = super().__array_ufunc__(function, method, *arrays, **kwargs)\n",
      "/Users/michaelsong/miniforge3/lib/python3.9/site-packages/astropy/units/quantity.py:614: RuntimeWarning: invalid value encountered in sqrt\n",
      "  result = super().__array_ufunc__(function, method, *arrays, **kwargs)\n",
      "/Users/michaelsong/miniforge3/lib/python3.9/site-packages/astropy/units/quantity.py:614: RuntimeWarning: invalid value encountered in sqrt\n",
      "  result = super().__array_ufunc__(function, method, *arrays, **kwargs)\n"
     ]
    },
    {
     "name": "stdout",
     "output_type": "stream",
     "text": [
      "202"
     ]
    },
    {
     "name": "stderr",
     "output_type": "stream",
     "text": [
      "/Users/michaelsong/miniforge3/lib/python3.9/site-packages/astropy/units/quantity.py:614: RuntimeWarning: invalid value encountered in sqrt\n",
      "  result = super().__array_ufunc__(function, method, *arrays, **kwargs)\n"
     ]
    },
    {
     "name": "stdout",
     "output_type": "stream",
     "text": [
      "83"
     ]
    },
    {
     "name": "stderr",
     "output_type": "stream",
     "text": [
      "/Users/michaelsong/miniforge3/lib/python3.9/site-packages/astropy/units/quantity.py:614: RuntimeWarning: invalid value encountered in sqrt\n",
      "  result = super().__array_ufunc__(function, method, *arrays, **kwargs)\n",
      "/Users/michaelsong/miniforge3/lib/python3.9/site-packages/astropy/units/quantity.py:614: RuntimeWarning: invalid value encountered in sqrt\n",
      "  result = super().__array_ufunc__(function, method, *arrays, **kwargs)\n"
     ]
    },
    {
     "name": "stdout",
     "output_type": "stream",
     "text": [
      "4"
     ]
    },
    {
     "name": "stderr",
     "output_type": "stream",
     "text": [
      "/Users/michaelsong/miniforge3/lib/python3.9/site-packages/astropy/units/quantity.py:614: RuntimeWarning: invalid value encountered in sqrt\n",
      "  result = super().__array_ufunc__(function, method, *arrays, **kwargs)\n"
     ]
    },
    {
     "name": "stdout",
     "output_type": "stream",
     "text": [
      "203"
     ]
    },
    {
     "name": "stderr",
     "output_type": "stream",
     "text": [
      "/Users/michaelsong/miniforge3/lib/python3.9/site-packages/astropy/units/quantity.py:614: RuntimeWarning: invalid value encountered in sqrt\n",
      "  result = super().__array_ufunc__(function, method, *arrays, **kwargs)\n",
      "/Users/michaelsong/miniforge3/lib/python3.9/site-packages/astropy/units/quantity.py:614: RuntimeWarning: invalid value encountered in sqrt\n",
      "  result = super().__array_ufunc__(function, method, *arrays, **kwargs)\n",
      "/Users/michaelsong/miniforge3/lib/python3.9/site-packages/astropy/units/quantity.py:614: RuntimeWarning: invalid value encountered in sqrt\n",
      "  result = super().__array_ufunc__(function, method, *arrays, **kwargs)\n"
     ]
    },
    {
     "name": "stdout",
     "output_type": "stream",
     "text": [
      "283"
     ]
    },
    {
     "name": "stderr",
     "output_type": "stream",
     "text": [
      "/Users/michaelsong/miniforge3/lib/python3.9/site-packages/astropy/units/quantity.py:614: RuntimeWarning: invalid value encountered in sqrt\n",
      "  result = super().__array_ufunc__(function, method, *arrays, **kwargs)\n"
     ]
    },
    {
     "name": "stdout",
     "output_type": "stream",
     "text": [
      "162"
     ]
    },
    {
     "name": "stderr",
     "output_type": "stream",
     "text": [
      "/Users/michaelsong/miniforge3/lib/python3.9/site-packages/astropy/units/quantity.py:614: RuntimeWarning: invalid value encountered in sqrt\n",
      "  result = super().__array_ufunc__(function, method, *arrays, **kwargs)\n",
      "/Users/michaelsong/miniforge3/lib/python3.9/site-packages/astropy/units/quantity.py:614: RuntimeWarning: invalid value encountered in sqrt\n",
      "  result = super().__array_ufunc__(function, method, *arrays, **kwargs)\n",
      "/Users/michaelsong/miniforge3/lib/python3.9/site-packages/astropy/units/quantity.py:614: RuntimeWarning: invalid value encountered in sqrt\n",
      "  result = super().__array_ufunc__(function, method, *arrays, **kwargs)\n"
     ]
    },
    {
     "name": "stdout",
     "output_type": "stream",
     "text": [
      "5"
     ]
    },
    {
     "name": "stderr",
     "output_type": "stream",
     "text": [
      "/Users/michaelsong/miniforge3/lib/python3.9/site-packages/astropy/units/quantity.py:614: RuntimeWarning: invalid value encountered in sqrt\n",
      "  result = super().__array_ufunc__(function, method, *arrays, **kwargs)\n",
      "/Users/michaelsong/miniforge3/lib/python3.9/site-packages/astropy/units/quantity.py:614: RuntimeWarning: invalid value encountered in sqrt\n",
      "  result = super().__array_ufunc__(function, method, *arrays, **kwargs)\n",
      "/Users/michaelsong/miniforge3/lib/python3.9/site-packages/astropy/units/quantity.py:614: RuntimeWarning: invalid value encountered in sqrt\n",
      "  result = super().__array_ufunc__(function, method, *arrays, **kwargs)\n",
      "/Users/michaelsong/miniforge3/lib/python3.9/site-packages/astropy/units/quantity.py:614: RuntimeWarning: invalid value encountered in sqrt\n",
      "  result = super().__array_ufunc__(function, method, *arrays, **kwargs)\n",
      "/Users/michaelsong/miniforge3/lib/python3.9/site-packages/astropy/units/quantity.py:614: RuntimeWarning: invalid value encountered in sqrt\n",
      "  result = super().__array_ufunc__(function, method, *arrays, **kwargs)\n",
      "/Users/michaelsong/miniforge3/lib/python3.9/site-packages/astropy/units/quantity.py:614: RuntimeWarning: invalid value encountered in sqrt\n",
      "  result = super().__array_ufunc__(function, method, *arrays, **kwargs)\n"
     ]
    },
    {
     "name": "stdout",
     "output_type": "stream",
     "text": [
      "163"
     ]
    },
    {
     "name": "stderr",
     "output_type": "stream",
     "text": [
      "/Users/michaelsong/miniforge3/lib/python3.9/site-packages/astropy/units/quantity.py:614: RuntimeWarning: invalid value encountered in sqrt\n",
      "  result = super().__array_ufunc__(function, method, *arrays, **kwargs)\n",
      "/Users/michaelsong/miniforge3/lib/python3.9/site-packages/astropy/units/quantity.py:614: RuntimeWarning: invalid value encountered in sqrt\n",
      "  result = super().__array_ufunc__(function, method, *arrays, **kwargs)\n",
      "/Users/michaelsong/miniforge3/lib/python3.9/site-packages/astropy/units/quantity.py:614: RuntimeWarning: invalid value encountered in sqrt\n",
      "  result = super().__array_ufunc__(function, method, *arrays, **kwargs)\n"
     ]
    },
    {
     "name": "stdout",
     "output_type": "stream",
     "text": [
      "244"
     ]
    },
    {
     "name": "stderr",
     "output_type": "stream",
     "text": [
      "/Users/michaelsong/miniforge3/lib/python3.9/site-packages/astropy/units/quantity.py:614: RuntimeWarning: invalid value encountered in sqrt\n",
      "  result = super().__array_ufunc__(function, method, *arrays, **kwargs)\n"
     ]
    },
    {
     "name": "stdout",
     "output_type": "stream",
     "text": [
      "124"
     ]
    },
    {
     "name": "stderr",
     "output_type": "stream",
     "text": [
      "/Users/michaelsong/miniforge3/lib/python3.9/site-packages/astropy/units/quantity.py:614: RuntimeWarning: invalid value encountered in sqrt\n",
      "  result = super().__array_ufunc__(function, method, *arrays, **kwargs)\n",
      "/Users/michaelsong/miniforge3/lib/python3.9/site-packages/astropy/units/quantity.py:614: RuntimeWarning: invalid value encountered in sqrt\n",
      "  result = super().__array_ufunc__(function, method, *arrays, **kwargs)\n",
      "/Users/michaelsong/miniforge3/lib/python3.9/site-packages/astropy/units/quantity.py:614: RuntimeWarning: invalid value encountered in sqrt\n",
      "  result = super().__array_ufunc__(function, method, *arrays, **kwargs)\n"
     ]
    },
    {
     "name": "stdout",
     "output_type": "stream",
     "text": [
      "204"
     ]
    },
    {
     "name": "stderr",
     "output_type": "stream",
     "text": [
      "/Users/michaelsong/miniforge3/lib/python3.9/site-packages/astropy/units/quantity.py:614: RuntimeWarning: invalid value encountered in sqrt\n",
      "  result = super().__array_ufunc__(function, method, *arrays, **kwargs)\n"
     ]
    },
    {
     "name": "stdout",
     "output_type": "stream",
     "text": [
      "6"
     ]
    },
    {
     "name": "stderr",
     "output_type": "stream",
     "text": [
      "/Users/michaelsong/miniforge3/lib/python3.9/site-packages/astropy/units/quantity.py:614: RuntimeWarning: invalid value encountered in sqrt\n",
      "  result = super().__array_ufunc__(function, method, *arrays, **kwargs)\n"
     ]
    },
    {
     "name": "stdout",
     "output_type": "stream",
     "text": [
      "284"
     ]
    },
    {
     "name": "stderr",
     "output_type": "stream",
     "text": [
      "/Users/michaelsong/miniforge3/lib/python3.9/site-packages/astropy/units/quantity.py:614: RuntimeWarning: invalid value encountered in sqrt\n",
      "  result = super().__array_ufunc__(function, method, *arrays, **kwargs)\n",
      "/Users/michaelsong/miniforge3/lib/python3.9/site-packages/astropy/units/quantity.py:614: RuntimeWarning: invalid value encountered in sqrt\n",
      "  result = super().__array_ufunc__(function, method, *arrays, **kwargs)\n"
     ]
    },
    {
     "name": "stdout",
     "output_type": "stream",
     "text": [
      "7"
     ]
    },
    {
     "name": "stderr",
     "output_type": "stream",
     "text": [
      "/Users/michaelsong/miniforge3/lib/python3.9/site-packages/astropy/units/quantity.py:614: RuntimeWarning: invalid value encountered in sqrt\n",
      "  result = super().__array_ufunc__(function, method, *arrays, **kwargs)\n",
      "/Users/michaelsong/miniforge3/lib/python3.9/site-packages/astropy/units/quantity.py:614: RuntimeWarning: invalid value encountered in sqrt\n",
      "  result = super().__array_ufunc__(function, method, *arrays, **kwargs)\n"
     ]
    },
    {
     "name": "stdout",
     "output_type": "stream",
     "text": [
      "44"
     ]
    },
    {
     "name": "stderr",
     "output_type": "stream",
     "text": [
      "/Users/michaelsong/miniforge3/lib/python3.9/site-packages/astropy/units/quantity.py:614: RuntimeWarning: invalid value encountered in sqrt\n",
      "  result = super().__array_ufunc__(function, method, *arrays, **kwargs)\n"
     ]
    },
    {
     "name": "stdout",
     "output_type": "stream",
     "text": [
      "125"
     ]
    },
    {
     "name": "stderr",
     "output_type": "stream",
     "text": [
      "/Users/michaelsong/miniforge3/lib/python3.9/site-packages/astropy/units/quantity.py:614: RuntimeWarning: invalid value encountered in sqrt\n",
      "  result = super().__array_ufunc__(function, method, *arrays, **kwargs)\n"
     ]
    },
    {
     "name": "stdout",
     "output_type": "stream",
     "text": [
      "8"
     ]
    },
    {
     "name": "stderr",
     "output_type": "stream",
     "text": [
      "/Users/michaelsong/miniforge3/lib/python3.9/site-packages/astropy/units/quantity.py:614: RuntimeWarning: invalid value encountered in sqrt\n",
      "  result = super().__array_ufunc__(function, method, *arrays, **kwargs)\n",
      "/Users/michaelsong/miniforge3/lib/python3.9/site-packages/astropy/units/quantity.py:614: RuntimeWarning: invalid value encountered in sqrt\n",
      "  result = super().__array_ufunc__(function, method, *arrays, **kwargs)\n"
     ]
    },
    {
     "name": "stdout",
     "output_type": "stream",
     "text": [
      "126"
     ]
    },
    {
     "name": "stderr",
     "output_type": "stream",
     "text": [
      "/Users/michaelsong/miniforge3/lib/python3.9/site-packages/astropy/units/quantity.py:614: RuntimeWarning: invalid value encountered in sqrt\n",
      "  result = super().__array_ufunc__(function, method, *arrays, **kwargs)\n"
     ]
    },
    {
     "name": "stdout",
     "output_type": "stream",
     "text": [
      "165"
     ]
    },
    {
     "name": "stderr",
     "output_type": "stream",
     "text": [
      "/Users/michaelsong/miniforge3/lib/python3.9/site-packages/astropy/units/quantity.py:614: RuntimeWarning: invalid value encountered in sqrt\n",
      "  result = super().__array_ufunc__(function, method, *arrays, **kwargs)\n",
      "/Users/michaelsong/miniforge3/lib/python3.9/site-packages/astropy/units/quantity.py:614: RuntimeWarning: invalid value encountered in sqrt\n",
      "  result = super().__array_ufunc__(function, method, *arrays, **kwargs)\n"
     ]
    },
    {
     "name": "stdout",
     "output_type": "stream",
     "text": [
      "246"
     ]
    },
    {
     "name": "stderr",
     "output_type": "stream",
     "text": [
      "/Users/michaelsong/miniforge3/lib/python3.9/site-packages/astropy/units/quantity.py:614: RuntimeWarning: invalid value encountered in sqrt\n",
      "  result = super().__array_ufunc__(function, method, *arrays, **kwargs)\n",
      "/Users/michaelsong/miniforge3/lib/python3.9/site-packages/astropy/units/quantity.py:614: RuntimeWarning: invalid value encountered in sqrt\n",
      "  result = super().__array_ufunc__(function, method, *arrays, **kwargs)\n"
     ]
    },
    {
     "name": "stdout",
     "output_type": "stream",
     "text": [
      "127"
     ]
    },
    {
     "name": "stderr",
     "output_type": "stream",
     "text": [
      "/Users/michaelsong/miniforge3/lib/python3.9/site-packages/astropy/units/quantity.py:614: RuntimeWarning: invalid value encountered in sqrt\n",
      "  result = super().__array_ufunc__(function, method, *arrays, **kwargs)\n",
      "/Users/michaelsong/miniforge3/lib/python3.9/site-packages/astropy/units/quantity.py:614: RuntimeWarning: invalid value encountered in sqrt\n",
      "  result = super().__array_ufunc__(function, method, *arrays, **kwargs)\n"
     ]
    },
    {
     "name": "stdout",
     "output_type": "stream",
     "text": [
      "166"
     ]
    },
    {
     "name": "stderr",
     "output_type": "stream",
     "text": [
      "/Users/michaelsong/miniforge3/lib/python3.9/site-packages/astropy/units/quantity.py:614: RuntimeWarning: invalid value encountered in sqrt\n",
      "  result = super().__array_ufunc__(function, method, *arrays, **kwargs)\n",
      "/Users/michaelsong/miniforge3/lib/python3.9/site-packages/astropy/units/quantity.py:614: RuntimeWarning: invalid value encountered in sqrt\n",
      "  result = super().__array_ufunc__(function, method, *arrays, **kwargs)\n"
     ]
    },
    {
     "name": "stdout",
     "output_type": "stream",
     "text": [
      "46"
     ]
    },
    {
     "name": "stderr",
     "output_type": "stream",
     "text": [
      "/Users/michaelsong/miniforge3/lib/python3.9/site-packages/astropy/units/quantity.py:614: RuntimeWarning: invalid value encountered in sqrt\n",
      "  result = super().__array_ufunc__(function, method, *arrays, **kwargs)\n",
      "/Users/michaelsong/miniforge3/lib/python3.9/site-packages/astropy/units/quantity.py:614: RuntimeWarning: invalid value encountered in sqrt\n",
      "  result = super().__array_ufunc__(function, method, *arrays, **kwargs)\n"
     ]
    },
    {
     "name": "stdout",
     "output_type": "stream",
     "text": [
      "287"
     ]
    },
    {
     "name": "stderr",
     "output_type": "stream",
     "text": [
      "/Users/michaelsong/miniforge3/lib/python3.9/site-packages/astropy/units/quantity.py:614: RuntimeWarning: invalid value encountered in sqrt\n",
      "  result = super().__array_ufunc__(function, method, *arrays, **kwargs)\n"
     ]
    },
    {
     "name": "stdout",
     "output_type": "stream",
     "text": [
      "128"
     ]
    },
    {
     "name": "stderr",
     "output_type": "stream",
     "text": [
      "/Users/michaelsong/miniforge3/lib/python3.9/site-packages/astropy/units/quantity.py:614: RuntimeWarning: invalid value encountered in sqrt\n",
      "  result = super().__array_ufunc__(function, method, *arrays, **kwargs)\n",
      "/Users/michaelsong/miniforge3/lib/python3.9/site-packages/astropy/units/quantity.py:614: RuntimeWarning: invalid value encountered in sqrt\n",
      "  result = super().__array_ufunc__(function, method, *arrays, **kwargs)\n",
      "/Users/michaelsong/miniforge3/lib/python3.9/site-packages/astropy/units/quantity.py:614: RuntimeWarning: invalid value encountered in sqrt\n",
      "  result = super().__array_ufunc__(function, method, *arrays, **kwargs)\n",
      "/Users/michaelsong/miniforge3/lib/python3.9/site-packages/astropy/units/quantity.py:614: RuntimeWarning: invalid value encountered in sqrt\n",
      "  result = super().__array_ufunc__(function, method, *arrays, **kwargs)\n"
     ]
    },
    {
     "name": "stdout",
     "output_type": "stream",
     "text": [
      "288"
     ]
    },
    {
     "name": "stderr",
     "output_type": "stream",
     "text": [
      "WARNING: File may have been truncated: actual file length (458752) is smaller than the expected size (483840) [astropy.io.fits.file]\n"
     ]
    },
    {
     "name": "stdout",
     "output_type": "stream",
     "text": [
      "89"
     ]
    },
    {
     "name": "stderr",
     "output_type": "stream",
     "text": [
      "/Users/michaelsong/miniforge3/lib/python3.9/site-packages/astropy/units/quantity.py:614: RuntimeWarning: invalid value encountered in sqrt\n",
      "  result = super().__array_ufunc__(function, method, *arrays, **kwargs)\n"
     ]
    },
    {
     "name": "stdout",
     "output_type": "stream",
     "text": [
      "209"
     ]
    },
    {
     "name": "stderr",
     "output_type": "stream",
     "text": [
      "WARNING: File may have been truncated: actual file length (262144) is smaller than the expected size (457920) [astropy.io.fits.file]\n"
     ]
    },
    {
     "name": "stdout",
     "output_type": "stream",
     "text": [
      "129"
     ]
    },
    {
     "name": "stderr",
     "output_type": "stream",
     "text": [
      "/Users/michaelsong/miniforge3/lib/python3.9/site-packages/astropy/units/quantity.py:614: RuntimeWarning: invalid value encountered in sqrt\n",
      "  result = super().__array_ufunc__(function, method, *arrays, **kwargs)\n",
      "/Users/michaelsong/miniforge3/lib/python3.9/site-packages/astropy/units/quantity.py:614: RuntimeWarning: invalid value encountered in sqrt\n",
      "  result = super().__array_ufunc__(function, method, *arrays, **kwargs)\n",
      "/Users/michaelsong/miniforge3/lib/python3.9/site-packages/astropy/units/quantity.py:614: RuntimeWarning: invalid value encountered in sqrt\n",
      "  result = super().__array_ufunc__(function, method, *arrays, **kwargs)\n"
     ]
    },
    {
     "name": "stdout",
     "output_type": "stream",
     "text": [
      "48"
     ]
    },
    {
     "name": "stderr",
     "output_type": "stream",
     "text": [
      "/Users/michaelsong/miniforge3/lib/python3.9/site-packages/astropy/units/quantity.py:614: RuntimeWarning: invalid value encountered in sqrt\n",
      "  result = super().__array_ufunc__(function, method, *arrays, **kwargs)\n",
      "/Users/michaelsong/miniforge3/lib/python3.9/site-packages/astropy/units/quantity.py:614: RuntimeWarning: invalid value encountered in sqrt\n",
      "  result = super().__array_ufunc__(function, method, *arrays, **kwargs)\n"
     ]
    },
    {
     "name": "stdout",
     "output_type": "stream",
     "text": [
      "210"
     ]
    },
    {
     "name": "stderr",
     "output_type": "stream",
     "text": [
      "/Users/michaelsong/miniforge3/lib/python3.9/site-packages/astropy/units/quantity.py:614: RuntimeWarning: invalid value encountered in sqrt\n",
      "  result = super().__array_ufunc__(function, method, *arrays, **kwargs)\n",
      "/Users/michaelsong/miniforge3/lib/python3.9/site-packages/astropy/units/quantity.py:614: RuntimeWarning: invalid value encountered in sqrt\n",
      "  result = super().__array_ufunc__(function, method, *arrays, **kwargs)\n"
     ]
    },
    {
     "name": "stdout",
     "output_type": "stream",
     "text": [
      "169"
     ]
    },
    {
     "name": "stderr",
     "output_type": "stream",
     "text": [
      "/Users/michaelsong/miniforge3/lib/python3.9/site-packages/astropy/units/quantity.py:614: RuntimeWarning: invalid value encountered in sqrt\n",
      "  result = super().__array_ufunc__(function, method, *arrays, **kwargs)\n"
     ]
    },
    {
     "name": "stdout",
     "output_type": "stream",
     "text": [
      "130"
     ]
    },
    {
     "name": "stderr",
     "output_type": "stream",
     "text": [
      "/Users/michaelsong/miniforge3/lib/python3.9/site-packages/astropy/units/quantity.py:614: RuntimeWarning: invalid value encountered in sqrt\n",
      "  result = super().__array_ufunc__(function, method, *arrays, **kwargs)\n",
      "/Users/michaelsong/miniforge3/lib/python3.9/site-packages/astropy/units/quantity.py:614: RuntimeWarning: invalid value encountered in sqrt\n",
      "  result = super().__array_ufunc__(function, method, *arrays, **kwargs)\n",
      "/Users/michaelsong/miniforge3/lib/python3.9/site-packages/astropy/units/quantity.py:614: RuntimeWarning: invalid value encountered in sqrt\n",
      "  result = super().__array_ufunc__(function, method, *arrays, **kwargs)\n",
      "/Users/michaelsong/miniforge3/lib/python3.9/site-packages/astropy/units/quantity.py:614: RuntimeWarning: invalid value encountered in sqrt\n",
      "  result = super().__array_ufunc__(function, method, *arrays, **kwargs)\n",
      "/Users/michaelsong/miniforge3/lib/python3.9/site-packages/astropy/units/quantity.py:614: RuntimeWarning: invalid value encountered in sqrt\n",
      "  result = super().__array_ufunc__(function, method, *arrays, **kwargs)\n"
     ]
    },
    {
     "name": "stdout",
     "output_type": "stream",
     "text": [
      "170"
     ]
    },
    {
     "name": "stderr",
     "output_type": "stream",
     "text": [
      "/Users/michaelsong/miniforge3/lib/python3.9/site-packages/astropy/units/quantity.py:614: RuntimeWarning: invalid value encountered in sqrt\n",
      "  result = super().__array_ufunc__(function, method, *arrays, **kwargs)\n"
     ]
    },
    {
     "name": "stdout",
     "output_type": "stream",
     "text": [
      "92"
     ]
    },
    {
     "name": "stderr",
     "output_type": "stream",
     "text": [
      "/Users/michaelsong/miniforge3/lib/python3.9/site-packages/astropy/units/quantity.py:614: RuntimeWarning: invalid value encountered in sqrt\n",
      "  result = super().__array_ufunc__(function, method, *arrays, **kwargs)\n"
     ]
    },
    {
     "name": "stdout",
     "output_type": "stream",
     "text": [
      "250"
     ]
    },
    {
     "name": "stderr",
     "output_type": "stream",
     "text": [
      "/Users/michaelsong/miniforge3/lib/python3.9/site-packages/astropy/units/quantity.py:614: RuntimeWarning: invalid value encountered in sqrt\n",
      "  result = super().__array_ufunc__(function, method, *arrays, **kwargs)\n",
      "/Users/michaelsong/miniforge3/lib/python3.9/site-packages/astropy/units/quantity.py:614: RuntimeWarning: invalid value encountered in sqrt\n",
      "  result = super().__array_ufunc__(function, method, *arrays, **kwargs)\n",
      "/Users/michaelsong/miniforge3/lib/python3.9/site-packages/astropy/units/quantity.py:614: RuntimeWarning: invalid value encountered in sqrt\n",
      "  result = super().__array_ufunc__(function, method, *arrays, **kwargs)\n"
     ]
    },
    {
     "name": "stdout",
     "output_type": "stream",
     "text": [
      "132"
     ]
    },
    {
     "name": "stderr",
     "output_type": "stream",
     "text": [
      "/Users/michaelsong/miniforge3/lib/python3.9/site-packages/astropy/units/quantity.py:614: RuntimeWarning: invalid value encountered in sqrt\n",
      "  result = super().__array_ufunc__(function, method, *arrays, **kwargs)\n",
      "/Users/michaelsong/miniforge3/lib/python3.9/site-packages/astropy/units/quantity.py:614: RuntimeWarning: invalid value encountered in sqrt\n",
      "  result = super().__array_ufunc__(function, method, *arrays, **kwargs)\n",
      "/Users/michaelsong/miniforge3/lib/python3.9/site-packages/astropy/units/quantity.py:614: RuntimeWarning: invalid value encountered in sqrt\n",
      "  result = super().__array_ufunc__(function, method, *arrays, **kwargs)\n"
     ]
    },
    {
     "name": "stdout",
     "output_type": "stream",
     "text": [
      "93"
     ]
    },
    {
     "name": "stderr",
     "output_type": "stream",
     "text": [
      "/Users/michaelsong/miniforge3/lib/python3.9/site-packages/astropy/units/quantity.py:614: RuntimeWarning: invalid value encountered in sqrt\n",
      "  result = super().__array_ufunc__(function, method, *arrays, **kwargs)\n",
      "/Users/michaelsong/miniforge3/lib/python3.9/site-packages/astropy/units/quantity.py:614: RuntimeWarning: invalid value encountered in sqrt\n",
      "  result = super().__array_ufunc__(function, method, *arrays, **kwargs)\n"
     ]
    },
    {
     "name": "stdout",
     "output_type": "stream",
     "text": [
      "172"
     ]
    },
    {
     "name": "stderr",
     "output_type": "stream",
     "text": [
      "/Users/michaelsong/miniforge3/lib/python3.9/site-packages/astropy/units/quantity.py:614: RuntimeWarning: invalid value encountered in sqrt\n",
      "  result = super().__array_ufunc__(function, method, *arrays, **kwargs)\n",
      "/Users/michaelsong/miniforge3/lib/python3.9/site-packages/astropy/units/quantity.py:614: RuntimeWarning: invalid value encountered in sqrt\n",
      "  result = super().__array_ufunc__(function, method, *arrays, **kwargs)\n",
      "/Users/michaelsong/miniforge3/lib/python3.9/site-packages/astropy/units/quantity.py:614: RuntimeWarning: invalid value encountered in sqrt\n",
      "  result = super().__array_ufunc__(function, method, *arrays, **kwargs)\n",
      "/Users/michaelsong/miniforge3/lib/python3.9/site-packages/astropy/units/quantity.py:614: RuntimeWarning: invalid value encountered in sqrt\n",
      "  result = super().__array_ufunc__(function, method, *arrays, **kwargs)\n",
      "/Users/michaelsong/miniforge3/lib/python3.9/site-packages/astropy/units/quantity.py:614: RuntimeWarning: invalid value encountered in sqrt\n",
      "  result = super().__array_ufunc__(function, method, *arrays, **kwargs)\n",
      "/Users/michaelsong/miniforge3/lib/python3.9/site-packages/astropy/units/quantity.py:614: RuntimeWarning: invalid value encountered in sqrt\n",
      "  result = super().__array_ufunc__(function, method, *arrays, **kwargs)\n"
     ]
    },
    {
     "name": "stdout",
     "output_type": "stream",
     "text": [
      "213"
     ]
    },
    {
     "name": "stderr",
     "output_type": "stream",
     "text": [
      "/Users/michaelsong/miniforge3/lib/python3.9/site-packages/astropy/units/quantity.py:614: RuntimeWarning: invalid value encountered in sqrt\n",
      "  result = super().__array_ufunc__(function, method, *arrays, **kwargs)\n"
     ]
    },
    {
     "name": "stdout",
     "output_type": "stream",
     "text": [
      "133"
     ]
    },
    {
     "name": "stderr",
     "output_type": "stream",
     "text": [
      "/Users/michaelsong/miniforge3/lib/python3.9/site-packages/astropy/units/quantity.py:614: RuntimeWarning: invalid value encountered in sqrt\n",
      "  result = super().__array_ufunc__(function, method, *arrays, **kwargs)\n"
     ]
    },
    {
     "name": "stdout",
     "output_type": "stream",
     "text": [
      "173"
     ]
    },
    {
     "name": "stderr",
     "output_type": "stream",
     "text": [
      "/Users/michaelsong/miniforge3/lib/python3.9/site-packages/astropy/units/quantity.py:614: RuntimeWarning: invalid value encountered in sqrt\n",
      "  result = super().__array_ufunc__(function, method, *arrays, **kwargs)\n",
      "/Users/michaelsong/miniforge3/lib/python3.9/site-packages/astropy/units/quantity.py:614: RuntimeWarning: invalid value encountered in sqrt\n",
      "  result = super().__array_ufunc__(function, method, *arrays, **kwargs)\n"
     ]
    },
    {
     "name": "stdout",
     "output_type": "stream",
     "text": [
      "252"
     ]
    },
    {
     "name": "stderr",
     "output_type": "stream",
     "text": [
      "/Users/michaelsong/miniforge3/lib/python3.9/site-packages/astropy/units/quantity.py:614: RuntimeWarning: invalid value encountered in sqrt\n",
      "  result = super().__array_ufunc__(function, method, *arrays, **kwargs)\n",
      "/Users/michaelsong/miniforge3/lib/python3.9/site-packages/astropy/units/quantity.py:614: RuntimeWarning: invalid value encountered in sqrt\n",
      "  result = super().__array_ufunc__(function, method, *arrays, **kwargs)\n",
      "/Users/michaelsong/miniforge3/lib/python3.9/site-packages/astropy/units/quantity.py:614: RuntimeWarning: invalid value encountered in sqrt\n",
      "  result = super().__array_ufunc__(function, method, *arrays, **kwargs)\n",
      "/Users/michaelsong/miniforge3/lib/python3.9/site-packages/astropy/units/quantity.py:614: RuntimeWarning: invalid value encountered in sqrt\n",
      "  result = super().__array_ufunc__(function, method, *arrays, **kwargs)\n"
     ]
    },
    {
     "name": "stdout",
     "output_type": "stream",
     "text": [
      "94"
     ]
    },
    {
     "name": "stderr",
     "output_type": "stream",
     "text": [
      "/Users/michaelsong/miniforge3/lib/python3.9/site-packages/astropy/units/quantity.py:614: RuntimeWarning: invalid value encountered in sqrt\n",
      "  result = super().__array_ufunc__(function, method, *arrays, **kwargs)\n",
      "/Users/michaelsong/miniforge3/lib/python3.9/site-packages/astropy/units/quantity.py:614: RuntimeWarning: invalid value encountered in sqrt\n",
      "  result = super().__array_ufunc__(function, method, *arrays, **kwargs)\n",
      "/Users/michaelsong/miniforge3/lib/python3.9/site-packages/astropy/units/quantity.py:614: RuntimeWarning: invalid value encountered in sqrt\n",
      "  result = super().__array_ufunc__(function, method, *arrays, **kwargs)\n"
     ]
    },
    {
     "name": "stdout",
     "output_type": "stream",
     "text": [
      "174"
     ]
    },
    {
     "name": "stderr",
     "output_type": "stream",
     "text": [
      "/Users/michaelsong/miniforge3/lib/python3.9/site-packages/astropy/units/quantity.py:614: RuntimeWarning: invalid value encountered in sqrt\n",
      "  result = super().__array_ufunc__(function, method, *arrays, **kwargs)\n",
      "/Users/michaelsong/miniforge3/lib/python3.9/site-packages/astropy/units/quantity.py:614: RuntimeWarning: invalid value encountered in sqrt\n",
      "  result = super().__array_ufunc__(function, method, *arrays, **kwargs)\n",
      "/Users/michaelsong/miniforge3/lib/python3.9/site-packages/astropy/units/quantity.py:614: RuntimeWarning: invalid value encountered in sqrt\n",
      "  result = super().__array_ufunc__(function, method, *arrays, **kwargs)\n",
      "/Users/michaelsong/miniforge3/lib/python3.9/site-packages/astropy/units/quantity.py:614: RuntimeWarning: invalid value encountered in sqrt\n",
      "  result = super().__array_ufunc__(function, method, *arrays, **kwargs)\n"
     ]
    },
    {
     "name": "stdout",
     "output_type": "stream",
     "text": [
      "214"
     ]
    },
    {
     "name": "stderr",
     "output_type": "stream",
     "text": [
      "/Users/michaelsong/miniforge3/lib/python3.9/site-packages/astropy/units/quantity.py:614: RuntimeWarning: invalid value encountered in sqrt\n",
      "  result = super().__array_ufunc__(function, method, *arrays, **kwargs)\n",
      "/Users/michaelsong/miniforge3/lib/python3.9/site-packages/astropy/units/quantity.py:614: RuntimeWarning: invalid value encountered in sqrt\n",
      "  result = super().__array_ufunc__(function, method, *arrays, **kwargs)\n"
     ]
    },
    {
     "name": "stdout",
     "output_type": "stream",
     "text": [
      "253"
     ]
    },
    {
     "name": "stderr",
     "output_type": "stream",
     "text": [
      "/Users/michaelsong/miniforge3/lib/python3.9/site-packages/astropy/units/quantity.py:614: RuntimeWarning: invalid value encountered in sqrt\n",
      "  result = super().__array_ufunc__(function, method, *arrays, **kwargs)\n",
      "/Users/michaelsong/miniforge3/lib/python3.9/site-packages/astropy/units/quantity.py:614: RuntimeWarning: invalid value encountered in sqrt\n",
      "  result = super().__array_ufunc__(function, method, *arrays, **kwargs)\n",
      "/Users/michaelsong/miniforge3/lib/python3.9/site-packages/astropy/units/quantity.py:614: RuntimeWarning: invalid value encountered in sqrt\n",
      "  result = super().__array_ufunc__(function, method, *arrays, **kwargs)\n"
     ]
    },
    {
     "name": "stdout",
     "output_type": "stream",
     "text": [
      "95"
     ]
    },
    {
     "name": "stderr",
     "output_type": "stream",
     "text": [
      "/Users/michaelsong/miniforge3/lib/python3.9/site-packages/astropy/units/quantity.py:614: RuntimeWarning: invalid value encountered in sqrt\n",
      "  result = super().__array_ufunc__(function, method, *arrays, **kwargs)\n",
      "/Users/michaelsong/miniforge3/lib/python3.9/site-packages/astropy/units/quantity.py:614: RuntimeWarning: invalid value encountered in sqrt\n",
      "  result = super().__array_ufunc__(function, method, *arrays, **kwargs)\n"
     ]
    },
    {
     "name": "stdout",
     "output_type": "stream",
     "text": [
      "294"
     ]
    },
    {
     "name": "stderr",
     "output_type": "stream",
     "text": [
      "/Users/michaelsong/miniforge3/lib/python3.9/site-packages/astropy/units/quantity.py:614: RuntimeWarning: invalid value encountered in sqrt\n",
      "  result = super().__array_ufunc__(function, method, *arrays, **kwargs)\n",
      "/Users/michaelsong/miniforge3/lib/python3.9/site-packages/astropy/units/quantity.py:614: RuntimeWarning: invalid value encountered in sqrt\n",
      "  result = super().__array_ufunc__(function, method, *arrays, **kwargs)\n"
     ]
    },
    {
     "name": "stdout",
     "output_type": "stream",
     "text": [
      "176"
     ]
    },
    {
     "name": "stderr",
     "output_type": "stream",
     "text": [
      "/Users/michaelsong/miniforge3/lib/python3.9/site-packages/astropy/units/quantity.py:614: RuntimeWarning: invalid value encountered in sqrt\n",
      "  result = super().__array_ufunc__(function, method, *arrays, **kwargs)\n",
      "/Users/michaelsong/miniforge3/lib/python3.9/site-packages/astropy/units/quantity.py:614: RuntimeWarning: invalid value encountered in sqrt\n",
      "  result = super().__array_ufunc__(function, method, *arrays, **kwargs)\n"
     ]
    },
    {
     "name": "stdout",
     "output_type": "stream",
     "text": [
      "215"
     ]
    },
    {
     "name": "stderr",
     "output_type": "stream",
     "text": [
      "/Users/michaelsong/miniforge3/lib/python3.9/site-packages/astropy/units/quantity.py:614: RuntimeWarning: invalid value encountered in sqrt\n",
      "  result = super().__array_ufunc__(function, method, *arrays, **kwargs)\n"
     ]
    },
    {
     "name": "stdout",
     "output_type": "stream",
     "text": [
      "74"
     ]
    },
    {
     "name": "stderr",
     "output_type": "stream",
     "text": [
      "WARNING: File may have been truncated: actual file length (196608) is smaller than the expected size (460800) [astropy.io.fits.file]\n"
     ]
    },
    {
     "name": "stdout",
     "output_type": "stream",
     "text": [
      "335"
     ]
    },
    {
     "name": "stderr",
     "output_type": "stream",
     "text": [
      "WARNING: File may have been truncated: actual file length (65536) is smaller than the expected size (478080) [astropy.io.fits.file]\n"
     ]
    },
    {
     "name": "stdout",
     "output_type": "stream",
     "text": [
      "917[None, None, None, None, None, None, None, None, None, None, None, None, None, None, None, None, None, None, None, None, None, None, None, None, None, None, None, None, None, None, None, None, None, None, None, None, None, None, None, None, None, None, None, None, None, None, None, None, None, None, None, None, None, None, None, None, None, None, None, None, None, None, None, None, None, None, None, None, None, None, None, None, None, None, None, None, None, None, None, None, None, None, None, None, None, None, None, None, None, None, None, None, None, None, None, None, None, None, None, None]\n"
     ]
    }
   ],
   "source": [
    "# with concurrent.futures.ProcessPoolExecutor() as executor:\n",
    "#     print(executor.map(getdata, [1,2,3]))\n",
    "\n",
    "with mp.Pool(8) as pool:\n",
    "    print(pool.map(getdata, [x for x in range(0,100)]))"
   ]
  },
  {
   "cell_type": "code",
   "execution_count": null,
   "metadata": {},
   "outputs": [],
   "source": [
    "\n"
   ]
  }
 ],
 "metadata": {
  "interpreter": {
   "hash": "47065cae1920ebace9a059c93d67134c9a065e51e3ecb9809a1abf9fcf371550"
  },
  "kernelspec": {
   "display_name": "Python 3.9.7 ('base')",
   "name": "python3"
  },
  "language_info": {
   "codemirror_mode": {
    "name": "ipython",
    "version": 3
   },
   "file_extension": ".py",
   "mimetype": "text/x-python",
   "name": "python",
   "nbconvert_exporter": "python",
   "pygments_lexer": "ipython3",
   "version": "3.9.7"
  },
  "orig_nbformat": 4
 },
 "nbformat": 4,
 "nbformat_minor": 2
}
