{
 "cells": [
  {
   "cell_type": "code",
   "execution_count": 1,
   "metadata": {},
   "outputs": [],
   "source": [
    "import os\n",
    "import concurrent.futures\n",
    "import multiprocess as mp\n",
    "import random\n",
    "\n",
    "\n",
    "from astropy.io import fits\n",
    "from matplotlib import pyplot as plt\n",
    "import numpy as np\n",
    "import lightkurve as lk\n",
    "from astroquery.simbad import Simbad\n",
    "import pandas as pd \n",
    "from numpy import genfromtxt\n",
    "\n",
    "\n",
    "#tf\n",
    "from __future__ import absolute_import, division, print_function, unicode_literals\n",
    "import tensorflow as tf\n",
    "from tensorflow import keras\n",
    "from tensorflow.keras import datasets, layers, models\n",
    "\n",
    "\n",
    "from sklearn.model_selection import train_test_split\n",
    "from sklearn.linear_model import LinearRegression\n",
    "from sklearn.metrics import r2_score, mean_squared_error, mean_absolute_error"
   ]
  },
  {
   "cell_type": "code",
   "execution_count": 2,
   "metadata": {},
   "outputs": [
    {
     "name": "stdout",
     "output_type": "stream",
     "text": [
      "Filename: /Users/michaelsong/Documents/GitHub/starzam/Labels/J_ApJS_236_42_table2.dat.gz.fits\n",
      "No.    Name      Ver    Type      Cards   Dimensions   Format\n",
      "  0  PRIMARY       1 PrimaryHDU     114   ()      \n",
      "  1  table2.dat    1 TableHDU       162   16094R x 20C   [I8, I4, I3, F5.3, F5.3, F5.2, F4.2, F4.2, F4.2, F5.2, F4.2, F4.2, F4.2, F5.2, F4.2, F4.2, F4.2, F5.2, F5.2, I1]   \n"
     ]
    },
    {
     "name": "stderr",
     "output_type": "stream",
     "text": [
      "WARNING: VerifyWarning: It is strongly recommended that column names contain only upper and lower-case ASCII letters, digits, or underscores for maximum compatibility with other software (got '[Fe/H]'). [astropy.io.fits.column]\n"
     ]
    },
    {
     "name": "stdout",
     "output_type": "stream",
     "text": [
      "[(757137, 4751, 139, 2.383, 0.012, -0.08, 0.3, 1.7, 0.14, 13.91, 0.41, 1.55, 0.13, 13.26, 0.39, 1.72, 0.14, 13.97, 0.41, 1)\n",
      " (892010, 4834, 151, 2.161, 0.023, 0.21, 0.3, 1.42, 0.29, 16.37, 1.38, 1.36, 0.28, 16.02, 1.34, 1.43, 0.3, 16.47, 1.39, 0)\n",
      " (892738, 4534, 135, 1.769, 0.022, -0.25, 0.3, 1.15, 0.21, 23.15, 1.62, 0.99, 0.18, 21.49, 1.48, 1.12, 0.2, 22.86, 1.6, 0)\n",
      " ...\n",
      " (12885196, 4846, 142, 2.878, 0.008, 0.07, 0.3, 1.55, 0.1, 7.5, 0.17, 1.46, 0.09, 7.29, 0.16, 1.57, 0.1, 7.55, 0.17, 1)\n",
      " (12885373, 4855, 144, 2.627, 0.009, 0.12, 0.3, 1.49, 0.09, 9.83, 0.22, 1.42, 0.09, 9.59, 0.22, 1.51, 0.1, 9.9, 0.22, 1)\n",
      " (12934574, 4834, 143, 2.387, 0.012, 0.01, 0.3, 1.02, 0.1, 10.72, 0.42, 0.99, 0.1, 10.57, 0.41, 1.03, 0.1, 10.74, 0.42, 2)]\n"
     ]
    }
   ],
   "source": [
    "hdul = fits.open('/Users/michaelsong/Documents/GitHub/starzam/Labels/J_ApJS_236_42_table2.dat.gz.fits')\n",
    "\n",
    "hdul.info()\n",
    "print(hdul[1].data)"
   ]
  },
  {
   "cell_type": "code",
   "execution_count": 3,
   "metadata": {},
   "outputs": [
    {
     "name": "stdout",
     "output_type": "stream",
     "text": [
      "4134\n",
      "769 3097\n",
      "[3.98728835 5.23978766 3.68869096 4.26263808 2.39676612 2.63241334\n",
      " 7.09936687 2.27450985 1.13083077 4.00145725 2.26164076 1.75136105\n",
      " 9.29602755 6.38219462 2.19580687 5.10864266 2.70333227 1.78810054\n",
      " 0.60297275 6.63340498 1.86488079 2.6196339  1.60743776 1.19494879\n",
      " 1.12927478 3.93050777 0.40013264 1.84550159 1.92489994 2.90028191\n",
      " 0.6349395  0.87037423 1.46262056 0.76590084 1.15000402 0.82965415\n",
      " 1.32258456 1.57456313 0.55137049 1.04314215 1.80492838 0.70324002\n",
      " 1.47628738 0.73767742 0.54324813 0.8008493  1.34266118 0.40496329\n",
      " 0.56245915 0.8090544  0.1654346  0.58757217 0.77800906 0.25696758\n",
      " 0.12888118 0.16779005 0.51350812 0.78961495 0.38030405 0.77289323\n",
      " 0.37053317 0.30118936 0.96312232 0.47550952 0.72338277 0.25005494\n",
      " 0.15095896 0.29026665 0.30534708 0.79899413 0.37289919 0.39538115\n",
      " 0.10690973 0.49031415 0.36215044 0.28287058 0.15181652 0.59888814\n",
      " 0.18415458 0.25812709 0.37160346 0.14938041 0.11295613 0.55495831\n",
      " 0.2913743  0.25450717 0.26248563 0.49396225 0.23330447 0.06957017\n",
      " 0.21007323 0.43495198 0.23602058 0.29663815 0.10480815 0.2733632\n",
      " 0.19323598 0.11536216 0.37697196 0.07383909 0.46559505 0.42493375\n",
      " 0.3116078  0.26413927 0.33342457 0.21534438 0.54886188 0.3565384\n",
      " 0.29421013 0.14742412 0.36858822 0.15623748 0.30975958 0.27035425\n",
      " 0.20342315 0.12616005 0.5221752  0.39263269 0.11348501 0.07948052\n",
      " 0.08528165 0.16653968 0.36360812 0.39217927 0.56638135 0.33480946\n",
      " 0.15173937 0.28833775 0.0539801  0.04381662 0.1156407  0.26262819\n",
      " 0.49359097 0.29903779 0.4964782  0.06734446 0.08982584 0.18980522\n",
      " 0.18452314 0.09342922 0.03967293 0.4316627  0.43854337 0.17739265\n",
      " 0.30077498 0.24300209 0.13957222 0.23000671 0.189061   0.23598137\n",
      " 0.1382748  0.24000221 0.26162019 0.28604418 0.45392755 0.28496184\n",
      " 0.35062115 0.09930342 0.1790745  0.19046222 0.25841424 0.0901481\n",
      " 0.42836175 0.35963743 0.20025296 0.25883217 0.15457803 0.17566434\n",
      " 0.12658068 0.03600125 0.08263258 0.13345416 0.25377677 0.15259621\n",
      " 0.43318003 0.14942631 0.17516972 0.28461494 0.14587857 0.13131062\n",
      " 0.08608256 0.28708445 0.21233892 0.21877119 0.24822823 0.30886662\n",
      " 0.32167755 0.23777144 0.20916593 0.14467971 0.30837686 0.03021328\n",
      " 0.08601563 0.14748635 0.21386414 0.21596519 0.41446929 0.18091765\n",
      " 0.23820056 0.15987343 0.25618063 0.16705136 0.10556075 0.13785755\n",
      " 0.40107108 0.37293974 0.42922694 0.26796667 0.13676295 0.0487401\n",
      " 0.25706981 0.14234044 0.16298712 0.10312797 0.33809618 0.10438163\n",
      " 0.26135225 0.20316574 0.22571215 0.20926775 0.21946473 0.14900587\n",
      " 0.11408672 0.13795412 0.25067248 0.14215133 0.1429813  0.14380303\n",
      " 0.15602828 0.03747243 0.34620571 0.19556401 0.04383023 0.09312194\n",
      " 0.15792271]\n"
     ]
    }
   ],
   "source": [
    "test_lk = lk.search_lightcurve('KIC '+str(757137), author='Kepler',exptime=1800)[2].download().remove_outliers(sigma=20, sigma_upper=4).normalize()\n",
    "print(len(test_lk.time.value))\n",
    "l = random.randrange(250, len(test_lk.time.value))\n",
    "s = random.randrange(0,len(test_lk.time.value)-l)\n",
    "print(s,l)\n",
    "test_lk2 = test_lk.truncate(after=test_lk.time.value[s+l],before=test_lk.time.value[s])\n",
    "test_periodogram = test_lk2.to_periodogram(frequency = [x for x in np.arange(1,24.5,0.1)])\n",
    "freq = np.asarray([test_periodogram.frequency,test_periodogram.power*100000])\n",
    "print(freq[1])"
   ]
  },
  {
   "cell_type": "code",
   "execution_count": 4,
   "metadata": {},
   "outputs": [],
   "source": [
    "def prepsr(i,sr,j):\n",
    "    r = True\n",
    "    if r:\n",
    "        test_lk = sr[j].download().remove_outliers(sigma=20, sigma_upper=4).normalize()\n",
    "        l = random.randrange(240, len(test_lk.time.value))\n",
    "        s = random.randrange(0,len(test_lk.time.value)-l)\n",
    "        lightcurve = test_lk.truncate(after=test_lk.time.value[s+l],before=test_lk.time.value[s])\n",
    "    else:\n",
    "        lightcurve = sr[j].download().remove_outliers(sigma=20, sigma_upper=4).normalize()\n",
    "    \n",
    "    periodogram = lightcurve.to_periodogram(frequency = [x for x in np.arange(1,24.5,0.1)])\n",
    "    # periodogram = periodogram.bin(binsize=10, method='mean')\n",
    "    freq = np.asarray([periodogram.frequency,periodogram.power*100000])\n",
    "    # pd.DataFrame(freq[1]).to_csv(\"/content/drive/MyDrive/Research - Yihong Song and Rohit Prasanna/Yihong/Data/\"+str(labeled_data[\"Kepler_ID\"][i])+\"_\"+str(j)+\".csv\")\n",
    "    return np.append(np.append(np.append(np.append(hdul[1].data[i][0:2],hdul[1].data[i][3]),hdul[1].data[i][5]),[j]),freq[1])\n",
    "\n",
    "def getlc(i):\n",
    "    lc_data = []\n",
    "    sr = lk.search_lightcurve('KIC '+str(hdul[1].data[i][0]), author='Kepler',exptime=1800)\n",
    "    # return prepsr(i,sr,1)\n",
    "    for j in range(len(sr)):\n",
    "        # x = wrap(prepsr(i,sr,j))\n",
    "        # if x is not None:\n",
    "        lc_data.append(prepsr(i,sr,j))\n",
    "        # y = wrap(external_function_raises)\n",
    "        # if y is not None:\n",
    "        #     lc_data.append(y)\n",
    "    return lc_data\n",
    "\n",
    "def getdata(start):\n",
    "    # for k in range(start,int(191449/100)+1,1):\n",
    "    for k in range(start,start+1,1):\n",
    "        lc_data = []\n",
    "        for i in range(k*10,(k+1)*10,1):\n",
    "            try:\n",
    "                lc_data = lc_data+getlc(i)\n",
    "            except:\n",
    "                continue\n",
    "            print(\"\\r\"+str(i),end=\"\")\n",
    "        # print(lc_data)\n",
    "        pd.DataFrame(lc_data).to_csv(\"/Users/michaelsong/Documents/GitHub/starzam/Data_v5/\"+str(1610+k)+\".csv\")"
   ]
  },
  {
   "cell_type": "code",
   "execution_count": null,
   "metadata": {},
   "outputs": [],
   "source": []
  },
  {
   "cell_type": "code",
   "execution_count": 16,
   "metadata": {},
   "outputs": [
    {
     "name": "stdout",
     "output_type": "stream",
     "text": [
      "9"
     ]
    }
   ],
   "source": [
    "getdata(0)"
   ]
  },
  {
   "cell_type": "code",
   "execution_count": 11,
   "metadata": {},
   "outputs": [
    {
     "name": "stdout",
     "output_type": "stream",
     "text": [
      "16065"
     ]
    },
    {
     "name": "stderr",
     "output_type": "stream",
     "text": [
      "WARNING: File may have been truncated: actual file length (262144) is smaller than the expected size (440640) [astropy.io.fits.file]\n"
     ]
    },
    {
     "name": "stdout",
     "output_type": "stream",
     "text": [
      "16089[None, None, None, None, None, None, None, None, None, None]\n"
     ]
    }
   ],
   "source": [
    "# with concurrent.futures.ProcessPoolExecutor() as executor:\n",
    "#     print(executor.map(getdata, [1,2,3]))\n",
    "\n",
    "with mp.Pool(8) as pool:\n",
    "    print(pool.map(getdata, [x for x in range(1600,1610)]))"
   ]
  },
  {
   "cell_type": "code",
   "execution_count": null,
   "metadata": {},
   "outputs": [],
   "source": [
    "\n"
   ]
  }
 ],
 "metadata": {
  "interpreter": {
   "hash": "47065cae1920ebace9a059c93d67134c9a065e51e3ecb9809a1abf9fcf371550"
  },
  "kernelspec": {
   "display_name": "Python 3.9.7 64-bit ('base': conda)",
   "name": "python3"
  },
  "language_info": {
   "codemirror_mode": {
    "name": "ipython",
    "version": 3
   },
   "file_extension": ".py",
   "mimetype": "text/x-python",
   "name": "python",
   "nbconvert_exporter": "python",
   "pygments_lexer": "ipython3",
   "version": "3.9.7"
  },
  "orig_nbformat": 4
 },
 "nbformat": 4,
 "nbformat_minor": 2
}
