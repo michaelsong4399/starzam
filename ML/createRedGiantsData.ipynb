{
 "cells": [
  {
   "cell_type": "code",
   "execution_count": 3,
   "metadata": {},
   "outputs": [],
   "source": [
    "import os\n",
    "import concurrent.futures\n",
    "import multiprocess as mp\n",
    "import random\n",
    "\n",
    "\n",
    "from astropy.io import fits\n",
    "from matplotlib import pyplot as plt\n",
    "import numpy as np\n",
    "import lightkurve as lk\n",
    "from astroquery.simbad import Simbad\n",
    "import pandas as pd \n",
    "from numpy import genfromtxt\n",
    "\n",
    "\n",
    "#tf\n",
    "from __future__ import absolute_import, division, print_function, unicode_literals\n",
    "import tensorflow as tf\n",
    "from tensorflow import keras\n",
    "from tensorflow.keras import datasets, layers, models\n",
    "\n",
    "\n",
    "from sklearn.model_selection import train_test_split\n",
    "from sklearn.linear_model import LinearRegression\n",
    "from sklearn.metrics import r2_score, mean_squared_error, mean_absolute_error"
   ]
  },
  {
   "cell_type": "code",
   "execution_count": 4,
   "metadata": {},
   "outputs": [
    {
     "name": "stdout",
     "output_type": "stream",
     "text": [
      "Filename: /Users/michaelsong/Documents/GitHub/starzam/Labels/J_ApJS_236_42_table2.dat.gz.fits\n",
      "No.    Name      Ver    Type      Cards   Dimensions   Format\n",
      "  0  PRIMARY       1 PrimaryHDU     114   ()      \n",
      "  1  table2.dat    1 TableHDU       162   16094R x 20C   [I8, I4, I3, F5.3, F5.3, F5.2, F4.2, F4.2, F4.2, F5.2, F4.2, F4.2, F4.2, F5.2, F4.2, F4.2, F4.2, F5.2, F5.2, I1]   \n",
      "[(757137, 4751, 139, 2.383, 0.012, -0.08, 0.3, 1.7, 0.14, 13.91, 0.41, 1.55, 0.13, 13.26, 0.39, 1.72, 0.14, 13.97, 0.41, 1)\n",
      " (892010, 4834, 151, 2.161, 0.023, 0.21, 0.3, 1.42, 0.29, 16.37, 1.38, 1.36, 0.28, 16.02, 1.34, 1.43, 0.3, 16.47, 1.39, 0)\n",
      " (892738, 4534, 135, 1.769, 0.022, -0.25, 0.3, 1.15, 0.21, 23.15, 1.62, 0.99, 0.18, 21.49, 1.48, 1.12, 0.2, 22.86, 1.6, 0)\n",
      " ...\n",
      " (12885196, 4846, 142, 2.878, 0.008, 0.07, 0.3, 1.55, 0.1, 7.5, 0.17, 1.46, 0.09, 7.29, 0.16, 1.57, 0.1, 7.55, 0.17, 1)\n",
      " (12885373, 4855, 144, 2.627, 0.009, 0.12, 0.3, 1.49, 0.09, 9.83, 0.22, 1.42, 0.09, 9.59, 0.22, 1.51, 0.1, 9.9, 0.22, 1)\n",
      " (12934574, 4834, 143, 2.387, 0.012, 0.01, 0.3, 1.02, 0.1, 10.72, 0.42, 0.99, 0.1, 10.57, 0.41, 1.03, 0.1, 10.74, 0.42, 2)]\n"
     ]
    }
   ],
   "source": [
    "hdul = fits.open('/Users/michaelsong/Documents/GitHub/starzam/Labels/J_ApJS_236_42_table2.dat.gz.fits')\n",
    "\n",
    "hdul.info()\n",
    "print(hdul[1].data)"
   ]
  },
  {
   "cell_type": "code",
   "execution_count": 5,
   "metadata": {},
   "outputs": [
    {
     "name": "stdout",
     "output_type": "stream",
     "text": [
      "[(757137, 4751, 139, 2.383, 0.012, -0.08, 0.3, 1.7, 0.14, 13.91, 0.41, 1.55, 0.13, 13.26, 0.39, 1.72, 0.14, 13.97, 0.41, 1)\n",
      " (892010, 4834, 151, 2.161, 0.023, 0.21, 0.3, 1.42, 0.29, 16.37, 1.38, 1.36, 0.28, 16.02, 1.34, 1.43, 0.3, 16.47, 1.39, 0)\n",
      " (892738, 4534, 135, 1.769, 0.022, -0.25, 0.3, 1.15, 0.21, 23.15, 1.62, 0.99, 0.18, 21.49, 1.48, 1.12, 0.2, 22.86, 1.6, 0)\n",
      " ...\n",
      " (12885196, 4846, 142, 2.878, 0.008, 0.07, 0.3, 1.55, 0.1, 7.5, 0.17, 1.46, 0.09, 7.29, 0.16, 1.57, 0.1, 7.55, 0.17, 1)\n",
      " (12885373, 4855, 144, 2.627, 0.009, 0.12, 0.3, 1.49, 0.09, 9.83, 0.22, 1.42, 0.09, 9.59, 0.22, 1.51, 0.1, 9.9, 0.22, 1)\n",
      " (12934574, 4834, 143, 2.387, 0.012, 0.01, 0.3, 1.02, 0.1, 10.72, 0.42, 0.99, 0.1, 10.57, 0.41, 1.03, 0.1, 10.74, 0.42, 2)]\n",
      "[139. 151. 135. ... 142. 144. 143.]\n"
     ]
    }
   ],
   "source": [
    "print(hdul[1].data)\n",
    "teffe = []\n",
    "for i in range(len(hdul[1].data)):\n",
    "   teffe = np.append(teffe, hdul[1].data[i][2])\n",
    "print(teffe)"
   ]
  },
  {
   "cell_type": "code",
   "execution_count": 6,
   "metadata": {},
   "outputs": [
    {
     "name": "stdout",
     "output_type": "stream",
     "text": [
      "122.85609543929415\n",
      "7625 8469\n"
     ]
    }
   ],
   "source": [
    "print(sum(teffe)/len(teffe))\n",
    "count = 0\n",
    "for i in range(len(teffe)):\n",
    "    if teffe[i] <= 100:\n",
    "        count += 1\n",
    "print(count, len(teffe)-count)"
   ]
  },
  {
   "cell_type": "code",
   "execution_count": 7,
   "metadata": {},
   "outputs": [
    {
     "name": "stdout",
     "output_type": "stream",
     "text": [
      "4134\n",
      "1228 1743\n",
      "[ 1.71810013  5.07296529  2.0320148   2.67265368  4.66359531  2.13206234\n",
      "  9.57855421  5.41482446  1.39743903  4.65977184  3.93829519  0.83650336\n",
      " 14.55696066  2.87126318  3.85917589  1.37689847  3.26686633  1.92004451\n",
      "  0.74618286  9.38477682  4.07237994  4.10247034  2.37329256  0.57353791\n",
      "  1.84994124  1.39020296  2.88303863  2.82843252  1.84361484  3.55503803\n",
      "  0.49161253  1.09809331  0.73964523  0.99957434  0.87429953  1.46616488\n",
      "  0.45631956  1.46385781  1.51828195  0.42033398  2.15604822  1.40727966\n",
      "  1.16749507  1.61647952  1.78042158  1.41408116  0.88071221  0.69643643\n",
      "  0.75463388  1.42707537  0.54460322  0.62140191  0.77748264  0.23306871\n",
      "  1.26342159  0.55493505  0.68581541  0.66860173  0.90553203  0.79586398\n",
      "  0.18391986  0.40742917  1.83968903  0.72411835  1.04475585  0.29906352\n",
      "  0.28325828  0.26062664  0.39694012  1.31925519  0.39123339  0.69467366\n",
      "  0.37302155  0.46983737  0.20374096  0.3511291   0.3115398   0.74139714\n",
      "  0.03697741  0.52886904  0.16452362  0.52888029  0.37266671  0.42710041\n",
      "  0.33818493  0.44826704  0.19697966  0.69748369  0.41205908  0.69035275\n",
      "  0.16806599  0.66391957  0.30512595  0.26247418  0.29774607  0.30368463\n",
      "  0.40454328  0.64304418  0.51675151  0.15464819  0.2592197   0.51279136\n",
      "  0.20453082  0.27447341  0.28036614  0.21683794  0.57017363  0.4841933\n",
      "  0.25366972  0.18011927  0.31384861  0.17820568  0.43142732  0.28650329\n",
      "  0.12360889  0.20825158  0.33560048  0.48037864  0.16112298  0.0272665\n",
      "  0.03663003  0.27912371  0.32627751  0.38093826  0.53754985  0.44816605\n",
      "  0.25731558  0.49127343  0.2982259   0.11005071  0.07365752  0.42886196\n",
      "  0.42193387  0.51852511  0.31008146  0.21062098  0.3445376   0.15018812\n",
      "  0.25164394  0.20569303  0.15041966  0.27209837  0.37830117  0.37086978\n",
      "  0.31993644  0.45639229  0.10863604  0.141204    0.07335855  0.07344064\n",
      "  0.24981585  0.10025644  0.24174263  0.67832195  0.32781087  0.2079705\n",
      "  0.28870188  0.21560784  0.43940327  0.35084451  0.23177394  0.27815001\n",
      "  0.34316757  0.49579493  0.13535026  0.17892242  0.07932855  0.05790638\n",
      "  0.24290664  0.29042013  0.18064996  0.11767569  0.20791715  0.53332613\n",
      "  0.37244436  0.10651464  0.16613163  0.17381568  0.36334065  0.44739524\n",
      "  0.18088157  0.22489629  0.26114488  0.29811407  0.1782029   0.39380462\n",
      "  0.2574132   0.14980646  0.2000623   0.37519808  0.18377106  0.35134565\n",
      "  0.14391612  0.20030247  0.33631539  0.27141075  0.2205306   0.18032802\n",
      "  0.19095902  0.4423129   0.17513683  0.3472864   0.13806867  0.14823201\n",
      "  0.14188566  0.53410273  0.09529172  0.11647526  0.45920536  0.48662542\n",
      "  0.27750324  0.58178785  0.07036044  0.10371691  0.25797599  0.14728511\n",
      "  0.14806799  0.13273095  0.21902643  0.64254007  0.3787174   0.27366074\n",
      "  0.15901394  0.28625245  0.10000153  0.23084137  0.3112882   0.39110687\n",
      "  0.20855773  0.28866102  0.20526082  0.21964668  0.05251505  0.07087608\n",
      "  0.17752433]\n"
     ]
    }
   ],
   "source": [
    "test_lk = lk.search_lightcurve('KIC '+str(757137), author='Kepler',exptime=1800)[2].download().remove_outliers(sigma=20, sigma_upper=4).normalize()\n",
    "print(len(test_lk.time.value))\n",
    "l = random.randrange(250, len(test_lk.time.value))\n",
    "s = random.randrange(0,len(test_lk.time.value)-l)\n",
    "print(s,l)\n",
    "test_lk2 = test_lk.truncate(after=test_lk.time.value[s+l],before=test_lk.time.value[s])\n",
    "test_periodogram = test_lk2.to_periodogram(frequency = [x for x in np.arange(1,24.5,0.1)])\n",
    "freq = np.asarray([test_periodogram.frequency,test_periodogram.power*100000])\n",
    "print(freq[1])"
   ]
  },
  {
   "cell_type": "code",
   "execution_count": 14,
   "metadata": {},
   "outputs": [],
   "source": [
    "def prepsr(i,sr,j):\n",
    "    r = False\n",
    "    if r:\n",
    "        test_lk = sr[j].download().remove_outliers(sigma=20, sigma_upper=4).normalize()\n",
    "        l = random.randrange(240, len(test_lk.time.value))\n",
    "        s = random.randrange(0,len(test_lk.time.value)-l)\n",
    "        lightcurve = test_lk.truncate(after=test_lk.time.value[s+l],before=test_lk.time.value[s])\n",
    "    else:\n",
    "        lightcurve = sr[j].download().remove_outliers(sigma=20, sigma_upper=4).normalize()\n",
    "    \n",
    "    periodogram = lightcurve.to_periodogram(frequency = [x for x in np.arange(1,24.5,0.1)])\n",
    "    # periodogram = periodogram.bin(binsize=10, method='mean')\n",
    "    freq = np.asarray([periodogram.frequency,periodogram.power*100000])\n",
    "    # pd.DataFrame(freq[1]).to_csv(\"/content/drive/MyDrive/Research - Yihong Song and Rohit Prasanna/Yihong/Data/\"+str(labeled_data[\"Kepler_ID\"][i])+\"_\"+str(j)+\".csv\")\n",
    "    return np.append(np.append(hdul[1].data[i][0:7],[j]),freq[1])\n",
    "\n",
    "def getlc(i):\n",
    "    lc_data = []\n",
    "    sr = lk.search_lightcurve('KIC '+str(hdul[1].data[i][0]), author='Kepler',exptime=1800)\n",
    "    # return prepsr(i,sr,1)\n",
    "    for j in range(len(sr)):\n",
    "        # x = wrap(prepsr(i,sr,j))\n",
    "        # if x is not None:\n",
    "        lc_data.append(prepsr(i,sr,j))\n",
    "        # y = wrap(external_function_raises)\n",
    "        # if y is not None:\n",
    "        #     lc_data.append(y)\n",
    "    return lc_data\n",
    "\n",
    "def getdata(start):\n",
    "    # for k in range(start,int(191449/100)+1,1):\n",
    "    for k in range(start,start+1,1):\n",
    "        lc_data = []\n",
    "        for i in range(k*10,(k+1)*10,1):\n",
    "            try:\n",
    "                lc_data = lc_data+getlc(i)\n",
    "            except:\n",
    "                continue\n",
    "            print(\"\\r\"+str(i),end=\"\")\n",
    "        # print(lc_data)\n",
    "        pd.DataFrame(lc_data).to_csv(\"/Users/michaelsong/Documents/GitHub/starzam/Data_v4/\"+str(k)+\".csv\")"
   ]
  },
  {
   "cell_type": "code",
   "execution_count": null,
   "metadata": {},
   "outputs": [],
   "source": []
  },
  {
   "cell_type": "code",
   "execution_count": 15,
   "metadata": {},
   "outputs": [
    {
     "name": "stdout",
     "output_type": "stream",
     "text": [
      "9"
     ]
    }
   ],
   "source": [
    "getdata(0)"
   ]
  },
  {
   "cell_type": "code",
   "execution_count": 21,
   "metadata": {},
   "outputs": [
    {
     "name": "stdout",
     "output_type": "stream",
     "text": [
      "14479[None, None]\n"
     ]
    }
   ],
   "source": [
    "# with concurrent.futures.ProcessPoolExecutor() as executor:\n",
    "#     print(executor.map(getdata, [1,2,3]))\n",
    "\n",
    "with mp.Pool(8) as pool:\n",
    "    print(pool.map(getdata, [x for x in range(1447,1449)]))"
   ]
  },
  {
   "cell_type": "code",
   "execution_count": null,
   "metadata": {},
   "outputs": [],
   "source": [
    "\n"
   ]
  }
 ],
 "metadata": {
  "interpreter": {
   "hash": "47065cae1920ebace9a059c93d67134c9a065e51e3ecb9809a1abf9fcf371550"
  },
  "kernelspec": {
   "display_name": "Python 3.9.7 64-bit ('base': conda)",
   "name": "python3"
  },
  "language_info": {
   "codemirror_mode": {
    "name": "ipython",
    "version": 3
   },
   "file_extension": ".py",
   "mimetype": "text/x-python",
   "name": "python",
   "nbconvert_exporter": "python",
   "pygments_lexer": "ipython3",
   "version": "3.9.7"
  },
  "orig_nbformat": 4
 },
 "nbformat": 4,
 "nbformat_minor": 2
}
