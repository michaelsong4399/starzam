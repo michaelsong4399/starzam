{
 "cells": [
  {
   "cell_type": "code",
   "execution_count": 1,
   "metadata": {},
   "outputs": [],
   "source": [
    "import os\n",
    "import concurrent.futures\n",
    "import multiprocess as mp\n",
    "import random\n",
    "\n",
    "\n",
    "from astropy.io import fits\n",
    "from matplotlib import pyplot as plt\n",
    "import numpy as np\n",
    "import lightkurve as lk\n",
    "from astroquery.simbad import Simbad\n",
    "import pandas as pd \n",
    "from numpy import genfromtxt\n",
    "\n",
    "\n",
    "#tf\n",
    "from __future__ import absolute_import, division, print_function, unicode_literals\n",
    "import tensorflow as tf\n",
    "from tensorflow import keras\n",
    "from tensorflow.keras import datasets, layers, models\n",
    "\n",
    "\n",
    "from sklearn.model_selection import train_test_split\n",
    "from sklearn.linear_model import LinearRegression\n",
    "from sklearn.metrics import r2_score, mean_squared_error, mean_absolute_error"
   ]
  },
  {
   "cell_type": "code",
   "execution_count": 8,
   "metadata": {},
   "outputs": [
    {
     "name": "stdout",
     "output_type": "stream",
     "text": [
      "[[1027707 '19253846+3646103' nan ... nan 6 0]\n",
      " [1027900 '19254767+3644073' nan ... nan 8 0]\n",
      " [1160655 '19232193+3650379' nan ... nan 6 0]\n",
      " ...\n",
      " [12934848 '19201615+5221593' nan ... nan 7 0]\n",
      " [12935035 '19204068+5218589' nan ... nan 8 0]\n",
      " [12984227 '19201916+5227134' nan ... nan 6 0]]\n",
      "(14693, 10)\n"
     ]
    }
   ],
   "source": [
    "d = pd.read_csv('/Users/michaelsong/Documents/GitHub/starzam/Labels/unlabeled_stars.csv',delimiter=',').to_numpy()\n",
    "print(d)\n",
    "print(d.shape)"
   ]
  },
  {
   "cell_type": "code",
   "execution_count": 3,
   "metadata": {},
   "outputs": [
    {
     "name": "stdout",
     "output_type": "stream",
     "text": [
      "4134\n",
      "4 4072\n",
      "[1.79519377 3.161746   1.9126815  1.08549662 2.41231448 3.89998306\n",
      " 4.89104838 3.11777276 0.77655755 3.80622088 1.16259991 3.49564029\n",
      " 5.54895021 5.33652764 1.19704182 3.37681438 3.58728056 2.0599733\n",
      " 0.28076188 2.73299563 1.92169384 2.40103628 1.4361267  1.41031097\n",
      " 1.16279265 3.12414839 0.46615549 0.88132375 2.16862005 2.29273816\n",
      " 0.99601452 0.65008921 1.45423652 0.80855058 0.98977803 1.34360667\n",
      " 1.75448505 0.84434017 0.40883283 0.92919147 1.35235901 0.55030839\n",
      " 1.18800907 0.76686796 0.16105251 0.55014494 1.21139433 0.55655295\n",
      " 0.2846481  0.76811317 0.69591169 0.6261121  0.86487284 0.4756488\n",
      " 0.34212856 0.22099518 0.04710461 0.4151719  0.36631289 0.65788991\n",
      " 0.32802547 0.30515064 0.82100609 0.27579841 0.47111617 0.23327916\n",
      " 0.30193204 0.61062661 0.25828905 0.74625896 0.43269537 0.30914628\n",
      " 0.19224324 0.24481938 0.44861878 0.35021909 0.14322109 0.6183515\n",
      " 0.15090736 0.36472443 0.39049593 0.09069467 0.12564678 0.48136292\n",
      " 0.35905368 0.22663526 0.23310776 0.18927219 0.24610231 0.24741816\n",
      " 0.07804775 0.26599041 0.27634422 0.30657644 0.07422899 0.25073628\n",
      " 0.33201107 0.13855455 0.28902387 0.18282279 0.44232333 0.39173506\n",
      " 0.24392074 0.29332286 0.23652512 0.28192563 0.5582545  0.38451467\n",
      " 0.42607599 0.28088836 0.34100746 0.21460074 0.2669636  0.40342512\n",
      " 0.19856774 0.24534719 0.26605809 0.32868736 0.05789211 0.14399758\n",
      " 0.14233426 0.14507127 0.21739906 0.56328331 0.44963453 0.23088431\n",
      " 0.13884879 0.37552628 0.07014282 0.17281498 0.26101769 0.10854219\n",
      " 0.41701124 0.45085979 0.53055464 0.1421191  0.16281676 0.09964734\n",
      " 0.11368902 0.28876499 0.02533793 0.19314738 0.48074597 0.10405419\n",
      " 0.35787343 0.14658084 0.06866205 0.32251866 0.11819692 0.36833394\n",
      " 0.17755339 0.22789503 0.37798464 0.18561949 0.35219584 0.08599772\n",
      " 0.32160003 0.15534177 0.33981073 0.30978023 0.41398921 0.17303418\n",
      " 0.40003395 0.23499614 0.01913533 0.14393773 0.10571327 0.36446676\n",
      " 0.09325749 0.05335758 0.15882911 0.25744777 0.22788379 0.11562993\n",
      " 0.27754117 0.26919453 0.06086462 0.25692944 0.05725554 0.11920881\n",
      " 0.1861387  0.24564835 0.05360504 0.27031521 0.29385531 0.32931075\n",
      " 0.09479079 0.19741302 0.13247503 0.13662042 0.27071834 0.08607365\n",
      " 0.0901417  0.19229477 0.31719026 0.20810226 0.26716369 0.12877118\n",
      " 0.16438287 0.25620413 0.23937935 0.21167038 0.1679554  0.08009181\n",
      " 0.41549228 0.23222673 0.24305224 0.08578717 0.08868704 0.15299324\n",
      " 0.324284   0.0523322  0.33156566 0.04969959 0.35376129 0.04373398\n",
      " 0.17667473 0.09283146 0.165594   0.19257201 0.30051824 0.11212717\n",
      " 0.09998089 0.19863996 0.23141659 0.24424616 0.1010559  0.29743552\n",
      " 0.02928454 0.1141081  0.24643874 0.21552338 0.04317461 0.09196501\n",
      " 0.36512065]\n"
     ]
    }
   ],
   "source": [
    "test_lk = lk.search_lightcurve('KIC '+str(757137), author='Kepler',exptime=1800)[2].download().remove_outliers(sigma=20, sigma_upper=4).normalize()\n",
    "print(len(test_lk.time.value))\n",
    "l = random.randrange(250, len(test_lk.time.value))\n",
    "s = random.randrange(0,len(test_lk.time.value)-l)\n",
    "print(s,l)\n",
    "test_lk2 = test_lk.truncate(after=test_lk.time.value[s+l],before=test_lk.time.value[s])\n",
    "test_periodogram = test_lk2.to_periodogram(frequency = [x for x in np.arange(1,24.5,0.1)])\n",
    "freq = np.asarray([test_periodogram.frequency,test_periodogram.power*100000])\n",
    "print(freq[1])"
   ]
  },
  {
   "cell_type": "code",
   "execution_count": 5,
   "metadata": {},
   "outputs": [],
   "source": [
    "def prepsr(i,sr,j):\n",
    "    r = False\n",
    "    if r:\n",
    "        test_lk = sr[j].download().remove_outliers(sigma=20, sigma_upper=4).normalize()\n",
    "        l = random.randrange(240, len(test_lk.time.value))\n",
    "        s = random.randrange(0,len(test_lk.time.value)-l)\n",
    "        lightcurve = test_lk.truncate(after=test_lk.time.value[s+l],before=test_lk.time.value[s])\n",
    "    else:\n",
    "        lightcurve = sr[j].download().remove_outliers(sigma=20, sigma_upper=4).normalize()\n",
    "    \n",
    "    periodogram = lightcurve.to_periodogram(frequency = [x for x in np.arange(1,24.5,0.1)])\n",
    "    # periodogram = periodogram.bin(binsize=10, method='mean')\n",
    "    freq = np.asarray([periodogram.frequency,periodogram.power*100000])\n",
    "    # pd.DataFrame(freq[1]).to_csv(\"/content/drive/MyDrive/Research - Yihong Song and Rohit Prasanna/Yihong/Data/\"+str(labeled_data[\"Kepler_ID\"][i])+\"_\"+str(j)+\".csv\")\n",
    "    return np.append(np.append(d[i][0:1],[j]),freq[1])\n",
    "\n",
    "def getlc(i):\n",
    "    lc_data = []\n",
    "    sr = lk.search_lightcurve('KIC '+str(d[i][0]), author='Kepler',exptime=1800)\n",
    "    # return prepsr(i,sr,1)\n",
    "    for j in range(len(sr)):\n",
    "        # x = wrap(prepsr(i,sr,j))\n",
    "        # if x is not None:\n",
    "        lc_data.append(prepsr(i,sr,j))\n",
    "        # y = wrap(external_function_raises)\n",
    "        # if y is not None:\n",
    "        #     lc_data.append(y)\n",
    "    return lc_data\n",
    "\n",
    "def getdata(start):\n",
    "    # for k in range(start,int(191449/100)+1,1):\n",
    "    for k in range(start,start+1,1):\n",
    "        lc_data = []\n",
    "        for i in range(k*10,(k+1)*10,1):\n",
    "            try:\n",
    "                lc_data = lc_data+getlc(i)\n",
    "            except:\n",
    "                continue\n",
    "            print(\"\\r\"+str(i),end=\"\")\n",
    "        # print(lc_data)\n",
    "        pd.DataFrame(lc_data).to_csv(\"/Users/michaelsong/Documents/GitHub/starzam/Data_Unk/\"+str(k)+\".csv\")"
   ]
  },
  {
   "cell_type": "code",
   "execution_count": null,
   "metadata": {},
   "outputs": [],
   "source": []
  },
  {
   "cell_type": "code",
   "execution_count": 7,
   "metadata": {},
   "outputs": [
    {
     "name": "stdout",
     "output_type": "stream",
     "text": [
      "9"
     ]
    }
   ],
   "source": [
    "getdata(0)"
   ]
  },
  {
   "cell_type": "code",
   "execution_count": 21,
   "metadata": {},
   "outputs": [
    {
     "name": "stdout",
     "output_type": "stream",
     "text": [
      "14479[None, None]\n"
     ]
    }
   ],
   "source": [
    "# with concurrent.futures.ProcessPoolExecutor() as executor:\n",
    "#     print(executor.map(getdata, [1,2,3]))\n",
    "\n",
    "with mp.Pool(8) as pool:\n",
    "    print(pool.map(getdata, [x for x in range(1447,1449)]))"
   ]
  },
  {
   "cell_type": "code",
   "execution_count": null,
   "metadata": {},
   "outputs": [],
   "source": [
    "\n"
   ]
  }
 ],
 "metadata": {
  "interpreter": {
   "hash": "47065cae1920ebace9a059c93d67134c9a065e51e3ecb9809a1abf9fcf371550"
  },
  "kernelspec": {
   "display_name": "Python 3.9.7 ('base')",
   "name": "python3"
  },
  "language_info": {
   "codemirror_mode": {
    "name": "ipython",
    "version": 3
   },
   "file_extension": ".py",
   "mimetype": "text/x-python",
   "name": "python",
   "nbconvert_exporter": "python",
   "pygments_lexer": "ipython3",
   "version": "3.9.7"
  },
  "orig_nbformat": 4
 },
 "nbformat": 4,
 "nbformat_minor": 2
}
