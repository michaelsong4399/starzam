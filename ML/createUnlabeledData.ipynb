{
 "cells": [
  {
   "cell_type": "code",
   "execution_count": 1,
   "metadata": {},
   "outputs": [],
   "source": [
    "import os\n",
    "import concurrent.futures\n",
    "import multiprocess as mp\n",
    "import random\n",
    "\n",
    "\n",
    "from astropy.io import fits\n",
    "from matplotlib import pyplot as plt\n",
    "import numpy as np\n",
    "import lightkurve as lk\n",
    "from astroquery.simbad import Simbad\n",
    "import pandas as pd \n",
    "from numpy import genfromtxt\n",
    "\n",
    "\n",
    "#tf\n",
    "from __future__ import absolute_import, division, print_function, unicode_literals\n",
    "import tensorflow as tf\n",
    "from tensorflow import keras\n",
    "from tensorflow.keras import datasets, layers, models\n",
    "\n",
    "\n",
    "from sklearn.model_selection import train_test_split\n",
    "from sklearn.linear_model import LinearRegression\n",
    "from sklearn.metrics import r2_score, mean_squared_error, mean_absolute_error"
   ]
  },
  {
   "cell_type": "code",
   "execution_count": 2,
   "metadata": {},
   "outputs": [
    {
     "name": "stdout",
     "output_type": "stream",
     "text": [
      "[[1027707 '19253846+3646103' nan ... nan 6 0]\n",
      " [1027900 '19254767+3644073' nan ... nan 8 0]\n",
      " [1160655 '19232193+3650379' nan ... nan 6 0]\n",
      " ...\n",
      " [12934848 '19201615+5221593' nan ... nan 7 0]\n",
      " [12935035 '19204068+5218589' nan ... nan 8 0]\n",
      " [12984227 '19201916+5227134' nan ... nan 6 0]]\n",
      "(14693, 10)\n"
     ]
    }
   ],
   "source": [
    "d = pd.read_csv('/Users/michaelsong/Documents/GitHub/starzam/Labels/unlabeled_stars.csv',delimiter=',').to_numpy()\n",
    "print(d)\n",
    "print(d.shape)"
   ]
  },
  {
   "cell_type": "code",
   "execution_count": 3,
   "metadata": {},
   "outputs": [
    {
     "name": "stdout",
     "output_type": "stream",
     "text": [
      "4134\n",
      "560 3115\n",
      "[2.38717595 4.98240076 1.89745886 1.98573454 2.13904506 2.67009853\n",
      " 7.68950466 3.21674043 1.41664814 3.49660421 2.61438879 2.42846368\n",
      " 8.90297319 7.05706237 2.18517007 5.96455358 1.87591963 1.66184474\n",
      " 2.24242271 4.8772712  1.53907568 2.95681911 2.08749862 1.22797766\n",
      " 2.87227508 3.05120409 0.75569914 1.0308758  1.29267925 2.31700121\n",
      " 1.25812043 1.08805494 1.11414924 0.47902996 1.24089141 0.81965095\n",
      " 1.19930445 1.7230869  0.93413544 0.83128198 2.46015079 1.00693021\n",
      " 1.4036626  0.55423869 0.87961735 0.75745757 1.02019455 0.03800585\n",
      " 0.34414082 0.91614241 0.10966658 0.28447467 1.02887576 0.25831428\n",
      " 0.17951299 0.2316026  0.47349301 0.61797327 0.67134244 0.93078689\n",
      " 0.40901006 0.37436921 0.72774085 0.36650282 0.82994937 0.30218915\n",
      " 0.12081216 0.52232936 0.10674265 0.85514989 0.39885947 0.41214387\n",
      " 0.10306439 0.44754819 0.25503845 0.10641352 0.09482554 0.66335454\n",
      " 0.16816507 0.29555178 0.34322167 0.19298871 0.26752673 0.52868875\n",
      " 0.34218302 0.22609986 0.26763993 0.4119223  0.28930406 0.14107581\n",
      " 0.18118986 0.42695173 0.3280288  0.33416013 0.08190431 0.05996337\n",
      " 0.17402533 0.201331   0.42957979 0.06814298 0.36900457 0.53325355\n",
      " 0.36868437 0.23542075 0.31499507 0.17721551 0.51599114 0.36885971\n",
      " 0.25491549 0.21364644 0.37963496 0.16149605 0.32220705 0.22648015\n",
      " 0.22460683 0.18842433 0.46986152 0.38135809 0.21685109 0.163823\n",
      " 0.1018816  0.16342341 0.4055571  0.22831793 0.37367988 0.43983517\n",
      " 0.09108967 0.26909456 0.05714176 0.05772753 0.1304836  0.24607754\n",
      " 0.5469452  0.3135733  0.44683077 0.15479064 0.10895282 0.13158403\n",
      " 0.09235644 0.08011629 0.03247356 0.4027487  0.45055208 0.21752741\n",
      " 0.16636173 0.33752516 0.16204647 0.18498562 0.25246674 0.21619492\n",
      " 0.10428064 0.17447105 0.3273808  0.35793786 0.32871901 0.2614623\n",
      " 0.27170687 0.15215951 0.23241192 0.10495766 0.20846037 0.09887305\n",
      " 0.4484291  0.3213272  0.1512339  0.21286552 0.0151102  0.06757559\n",
      " 0.1939607  0.05198264 0.1294217  0.1274903  0.31904955 0.18381626\n",
      " 0.38058701 0.15660936 0.16495888 0.25918444 0.17445275 0.0944755\n",
      " 0.0437036  0.31175355 0.22137833 0.21764176 0.19435969 0.2725131\n",
      " 0.25499197 0.12196888 0.23318025 0.12052057 0.34038953 0.01892811\n",
      " 0.09758571 0.19527528 0.14136533 0.11278738 0.28958877 0.16803503\n",
      " 0.27988042 0.17173591 0.23235798 0.26083349 0.16977726 0.18073294\n",
      " 0.29404938 0.37749239 0.39500484 0.19733255 0.19368859 0.05950041\n",
      " 0.25350249 0.09374395 0.11804007 0.10324199 0.26328336 0.15227703\n",
      " 0.26210632 0.15950876 0.16599956 0.22631569 0.24207963 0.17691946\n",
      " 0.0406017  0.15132945 0.21195569 0.1583123  0.10030572 0.12985293\n",
      " 0.1642071  0.08417698 0.36390838 0.16156593 0.04993662 0.03979285\n",
      " 0.13631759]\n"
     ]
    }
   ],
   "source": [
    "test_lk = lk.search_lightcurve('KIC '+str(757137), author='Kepler',exptime=1800)[2].download().remove_outliers(sigma=20, sigma_upper=4).normalize()\n",
    "print(len(test_lk.time.value))\n",
    "l = random.randrange(250, len(test_lk.time.value))\n",
    "s = random.randrange(0,len(test_lk.time.value)-l)\n",
    "print(s,l)\n",
    "test_lk2 = test_lk.truncate(after=test_lk.time.value[s+l],before=test_lk.time.value[s])\n",
    "test_periodogram = test_lk2.to_periodogram(frequency = [x for x in np.arange(1,24.5,0.1)])\n",
    "freq = np.asarray([test_periodogram.frequency,test_periodogram.power*100000])\n",
    "print(freq[1])"
   ]
  },
  {
   "cell_type": "code",
   "execution_count": 4,
   "metadata": {},
   "outputs": [],
   "source": [
    "def prepsr(i,sr,j):\n",
    "    r = False\n",
    "    if r:\n",
    "        test_lk = sr[j].download().remove_outliers(sigma=20, sigma_upper=4).normalize()\n",
    "        l = random.randrange(240, len(test_lk.time.value))\n",
    "        s = random.randrange(0,len(test_lk.time.value)-l)\n",
    "        lightcurve = test_lk.truncate(after=test_lk.time.value[s+l],before=test_lk.time.value[s])\n",
    "    else:\n",
    "        lightcurve = sr[j].download().remove_outliers(sigma=20, sigma_upper=4).normalize()\n",
    "    \n",
    "    periodogram = lightcurve.to_periodogram(frequency = [x for x in np.arange(1,24.5,0.1)])\n",
    "    # periodogram = periodogram.bin(binsize=10, method='mean')\n",
    "    freq = np.asarray([periodogram.frequency,periodogram.power*100000])\n",
    "    # pd.DataFrame(freq[1]).to_csv(\"/content/drive/MyDrive/Research - Yihong Song and Rohit Prasanna/Yihong/Data/\"+str(labeled_data[\"Kepler_ID\"][i])+\"_\"+str(j)+\".csv\")\n",
    "    return np.append(np.append(d[i][0:1],[j]),freq[1])\n",
    "\n",
    "def getlc(i):\n",
    "    lc_data = []\n",
    "    sr = lk.search_lightcurve('KIC '+str(d[i][0]), author='Kepler',exptime=1800)\n",
    "    # return prepsr(i,sr,1)\n",
    "    for j in range(len(sr)):\n",
    "        # x = wrap(prepsr(i,sr,j))\n",
    "        # if x is not None:\n",
    "        lc_data.append(prepsr(i,sr,j))\n",
    "        # y = wrap(external_function_raises)\n",
    "        # if y is not None:\n",
    "        #     lc_data.append(y)\n",
    "    return lc_data\n",
    "\n",
    "def getdata(start):\n",
    "    # for k in range(start,int(191449/100)+1,1):\n",
    "    for k in range(start,start+1,1):\n",
    "        lc_data = []\n",
    "        for i in range(k*10,(k+1)*10,1):\n",
    "            try:\n",
    "                lc_data = lc_data+getlc(i)\n",
    "            except:\n",
    "                continue\n",
    "            print(\"\\r\"+str(i),end=\"\")\n",
    "        # print(lc_data)\n",
    "        pd.DataFrame(lc_data).to_csv(\"/Users/michaelsong/Documents/GitHub/starzam/Data_Unk/\"+str(k)+\".csv\")"
   ]
  },
  {
   "cell_type": "code",
   "execution_count": 5,
   "metadata": {},
   "outputs": [
    {
     "name": "stdout",
     "output_type": "stream",
     "text": [
      "9"
     ]
    }
   ],
   "source": [
    "getdata(0)"
   ]
  },
  {
   "cell_type": "code",
   "execution_count": 9,
   "metadata": {},
   "outputs": [
    {
     "name": "stdout",
     "output_type": "stream",
     "text": [
      "14659[None, None, None, None, None, None, None, None, None, None, None, None, None, None, None, None, None, None, None, None, None, None, None, None, None, None, None, None, None, None, None, None, None, None, None, None, None, None, None, None, None, None, None, None, None, None, None, None, None, None, None, None, None, None, None, None, None, None, None, None, None, None, None, None, None, None, None, None, None, None]\n"
     ]
    }
   ],
   "source": [
    "# with concurrent.futures.ProcessPoolExecutor() as executor:\n",
    "#     print(executor.map(getdata, [1,2,3]))\n",
    "\n",
    "with mp.Pool(8) as pool:\n",
    "    print(pool.map(getdata, [x for x in range(1400,1470)]))"
   ]
  },
  {
   "cell_type": "code",
   "execution_count": null,
   "metadata": {},
   "outputs": [],
   "source": [
    "\n"
   ]
  }
 ],
 "metadata": {
  "interpreter": {
   "hash": "47065cae1920ebace9a059c93d67134c9a065e51e3ecb9809a1abf9fcf371550"
  },
  "kernelspec": {
   "display_name": "Python 3.9.7 ('base')",
   "name": "python3"
  },
  "language_info": {
   "codemirror_mode": {
    "name": "ipython",
    "version": 3
   },
   "file_extension": ".py",
   "mimetype": "text/x-python",
   "name": "python",
   "nbconvert_exporter": "python",
   "pygments_lexer": "ipython3",
   "version": "3.9.7"
  },
  "orig_nbformat": 4
 },
 "nbformat": 4,
 "nbformat_minor": 2
}
