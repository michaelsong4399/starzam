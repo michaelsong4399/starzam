{
 "cells": [
  {
   "cell_type": "code",
   "execution_count": 1,
   "metadata": {},
   "outputs": [],
   "source": [
    "import pytest\n",
    "from selenium import webdriver\n",
    "from selenium.webdriver.chrome.service import Service as ChromeService\n",
    "from webdriver_manager.chrome import ChromeDriverManager\n",
    "from selenium.webdriver.support.ui import WebDriverWait\n",
    "import multiprocess as mp\n",
    "from concurrent import futures\n",
    "\n",
    "def document_initialised(driver):\n",
    "    return driver.execute_script(\"return initialised\")\n",
    "\n",
    "def test_driver_manager_chrome():\n",
    "    service = ChromeService(executable_path=ChromeDriverManager().install())\n",
    "\n",
    "    driver = webdriver.Chrome(service=service)\n",
    "\n",
    "    driver.quit()"
   ]
  },
  {
   "cell_type": "code",
   "execution_count": 2,
   "metadata": {},
   "outputs": [
    {
     "name": "stderr",
     "output_type": "stream",
     "text": [
      "\n",
      "\n",
      "====== WebDriver manager ======\n",
      "Current google-chrome version is 99.0.4844\n",
      "Get LATEST chromedriver version for 99.0.4844 google-chrome\n",
      "Driver [/Users/michaelsong/.wdm/drivers/chromedriver/mac64_m1/99.0.4844.51/chromedriver] found in cache\n"
     ]
    }
   ],
   "source": [
    "test_driver_manager_chrome()"
   ]
  },
  {
   "cell_type": "code",
   "execution_count": 4,
   "metadata": {},
   "outputs": [],
   "source": [
    "def runbrowser(total):\n",
    "    # for i in range(10):\n",
    "    options = webdriver.ChromeOptions()\n",
    "    # options.add_argument('--headless')\n",
    "    browser = webdriver.Chrome(options=options,service=ChromeService(executable_path=ChromeDriverManager().install()))\n",
    "    # browser.get(\"https://www.google.com/\")\n",
    "    # browser.get(\"https://www.wevideo.com/view/2592477609\")\n",
    "    browser.get(\"https://www.loom.com/share/7930fe8e6da0471e8d78371a1f493807\")\n",
    "    # browser.switch_to.new_window('tab')\n",
    "    for i in range(total):\n",
    "        # browser.switch_to.new_window('tab')\n",
    "        browser.refresh()\n",
    "        # browser.get(\"https://www.wevideo.com/view/2592477609\")\n",
    "        browser.implicitly_wait(10)\n",
    "        browser.find_element_by_class_name(\"video-player-play-screen\").click()\n",
    "        # browser.find_element_by_class_name(\"fp-ui\").click()\n",
    "        # browser.close()\n",
    "        # browser.switch_to.window(browser.window_handles[0])\n",
    "    title = browser.title\n",
    "    browser.quit()\n",
    "    return title"
   ]
  },
  {
   "cell_type": "code",
   "execution_count": 5,
   "metadata": {},
   "outputs": [
    {
     "name": "stderr",
     "output_type": "stream",
     "text": [
      "\n",
      "\n",
      "====== WebDriver manager ======\n",
      "Current google-chrome version is 99.0.4844\n",
      "Get LATEST chromedriver version for 99.0.4844 google-chrome\n",
      "Driver [/Users/michaelsong/.wdm/drivers/chromedriver/mac64_m1/99.0.4844.51/chromedriver] found in cache\n",
      "/var/folders/7x/d_9j9fy937g6_216hzt6gxm00000gn/T/ipykernel_73942/1218437683.py:15: DeprecationWarning: find_element_by_* commands are deprecated. Please use find_element() instead\n",
      "  browser.find_element_by_class_name(\"video-player-play-screen\").click()\n"
     ]
    },
    {
     "data": {
      "text/plain": [
       "'Loom | Free Screen & Video Recording Software - 18 March 2022'"
      ]
     },
     "execution_count": 5,
     "metadata": {},
     "output_type": "execute_result"
    }
   ],
   "source": [
    "runbrowser(1)"
   ]
  },
  {
   "cell_type": "code",
   "execution_count": 4,
   "metadata": {},
   "outputs": [
    {
     "name": "stderr",
     "output_type": "stream",
     "text": [
      "\n",
      "\n",
      "\n",
      "\n",
      "\n",
      "\n",
      "\n",
      "\n",
      "====== WebDriver manager ======\n",
      "\n",
      "\n",
      "====== WebDriver manager ======\n",
      "\n",
      "\n",
      "\n",
      "\n",
      "\n",
      "\n",
      "\n",
      "\n",
      "====== WebDriver manager ======\n",
      "\n",
      "\n",
      "====== WebDriver manager ======\n",
      "====== WebDriver manager ======\n",
      "====== WebDriver manager ======\n",
      "====== WebDriver manager ======\n",
      "====== WebDriver manager ======\n",
      "====== WebDriver manager ======\n",
      "====== WebDriver manager ======\n",
      "Current google-chrome version is 99.0.4844\n",
      "Current google-chrome version is 99.0.4844\n",
      "Current google-chrome version is 99.0.4844\n",
      "Current google-chrome version is 99.0.4844\n",
      "Current google-chrome version is 99.0.4844\n",
      "Get LATEST chromedriver version for 99.0.4844 google-chrome\n",
      "Current google-chrome version is 99.0.4844\n",
      "Current google-chrome version is 99.0.4844\n",
      "Get LATEST chromedriver version for 99.0.4844 google-chrome\n",
      "Get LATEST chromedriver version for 99.0.4844 google-chrome\n",
      "Get LATEST chromedriver version for 99.0.4844 google-chrome\n",
      "Get LATEST chromedriver version for 99.0.4844 google-chrome\n",
      "Get LATEST chromedriver version for 99.0.4844 google-chrome\n",
      "Get LATEST chromedriver version for 99.0.4844 google-chrome\n",
      "Current google-chrome version is 99.0.4844\n",
      "Get LATEST chromedriver version for 99.0.4844 google-chrome\n",
      "Current google-chrome version is 99.0.4844\n",
      "Get LATEST chromedriver version for 99.0.4844 google-chrome\n",
      "Current google-chrome version is 99.0.4844\n",
      "Get LATEST chromedriver version for 99.0.4844 google-chrome\n",
      "Driver [/Users/michaelsong/.wdm/drivers/chromedriver/mac64_m1/99.0.4844.51/chromedriver] found in cache\n",
      "Driver [/Users/michaelsong/.wdm/drivers/chromedriver/mac64_m1/99.0.4844.51/chromedriver] found in cache\n",
      "Driver [/Users/michaelsong/.wdm/drivers/chromedriver/mac64_m1/99.0.4844.51/chromedriver] found in cache\n",
      "Driver [/Users/michaelsong/.wdm/drivers/chromedriver/mac64_m1/99.0.4844.51/chromedriver] found in cache\n",
      "Driver [/Users/michaelsong/.wdm/drivers/chromedriver/mac64_m1/99.0.4844.51/chromedriver] found in cache\n",
      "Driver [/Users/michaelsong/.wdm/drivers/chromedriver/mac64_m1/99.0.4844.51/chromedriver] found in cache\n",
      "Driver [/Users/michaelsong/.wdm/drivers/chromedriver/mac64_m1/99.0.4844.51/chromedriver] found in cache\n",
      "Driver [/Users/michaelsong/.wdm/drivers/chromedriver/mac64_m1/99.0.4844.51/chromedriver] found in cache\n",
      "Driver [/Users/michaelsong/.wdm/drivers/chromedriver/mac64_m1/99.0.4844.51/chromedriver] found in cache\n",
      "Driver [/Users/michaelsong/.wdm/drivers/chromedriver/mac64_m1/99.0.4844.51/chromedriver] found in cache\n",
      "/var/folders/7x/d_9j9fy937g6_216hzt6gxm00000gn/T/ipykernel_73469/2886293944.py:15: DeprecationWarning: find_element_by_* commands are deprecated. Please use find_element() instead\n",
      "  browser.find_element_by_class_name(\"video-player-play-screen\").click()\n"
     ]
    }
   ],
   "source": [
    "k = [10]*10\n",
    "# # pool = mp.Pool(8)\n",
    "# with futures.ProcessPoolExecutor() as executor:\n",
    "#     print(executor.map(runbrowser(10), k))\n",
    "\n",
    "with futures.ThreadPoolExecutor() as executor: # default/optimized number of threads\n",
    "  titles = list(executor.map(runbrowser, k))\n",
    "# with mp.Pool(8) as pool:\n",
    "#     print(pool.map(runbrowser(10), [x for x in range(0,100)]))"
   ]
  },
  {
   "cell_type": "code",
   "execution_count": null,
   "metadata": {},
   "outputs": [],
   "source": []
  }
 ],
 "metadata": {
  "interpreter": {
   "hash": "47065cae1920ebace9a059c93d67134c9a065e51e3ecb9809a1abf9fcf371550"
  },
  "kernelspec": {
   "display_name": "Python 3.9.7 ('base')",
   "name": "python3"
  },
  "language_info": {
   "codemirror_mode": {
    "name": "ipython",
    "version": 3
   },
   "file_extension": ".py",
   "mimetype": "text/x-python",
   "name": "python",
   "nbconvert_exporter": "python",
   "pygments_lexer": "ipython3",
   "version": "3.9.7"
  },
  "orig_nbformat": 4
 },
 "nbformat": 4,
 "nbformat_minor": 2
}
