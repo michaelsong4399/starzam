{
 "cells": [
  {
   "cell_type": "markdown",
   "metadata": {},
   "source": [
    "# Import"
   ]
  },
  {
   "cell_type": "code",
   "execution_count": 110,
   "metadata": {},
   "outputs": [],
   "source": [
    "import os\n",
    "import numpy as np\n",
    "\n",
    "from astropy.io import fits\n",
    "from matplotlib import pyplot as plt\n",
    "import numpy as np\n",
    "import lightkurve as lk\n",
    "from astroquery.simbad import Simbad\n",
    "import pandas as pd \n",
    "from numpy import genfromtxt\n",
    "\n",
    "# #tf\n",
    "from __future__ import absolute_import, division, print_function, unicode_literals\n",
    "import tensorflow as tf\n",
    "from tensorflow import keras\n",
    "from tensorflow.keras import datasets, layers, models\n",
    "\n",
    "\n",
    "from sklearn.model_selection import train_test_split\n",
    "from sklearn.linear_model import LinearRegression\n",
    "from sklearn.metrics import r2_score, mean_squared_error, mean_absolute_error\n",
    "\n"
   ]
  },
  {
   "cell_type": "markdown",
   "metadata": {},
   "source": [
    "## Check GPU"
   ]
  },
  {
   "cell_type": "code",
   "execution_count": 2,
   "metadata": {},
   "outputs": [
    {
     "name": "stdout",
     "output_type": "stream",
     "text": [
      "[PhysicalDevice(name='/physical_device:CPU:0', device_type='CPU'), PhysicalDevice(name='/physical_device:GPU:0', device_type='GPU')]\n"
     ]
    }
   ],
   "source": [
    "devices = tf.config.list_physical_devices()\n",
    "print(devices)"
   ]
  },
  {
   "cell_type": "markdown",
   "metadata": {},
   "source": [
    "# Import Data"
   ]
  },
  {
   "cell_type": "code",
   "execution_count": 10,
   "metadata": {},
   "outputs": [
    {
     "data": {
      "text/plain": [
       "(122, 475)"
      ]
     },
     "execution_count": 10,
     "metadata": {},
     "output_type": "execute_result"
    }
   ],
   "source": [
    "pd.read_csv('/Users/michaelsong/Documents/GitHub/starzam/Data_v3/0.csv',delimiter=',').to_numpy().shape"
   ]
  },
  {
   "cell_type": "code",
   "execution_count": 15,
   "metadata": {},
   "outputs": [
    {
     "name": "stdout",
     "output_type": "stream",
     "text": [
      "(9040, 474)\n",
      "[[7.57137000e+05 4.75100000e+03 2.38300000e+00 ... 5.85052317e+00\n",
      "  9.69580351e+00 7.87920306e+00]\n",
      " [7.57137000e+05 4.75100000e+03 2.38300000e+00 ... 4.51275398e+00\n",
      "  4.17921295e+00 5.35710573e+00]\n",
      " [7.57137000e+05 4.75100000e+03 2.38300000e+00 ... 2.39391900e+00\n",
      "  3.23821209e+00 3.50633041e+00]\n",
      " ...\n",
      " [1.24553570e+07 4.63300000e+03 2.35500000e+00 ... 7.22105298e+00\n",
      "  6.25722946e+00 6.97677380e+00]\n",
      " [1.24553570e+07 4.63300000e+03 2.35500000e+00 ... 5.24570461e+00\n",
      "  6.56183340e+00 5.67633786e+00]\n",
      " [1.24553570e+07 4.63300000e+03 2.35500000e+00 ... 5.01127168e+00\n",
      "  5.92280860e+00 4.84215917e+00]]\n"
     ]
    }
   ],
   "source": [
    "all_data = np.empty((1,475))\n",
    "for i in range(1609):\n",
    "  try:\n",
    "    all_data = np.concatenate((all_data,pd.read_csv('/Users/michaelsong/Documents/GitHub/starzam/Data_v3/'+str(i)+'.csv',delimiter=',').to_numpy()), axis=0)\n",
    "  except:\n",
    "    continue\n",
    "all_data = all_data[1:].T[1:].T\n",
    "print(all_data.shape)\n",
    "print(all_data)\n",
    "# pd.read_csv('/content/drive/MyDrive/Research - Yihong Song and Rohit Prasanna/Yihong/Data_v2/0.csv',delimiter=',').to_numpy"
   ]
  },
  {
   "cell_type": "code",
   "execution_count": 111,
   "metadata": {},
   "outputs": [
    {
     "name": "stdout",
     "output_type": "stream",
     "text": [
      "(9040, 471) (9040, 2)\n",
      "(9040,)\n",
      "[4751. 4751. 4751. ... 4633. 4633. 4633.]\n",
      "[[0.         7.51278914 8.49479698 ... 5.85052317 9.69580351 7.87920306]\n",
      " [1.         4.20230387 5.08429584 ... 4.51275398 4.17921295 5.35710573]\n",
      " [2.         3.49222764 2.2665208  ... 2.393919   3.23821209 3.50633041]\n",
      " ...\n",
      " [4.         6.10518239 5.99089327 ... 7.22105298 6.25722946 6.9767738 ]\n",
      " [5.         5.5450976  6.20267393 ... 5.24570461 6.5618334  5.67633786]\n",
      " [6.         4.84529917 5.92218647 ... 5.01127168 5.9228086  4.84215917]]\n"
     ]
    }
   ],
   "source": [
    "all_x = all_data.T[3:].T\n",
    "all_y = all_data.T[1:3].T\n",
    "print(all_x.shape,all_y.shape)\n",
    "teff_y = all_y.T[0].T\n",
    "print(teff_y.shape)\n",
    "print(teff_y)\n",
    "print(all_x)"
   ]
  },
  {
   "cell_type": "code",
   "execution_count": 87,
   "metadata": {},
   "outputs": [],
   "source": [
    "def normalize_with_moments(X_train, axes=0, epsilon=1e-8,keep_dims=True):\n",
    "    x = tf.convert_to_tensor(X_train)\n",
    "    mean, variance = tf.nn.moments(x, axes=axes)\n",
    "    x_normed = (x - mean) / tf.sqrt(variance + epsilon) # epsilon to avoid dividing by zero\n",
    "    return x_normed"
   ]
  },
  {
   "cell_type": "code",
   "execution_count": 88,
   "metadata": {},
   "outputs": [
    {
     "name": "stdout",
     "output_type": "stream",
     "text": [
      "[-0.43637928 -0.43637928 -0.43637928 ... -0.93466284 -0.93466284\n",
      " -0.93466284]\n"
     ]
    }
   ],
   "source": [
    "teff_y = normalize_with_moments(teff_y).numpy()\n",
    " = normalize_with_moments(all_x).numpy()\n",
    "print(teff_y)"
   ]
  },
  {
   "cell_type": "markdown",
   "metadata": {},
   "source": [
    "# Machine Learning"
   ]
  },
  {
   "cell_type": "code",
   "execution_count": 97,
   "metadata": {},
   "outputs": [
    {
     "name": "stdout",
     "output_type": "stream",
     "text": [
      "(7232, 471) (1808, 471) (7232,) (1808,)\n",
      "(7232, 471) (1808, 471) (7232,) (1808,)\n"
     ]
    }
   ],
   "source": [
    "train_x,test_x,train_y,test_y=train_test_split(all_x, teff_y, test_size=0.20, random_state=42)\n",
    "print(train_x.shape,test_x.shape,train_y.shape,test_y.shape)\n",
    "train_x = np.asarray(train_x).astype('float32')\n",
    "test_x = np.asarray(test_x).astype('float32')\n",
    "train_y = np.asarray(train_y).astype('float32')\n",
    "test_y = np.asarray(test_y).astype('float32')\n",
    "print(train_x.shape,test_x.shape,train_y.shape,test_y.shape)"
   ]
  },
  {
   "cell_type": "code",
   "execution_count": 105,
   "metadata": {},
   "outputs": [
    {
     "name": "stdout",
     "output_type": "stream",
     "text": [
      "Model: \"sequential\"\n",
      "_________________________________________________________________\n",
      "Layer (type)                 Output Shape              Param #   \n",
      "=================================================================\n",
      "dense (Dense)                (None, 2048)              966656    \n",
      "_________________________________________________________________\n",
      "dense_1 (Dense)              (None, 32)                65568     \n",
      "_________________________________________________________________\n",
      "dense_2 (Dense)              (None, 4)                 132       \n",
      "_________________________________________________________________\n",
      "dense_3 (Dense)              (None, 1)                 5         \n",
      "=================================================================\n",
      "Total params: 1,032,361\n",
      "Trainable params: 1,032,361\n",
      "Non-trainable params: 0\n",
      "_________________________________________________________________\n"
     ]
    },
    {
     "name": "stderr",
     "output_type": "stream",
     "text": [
      "2021-12-07 12:49:59.857651: I tensorflow/core/common_runtime/pluggable_device/pluggable_device_factory.cc:305] Could not identify NUMA node of platform GPU ID 0, defaulting to 0. Your kernel may not have been built with NUMA support.\n",
      "2021-12-07 12:49:59.857676: I tensorflow/core/common_runtime/pluggable_device/pluggable_device_factory.cc:271] Created TensorFlow device (/device:GPU:0 with 0 MB memory) -> physical PluggableDevice (device: 0, name: METAL, pci bus id: <undefined>)\n"
     ]
    }
   ],
   "source": [
    "tf.test.gpu_device_name() # No GPU Sad :v\n",
    "# tf.config.optimizer.set_jit(True)\n",
    "keras.backend.clear_session()\n",
    "# model = models.Sequential()\n",
    "\n",
    "# model.add(layers.Conv1D(1024, 1, activation='relu',batch_input_shape=train_x.shape))\n",
    "# model.add(layers.Dense(128))\n",
    "# model.add(layers.Conv1D(32, 1, activation='relu'))\n",
    "# model.add(layers.Dense(1,activation=\"sigmoid\"))\n",
    "\n",
    "# model.summary()\n",
    "model = models.Sequential()\n",
    "#model.add(layers.Conv1D(filters=16, kernel_size=1, activation='relu', batch_input_shape=(train_x.shape)))\n",
    "\n",
    "#model.add(layers.Embedding(input_dim=64, output_dim=16))\n",
    "#model.add(layers.LSTM(128,dropout=0.2,recurrent_dropout=0.2,input_dim=(train_x.shape[2])))\n",
    "#model.add(layers.Conv1D(1024,1,activation='relu',input_shape=(train_x.shape)))\n",
    "#model.add(layers.Conv1D(256,1,activation='relu'))\n",
    "model.add(layers.Dense(2048, activation=\"relu\", input_shape=((471,))))\n",
    "# model.add(layers.Dense(1024, activation=\"relu\"))\n",
    "# model.add(layers.Dense(512, activation=\"relu\"))\n",
    "# model.add(layers.Dense(256, activation=\"relu\"))\n",
    "model.add(layers.Dense(32, activation=\"relu\"))\n",
    "model.add(layers.Dense(4, activation=\"relu\"))\n",
    "# model.add(layers.Dense(2, activation=\"relu\"))\n",
    "model.add(layers.Dense(1))\n",
    "model.summary()"
   ]
  },
  {
   "cell_type": "code",
   "execution_count": 106,
   "metadata": {},
   "outputs": [],
   "source": [
    "model.compile(optimizer='adam', loss='mse', metrics=['accuracy'])\n",
    "# reduce_lr = keras.callbacks.ReduceLROnPlateau(monitor='val_loss', factor=0.2,\n",
    "#                               patience=5, min_lr=0.001)\n",
    "monitor = keras.callbacks.EarlyStopping(monitor='val_loss', min_delta=1e-4, \n",
    "        patience=30, verbose=1, mode='auto',\n",
    "        restore_best_weights=True)"
   ]
  },
  {
   "cell_type": "code",
   "execution_count": 107,
   "metadata": {},
   "outputs": [
    {
     "name": "stdout",
     "output_type": "stream",
     "text": [
      "Epoch 1/1000\n"
     ]
    },
    {
     "name": "stderr",
     "output_type": "stream",
     "text": [
      "2021-12-07 12:50:01.610493: I tensorflow/core/grappler/optimizers/custom_graph_optimizer_registry.cc:112] Plugin optimizer for device_type GPU is enabled.\n"
     ]
    },
    {
     "name": "stdout",
     "output_type": "stream",
     "text": [
      "226/226 - 1s - loss: 1.1263 - accuracy: 0.0000e+00 - val_loss: 1.0166 - val_accuracy: 0.0000e+00\n"
     ]
    },
    {
     "name": "stderr",
     "output_type": "stream",
     "text": [
      "2021-12-07 12:50:02.391905: I tensorflow/core/grappler/optimizers/custom_graph_optimizer_registry.cc:112] Plugin optimizer for device_type GPU is enabled.\n"
     ]
    },
    {
     "name": "stdout",
     "output_type": "stream",
     "text": [
      "Epoch 2/1000\n",
      "226/226 - 1s - loss: 0.9961 - accuracy: 0.0000e+00 - val_loss: 1.0165 - val_accuracy: 0.0000e+00\n",
      "Epoch 3/1000\n",
      "226/226 - 1s - loss: 0.9960 - accuracy: 0.0000e+00 - val_loss: 1.0164 - val_accuracy: 0.0000e+00\n",
      "Epoch 4/1000\n",
      "226/226 - 1s - loss: 0.9960 - accuracy: 0.0000e+00 - val_loss: 1.0164 - val_accuracy: 0.0000e+00\n",
      "Epoch 5/1000\n",
      "226/226 - 1s - loss: 0.9960 - accuracy: 0.0000e+00 - val_loss: 1.0164 - val_accuracy: 0.0000e+00\n",
      "Epoch 6/1000\n",
      "226/226 - 1s - loss: 0.9960 - accuracy: 0.0000e+00 - val_loss: 1.0165 - val_accuracy: 0.0000e+00\n",
      "Epoch 7/1000\n",
      "226/226 - 1s - loss: 0.9961 - accuracy: 0.0000e+00 - val_loss: 1.0164 - val_accuracy: 0.0000e+00\n",
      "Epoch 8/1000\n",
      "226/226 - 1s - loss: 0.9960 - accuracy: 0.0000e+00 - val_loss: 1.0164 - val_accuracy: 0.0000e+00\n",
      "Epoch 9/1000\n",
      "226/226 - 1s - loss: 0.9960 - accuracy: 0.0000e+00 - val_loss: 1.0164 - val_accuracy: 0.0000e+00\n",
      "Epoch 10/1000\n",
      "226/226 - 1s - loss: 0.9961 - accuracy: 0.0000e+00 - val_loss: 1.0164 - val_accuracy: 0.0000e+00\n",
      "Epoch 11/1000\n",
      "226/226 - 1s - loss: 0.9961 - accuracy: 0.0000e+00 - val_loss: 1.0164 - val_accuracy: 0.0000e+00\n",
      "Epoch 12/1000\n",
      "226/226 - 1s - loss: 0.9960 - accuracy: 0.0000e+00 - val_loss: 1.0165 - val_accuracy: 0.0000e+00\n",
      "Epoch 13/1000\n",
      "226/226 - 1s - loss: 0.9961 - accuracy: 0.0000e+00 - val_loss: 1.0164 - val_accuracy: 0.0000e+00\n",
      "Epoch 14/1000\n",
      "226/226 - 1s - loss: 0.9960 - accuracy: 0.0000e+00 - val_loss: 1.0164 - val_accuracy: 0.0000e+00\n",
      "Epoch 15/1000\n",
      "226/226 - 1s - loss: 0.9961 - accuracy: 0.0000e+00 - val_loss: 1.0164 - val_accuracy: 0.0000e+00\n",
      "Epoch 16/1000\n",
      "226/226 - 1s - loss: 0.9960 - accuracy: 0.0000e+00 - val_loss: 1.0164 - val_accuracy: 0.0000e+00\n",
      "Epoch 17/1000\n",
      "226/226 - 1s - loss: 0.9961 - accuracy: 0.0000e+00 - val_loss: 1.0164 - val_accuracy: 0.0000e+00\n",
      "Epoch 18/1000\n",
      "226/226 - 1s - loss: 0.9960 - accuracy: 0.0000e+00 - val_loss: 1.0164 - val_accuracy: 0.0000e+00\n",
      "Epoch 19/1000\n",
      "226/226 - 1s - loss: 0.9960 - accuracy: 0.0000e+00 - val_loss: 1.0164 - val_accuracy: 0.0000e+00\n",
      "Epoch 20/1000\n",
      "226/226 - 1s - loss: 0.9960 - accuracy: 0.0000e+00 - val_loss: 1.0165 - val_accuracy: 0.0000e+00\n",
      "Epoch 21/1000\n",
      "226/226 - 1s - loss: 0.9960 - accuracy: 0.0000e+00 - val_loss: 1.0165 - val_accuracy: 0.0000e+00\n",
      "Epoch 22/1000\n",
      "226/226 - 1s - loss: 0.9959 - accuracy: 0.0000e+00 - val_loss: 1.0163 - val_accuracy: 0.0000e+00\n",
      "Epoch 23/1000\n",
      "226/226 - 1s - loss: 0.9961 - accuracy: 0.0000e+00 - val_loss: 1.0164 - val_accuracy: 0.0000e+00\n",
      "Epoch 24/1000\n",
      "226/226 - 1s - loss: 0.9961 - accuracy: 0.0000e+00 - val_loss: 1.0165 - val_accuracy: 0.0000e+00\n",
      "Epoch 25/1000\n",
      "226/226 - 1s - loss: 0.9961 - accuracy: 0.0000e+00 - val_loss: 1.0164 - val_accuracy: 0.0000e+00\n",
      "Epoch 26/1000\n",
      "226/226 - 1s - loss: 0.9960 - accuracy: 0.0000e+00 - val_loss: 1.0165 - val_accuracy: 0.0000e+00\n",
      "Epoch 27/1000\n",
      "226/226 - 1s - loss: 0.9961 - accuracy: 0.0000e+00 - val_loss: 1.0165 - val_accuracy: 0.0000e+00\n",
      "Epoch 28/1000\n",
      "226/226 - 1s - loss: 0.9960 - accuracy: 0.0000e+00 - val_loss: 1.0165 - val_accuracy: 0.0000e+00\n",
      "Epoch 29/1000\n",
      "226/226 - 1s - loss: 0.9960 - accuracy: 0.0000e+00 - val_loss: 1.0164 - val_accuracy: 0.0000e+00\n",
      "Epoch 30/1000\n",
      "226/226 - 1s - loss: 0.9960 - accuracy: 0.0000e+00 - val_loss: 1.0164 - val_accuracy: 0.0000e+00\n",
      "Epoch 31/1000\n",
      "226/226 - 1s - loss: 0.9961 - accuracy: 0.0000e+00 - val_loss: 1.0164 - val_accuracy: 0.0000e+00\n",
      "Epoch 32/1000\n",
      "226/226 - 1s - loss: 0.9960 - accuracy: 0.0000e+00 - val_loss: 1.0165 - val_accuracy: 0.0000e+00\n",
      "Epoch 33/1000\n",
      "226/226 - 1s - loss: 0.9960 - accuracy: 0.0000e+00 - val_loss: 1.0164 - val_accuracy: 0.0000e+00\n",
      "Epoch 34/1000\n",
      "226/226 - 1s - loss: 0.9960 - accuracy: 0.0000e+00 - val_loss: 1.0165 - val_accuracy: 0.0000e+00\n",
      "Epoch 35/1000\n",
      "226/226 - 1s - loss: 0.9961 - accuracy: 0.0000e+00 - val_loss: 1.0164 - val_accuracy: 0.0000e+00\n",
      "Epoch 36/1000\n",
      "226/226 - 1s - loss: 0.9960 - accuracy: 0.0000e+00 - val_loss: 1.0166 - val_accuracy: 0.0000e+00\n",
      "Epoch 37/1000\n",
      "226/226 - 1s - loss: 0.9961 - accuracy: 0.0000e+00 - val_loss: 1.0165 - val_accuracy: 0.0000e+00\n",
      "Epoch 38/1000\n",
      "226/226 - 1s - loss: 0.9960 - accuracy: 0.0000e+00 - val_loss: 1.0165 - val_accuracy: 0.0000e+00\n",
      "Epoch 39/1000\n",
      "226/226 - 1s - loss: 0.9961 - accuracy: 0.0000e+00 - val_loss: 1.0165 - val_accuracy: 0.0000e+00\n",
      "Epoch 40/1000\n",
      "226/226 - 1s - loss: 0.9961 - accuracy: 0.0000e+00 - val_loss: 1.0165 - val_accuracy: 0.0000e+00\n",
      "Epoch 41/1000\n",
      "226/226 - 1s - loss: 0.9960 - accuracy: 0.0000e+00 - val_loss: 1.0165 - val_accuracy: 0.0000e+00\n",
      "Epoch 42/1000\n",
      "226/226 - 1s - loss: 0.9961 - accuracy: 0.0000e+00 - val_loss: 1.0165 - val_accuracy: 0.0000e+00\n",
      "Epoch 43/1000\n",
      "226/226 - 1s - loss: 0.9961 - accuracy: 0.0000e+00 - val_loss: 1.0165 - val_accuracy: 0.0000e+00\n",
      "Epoch 44/1000\n",
      "226/226 - 1s - loss: 0.9961 - accuracy: 0.0000e+00 - val_loss: 1.0164 - val_accuracy: 0.0000e+00\n",
      "Epoch 45/1000\n",
      "226/226 - 1s - loss: 0.9961 - accuracy: 0.0000e+00 - val_loss: 1.0164 - val_accuracy: 0.0000e+00\n",
      "Epoch 46/1000\n",
      "226/226 - 1s - loss: 0.9960 - accuracy: 0.0000e+00 - val_loss: 1.0165 - val_accuracy: 0.0000e+00\n",
      "Epoch 47/1000\n",
      "226/226 - 1s - loss: 0.9960 - accuracy: 0.0000e+00 - val_loss: 1.0165 - val_accuracy: 0.0000e+00\n",
      "Epoch 48/1000\n",
      "226/226 - 1s - loss: 0.9961 - accuracy: 0.0000e+00 - val_loss: 1.0165 - val_accuracy: 0.0000e+00\n",
      "Epoch 49/1000\n",
      "226/226 - 1s - loss: 0.9960 - accuracy: 0.0000e+00 - val_loss: 1.0165 - val_accuracy: 0.0000e+00\n",
      "Epoch 50/1000\n",
      "226/226 - 1s - loss: 0.9961 - accuracy: 0.0000e+00 - val_loss: 1.0164 - val_accuracy: 0.0000e+00\n",
      "Epoch 51/1000\n",
      "226/226 - 1s - loss: 0.9961 - accuracy: 0.0000e+00 - val_loss: 1.0164 - val_accuracy: 0.0000e+00\n",
      "Epoch 52/1000\n",
      "226/226 - 1s - loss: 0.9960 - accuracy: 0.0000e+00 - val_loss: 1.0165 - val_accuracy: 0.0000e+00\n",
      "Restoring model weights from the end of the best epoch.\n",
      "Epoch 00052: early stopping\n"
     ]
    }
   ],
   "source": [
    "history = model.fit(train_x, train_y, epochs=1000,validation_data=(test_x, test_y),callbacks=[monitor], verbose=2)"
   ]
  },
  {
   "cell_type": "code",
   "execution_count": 102,
   "metadata": {},
   "outputs": [
    {
     "name": "stdout",
     "output_type": "stream",
     "text": [
      "INFO:tensorflow:Assets written to: /Users/michaelsong/Documents/GitHub/starzam/Models/m3.1/assets\n"
     ]
    }
   ],
   "source": [
    "model.save('/Users/michaelsong/Documents/GitHub/starzam/Models/m3.1')"
   ]
  },
  {
   "cell_type": "code",
   "execution_count": 108,
   "metadata": {},
   "outputs": [
    {
     "name": "stderr",
     "output_type": "stream",
     "text": [
      "2021-12-07 12:50:49.572538: I tensorflow/core/grappler/optimizers/custom_graph_optimizer_registry.cc:112] Plugin optimizer for device_type GPU is enabled.\n",
      "2021-12-07 12:50:49.709142: I tensorflow/core/grappler/optimizers/custom_graph_optimizer_registry.cc:112] Plugin optimizer for device_type GPU is enabled.\n"
     ]
    },
    {
     "name": "stdout",
     "output_type": "stream",
     "text": [
      "(1808,) (7232,)\n",
      "[-0.00432453 -0.00432453 -0.00432453 ... -0.00432453 -0.00432453\n",
      " -0.00432453]\n",
      "[-0.85443074  0.55596507 -0.38148364 ...  0.589747    0.68264735\n",
      " -1.8087704 ]\n"
     ]
    }
   ],
   "source": [
    "\n",
    "pred_test_y = model.predict(test_x).reshape(-1)\n",
    "pred_train_y = model.predict(train_x).reshape(-1)\n",
    "print(pred_test_y.shape,pred_train_y.shape)\n",
    "print(pred_train_y)\n",
    "print(train_y)"
   ]
  },
  {
   "cell_type": "markdown",
   "metadata": {},
   "source": []
  },
  {
   "cell_type": "code",
   "execution_count": 109,
   "metadata": {},
   "outputs": [
    {
     "data": {
      "image/png": "[encoded data removed]",
      "text/plain": [
       "<Figure size 432x288 with 1 Axes>"
      ]
     },
     "metadata": {
      "needs_background": "light"
     },
     "output_type": "display_data"
    }
   ],
   "source": [
    "plt.scatter(train_y,pred_train_y, c='red', alpha=0.5,s=1)\n",
    "\n",
    "plt.scatter(test_y,pred_test_y, c='blue', alpha=0.5,s=1)\n",
    "\n",
    "linex = np.linspace(-1,1)\n",
    "liney = linex\n",
    "# Create the plot\n",
    "plt.plot(linex, liney,c=\"green\")\n",
    "\n",
    "plt.xlim(-1, 1)\n",
    "plt.ylim(-1, 1)\n",
    "plt.gca().set_aspect('equal', adjustable='box')\n",
    "plt.show()"
   ]
  },
  {
   "cell_type": "code",
   "execution_count": 52,
   "metadata": {},
   "outputs": [],
   "source": [
    "def normalize1D(data):\n",
    "    return np.divide(np.nan_to_num(data,np.nanmean(data)),np.nanmax(data))"
   ]
  },
  {
   "cell_type": "code",
   "execution_count": 53,
   "metadata": {},
   "outputs": [
    {
     "name": "stdout",
     "output_type": "stream",
     "text": [
      "Mean Sq. Error, Mean Abs. Error\n",
      "0.10061478 0.090107165\n"
     ]
    }
   ],
   "source": [
    "mse = np.sqrt(mean_squared_error(normalize1D(test_y),normalize1D(pred_test_y)))\n",
    "mae = mean_absolute_error(normalize1D(test_y),normalize1D(pred_test_y))\n",
    "print(\"Mean Sq. Error, Mean Abs. Error\")\n",
    "print(mse,mae)"
   ]
  },
  {
   "cell_type": "code",
   "execution_count": null,
   "metadata": {},
   "outputs": [],
   "source": []
  }
 ],
 "metadata": {
  "interpreter": {
   "hash": "47065cae1920ebace9a059c93d67134c9a065e51e3ecb9809a1abf9fcf371550"
  },
  "kernelspec": {
   "display_name": "Python 3.9.7 64-bit ('base': conda)",
   "name": "python3"
  },
  "language_info": {
   "codemirror_mode": {
    "name": "ipython",
    "version": 3
   },
   "file_extension": ".py",
   "mimetype": "text/x-python",
   "name": "python",
   "nbconvert_exporter": "python",
   "pygments_lexer": "ipython3",
   "version": "3.9.7"
  },
  "orig_nbformat": 4
 },
 "nbformat": 4,
 "nbformat_minor": 2
}
