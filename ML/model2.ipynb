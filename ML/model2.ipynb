{
 "cells": [
  {
   "cell_type": "markdown",
   "metadata": {},
   "source": [
    "# Import"
   ]
  },
  {
   "cell_type": "code",
   "execution_count": 32,
   "metadata": {},
   "outputs": [],
   "source": [
    "import os\n",
    "import numpy as np\n",
    "\n",
    "from astropy.io import fits\n",
    "from matplotlib import pyplot as plt\n",
    "import numpy as np\n",
    "import lightkurve as lk\n",
    "from astroquery.simbad import Simbad\n",
    "import pandas as pd \n",
    "from numpy import genfromtxt\n",
    "from sklearn.preprocessing import normalize\n",
    "\n",
    "# #tf\n",
    "from __future__ import absolute_import, division, print_function, unicode_literals\n",
    "import tensorflow as tf\n",
    "from tensorflow import keras\n",
    "from tensorflow.keras import datasets, layers, models\n",
    "\n",
    "\n",
    "from sklearn.model_selection import train_test_split\n",
    "from sklearn.linear_model import LinearRegression\n",
    "from sklearn.metrics import r2_score, mean_squared_error, mean_absolute_error\n",
    "\n"
   ]
  },
  {
   "cell_type": "markdown",
   "metadata": {},
   "source": [
    "## Check GPU"
   ]
  },
  {
   "cell_type": "code",
   "execution_count": 33,
   "metadata": {},
   "outputs": [
    {
     "name": "stdout",
     "output_type": "stream",
     "text": [
      "[PhysicalDevice(name='/physical_device:CPU:0', device_type='CPU'), PhysicalDevice(name='/physical_device:GPU:0', device_type='GPU')]\n"
     ]
    }
   ],
   "source": [
    "devices = tf.config.list_physical_devices()\n",
    "print(devices)"
   ]
  },
  {
   "cell_type": "markdown",
   "metadata": {},
   "source": [
    "# Import Data"
   ]
  },
  {
   "cell_type": "code",
   "execution_count": 34,
   "metadata": {},
   "outputs": [
    {
     "data": {
      "text/plain": [
       "(122, 241)"
      ]
     },
     "execution_count": 34,
     "metadata": {},
     "output_type": "execute_result"
    }
   ],
   "source": [
    "pd.read_csv('/Users/michaelsong/Documents/GitHub/starzam/Data_v4/0.csv',delimiter=',').to_numpy().shape"
   ]
  },
  {
   "cell_type": "code",
   "execution_count": 35,
   "metadata": {},
   "outputs": [
    {
     "name": "stdout",
     "output_type": "stream",
     "text": [
      "(118275, 240)\n"
     ]
    }
   ],
   "source": [
    "all_data = np.empty((1,241))\n",
    "for i in range(1609):\n",
    "  try:\n",
    "    all_data = np.concatenate((all_data,pd.read_csv('/Users/michaelsong/Documents/GitHub/starzam/Data_v4/'+str(i)+'.csv',delimiter=',').to_numpy()), axis=0)\n",
    "  except:\n",
    "    continue\n",
    "all_data = all_data[1:].T[1:].T\n",
    "print(all_data.shape)\n",
    "# pd.read_csv('/content/drive/MyDrive/Research - Yihong Song and Rohit Prasanna/Yihong/Data_v2/0.csv',delimiter=',').to_numpy"
   ]
  },
  {
   "cell_type": "code",
   "execution_count": 36,
   "metadata": {},
   "outputs": [
    {
     "name": "stdout",
     "output_type": "stream",
     "text": [
      "[[7.57137000e+05 4.75100000e+03 2.38300000e+00 ... 2.84220046e-01\n",
      "  1.98787545e-01 3.52143589e-01]\n",
      " [7.57137000e+05 4.75100000e+03 2.38300000e+00 ... 9.00410425e-02\n",
      "  2.38116041e-01 1.33820551e-01]\n",
      " [7.57137000e+05 4.75100000e+03 2.38300000e+00 ... 6.99888643e-02\n",
      "  1.28790969e-01 2.76750793e-01]\n",
      " ...\n",
      " [8.30808800e+06 4.99700000e+03 2.45100000e+00 ... 2.34775012e-01\n",
      "  2.51182545e-01 3.80207551e-01]\n",
      " [8.30808800e+06 4.99700000e+03 2.45100000e+00 ... 4.67198095e-01\n",
      "  6.04519005e-01 4.36849193e-01]\n",
      " [8.30808800e+06 4.99700000e+03 2.45100000e+00 ... 2.78912311e-01\n",
      "  5.13806219e-01 5.93205561e-02]]\n",
      "[4751. 4751. 4751. ... 4997. 4997. 4997.]\n"
     ]
    }
   ],
   "source": [
    "print(all_data)\n",
    "print(all_data.T[1])"
   ]
  },
  {
   "cell_type": "code",
   "execution_count": 37,
   "metadata": {},
   "outputs": [],
   "source": [
    "def isolate_observations(data):\n",
    "    kic = 0\n",
    "    res = np.empty((1,474))\n",
    "    for i in range(len(data)):\n",
    "        if(data[i][0]!=kic):\n",
    "            kic = data[i][0]\n",
    "            res = np.vstack((res,data[i]))\n",
    "    return res\n",
    "\n",
    "# iso_data = isolate_observations(all_data).T[:10].T\n",
    "# print(iso_data)"
   ]
  },
  {
   "cell_type": "code",
   "execution_count": 38,
   "metadata": {},
   "outputs": [
    {
     "name": "stdout",
     "output_type": "stream",
     "text": [
      "(118275, 236) (118275, 3)\n",
      "(118275,)\n",
      "[4751. 4751. 4751. ... 4997. 4997. 4997.]\n",
      "[ 1.          8.43454255  3.81606884  5.60029841  4.00062612  1.87763442\n",
      "  6.60502431  1.75453517  2.03889624  2.15967502  6.61839709 10.96603738\n",
      "  1.00941128 11.83732916  6.832062    2.11275395  0.68517313  2.80103935\n",
      "  3.12226637  2.10477594  6.60518561  0.61505648  2.00240753  3.97648499\n",
      "  1.3740333   1.3024308   2.02690753  1.48491184  1.63691857  1.22361546\n",
      "  2.55480434  1.85227138  0.76009708  0.77010233  0.35528595  1.09636679\n",
      "  0.89292322  1.34251061  0.63681166  0.43798736  1.08026908  0.28756933\n",
      "  0.23743421  0.18253782  0.52691456  0.34023662  0.32434848  0.73180473\n",
      "  0.15601266  0.71085421  0.67786938  0.25223334  0.57520825  0.52608914\n",
      "  0.17351905  0.61305125  0.5747885   0.35867008  0.50785905  0.28822274\n",
      "  0.18542083  0.72036011  0.74996212  0.78635087  0.37852229  0.35192467\n",
      "  0.29241703  0.1940635   0.62021354  0.59715896  0.32950041  0.48906543\n",
      "  0.57471503  0.23230492  0.60162748  0.24766141  0.32702928  0.24256991\n",
      "  0.30468094  0.40705864  0.32715655  0.47648729  0.44196043  0.20664143\n",
      "  0.26055127  0.1521962   0.32112873  0.0556783   0.25808449  0.30947882\n",
      "  0.70942211  0.18514628  0.24799438  0.66512354  0.20218391  0.22001476\n",
      "  0.27285095  0.3043981   0.3540561   0.41390563  0.01623525  0.24527845\n",
      "  0.28696827  0.44562306  0.12017195  0.23272139  0.09176672  0.28165604\n",
      "  0.50921641  0.39942544  0.15169818  0.32145159  0.41384215  0.40426793\n",
      "  0.19737412  0.05854984  0.54912784  0.13429385  0.10292007  0.28684851\n",
      "  0.2279082   0.19700016  0.19807364  0.10154655  0.3723095   0.23054352\n",
      "  0.11187988  0.04613397  0.30371471  0.18638318  0.13698157  0.26731481\n",
      "  0.15957712  0.06430061  0.22279994  0.03335533  0.34770177  0.45346118\n",
      "  0.24245798  0.24345653  0.18674059  0.0560869   0.20252893  0.08063438\n",
      "  0.099874    0.15943884  0.17472676  0.20465984  0.13982924  0.18720254\n",
      "  0.2278616   0.16430397  0.11064984  0.22117031  0.13862863  0.07643076\n",
      "  0.16981143  0.09443056  0.05025029  0.23947595  0.62542794  0.18802965\n",
      "  0.28934301  0.10827315  0.35985057  0.26365351  0.12928662  0.06421292\n",
      "  0.18123896  0.20829646  0.43309818  0.12338185  0.23378005  0.2083231\n",
      "  0.16500231  0.26854086  0.15062851  0.29331224  0.04807093  0.19236744\n",
      "  0.06619385  0.2883909   0.14670664  0.24783862  0.38334304  0.02410591\n",
      "  0.32547413  0.18967174  0.09593245  0.0645886   0.14217064  0.11807368\n",
      "  0.25582556  0.28396923  0.41065139  0.28435925  0.20931929  0.14561523\n",
      "  0.18882135  0.13037153  0.19008703  0.12030318  0.03087585  0.14130879\n",
      "  0.2217754   0.22300867  0.16113261  0.38193591  0.18890735  0.25987811\n",
      "  0.14035614  0.03953427  0.29424736  0.12389629  0.134572    0.12749119\n",
      "  0.16733794  0.45404825  0.16267293  0.17872833  0.1848355   0.24161194\n",
      "  0.1093464   0.23174849  0.19689392  0.09961603  0.2789789   0.24963421\n",
      "  0.21532189  0.33036912  0.13753788  0.0227194   0.26678007  0.09004104\n",
      "  0.23811604  0.13382055]\n"
     ]
    }
   ],
   "source": [
    "def extract_xy(all_data):\n",
    "    all_x = all_data.T[4:241].T\n",
    "    all_y = all_data.T[1:4].T\n",
    "    print(all_x.shape,all_y.shape)\n",
    "    teff_y = all_y.T[0].T\n",
    "    print(teff_y.shape)\n",
    "    print(teff_y)\n",
    "    print(all_x[1])\n",
    "    return all_x,teff_y\n",
    "\n",
    "all_x,teff_y = extract_xy(all_data)"
   ]
  },
  {
   "cell_type": "code",
   "execution_count": 39,
   "metadata": {},
   "outputs": [],
   "source": [
    "def normalize_with_moments(X_train, axes=0, epsilon=1e-8,keep_dims=True):\n",
    "    x = tf.convert_to_tensor(X_train)\n",
    "    mean, variance = tf.nn.moments(x, axes=axes)\n",
    "    x_normed = (x - mean) / tf.sqrt(variance + epsilon) # epsilon to avoid dividing by zero\n",
    "    return x_normed\n",
    "\n",
    "def normalize_x(x):\n",
    "    x = x.T\n",
    "    for i in range(len(x)):\n",
    "        x[i] = x[i] / np.linalg.norm(x[i])\n",
    "    return x.T"
   ]
  },
  {
   "cell_type": "code",
   "execution_count": 40,
   "metadata": {},
   "outputs": [],
   "source": [
    "# teff_y = normalize_with_moments(teff_y).numpy()\n",
    "# all_x = normalize_x(all_x)\n",
    "# print(teff_y)\n",
    "# print(all_x)"
   ]
  },
  {
   "cell_type": "code",
   "execution_count": 41,
   "metadata": {},
   "outputs": [
    {
     "name": "stdout",
     "output_type": "stream",
     "text": [
      "[ 1.          8.43454255  3.81606884  5.60029841  4.00062612  1.87763442\n",
      "  6.60502431  1.75453517  2.03889624  2.15967502  6.61839709 10.96603738\n",
      "  1.00941128 11.83732916  6.832062    2.11275395  0.68517313  2.80103935\n",
      "  3.12226637  2.10477594  6.60518561  0.61505648  2.00240753  3.97648499\n",
      "  1.3740333   1.3024308   2.02690753  1.48491184  1.63691857  1.22361546\n",
      "  2.55480434  1.85227138  0.76009708  0.77010233  0.35528595  1.09636679\n",
      "  0.89292322  1.34251061  0.63681166  0.43798736  1.08026908  0.28756933\n",
      "  0.23743421  0.18253782  0.52691456  0.34023662  0.32434848  0.73180473\n",
      "  0.15601266  0.71085421  0.67786938  0.25223334  0.57520825  0.52608914\n",
      "  0.17351905  0.61305125  0.5747885   0.35867008  0.50785905  0.28822274\n",
      "  0.18542083  0.72036011  0.74996212  0.78635087  0.37852229  0.35192467\n",
      "  0.29241703  0.1940635   0.62021354  0.59715896  0.32950041  0.48906543\n",
      "  0.57471503  0.23230492  0.60162748  0.24766141  0.32702928  0.24256991\n",
      "  0.30468094  0.40705864  0.32715655  0.47648729  0.44196043  0.20664143\n",
      "  0.26055127  0.1521962   0.32112873  0.0556783   0.25808449  0.30947882\n",
      "  0.70942211  0.18514628  0.24799438  0.66512354  0.20218391  0.22001476\n",
      "  0.27285095  0.3043981   0.3540561   0.41390563  0.01623525  0.24527845\n",
      "  0.28696827  0.44562306  0.12017195  0.23272139  0.09176672  0.28165604\n",
      "  0.50921641  0.39942544  0.15169818  0.32145159  0.41384215  0.40426793\n",
      "  0.19737412  0.05854984  0.54912784  0.13429385  0.10292007  0.28684851\n",
      "  0.2279082   0.19700016  0.19807364  0.10154655  0.3723095   0.23054352\n",
      "  0.11187988  0.04613397  0.30371471  0.18638318  0.13698157  0.26731481\n",
      "  0.15957712  0.06430061  0.22279994  0.03335533  0.34770177  0.45346118\n",
      "  0.24245798  0.24345653  0.18674059  0.0560869   0.20252893  0.08063438\n",
      "  0.099874    0.15943884  0.17472676  0.20465984  0.13982924  0.18720254\n",
      "  0.2278616   0.16430397  0.11064984  0.22117031  0.13862863  0.07643076\n",
      "  0.16981143  0.09443056  0.05025029  0.23947595  0.62542794  0.18802965\n",
      "  0.28934301  0.10827315  0.35985057  0.26365351  0.12928662  0.06421292\n",
      "  0.18123896  0.20829646  0.43309818  0.12338185  0.23378005  0.2083231\n",
      "  0.16500231  0.26854086  0.15062851  0.29331224  0.04807093  0.19236744\n",
      "  0.06619385  0.2883909   0.14670664  0.24783862  0.38334304  0.02410591\n",
      "  0.32547413  0.18967174  0.09593245  0.0645886   0.14217064  0.11807368\n",
      "  0.25582556  0.28396923  0.41065139  0.28435925  0.20931929  0.14561523\n",
      "  0.18882135  0.13037153  0.19008703  0.12030318  0.03087585  0.14130879\n",
      "  0.2217754   0.22300867  0.16113261  0.38193591  0.18890735  0.25987811\n",
      "  0.14035614  0.03953427  0.29424736  0.12389629  0.134572    0.12749119\n",
      "  0.16733794  0.45404825  0.16267293  0.17872833  0.1848355   0.24161194\n",
      "  0.1093464   0.23174849  0.19689392  0.09961603  0.2789789   0.24963421\n",
      "  0.21532189  0.33036912  0.13753788  0.0227194   0.26678007  0.09004104\n",
      "  0.23811604  0.13382055]\n"
     ]
    }
   ],
   "source": [
    "print(all_x[1])"
   ]
  },
  {
   "cell_type": "markdown",
   "metadata": {},
   "source": [
    "# Machine Learning"
   ]
  },
  {
   "cell_type": "code",
   "execution_count": 42,
   "metadata": {},
   "outputs": [
    {
     "name": "stdout",
     "output_type": "stream",
     "text": [
      "(94620, 236) (23655, 236) (94620,) (23655,)\n",
      "(94620, 236) (23655, 236) (94620,) (23655,)\n"
     ]
    }
   ],
   "source": [
    "train_x,test_x,train_y,test_y=train_test_split(all_x, teff_y, test_size=0.20, random_state=42)\n",
    "print(train_x.shape,test_x.shape,train_y.shape,test_y.shape)\n",
    "train_x = np.asarray(train_x).astype('float32')\n",
    "test_x = np.asarray(test_x).astype('float32')\n",
    "train_y = np.asarray(train_y).astype('float32')\n",
    "test_y = np.asarray(test_y).astype('float32')\n",
    "print(train_x.shape,test_x.shape,train_y.shape,test_y.shape)"
   ]
  },
  {
   "cell_type": "code",
   "execution_count": 43,
   "metadata": {},
   "outputs": [
    {
     "name": "stdout",
     "output_type": "stream",
     "text": [
      "Model: \"sequential\"\n",
      "_________________________________________________________________\n",
      "Layer (type)                 Output Shape              Param #   \n",
      "=================================================================\n",
      "dense (Dense)                (None, 2048)              485376    \n",
      "_________________________________________________________________\n",
      "dense_1 (Dense)              (None, 1024)              2098176   \n",
      "_________________________________________________________________\n",
      "dense_2 (Dense)              (None, 1024)              1049600   \n",
      "_________________________________________________________________\n",
      "dense_3 (Dense)              (None, 1024)              1049600   \n",
      "_________________________________________________________________\n",
      "dense_4 (Dense)              (None, 512)               524800    \n",
      "_________________________________________________________________\n",
      "dense_5 (Dense)              (None, 512)               262656    \n",
      "_________________________________________________________________\n",
      "dense_6 (Dense)              (None, 256)               131328    \n",
      "_________________________________________________________________\n",
      "dense_7 (Dense)              (None, 256)               65792     \n",
      "_________________________________________________________________\n",
      "dense_8 (Dense)              (None, 128)               32896     \n",
      "_________________________________________________________________\n",
      "dense_9 (Dense)              (None, 128)               16512     \n",
      "_________________________________________________________________\n",
      "dense_10 (Dense)             (None, 32)                4128      \n",
      "_________________________________________________________________\n",
      "dense_11 (Dense)             (None, 4)                 132       \n",
      "_________________________________________________________________\n",
      "dense_12 (Dense)             (None, 2)                 10        \n",
      "_________________________________________________________________\n",
      "dense_13 (Dense)             (None, 1)                 3         \n",
      "=================================================================\n",
      "Total params: 5,721,009\n",
      "Trainable params: 5,721,009\n",
      "Non-trainable params: 0\n",
      "_________________________________________________________________\n"
     ]
    },
    {
     "name": "stderr",
     "output_type": "stream",
     "text": [
      "2021-12-16 21:38:53.624727: I tensorflow/core/common_runtime/pluggable_device/pluggable_device_factory.cc:305] Could not identify NUMA node of platform GPU ID 0, defaulting to 0. Your kernel may not have been built with NUMA support.\n",
      "2021-12-16 21:38:53.624753: I tensorflow/core/common_runtime/pluggable_device/pluggable_device_factory.cc:271] Created TensorFlow device (/device:GPU:0 with 0 MB memory) -> physical PluggableDevice (device: 0, name: METAL, pci bus id: <undefined>)\n"
     ]
    }
   ],
   "source": [
    "tf.test.gpu_device_name() # No GPU Sad :v\n",
    "# tf.config.optimizer.set_jit(True)\n",
    "keras.backend.clear_session()\n",
    "# model = models.Sequential()\n",
    "\n",
    "# model.add(layers.Conv1D(1024, 1, activation='relu',batch_input_shape=train_x.shape))\n",
    "# model.add(layers.Dense(128))\n",
    "# model.add(layers.Conv1D(32, 1, activation='relu'))\n",
    "# model.add(layers.Dense(1,activation=\"sigmoid\"))\n",
    "\n",
    "# model.summary()\n",
    "model = models.Sequential()\n",
    "#model.add(layers.Conv1D(filters=16, kernel_size=1, activation='relu', batch_input_shape=(train_x.shape)))\n",
    "\n",
    "#model.add(layers.Embedding(input_dim=64, output_dim=16))\n",
    "#model.add(layers.LSTM(128,dr\n",
    "# opout=0.2,recurrent_dropout=0.2,input_dim=(train_x.shape[2])))\n",
    "#model.add(layers.Conv1D(1024,1,activation='relu',input_shape=(train_x.shape)))\n",
    "#model.add(layers.Conv1D(256,1,activation='relu'))\n",
    "model.add(layers.Dense(2048, activation=\"relu\", input_shape=((236,))))\n",
    "model.add(layers.Dense(1024, activation=\"relu\"))\n",
    "model.add(layers.Dense(1024, activation=\"relu\"))\n",
    "model.add(layers.Dense(1024, activation=\"relu\"))\n",
    "model.add(layers.Dense(512, activation=\"relu\"))\n",
    "model.add(layers.Dense(512, activation=\"relu\"))\n",
    "model.add(layers.Dense(256, activation=\"relu\"))\n",
    "model.add(layers.Dense(256, activation=\"relu\"))\n",
    "model.add(layers.Dense(128, activation=\"relu\"))\n",
    "model.add(layers.Dense(128, activation=\"relu\"))\n",
    "model.add(layers.Dense(32, activation=\"relu\"))\n",
    "model.add(layers.Dense(4, activation=\"relu\"))\n",
    "model.add(layers.Dense(2, activation=\"relu\"))\n",
    "model.add(layers.Dense(1))\n",
    "model.summary()"
   ]
  },
  {
   "cell_type": "code",
   "execution_count": 44,
   "metadata": {},
   "outputs": [],
   "source": [
    "model.compile(optimizer='adam', loss='mse', metrics=['accuracy'])\n",
    "# reduce_lr = keras.callbacks.ReduceLROnPlateau(monitor='val_loss', factor=0.2,\n",
    "#                               patience=5, min_lr=0.001)\n",
    "# monitor = keras.callbacks.EarlyStopping(monitor='val_loss', min_delta=1e-4, \n",
    "#         patience=10, verbose=1, mode='auto',\n",
    "#         restore_best_weights=True)\n",
    "\n",
    "# def on_epoch_end(self, epoch, logs={}):\n",
    "#     if(logs.get('loss') <= 15000):\n",
    "#         print(\"\\n\\n\\nReached 0.05 loss value so cancelling training!\\n\\n\\n\")\n",
    "#         model.stop_training = True\n",
    "\n",
    "\n",
    "# trainingStopCallback = on_epoch_end()\n"
   ]
  },
  {
   "cell_type": "code",
   "execution_count": 47,
   "metadata": {},
   "outputs": [
    {
     "name": "stdout",
     "output_type": "stream",
     "text": [
      "Epoch 1/150\n"
     ]
    },
    {
     "name": "stderr",
     "output_type": "stream",
     "text": [
      "2021-12-16 21:40:46.813041: I tensorflow/core/grappler/optimizers/custom_graph_optimizer_registry.cc:112] Plugin optimizer for device_type GPU is enabled.\n"
     ]
    },
    {
     "name": "stdout",
     "output_type": "stream",
     "text": [
      "2957/2957 - 30s - loss: 148370.4375 - accuracy: 0.0000e+00 - val_loss: 77086.2578 - val_accuracy: 0.0000e+00\n",
      "Epoch 2/150\n",
      "2957/2957 - 30s - loss: 377902.8125 - accuracy: 0.0000e+00 - val_loss: 50263.6445 - val_accuracy: 0.0000e+00\n",
      "Epoch 3/150\n",
      "2957/2957 - 30s - loss: 193782.9062 - accuracy: 0.0000e+00 - val_loss: 57322.3281 - val_accuracy: 0.0000e+00\n",
      "Epoch 4/150\n",
      "2957/2957 - 31s - loss: 151738.4219 - accuracy: 0.0000e+00 - val_loss: 87979.1562 - val_accuracy: 0.0000e+00\n",
      "Epoch 5/150\n",
      "2957/2957 - 30s - loss: 73456.5547 - accuracy: 0.0000e+00 - val_loss: 38946.5820 - val_accuracy: 0.0000e+00\n",
      "Epoch 6/150\n",
      "2957/2957 - 30s - loss: 106930.2734 - accuracy: 0.0000e+00 - val_loss: 41248.4102 - val_accuracy: 0.0000e+00\n",
      "Epoch 7/150\n",
      "2957/2957 - 30s - loss: 53819.5703 - accuracy: 0.0000e+00 - val_loss: 38903.5312 - val_accuracy: 0.0000e+00\n",
      "Epoch 8/150\n",
      "2957/2957 - 30s - loss: 71685.3281 - accuracy: 0.0000e+00 - val_loss: 52676.5859 - val_accuracy: 0.0000e+00\n",
      "Epoch 9/150\n",
      "2957/2957 - 30s - loss: 44430.6797 - accuracy: 0.0000e+00 - val_loss: 87899.3906 - val_accuracy: 0.0000e+00\n",
      "Epoch 10/150\n",
      "2957/2957 - 30s - loss: 72916.3047 - accuracy: 0.0000e+00 - val_loss: 37239.0234 - val_accuracy: 0.0000e+00\n",
      "Epoch 11/150\n",
      "2957/2957 - 31s - loss: 38799.8555 - accuracy: 0.0000e+00 - val_loss: 33416.6250 - val_accuracy: 0.0000e+00\n",
      "Epoch 12/150\n",
      "2957/2957 - 30s - loss: 37385.1602 - accuracy: 0.0000e+00 - val_loss: 37754.0742 - val_accuracy: 0.0000e+00\n",
      "Epoch 13/150\n",
      "2957/2957 - 30s - loss: 36433.5312 - accuracy: 0.0000e+00 - val_loss: 56610.4766 - val_accuracy: 0.0000e+00\n",
      "Epoch 14/150\n",
      "2957/2957 - 30s - loss: 35709.0508 - accuracy: 0.0000e+00 - val_loss: 32596.6797 - val_accuracy: 0.0000e+00\n",
      "Epoch 15/150\n",
      "2957/2957 - 30s - loss: 35046.7109 - accuracy: 0.0000e+00 - val_loss: 34571.3633 - val_accuracy: 0.0000e+00\n",
      "Epoch 16/150\n",
      "2957/2957 - 30s - loss: 35011.9336 - accuracy: 0.0000e+00 - val_loss: 39480.4297 - val_accuracy: 0.0000e+00\n",
      "Epoch 17/150\n",
      "2957/2957 - 30s - loss: 35000.1367 - accuracy: 0.0000e+00 - val_loss: 36007.4922 - val_accuracy: 0.0000e+00\n",
      "Epoch 18/150\n",
      "2957/2957 - 30s - loss: 34874.4297 - accuracy: 0.0000e+00 - val_loss: 32903.0312 - val_accuracy: 0.0000e+00\n",
      "Epoch 19/150\n",
      "2957/2957 - 30s - loss: 34753.2305 - accuracy: 0.0000e+00 - val_loss: 34388.3125 - val_accuracy: 0.0000e+00\n",
      "Epoch 20/150\n",
      "2957/2957 - 30s - loss: 35088.2539 - accuracy: 0.0000e+00 - val_loss: 33038.6953 - val_accuracy: 0.0000e+00\n",
      "Epoch 21/150\n",
      "2957/2957 - 30s - loss: 35062.8867 - accuracy: 0.0000e+00 - val_loss: 32918.2969 - val_accuracy: 0.0000e+00\n",
      "Epoch 22/150\n",
      "2957/2957 - 30s - loss: 34343.6445 - accuracy: 0.0000e+00 - val_loss: 33221.0391 - val_accuracy: 0.0000e+00\n",
      "Epoch 23/150\n",
      "2957/2957 - 30s - loss: 34668.0586 - accuracy: 0.0000e+00 - val_loss: 32283.5645 - val_accuracy: 0.0000e+00\n",
      "Epoch 24/150\n",
      "2957/2957 - 30s - loss: 34695.4766 - accuracy: 0.0000e+00 - val_loss: 32251.4668 - val_accuracy: 0.0000e+00\n",
      "Epoch 25/150\n",
      "2957/2957 - 30s - loss: 34791.1055 - accuracy: 0.0000e+00 - val_loss: 47163.7031 - val_accuracy: 0.0000e+00\n",
      "Epoch 26/150\n",
      "2957/2957 - 31s - loss: 33985.9961 - accuracy: 0.0000e+00 - val_loss: 50701.3086 - val_accuracy: 0.0000e+00\n",
      "Epoch 27/150\n",
      "2957/2957 - 30s - loss: 34258.3906 - accuracy: 0.0000e+00 - val_loss: 36515.5469 - val_accuracy: 0.0000e+00\n",
      "Epoch 28/150\n",
      "2957/2957 - 31s - loss: 34084.1875 - accuracy: 0.0000e+00 - val_loss: 32298.1641 - val_accuracy: 0.0000e+00\n",
      "Epoch 29/150\n",
      "2957/2957 - 31s - loss: 33926.7852 - accuracy: 0.0000e+00 - val_loss: 33833.7266 - val_accuracy: 0.0000e+00\n",
      "Epoch 30/150\n",
      "2957/2957 - 31s - loss: 34499.5508 - accuracy: 0.0000e+00 - val_loss: 42328.0898 - val_accuracy: 0.0000e+00\n",
      "Epoch 31/150\n",
      "2957/2957 - 31s - loss: 34205.5977 - accuracy: 0.0000e+00 - val_loss: 39415.4570 - val_accuracy: 0.0000e+00\n",
      "Epoch 32/150\n",
      "2957/2957 - 30s - loss: 33887.9062 - accuracy: 0.0000e+00 - val_loss: 32597.0391 - val_accuracy: 0.0000e+00\n",
      "Epoch 33/150\n",
      "2957/2957 - 30s - loss: 33731.3516 - accuracy: 0.0000e+00 - val_loss: 37301.0586 - val_accuracy: 0.0000e+00\n",
      "Epoch 34/150\n",
      "2957/2957 - 30s - loss: 33646.8594 - accuracy: 0.0000e+00 - val_loss: 32884.6992 - val_accuracy: 0.0000e+00\n",
      "Epoch 35/150\n",
      "2957/2957 - 30s - loss: 34204.6680 - accuracy: 0.0000e+00 - val_loss: 36403.6758 - val_accuracy: 0.0000e+00\n",
      "Epoch 36/150\n",
      "2957/2957 - 30s - loss: 32969.9688 - accuracy: 0.0000e+00 - val_loss: 31492.6953 - val_accuracy: 0.0000e+00\n",
      "Epoch 37/150\n",
      "2957/2957 - 30s - loss: 33627.9688 - accuracy: 0.0000e+00 - val_loss: 32695.7598 - val_accuracy: 0.0000e+00\n",
      "Epoch 38/150\n",
      "2957/2957 - 31s - loss: 33202.7266 - accuracy: 0.0000e+00 - val_loss: 34209.9141 - val_accuracy: 0.0000e+00\n",
      "Epoch 39/150\n",
      "2957/2957 - 30s - loss: 33719.6211 - accuracy: 0.0000e+00 - val_loss: 35290.9961 - val_accuracy: 0.0000e+00\n",
      "Epoch 40/150\n",
      "2957/2957 - 31s - loss: 33083.5352 - accuracy: 0.0000e+00 - val_loss: 33088.9297 - val_accuracy: 0.0000e+00\n",
      "Epoch 41/150\n",
      "2957/2957 - 35s - loss: 33480.0000 - accuracy: 0.0000e+00 - val_loss: 34170.0195 - val_accuracy: 0.0000e+00\n",
      "Epoch 42/150\n",
      "2957/2957 - 37s - loss: 33436.2773 - accuracy: 0.0000e+00 - val_loss: 33365.0625 - val_accuracy: 0.0000e+00\n",
      "Epoch 43/150\n",
      "2957/2957 - 35s - loss: 33455.0898 - accuracy: 0.0000e+00 - val_loss: 51039.1172 - val_accuracy: 0.0000e+00\n",
      "Epoch 44/150\n",
      "2957/2957 - 42s - loss: 33242.5039 - accuracy: 0.0000e+00 - val_loss: 33145.4570 - val_accuracy: 0.0000e+00\n",
      "Epoch 45/150\n",
      "2957/2957 - 31s - loss: 33545.1523 - accuracy: 0.0000e+00 - val_loss: 36081.1289 - val_accuracy: 0.0000e+00\n",
      "Epoch 46/150\n",
      "2957/2957 - 30s - loss: 33464.5430 - accuracy: 0.0000e+00 - val_loss: 33085.3672 - val_accuracy: 0.0000e+00\n",
      "Epoch 47/150\n",
      "2957/2957 - 30s - loss: 33019.9297 - accuracy: 0.0000e+00 - val_loss: 46438.5859 - val_accuracy: 0.0000e+00\n",
      "Epoch 48/150\n",
      "2957/2957 - 30s - loss: 33508.1680 - accuracy: 0.0000e+00 - val_loss: 31559.5293 - val_accuracy: 0.0000e+00\n",
      "Epoch 49/150\n",
      "2957/2957 - 30s - loss: 32944.3438 - accuracy: 0.0000e+00 - val_loss: 31585.7988 - val_accuracy: 0.0000e+00\n",
      "Epoch 50/150\n",
      "2957/2957 - 30s - loss: 33534.8047 - accuracy: 0.0000e+00 - val_loss: 42230.2656 - val_accuracy: 0.0000e+00\n",
      "Epoch 51/150\n",
      "2957/2957 - 31s - loss: 33350.8711 - accuracy: 0.0000e+00 - val_loss: 40885.7812 - val_accuracy: 0.0000e+00\n",
      "Epoch 52/150\n",
      "2957/2957 - 30s - loss: 33151.1758 - accuracy: 0.0000e+00 - val_loss: 32638.4180 - val_accuracy: 0.0000e+00\n",
      "Epoch 53/150\n",
      "2957/2957 - 30s - loss: 33237.8828 - accuracy: 0.0000e+00 - val_loss: 39508.5703 - val_accuracy: 0.0000e+00\n",
      "Epoch 54/150\n",
      "2957/2957 - 30s - loss: 32870.4648 - accuracy: 0.0000e+00 - val_loss: 32033.9492 - val_accuracy: 0.0000e+00\n",
      "Epoch 55/150\n",
      "2957/2957 - 30s - loss: 33298.6875 - accuracy: 0.0000e+00 - val_loss: 34606.3047 - val_accuracy: 0.0000e+00\n",
      "Epoch 56/150\n",
      "2957/2957 - 30s - loss: 32730.8730 - accuracy: 0.0000e+00 - val_loss: 34604.6484 - val_accuracy: 0.0000e+00\n",
      "Epoch 57/150\n",
      "2957/2957 - 31s - loss: 33532.0117 - accuracy: 0.0000e+00 - val_loss: 41337.9766 - val_accuracy: 0.0000e+00\n",
      "Epoch 58/150\n",
      "2957/2957 - 31s - loss: 32853.5898 - accuracy: 0.0000e+00 - val_loss: 32040.4668 - val_accuracy: 0.0000e+00\n",
      "Epoch 59/150\n",
      "2957/2957 - 30s - loss: 32721.7578 - accuracy: 0.0000e+00 - val_loss: 37939.1406 - val_accuracy: 0.0000e+00\n",
      "Epoch 60/150\n",
      "2957/2957 - 31s - loss: 32813.7148 - accuracy: 0.0000e+00 - val_loss: 41824.6875 - val_accuracy: 0.0000e+00\n",
      "Epoch 61/150\n",
      "2957/2957 - 31s - loss: 33456.8477 - accuracy: 0.0000e+00 - val_loss: 31369.3477 - val_accuracy: 0.0000e+00\n",
      "Epoch 62/150\n",
      "2957/2957 - 30s - loss: 32824.6133 - accuracy: 0.0000e+00 - val_loss: 31347.7012 - val_accuracy: 0.0000e+00\n",
      "Epoch 63/150\n",
      "2957/2957 - 31s - loss: 32974.3086 - accuracy: 0.0000e+00 - val_loss: 45020.6914 - val_accuracy: 0.0000e+00\n",
      "Epoch 64/150\n",
      "2957/2957 - 30s - loss: 32824.8711 - accuracy: 0.0000e+00 - val_loss: 34083.7109 - val_accuracy: 0.0000e+00\n",
      "Epoch 65/150\n",
      "2957/2957 - 30s - loss: 33191.3789 - accuracy: 0.0000e+00 - val_loss: 33045.5352 - val_accuracy: 0.0000e+00\n",
      "Epoch 66/150\n",
      "2957/2957 - 30s - loss: 32527.2891 - accuracy: 0.0000e+00 - val_loss: 39646.7070 - val_accuracy: 0.0000e+00\n",
      "Epoch 67/150\n",
      "2957/2957 - 29s - loss: 32844.3789 - accuracy: 0.0000e+00 - val_loss: 31639.8047 - val_accuracy: 0.0000e+00\n",
      "Epoch 68/150\n",
      "2957/2957 - 30s - loss: 32859.9922 - accuracy: 0.0000e+00 - val_loss: 40725.5117 - val_accuracy: 0.0000e+00\n",
      "Epoch 69/150\n",
      "2957/2957 - 30s - loss: 32737.3203 - accuracy: 0.0000e+00 - val_loss: 36040.6797 - val_accuracy: 0.0000e+00\n",
      "Epoch 70/150\n",
      "2957/2957 - 30s - loss: 32696.4336 - accuracy: 0.0000e+00 - val_loss: 33845.2070 - val_accuracy: 0.0000e+00\n",
      "Epoch 71/150\n",
      "2957/2957 - 29s - loss: 32479.6035 - accuracy: 0.0000e+00 - val_loss: 33134.8242 - val_accuracy: 0.0000e+00\n",
      "Epoch 72/150\n",
      "2957/2957 - 29s - loss: 32907.3047 - accuracy: 0.0000e+00 - val_loss: 35346.2539 - val_accuracy: 0.0000e+00\n",
      "Epoch 73/150\n",
      "2957/2957 - 29s - loss: 32631.7129 - accuracy: 0.0000e+00 - val_loss: 31563.8809 - val_accuracy: 0.0000e+00\n",
      "Epoch 74/150\n",
      "2957/2957 - 29s - loss: 32557.7461 - accuracy: 0.0000e+00 - val_loss: 33112.9609 - val_accuracy: 0.0000e+00\n",
      "Epoch 75/150\n",
      "2957/2957 - 30s - loss: 32583.8008 - accuracy: 0.0000e+00 - val_loss: 31761.2246 - val_accuracy: 0.0000e+00\n",
      "Epoch 76/150\n",
      "2957/2957 - 29s - loss: 32372.7734 - accuracy: 0.0000e+00 - val_loss: 39412.8125 - val_accuracy: 0.0000e+00\n",
      "Epoch 77/150\n",
      "2957/2957 - 30s - loss: 32574.4414 - accuracy: 0.0000e+00 - val_loss: 32640.9629 - val_accuracy: 0.0000e+00\n",
      "Epoch 78/150\n",
      "2957/2957 - 29s - loss: 32830.9766 - accuracy: 0.0000e+00 - val_loss: 40791.8789 - val_accuracy: 0.0000e+00\n",
      "Epoch 79/150\n",
      "2957/2957 - 29s - loss: 32499.9883 - accuracy: 0.0000e+00 - val_loss: 32054.4531 - val_accuracy: 0.0000e+00\n",
      "Epoch 80/150\n",
      "2957/2957 - 29s - loss: 32418.2754 - accuracy: 0.0000e+00 - val_loss: 37061.9141 - val_accuracy: 0.0000e+00\n",
      "Epoch 81/150\n",
      "2957/2957 - 30s - loss: 32263.3535 - accuracy: 0.0000e+00 - val_loss: 32235.9102 - val_accuracy: 0.0000e+00\n",
      "Epoch 82/150\n",
      "2957/2957 - 30s - loss: 32355.5391 - accuracy: 0.0000e+00 - val_loss: 32372.9941 - val_accuracy: 0.0000e+00\n",
      "Epoch 83/150\n",
      "2957/2957 - 31s - loss: 32082.7871 - accuracy: 0.0000e+00 - val_loss: 32765.1621 - val_accuracy: 0.0000e+00\n",
      "Epoch 84/150\n",
      "2957/2957 - 30s - loss: 32255.0449 - accuracy: 0.0000e+00 - val_loss: 35849.0039 - val_accuracy: 0.0000e+00\n",
      "Epoch 85/150\n",
      "2957/2957 - 30s - loss: 32025.5605 - accuracy: 0.0000e+00 - val_loss: 40538.4492 - val_accuracy: 0.0000e+00\n",
      "Epoch 86/150\n",
      "2957/2957 - 29s - loss: 32427.7656 - accuracy: 0.0000e+00 - val_loss: 32025.4961 - val_accuracy: 0.0000e+00\n",
      "Epoch 87/150\n",
      "2957/2957 - 30s - loss: 32399.3301 - accuracy: 0.0000e+00 - val_loss: 31088.0488 - val_accuracy: 0.0000e+00\n",
      "Epoch 88/150\n",
      "2957/2957 - 30s - loss: 32375.0156 - accuracy: 0.0000e+00 - val_loss: 32295.1152 - val_accuracy: 0.0000e+00\n",
      "Epoch 89/150\n",
      "2957/2957 - 30s - loss: 32347.5234 - accuracy: 0.0000e+00 - val_loss: 51228.0234 - val_accuracy: 0.0000e+00\n",
      "Epoch 90/150\n",
      "2957/2957 - 31s - loss: 32624.6543 - accuracy: 0.0000e+00 - val_loss: 32022.0020 - val_accuracy: 0.0000e+00\n",
      "Epoch 91/150\n",
      "2957/2957 - 30s - loss: 32218.0059 - accuracy: 0.0000e+00 - val_loss: 31485.0977 - val_accuracy: 0.0000e+00\n",
      "Epoch 92/150\n",
      "2957/2957 - 30s - loss: 32340.6055 - accuracy: 0.0000e+00 - val_loss: 35332.5586 - val_accuracy: 0.0000e+00\n",
      "Epoch 93/150\n",
      "2957/2957 - 29s - loss: 32352.7109 - accuracy: 0.0000e+00 - val_loss: 39624.3906 - val_accuracy: 0.0000e+00\n",
      "Epoch 94/150\n",
      "2957/2957 - 30s - loss: 31768.2617 - accuracy: 0.0000e+00 - val_loss: 32132.0312 - val_accuracy: 0.0000e+00\n",
      "Epoch 95/150\n",
      "2957/2957 - 30s - loss: 31875.1719 - accuracy: 0.0000e+00 - val_loss: 31886.8438 - val_accuracy: 0.0000e+00\n",
      "Epoch 96/150\n",
      "2957/2957 - 30s - loss: 31949.3652 - accuracy: 0.0000e+00 - val_loss: 35554.8945 - val_accuracy: 0.0000e+00\n",
      "Epoch 97/150\n",
      "2957/2957 - 30s - loss: 32202.4902 - accuracy: 0.0000e+00 - val_loss: 32235.2402 - val_accuracy: 0.0000e+00\n",
      "Epoch 98/150\n",
      "2957/2957 - 30s - loss: 32156.0273 - accuracy: 0.0000e+00 - val_loss: 33650.7812 - val_accuracy: 0.0000e+00\n",
      "Epoch 99/150\n",
      "2957/2957 - 30s - loss: 32269.5391 - accuracy: 0.0000e+00 - val_loss: 40669.8984 - val_accuracy: 0.0000e+00\n",
      "Epoch 100/150\n",
      "2957/2957 - 30s - loss: 32029.7988 - accuracy: 0.0000e+00 - val_loss: 31677.0332 - val_accuracy: 0.0000e+00\n",
      "Epoch 101/150\n",
      "2957/2957 - 30s - loss: 31821.3398 - accuracy: 0.0000e+00 - val_loss: 32327.3359 - val_accuracy: 0.0000e+00\n",
      "Epoch 102/150\n",
      "2957/2957 - 30s - loss: 32216.5879 - accuracy: 0.0000e+00 - val_loss: 36318.8945 - val_accuracy: 0.0000e+00\n",
      "Epoch 103/150\n",
      "2957/2957 - 30s - loss: 32116.4199 - accuracy: 0.0000e+00 - val_loss: 40554.8281 - val_accuracy: 0.0000e+00\n",
      "Epoch 104/150\n",
      "2957/2957 - 30s - loss: 31937.2637 - accuracy: 0.0000e+00 - val_loss: 31331.4062 - val_accuracy: 0.0000e+00\n",
      "Epoch 105/150\n",
      "2957/2957 - 30s - loss: 32086.1992 - accuracy: 0.0000e+00 - val_loss: 33322.6719 - val_accuracy: 0.0000e+00\n",
      "Epoch 106/150\n",
      "2957/2957 - 30s - loss: 32109.3574 - accuracy: 0.0000e+00 - val_loss: 32628.5586 - val_accuracy: 0.0000e+00\n",
      "Epoch 107/150\n",
      "2957/2957 - 30s - loss: 32103.1992 - accuracy: 0.0000e+00 - val_loss: 34128.9727 - val_accuracy: 0.0000e+00\n",
      "Epoch 108/150\n",
      "2957/2957 - 30s - loss: 32046.1270 - accuracy: 0.0000e+00 - val_loss: 36986.0586 - val_accuracy: 0.0000e+00\n",
      "Epoch 109/150\n",
      "2957/2957 - 30s - loss: 31979.7031 - accuracy: 0.0000e+00 - val_loss: 32272.8594 - val_accuracy: 0.0000e+00\n",
      "Epoch 110/150\n",
      "2957/2957 - 30s - loss: 32362.1348 - accuracy: 0.0000e+00 - val_loss: 35471.1797 - val_accuracy: 0.0000e+00\n",
      "Epoch 111/150\n",
      "2957/2957 - 30s - loss: 31630.3438 - accuracy: 0.0000e+00 - val_loss: 31954.4805 - val_accuracy: 0.0000e+00\n",
      "Epoch 112/150\n",
      "2957/2957 - 30s - loss: 32118.3438 - accuracy: 0.0000e+00 - val_loss: 32844.8398 - val_accuracy: 0.0000e+00\n",
      "Epoch 113/150\n",
      "2957/2957 - 30s - loss: 31898.2910 - accuracy: 0.0000e+00 - val_loss: 61128.5195 - val_accuracy: 0.0000e+00\n",
      "Epoch 114/150\n",
      "2957/2957 - 30s - loss: 31776.6406 - accuracy: 0.0000e+00 - val_loss: 33006.1914 - val_accuracy: 0.0000e+00\n",
      "Epoch 115/150\n",
      "2957/2957 - 30s - loss: 31787.0430 - accuracy: 0.0000e+00 - val_loss: 34044.4688 - val_accuracy: 0.0000e+00\n",
      "Epoch 116/150\n",
      "2957/2957 - 31s - loss: 31628.1641 - accuracy: 0.0000e+00 - val_loss: 34145.0938 - val_accuracy: 0.0000e+00\n",
      "Epoch 117/150\n",
      "2957/2957 - 30s - loss: 31836.9746 - accuracy: 0.0000e+00 - val_loss: 33375.4492 - val_accuracy: 0.0000e+00\n",
      "Epoch 118/150\n",
      "2957/2957 - 30s - loss: 32070.9355 - accuracy: 0.0000e+00 - val_loss: 32210.9512 - val_accuracy: 0.0000e+00\n",
      "Epoch 119/150\n",
      "2957/2957 - 30s - loss: 31932.0742 - accuracy: 0.0000e+00 - val_loss: 35744.9023 - val_accuracy: 0.0000e+00\n",
      "Epoch 120/150\n",
      "2957/2957 - 32s - loss: 31863.1934 - accuracy: 0.0000e+00 - val_loss: 35013.1445 - val_accuracy: 0.0000e+00\n",
      "Epoch 121/150\n",
      "2957/2957 - 32s - loss: 31874.7461 - accuracy: 0.0000e+00 - val_loss: 38083.8555 - val_accuracy: 0.0000e+00\n",
      "Epoch 122/150\n",
      "2957/2957 - 31s - loss: 32051.1602 - accuracy: 0.0000e+00 - val_loss: 37751.1758 - val_accuracy: 0.0000e+00\n",
      "Epoch 123/150\n",
      "2957/2957 - 31s - loss: 31766.7402 - accuracy: 0.0000e+00 - val_loss: 38376.2891 - val_accuracy: 0.0000e+00\n",
      "Epoch 124/150\n",
      "2957/2957 - 31s - loss: 31928.6953 - accuracy: 0.0000e+00 - val_loss: 36615.1602 - val_accuracy: 0.0000e+00\n",
      "Epoch 125/150\n",
      "2957/2957 - 31s - loss: 32078.4883 - accuracy: 0.0000e+00 - val_loss: 33981.0938 - val_accuracy: 0.0000e+00\n",
      "Epoch 126/150\n",
      "2957/2957 - 31s - loss: 31829.3535 - accuracy: 0.0000e+00 - val_loss: 31763.8379 - val_accuracy: 0.0000e+00\n",
      "Epoch 127/150\n",
      "2957/2957 - 31s - loss: 31760.3477 - accuracy: 0.0000e+00 - val_loss: 36986.9297 - val_accuracy: 0.0000e+00\n",
      "Epoch 128/150\n",
      "2957/2957 - 30s - loss: 32187.6016 - accuracy: 0.0000e+00 - val_loss: 32404.3008 - val_accuracy: 0.0000e+00\n",
      "Epoch 129/150\n",
      "2957/2957 - 30s - loss: 31886.1406 - accuracy: 0.0000e+00 - val_loss: 31866.0000 - val_accuracy: 0.0000e+00\n",
      "Epoch 130/150\n",
      "2957/2957 - 30s - loss: 31807.2461 - accuracy: 0.0000e+00 - val_loss: 33158.2734 - val_accuracy: 0.0000e+00\n",
      "Epoch 131/150\n",
      "2957/2957 - 30s - loss: 32033.2676 - accuracy: 0.0000e+00 - val_loss: 32430.4004 - val_accuracy: 0.0000e+00\n",
      "Epoch 132/150\n",
      "2957/2957 - 31s - loss: 31810.5840 - accuracy: 0.0000e+00 - val_loss: 34476.5195 - val_accuracy: 0.0000e+00\n",
      "Epoch 133/150\n",
      "2957/2957 - 32s - loss: 31819.6699 - accuracy: 0.0000e+00 - val_loss: 32661.3066 - val_accuracy: 0.0000e+00\n",
      "Epoch 134/150\n",
      "2957/2957 - 33s - loss: 31771.0488 - accuracy: 0.0000e+00 - val_loss: 32864.1133 - val_accuracy: 0.0000e+00\n",
      "Epoch 135/150\n",
      "2957/2957 - 32s - loss: 31823.4766 - accuracy: 0.0000e+00 - val_loss: 33709.2500 - val_accuracy: 0.0000e+00\n",
      "Epoch 136/150\n",
      "2957/2957 - 31s - loss: 31653.9004 - accuracy: 0.0000e+00 - val_loss: 33754.3867 - val_accuracy: 0.0000e+00\n",
      "Epoch 137/150\n",
      "2957/2957 - 32s - loss: 31536.2520 - accuracy: 0.0000e+00 - val_loss: 35328.2305 - val_accuracy: 0.0000e+00\n",
      "Epoch 138/150\n",
      "2957/2957 - 31s - loss: 31749.6738 - accuracy: 0.0000e+00 - val_loss: 32776.5273 - val_accuracy: 0.0000e+00\n",
      "Epoch 139/150\n",
      "2957/2957 - 31s - loss: 32201.0488 - accuracy: 0.0000e+00 - val_loss: 32380.3613 - val_accuracy: 0.0000e+00\n",
      "Epoch 140/150\n",
      "2957/2957 - 31s - loss: 31647.2871 - accuracy: 0.0000e+00 - val_loss: 33142.1992 - val_accuracy: 0.0000e+00\n",
      "Epoch 141/150\n",
      "2957/2957 - 30s - loss: 31779.8574 - accuracy: 0.0000e+00 - val_loss: 38040.9258 - val_accuracy: 0.0000e+00\n",
      "Epoch 142/150\n",
      "2957/2957 - 31s - loss: 31759.9590 - accuracy: 0.0000e+00 - val_loss: 35033.0156 - val_accuracy: 0.0000e+00\n",
      "Epoch 143/150\n",
      "2957/2957 - 33s - loss: 31330.5176 - accuracy: 0.0000e+00 - val_loss: 33545.7539 - val_accuracy: 0.0000e+00\n",
      "Epoch 144/150\n",
      "2957/2957 - 32s - loss: 31618.6738 - accuracy: 0.0000e+00 - val_loss: 33655.3438 - val_accuracy: 0.0000e+00\n",
      "Epoch 145/150\n",
      "2957/2957 - 33s - loss: 31692.1855 - accuracy: 0.0000e+00 - val_loss: 33905.1680 - val_accuracy: 0.0000e+00\n",
      "Epoch 146/150\n",
      "2957/2957 - 33s - loss: 31707.1758 - accuracy: 0.0000e+00 - val_loss: 33218.9375 - val_accuracy: 0.0000e+00\n",
      "Epoch 147/150\n",
      "2957/2957 - 32s - loss: 31312.7695 - accuracy: 0.0000e+00 - val_loss: 35620.7656 - val_accuracy: 0.0000e+00\n",
      "Epoch 148/150\n",
      "2957/2957 - 32s - loss: 31806.6348 - accuracy: 0.0000e+00 - val_loss: 32156.1328 - val_accuracy: 0.0000e+00\n",
      "Epoch 149/150\n",
      "2957/2957 - 32s - loss: 31752.8457 - accuracy: 0.0000e+00 - val_loss: 32792.0352 - val_accuracy: 0.0000e+00\n",
      "Epoch 150/150\n",
      "2957/2957 - 33s - loss: 31944.1016 - accuracy: 0.0000e+00 - val_loss: 43327.6914 - val_accuracy: 0.0000e+00\n"
     ]
    }
   ],
   "source": [
    "# history = model.fit(train_x, train_y, epochs=1000,validation_data=(test_x, test_y),callbacks=[monitor], verbose=2)\n",
    "history = model.fit(train_x, train_y, epochs=150,validation_data=(test_x, test_y), verbose=2)"
   ]
  },
  {
   "cell_type": "code",
   "execution_count": 48,
   "metadata": {},
   "outputs": [
    {
     "name": "stdout",
     "output_type": "stream",
     "text": [
      "INFO:tensorflow:Assets written to: /Users/michaelsong/Documents/GitHub/starzam/Models/m4.6/assets\n"
     ]
    }
   ],
   "source": [
    "model.save('/Users/michaelsong/Documents/GitHub/starzam/Models/m4.6')"
   ]
  },
  {
   "cell_type": "code",
   "execution_count": 49,
   "metadata": {},
   "outputs": [
    {
     "data": {
      "image/png": "[encoded data removed]",
      "text/plain": [
       "<Figure size 432x288 with 1 Axes>"
      ]
     },
     "metadata": {
      "needs_background": "light"
     },
     "output_type": "display_data"
    },
    {
     "data": {
      "image/png": "[encoded data removed]",
      "text/plain": [
       "<Figure size 432x288 with 1 Axes>"
      ]
     },
     "metadata": {
      "needs_background": "light"
     },
     "output_type": "display_data"
    }
   ],
   "source": [
    "plt.plot(history.history['accuracy'])\n",
    "plt.plot(history.history['val_accuracy'])\n",
    "plt.title('Model Accuracy')\n",
    "plt.ylabel('Accuracy')\n",
    "plt.xlabel('Epoch')\n",
    "plt.legend(['train', 'test'], loc='upper left')\n",
    "plt.show()\n",
    "# summarize history for loss\n",
    "plt.plot(history.history['loss'][10:])\n",
    "plt.plot(history.history['val_loss'][10:])\n",
    "plt.title('Model loss')\n",
    "plt.ylabel('Loss')\n",
    "plt.xlabel('Epoch')\n",
    "plt.legend(['train', 'test'], loc='upper left')\n",
    "plt.savefig('/Users/michaelsong/Documents/GitHub/starzam/Results/4.6_training.png')\n",
    "plt.show()"
   ]
  },
  {
   "cell_type": "code",
   "execution_count": 91,
   "metadata": {},
   "outputs": [
    {
     "name": "stdout",
     "output_type": "stream",
     "text": [
      "(15440,) (61757,)\n",
      "[5009.5005 4800.6577 4958.305  ... 4897.671  5005.0977 4645.8706]\n",
      "[5333. 4781. 4985. ... 4958. 5016. 4755.]\n"
     ]
    }
   ],
   "source": [
    "pred_test_y = model.predict(test_x).reshape(-1)\n",
    "pred_train_y = model.predict(train_x).reshape(-1)\n",
    "print(pred_test_y.shape,pred_train_y.shape)\n",
    "print(pred_train_y)\n",
    "print(train_y)"
   ]
  },
  {
   "cell_type": "code",
   "execution_count": 92,
   "metadata": {},
   "outputs": [
    {
     "data": {
      "image/png": "[encoded data removed]",
      "text/plain": [
       "<Figure size 432x288 with 1 Axes>"
      ]
     },
     "metadata": {
      "needs_background": "light"
     },
     "output_type": "display_data"
    }
   ],
   "source": [
    "plt.scatter(train_y,pred_train_y, c='red', alpha=0.5,s=0.1)\n",
    "\n",
    "plt.scatter(test_y,pred_test_y, c='blue', alpha=0.5,s=0.1)\n",
    "\n",
    "linex = np.linspace(4000, 6000)\n",
    "liney = linex\n",
    "lineytop = linex+150\n",
    "lineybot = linex-150\n",
    "lineytop2 = linex*1.03\n",
    "lineybot2 = linex*0.97\n",
    "# Create the plot\n",
    "plt.plot(linex, liney,c=\"green\")\n",
    "plt.plot(linex, lineytop,c=\"red\")\n",
    "plt.plot(linex, lineybot,c=\"red\")\n",
    "plt.plot(linex, lineytop2,c=\"purple\")\n",
    "plt.plot(linex, lineybot2,c=\"purple\")\n",
    "\n",
    "\n",
    "plt.xlim(4000, 6000)\n",
    "plt.ylim(4000, 6000)\n",
    "plt.gca().set_aspect('equal', adjustable='box')\n",
    "plt.savefig('/Users/michaelsong/Documents/GitHub/starzam/Results/4.4.png')\n",
    "plt.show()\n"
   ]
  },
  {
   "cell_type": "code",
   "execution_count": 95,
   "metadata": {},
   "outputs": [],
   "source": [
    "def normalize1D(data):\n",
    "    return np.divide(np.nan_to_num(data,np.nanmean(data)),np.nanmax(data))"
   ]
  },
  {
   "cell_type": "code",
   "execution_count": 96,
   "metadata": {},
   "outputs": [
    {
     "name": "stdout",
     "output_type": "stream",
     "text": [
      "Mean Sq. Error, Mean Abs. Error\n",
      "0.09713562 0.09341578\n"
     ]
    }
   ],
   "source": [
    "mse = np.sqrt(mean_squared_error(normalize1D(test_y),normalize1D(pred_test_y)))\n",
    "mae = mean_absolute_error(normalize1D(test_y),normalize1D(pred_test_y))\n",
    "print(\"Mean Sq. Error, Mean Abs. Error\")\n",
    "print(mse,mae)"
   ]
  },
  {
   "cell_type": "code",
   "execution_count": 97,
   "metadata": {},
   "outputs": [
    {
     "name": "stdout",
     "output_type": "stream",
     "text": [
      "Mean Sq. Error, Mean Abs. Error\n",
      "0.06261332 0.05774129\n"
     ]
    }
   ],
   "source": [
    "mse = np.sqrt(mean_squared_error(normalize1D(train_y),normalize1D(pred_train_y)))\n",
    "mae = mean_absolute_error(normalize1D(train_y),normalize1D(pred_train_y))\n",
    "print(\"Mean Sq. Error, Mean Abs. Error\")\n",
    "print(mse,mae)"
   ]
  },
  {
   "cell_type": "markdown",
   "metadata": {},
   "source": [
    "# Testing"
   ]
  },
  {
   "cell_type": "code",
   "execution_count": 39,
   "metadata": {},
   "outputs": [
    {
     "data": {
      "text/plain": [
       "4707.60693359375"
      ]
     },
     "execution_count": 39,
     "metadata": {},
     "output_type": "execute_result"
    }
   ],
   "source": [
    "float(model.predict(all_data[i][3:121].reshape(-1,118)))"
   ]
  },
  {
   "cell_type": "code",
   "execution_count": 50,
   "metadata": {},
   "outputs": [],
   "source": [
    "def testpred_avg(all_data):\n",
    "    all_y = []\n",
    "    pred_all_y = []\n",
    "    kic = all_data[0][0]\n",
    "    kic_y = []\n",
    "    for i in range(len(all_data[:10000])):\n",
    "        kic_y.append(float(model.predict(all_data[i][3:121].reshape(-1,118))))\n",
    "        if(all_data[i][0]!=kic):\n",
    "            kic = all_data[i][0]\n",
    "            all_y.append(all_data[i][1])\n",
    "            pred_all_y.append(sum(kic_y)/len(kic_y))\n",
    "            kic_y = []\n",
    "\n",
    "    return all_y,pred_all_y\n",
    "all_y,pred_all_y = testpred_avg(all_data)"
   ]
  },
  {
   "cell_type": "code",
   "execution_count": 51,
   "metadata": {},
   "outputs": [
    {
     "data": {
      "image/png": "[encoded data removed]",
      "text/plain": [
       "<Figure size 432x288 with 1 Axes>"
      ]
     },
     "metadata": {
      "needs_background": "light"
     },
     "output_type": "display_data"
    }
   ],
   "source": [
    "plt.scatter(all_y,pred_all_y, c='red', alpha=0.5,s=2)\n",
    "\n",
    "linex = np.linspace(4000, 6000)\n",
    "liney = linex\n",
    "lineytop = linex+150\n",
    "lineybot = linex-150\n",
    "lineytop2 = linex*1.03\n",
    "lineybot2 = linex*0.97\n",
    "# Create the plot\n",
    "plt.plot(linex, liney,c=\"green\")\n",
    "plt.plot(linex, lineytop,c=\"red\")\n",
    "plt.plot(linex, lineybot,c=\"red\")\n",
    "plt.plot(linex, lineytop2,c=\"purple\")\n",
    "plt.plot(linex, lineybot2,c=\"purple\")\n",
    "\n",
    "\n",
    "plt.xlim(4000, 6000)\n",
    "plt.ylim(4000, 6000)\n",
    "plt.gca().set_aspect('equal', adjustable='box')\n",
    "plt.savefig('/Users/michaelsong/Documents/GitHub/starzam/Results/4.2.png')\n",
    "plt.show()\n"
   ]
  },
  {
   "cell_type": "code",
   "execution_count": 52,
   "metadata": {},
   "outputs": [
    {
     "name": "stdout",
     "output_type": "stream",
     "text": [
      "Mean Sq. Error, Mean Abs. Error\n",
      "0.1390003082706839 0.13103416677353238\n"
     ]
    }
   ],
   "source": [
    "mse = np.sqrt(mean_squared_error(normalize1D(all_y),normalize1D(pred_all_y)))\n",
    "mae = mean_absolute_error(normalize1D(all_y),normalize1D(pred_all_y))\n",
    "print(\"Mean Sq. Error, Mean Abs. Error\")\n",
    "print(mse,mae)"
   ]
  },
  {
   "cell_type": "code",
   "execution_count": null,
   "metadata": {},
   "outputs": [],
   "source": []
  }
 ],
 "metadata": {
  "interpreter": {
   "hash": "47065cae1920ebace9a059c93d67134c9a065e51e3ecb9809a1abf9fcf371550"
  },
  "kernelspec": {
   "display_name": "Python 3.9.7 64-bit ('base': conda)",
   "name": "python3"
  },
  "language_info": {
   "codemirror_mode": {
    "name": "ipython",
    "version": 3
   },
   "file_extension": ".py",
   "mimetype": "text/x-python",
   "name": "python",
   "nbconvert_exporter": "python",
   "pygments_lexer": "ipython3",
   "version": "3.9.7"
  },
  "orig_nbformat": 4
 },
 "nbformat": 4,
 "nbformat_minor": 2
}
