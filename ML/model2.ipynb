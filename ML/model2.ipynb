{
 "cells": [
  {
   "cell_type": "markdown",
   "metadata": {},
   "source": [
    "# Import"
   ]
  },
  {
   "cell_type": "code",
   "execution_count": 1,
   "metadata": {},
   "outputs": [],
   "source": [
    "import os\n",
    "import numpy as np\n",
    "\n",
    "from astropy.io import fits\n",
    "from matplotlib import pyplot as plt\n",
    "import numpy as np\n",
    "import lightkurve as lk\n",
    "from astroquery.simbad import Simbad\n",
    "import pandas as pd \n",
    "from numpy import genfromtxt\n",
    "from sklearn.preprocessing import normalize\n",
    "\n",
    "# #tf\n",
    "from __future__ import absolute_import, division, print_function, unicode_literals\n",
    "import tensorflow as tf\n",
    "from tensorflow import keras\n",
    "from tensorflow.keras import datasets, layers, models\n",
    "\n",
    "\n",
    "from sklearn.model_selection import train_test_split\n",
    "from sklearn.linear_model import LinearRegression\n",
    "from sklearn.metrics import r2_score, mean_squared_error, mean_absolute_error\n",
    "\n"
   ]
  },
  {
   "cell_type": "markdown",
   "metadata": {},
   "source": [
    "## Check GPU"
   ]
  },
  {
   "cell_type": "code",
   "execution_count": 2,
   "metadata": {},
   "outputs": [
    {
     "name": "stdout",
     "output_type": "stream",
     "text": [
      "[PhysicalDevice(name='/physical_device:CPU:0', device_type='CPU'), PhysicalDevice(name='/physical_device:GPU:0', device_type='GPU')]\n"
     ]
    }
   ],
   "source": [
    "devices = tf.config.list_physical_devices()\n",
    "print(devices)"
   ]
  },
  {
   "cell_type": "markdown",
   "metadata": {},
   "source": [
    "# Import Data"
   ]
  },
  {
   "cell_type": "code",
   "execution_count": 3,
   "metadata": {},
   "outputs": [
    {
     "data": {
      "text/plain": [
       "(122, 475)"
      ]
     },
     "execution_count": 3,
     "metadata": {},
     "output_type": "execute_result"
    }
   ],
   "source": [
    "pd.read_csv('/Users/michaelsong/Documents/GitHub/starzam/Data_v3/0.csv',delimiter=',').to_numpy().shape"
   ]
  },
  {
   "cell_type": "code",
   "execution_count": 21,
   "metadata": {},
   "outputs": [
    {
     "name": "stdout",
     "output_type": "stream",
     "text": [
      "(77197, 474)\n"
     ]
    }
   ],
   "source": [
    "all_data = np.empty((1,475))\n",
    "for i in range(1609):\n",
    "  try:\n",
    "    all_data = np.concatenate((all_data,pd.read_csv('/Users/michaelsong/Documents/GitHub/starzam/Data_v3/'+str(i)+'.csv',delimiter=',').to_numpy()), axis=0)\n",
    "  except:\n",
    "    continue\n",
    "all_data = all_data[1:].T[1:].T\n",
    "print(all_data.shape)\n",
    "# pd.read_csv('/content/drive/MyDrive/Research - Yihong Song and Rohit Prasanna/Yihong/Data_v2/0.csv',delimiter=',').to_numpy"
   ]
  },
  {
   "cell_type": "code",
   "execution_count": 22,
   "metadata": {},
   "outputs": [
    {
     "name": "stdout",
     "output_type": "stream",
     "text": [
      "[[7.57137000e+05 4.75100000e+03 2.38300000e+00 ... 5.85052317e+00\n",
      "  9.69580351e+00 7.87920306e+00]\n",
      " [7.57137000e+05 4.75100000e+03 2.38300000e+00 ... 4.51275398e+00\n",
      "  4.17921295e+00 5.35710573e+00]\n",
      " [7.57137000e+05 4.75100000e+03 2.38300000e+00 ... 2.39391900e+00\n",
      "  3.23821209e+00 3.50633041e+00]\n",
      " ...\n",
      " [1.24553570e+07 4.63300000e+03 2.35500000e+00 ... 7.22105298e+00\n",
      "  6.25722946e+00 6.97677380e+00]\n",
      " [1.24553570e+07 4.63300000e+03 2.35500000e+00 ... 5.24570461e+00\n",
      "  6.56183340e+00 5.67633786e+00]\n",
      " [1.24553570e+07 4.63300000e+03 2.35500000e+00 ... 5.01127168e+00\n",
      "  5.92280860e+00 4.84215917e+00]]\n",
      "[4751. 4751. 4751. ... 4633. 4633. 4633.]\n"
     ]
    }
   ],
   "source": [
    "print(all_data)\n",
    "print(all_data.T[1])"
   ]
  },
  {
   "cell_type": "code",
   "execution_count": 23,
   "metadata": {},
   "outputs": [],
   "source": [
    "def isolate_observations(data):\n",
    "    kic = 0\n",
    "    res = np.empty((1,474))\n",
    "    for i in range(len(data)):\n",
    "        if(data[i][0]!=kic):\n",
    "            kic = data[i][0]\n",
    "            res = np.vstack((res,data[i]))\n",
    "    return res\n",
    "\n",
    "# iso_data = isolate_observations(all_data).T[:10].T\n",
    "# print(iso_data)"
   ]
  },
  {
   "cell_type": "code",
   "execution_count": 24,
   "metadata": {},
   "outputs": [
    {
     "name": "stdout",
     "output_type": "stream",
     "text": [
      "(77197, 108) (77197, 2)\n",
      "(77197,)\n",
      "[4751. 4751. 4751. ... 4633. 4633. 4633.]\n",
      "[1.         4.20230387 5.08429584 2.8705257  3.03384979 3.09656549\n",
      " 3.75869284 3.02637558 3.31568472 3.41449566 3.89064309 4.46707678\n",
      " 2.84617214 4.34024907 4.44872399 5.03072533 2.98603345 3.9704044\n",
      " 4.04709734 2.80572554 2.4993625  2.28989815 2.79916182 3.17560122\n",
      " 2.09595172 1.70385558 2.22020202 1.28954937 1.33034144 1.36817343\n",
      " 1.44803374 1.22482013 1.17279956 1.15741269 1.02777875 0.83268147\n",
      " 1.07621558 1.01634899 1.04705778 0.75180739 0.98345645 0.52860498\n",
      " 0.64266898 0.91150894 0.64917226 0.72432438 0.53779949 0.42462443\n",
      " 0.3537338  0.4926552  0.78995761 0.55776332 0.57220055 0.57275563\n",
      " 0.49731549 0.43799971 0.4458369  0.45464592 0.62300697 0.3417187\n",
      " 0.4578065  0.49357301 0.48549321 0.46430902 0.59852467 0.39175011\n",
      " 0.46451555 0.35469993 0.4856069  0.31489359 0.29580494 0.37052073\n",
      " 0.34718435 0.3317955  0.37470149 0.33784652 0.34154617 0.28003836\n",
      " 0.34905947 0.35260452 0.31909339 0.28457844 0.3655531  0.28609421\n",
      " 0.27287525 0.32178996 0.29187161 0.32573694 0.31521757 0.29602352\n",
      " 0.31155542 0.26815045 0.25072878 0.32193828 0.30793917 0.17823744\n",
      " 0.27003274 0.21051989 0.27442812 0.3138275  0.23659274 0.21468438\n",
      " 0.22612513 0.26652898 0.21920029 0.26014059 0.21784751 0.26493008]\n"
     ]
    }
   ],
   "source": [
    "def extract_xy(all_data):\n",
    "    all_x = all_data.T[3:111].T\n",
    "    all_y = all_data.T[1:3].T\n",
    "    print(all_x.shape,all_y.shape)\n",
    "    teff_y = all_y.T[0].T\n",
    "    print(teff_y.shape)\n",
    "    print(teff_y)\n",
    "    print(all_x[1])\n",
    "    return all_x,teff_y\n",
    "\n",
    "all_x,teff_y = extract_xy(all_data)"
   ]
  },
  {
   "cell_type": "code",
   "execution_count": 25,
   "metadata": {},
   "outputs": [],
   "source": [
    "def normalize_with_moments(X_train, axes=0, epsilon=1e-8,keep_dims=True):\n",
    "    x = tf.convert_to_tensor(X_train)\n",
    "    mean, variance = tf.nn.moments(x, axes=axes)\n",
    "    x_normed = (x - mean) / tf.sqrt(variance + epsilon) # epsilon to avoid dividing by zero\n",
    "    return x_normed\n",
    "\n",
    "def normalize_x(x):\n",
    "    x = x.T\n",
    "    for i in range(len(x)):\n",
    "        x[i] = x[i] / np.linalg.norm(x[i])\n",
    "    return x.T"
   ]
  },
  {
   "cell_type": "code",
   "execution_count": 26,
   "metadata": {},
   "outputs": [],
   "source": [
    "# teff_y = normalize_with_moments(teff_y).numpy()\n",
    "# all_x = normalize_x(all_x)\n",
    "# print(teff_y)\n",
    "# print(all_x)"
   ]
  },
  {
   "cell_type": "code",
   "execution_count": 27,
   "metadata": {},
   "outputs": [
    {
     "name": "stdout",
     "output_type": "stream",
     "text": [
      "[1.         4.20230387 5.08429584 2.8705257  3.03384979 3.09656549\n",
      " 3.75869284 3.02637558 3.31568472 3.41449566 3.89064309 4.46707678\n",
      " 2.84617214 4.34024907 4.44872399 5.03072533 2.98603345 3.9704044\n",
      " 4.04709734 2.80572554 2.4993625  2.28989815 2.79916182 3.17560122\n",
      " 2.09595172 1.70385558 2.22020202 1.28954937 1.33034144 1.36817343\n",
      " 1.44803374 1.22482013 1.17279956 1.15741269 1.02777875 0.83268147\n",
      " 1.07621558 1.01634899 1.04705778 0.75180739 0.98345645 0.52860498\n",
      " 0.64266898 0.91150894 0.64917226 0.72432438 0.53779949 0.42462443\n",
      " 0.3537338  0.4926552  0.78995761 0.55776332 0.57220055 0.57275563\n",
      " 0.49731549 0.43799971 0.4458369  0.45464592 0.62300697 0.3417187\n",
      " 0.4578065  0.49357301 0.48549321 0.46430902 0.59852467 0.39175011\n",
      " 0.46451555 0.35469993 0.4856069  0.31489359 0.29580494 0.37052073\n",
      " 0.34718435 0.3317955  0.37470149 0.33784652 0.34154617 0.28003836\n",
      " 0.34905947 0.35260452 0.31909339 0.28457844 0.3655531  0.28609421\n",
      " 0.27287525 0.32178996 0.29187161 0.32573694 0.31521757 0.29602352\n",
      " 0.31155542 0.26815045 0.25072878 0.32193828 0.30793917 0.17823744\n",
      " 0.27003274 0.21051989 0.27442812 0.3138275  0.23659274 0.21468438\n",
      " 0.22612513 0.26652898 0.21920029 0.26014059 0.21784751 0.26493008]\n"
     ]
    }
   ],
   "source": [
    "print(all_x[1])"
   ]
  },
  {
   "cell_type": "markdown",
   "metadata": {},
   "source": [
    "# Machine Learning"
   ]
  },
  {
   "cell_type": "code",
   "execution_count": 28,
   "metadata": {},
   "outputs": [
    {
     "name": "stdout",
     "output_type": "stream",
     "text": [
      "(61757, 108) (15440, 108) (61757,) (15440,)\n",
      "(61757, 108) (15440, 108) (61757,) (15440,)\n"
     ]
    }
   ],
   "source": [
    "train_x,test_x,train_y,test_y=train_test_split(all_x, teff_y, test_size=0.20, random_state=42)\n",
    "print(train_x.shape,test_x.shape,train_y.shape,test_y.shape)\n",
    "train_x = np.asarray(train_x).astype('float32')\n",
    "test_x = np.asarray(test_x).astype('float32')\n",
    "train_y = np.asarray(train_y).astype('float32')\n",
    "test_y = np.asarray(test_y).astype('float32')\n",
    "print(train_x.shape,test_x.shape,train_y.shape,test_y.shape)"
   ]
  },
  {
   "cell_type": "code",
   "execution_count": 29,
   "metadata": {},
   "outputs": [
    {
     "name": "stdout",
     "output_type": "stream",
     "text": [
      "Model: \"sequential\"\n",
      "_________________________________________________________________\n",
      "Layer (type)                 Output Shape              Param #   \n",
      "=================================================================\n",
      "dense (Dense)                (None, 2048)              223232    \n",
      "_________________________________________________________________\n",
      "dense_1 (Dense)              (None, 1024)              2098176   \n",
      "_________________________________________________________________\n",
      "dense_2 (Dense)              (None, 256)               262400    \n",
      "_________________________________________________________________\n",
      "dense_3 (Dense)              (None, 32)                8224      \n",
      "_________________________________________________________________\n",
      "dense_4 (Dense)              (None, 4)                 132       \n",
      "_________________________________________________________________\n",
      "dense_5 (Dense)              (None, 2)                 10        \n",
      "_________________________________________________________________\n",
      "dense_6 (Dense)              (None, 1)                 3         \n",
      "=================================================================\n",
      "Total params: 2,592,177\n",
      "Trainable params: 2,592,177\n",
      "Non-trainable params: 0\n",
      "_________________________________________________________________\n"
     ]
    },
    {
     "name": "stderr",
     "output_type": "stream",
     "text": [
      "2021-12-15 11:06:48.857928: I tensorflow/core/common_runtime/pluggable_device/pluggable_device_factory.cc:305] Could not identify NUMA node of platform GPU ID 0, defaulting to 0. Your kernel may not have been built with NUMA support.\n",
      "2021-12-15 11:06:48.857946: I tensorflow/core/common_runtime/pluggable_device/pluggable_device_factory.cc:271] Created TensorFlow device (/device:GPU:0 with 0 MB memory) -> physical PluggableDevice (device: 0, name: METAL, pci bus id: <undefined>)\n"
     ]
    }
   ],
   "source": [
    "tf.test.gpu_device_name() # No GPU Sad :v\n",
    "# tf.config.optimizer.set_jit(True)\n",
    "keras.backend.clear_session()\n",
    "# model = models.Sequential()\n",
    "\n",
    "# model.add(layers.Conv1D(1024, 1, activation='relu',batch_input_shape=train_x.shape))\n",
    "# model.add(layers.Dense(128))\n",
    "# model.add(layers.Conv1D(32, 1, activation='relu'))\n",
    "# model.add(layers.Dense(1,activation=\"sigmoid\"))\n",
    "\n",
    "# model.summary()\n",
    "model = models.Sequential()\n",
    "#model.add(layers.Conv1D(filters=16, kernel_size=1, activation='relu', batch_input_shape=(train_x.shape)))\n",
    "\n",
    "#model.add(layers.Embedding(input_dim=64, output_dim=16))\n",
    "#model.add(layers.LSTM(128,dr\n",
    "# opout=0.2,recurrent_dropout=0.2,input_dim=(train_x.shape[2])))\n",
    "#model.add(layers.Conv1D(1024,1,activation='relu',input_shape=(train_x.shape)))\n",
    "#model.add(layers.Conv1D(256,1,activation='relu'))\n",
    "model.add(layers.Dense(2048, activation=\"relu\", input_shape=((108,))))\n",
    "model.add(layers.Dense(1024, activation=\"relu\"))\n",
    "model.add(layers.Dense(256, activation=\"relu\"))\n",
    "model.add(layers.Dense(32, activation=\"relu\"))\n",
    "model.add(layers.Dense(4, activation=\"relu\"))\n",
    "model.add(layers.Dense(2, activation=\"relu\"))\n",
    "model.add(layers.Dense(1))\n",
    "model.summary()"
   ]
  },
  {
   "cell_type": "code",
   "execution_count": 30,
   "metadata": {},
   "outputs": [],
   "source": [
    "model.compile(optimizer='adam', loss='mse', metrics=['accuracy'])\n",
    "# reduce_lr = keras.callbacks.ReduceLROnPlateau(monitor='val_loss', factor=0.2,\n",
    "#                               patience=5, min_lr=0.001)\n",
    "monitor = keras.callbacks.EarlyStopping(monitor='val_loss', min_delta=1e-4, \n",
    "        patience=30, verbose=1, mode='auto',\n",
    "        restore_best_weights=True)"
   ]
  },
  {
   "cell_type": "code",
   "execution_count": 31,
   "metadata": {},
   "outputs": [
    {
     "name": "stdout",
     "output_type": "stream",
     "text": [
      "Epoch 1/1000\n"
     ]
    },
    {
     "name": "stderr",
     "output_type": "stream",
     "text": [
      "2021-12-15 11:06:49.128667: I tensorflow/core/grappler/optimizers/custom_graph_optimizer_registry.cc:112] Plugin optimizer for device_type GPU is enabled.\n",
      "2021-12-15 11:07:02.160974: I tensorflow/core/grappler/optimizers/custom_graph_optimizer_registry.cc:112] Plugin optimizer for device_type GPU is enabled.\n"
     ]
    },
    {
     "name": "stdout",
     "output_type": "stream",
     "text": [
      "1930/1930 - 15s - loss: 771852.5000 - accuracy: 0.0000e+00 - val_loss: 60016.2500 - val_accuracy: 0.0000e+00\n",
      "Epoch 2/1000\n",
      "1930/1930 - 14s - loss: 60050.2500 - accuracy: 0.0000e+00 - val_loss: 64590.8945 - val_accuracy: 0.0000e+00\n",
      "Epoch 3/1000\n",
      "1930/1930 - 14s - loss: 63724.8633 - accuracy: 0.0000e+00 - val_loss: 33562.6680 - val_accuracy: 0.0000e+00\n",
      "Epoch 4/1000\n",
      "1930/1930 - 14s - loss: 54365.7031 - accuracy: 0.0000e+00 - val_loss: 36572.9297 - val_accuracy: 0.0000e+00\n",
      "Epoch 5/1000\n",
      "1930/1930 - 14s - loss: 54792.6914 - accuracy: 0.0000e+00 - val_loss: 143311.8281 - val_accuracy: 0.0000e+00\n",
      "Epoch 6/1000\n",
      "1930/1930 - 14s - loss: 52407.0898 - accuracy: 0.0000e+00 - val_loss: 39030.5312 - val_accuracy: 0.0000e+00\n",
      "Epoch 7/1000\n",
      "1930/1930 - 14s - loss: 46828.4688 - accuracy: 0.0000e+00 - val_loss: 35333.5391 - val_accuracy: 0.0000e+00\n",
      "Epoch 8/1000\n",
      "1930/1930 - 14s - loss: 46631.4688 - accuracy: 0.0000e+00 - val_loss: 34675.5430 - val_accuracy: 0.0000e+00\n",
      "Epoch 9/1000\n",
      "1930/1930 - 14s - loss: 45010.5195 - accuracy: 0.0000e+00 - val_loss: 33361.8242 - val_accuracy: 0.0000e+00\n",
      "Epoch 10/1000\n",
      "1930/1930 - 14s - loss: 44806.6367 - accuracy: 0.0000e+00 - val_loss: 38988.2031 - val_accuracy: 0.0000e+00\n",
      "Epoch 11/1000\n",
      "1930/1930 - 14s - loss: 44695.5742 - accuracy: 0.0000e+00 - val_loss: 74370.4141 - val_accuracy: 0.0000e+00\n",
      "Epoch 12/1000\n",
      "1930/1930 - 14s - loss: 43151.4258 - accuracy: 0.0000e+00 - val_loss: 41425.9531 - val_accuracy: 0.0000e+00\n",
      "Epoch 13/1000\n",
      "1930/1930 - 14s - loss: 39404.5859 - accuracy: 0.0000e+00 - val_loss: 34312.7188 - val_accuracy: 0.0000e+00\n",
      "Epoch 14/1000\n",
      "1930/1930 - 14s - loss: 41124.8125 - accuracy: 0.0000e+00 - val_loss: 30944.5332 - val_accuracy: 0.0000e+00\n",
      "Epoch 15/1000\n",
      "1930/1930 - 14s - loss: 39480.5742 - accuracy: 0.0000e+00 - val_loss: 61615.5039 - val_accuracy: 0.0000e+00\n",
      "Epoch 16/1000\n",
      "1930/1930 - 14s - loss: 39554.6484 - accuracy: 0.0000e+00 - val_loss: 38017.6289 - val_accuracy: 0.0000e+00\n",
      "Epoch 17/1000\n",
      "1930/1930 - 14s - loss: 38777.7578 - accuracy: 0.0000e+00 - val_loss: 56095.6016 - val_accuracy: 0.0000e+00\n",
      "Epoch 18/1000\n",
      "1930/1930 - 14s - loss: 38615.6953 - accuracy: 0.0000e+00 - val_loss: 29693.0762 - val_accuracy: 0.0000e+00\n",
      "Epoch 19/1000\n",
      "1930/1930 - 14s - loss: 38987.5391 - accuracy: 0.0000e+00 - val_loss: 32953.7188 - val_accuracy: 0.0000e+00\n",
      "Epoch 20/1000\n",
      "1930/1930 - 14s - loss: 37349.3633 - accuracy: 0.0000e+00 - val_loss: 56710.6211 - val_accuracy: 0.0000e+00\n",
      "Epoch 21/1000\n",
      "1930/1930 - 14s - loss: 37027.5703 - accuracy: 0.0000e+00 - val_loss: 29257.4980 - val_accuracy: 0.0000e+00\n",
      "Epoch 22/1000\n",
      "1930/1930 - 14s - loss: 36175.1211 - accuracy: 0.0000e+00 - val_loss: 35301.7695 - val_accuracy: 0.0000e+00\n",
      "Epoch 23/1000\n",
      "1930/1930 - 14s - loss: 35302.3320 - accuracy: 0.0000e+00 - val_loss: 31721.8906 - val_accuracy: 0.0000e+00\n",
      "Epoch 24/1000\n",
      "1930/1930 - 14s - loss: 36827.0664 - accuracy: 0.0000e+00 - val_loss: 28770.1562 - val_accuracy: 0.0000e+00\n",
      "Epoch 25/1000\n",
      "1930/1930 - 14s - loss: 35374.3320 - accuracy: 0.0000e+00 - val_loss: 28854.6250 - val_accuracy: 0.0000e+00\n",
      "Epoch 26/1000\n",
      "1930/1930 - 14s - loss: 35304.4688 - accuracy: 0.0000e+00 - val_loss: 73819.2969 - val_accuracy: 0.0000e+00\n",
      "Epoch 27/1000\n",
      "1930/1930 - 14s - loss: 34787.2188 - accuracy: 0.0000e+00 - val_loss: 30148.9531 - val_accuracy: 0.0000e+00\n",
      "Epoch 28/1000\n",
      "1930/1930 - 14s - loss: 33217.3359 - accuracy: 0.0000e+00 - val_loss: 28891.7754 - val_accuracy: 0.0000e+00\n",
      "Epoch 29/1000\n",
      "1930/1930 - 14s - loss: 34768.6172 - accuracy: 0.0000e+00 - val_loss: 30100.5059 - val_accuracy: 0.0000e+00\n",
      "Epoch 30/1000\n",
      "1930/1930 - 14s - loss: 33414.8203 - accuracy: 0.0000e+00 - val_loss: 29830.5586 - val_accuracy: 0.0000e+00\n",
      "Epoch 31/1000\n",
      "1930/1930 - 14s - loss: 33500.6367 - accuracy: 0.0000e+00 - val_loss: 29389.4961 - val_accuracy: 0.0000e+00\n",
      "Epoch 32/1000\n",
      "1930/1930 - 14s - loss: 34161.9492 - accuracy: 0.0000e+00 - val_loss: 28500.6387 - val_accuracy: 0.0000e+00\n",
      "Epoch 33/1000\n",
      "1930/1930 - 14s - loss: 32193.3984 - accuracy: 0.0000e+00 - val_loss: 29515.5137 - val_accuracy: 0.0000e+00\n",
      "Epoch 34/1000\n",
      "1930/1930 - 14s - loss: 32935.1523 - accuracy: 0.0000e+00 - val_loss: 32537.8730 - val_accuracy: 0.0000e+00\n",
      "Epoch 35/1000\n",
      "1930/1930 - 14s - loss: 32381.9551 - accuracy: 0.0000e+00 - val_loss: 63074.1133 - val_accuracy: 0.0000e+00\n",
      "Epoch 36/1000\n",
      "1930/1930 - 14s - loss: 32670.9805 - accuracy: 0.0000e+00 - val_loss: 40832.8047 - val_accuracy: 0.0000e+00\n",
      "Epoch 37/1000\n",
      "1930/1930 - 14s - loss: 32694.8867 - accuracy: 0.0000e+00 - val_loss: 27648.5645 - val_accuracy: 0.0000e+00\n",
      "Epoch 38/1000\n",
      "1930/1930 - 14s - loss: 32133.8711 - accuracy: 0.0000e+00 - val_loss: 28759.8379 - val_accuracy: 0.0000e+00\n",
      "Epoch 39/1000\n",
      "1930/1930 - 14s - loss: 32456.0312 - accuracy: 0.0000e+00 - val_loss: 32506.8105 - val_accuracy: 0.0000e+00\n",
      "Epoch 40/1000\n",
      "1930/1930 - 14s - loss: 31453.7930 - accuracy: 0.0000e+00 - val_loss: 29528.6992 - val_accuracy: 0.0000e+00\n",
      "Epoch 41/1000\n",
      "1930/1930 - 14s - loss: 32018.6445 - accuracy: 0.0000e+00 - val_loss: 30442.1914 - val_accuracy: 0.0000e+00\n",
      "Epoch 42/1000\n",
      "1930/1930 - 14s - loss: 32484.9297 - accuracy: 0.0000e+00 - val_loss: 33753.7305 - val_accuracy: 0.0000e+00\n",
      "Epoch 43/1000\n",
      "1930/1930 - 14s - loss: 31469.3359 - accuracy: 0.0000e+00 - val_loss: 32157.7285 - val_accuracy: 0.0000e+00\n",
      "Epoch 44/1000\n",
      "1930/1930 - 14s - loss: 31944.1758 - accuracy: 0.0000e+00 - val_loss: 27890.6797 - val_accuracy: 0.0000e+00\n",
      "Epoch 45/1000\n",
      "1930/1930 - 14s - loss: 30428.3086 - accuracy: 0.0000e+00 - val_loss: 28698.6387 - val_accuracy: 0.0000e+00\n",
      "Epoch 46/1000\n",
      "1930/1930 - 13s - loss: 30927.2188 - accuracy: 0.0000e+00 - val_loss: 43542.3789 - val_accuracy: 0.0000e+00\n",
      "Epoch 47/1000\n",
      "1930/1930 - 13s - loss: 30935.5781 - accuracy: 0.0000e+00 - val_loss: 31307.3945 - val_accuracy: 0.0000e+00\n",
      "Epoch 48/1000\n",
      "1930/1930 - 13s - loss: 31556.7676 - accuracy: 0.0000e+00 - val_loss: 29792.3281 - val_accuracy: 0.0000e+00\n",
      "Epoch 49/1000\n",
      "1930/1930 - 13s - loss: 30132.0508 - accuracy: 0.0000e+00 - val_loss: 43567.7852 - val_accuracy: 0.0000e+00\n",
      "Epoch 50/1000\n",
      "1930/1930 - 14s - loss: 30890.4043 - accuracy: 0.0000e+00 - val_loss: 26994.1953 - val_accuracy: 0.0000e+00\n",
      "Epoch 51/1000\n",
      "1930/1930 - 14s - loss: 30630.1172 - accuracy: 0.0000e+00 - val_loss: 32915.3828 - val_accuracy: 0.0000e+00\n",
      "Epoch 52/1000\n",
      "1930/1930 - 14s - loss: 30137.8477 - accuracy: 0.0000e+00 - val_loss: 27986.6895 - val_accuracy: 0.0000e+00\n",
      "Epoch 53/1000\n",
      "1930/1930 - 14s - loss: 30624.8223 - accuracy: 0.0000e+00 - val_loss: 28708.6914 - val_accuracy: 0.0000e+00\n",
      "Epoch 54/1000\n",
      "1930/1930 - 14s - loss: 30238.6250 - accuracy: 0.0000e+00 - val_loss: 40365.8047 - val_accuracy: 0.0000e+00\n",
      "Epoch 55/1000\n",
      "1930/1930 - 14s - loss: 29223.3457 - accuracy: 0.0000e+00 - val_loss: 31143.6094 - val_accuracy: 0.0000e+00\n",
      "Epoch 56/1000\n",
      "1930/1930 - 14s - loss: 30351.1914 - accuracy: 0.0000e+00 - val_loss: 29814.0430 - val_accuracy: 0.0000e+00\n",
      "Epoch 57/1000\n",
      "1930/1930 - 14s - loss: 29485.4531 - accuracy: 0.0000e+00 - val_loss: 27893.9414 - val_accuracy: 0.0000e+00\n",
      "Epoch 58/1000\n",
      "1930/1930 - 14s - loss: 30143.2832 - accuracy: 0.0000e+00 - val_loss: 55875.6289 - val_accuracy: 0.0000e+00\n",
      "Epoch 59/1000\n",
      "1930/1930 - 14s - loss: 29967.9395 - accuracy: 0.0000e+00 - val_loss: 28276.3105 - val_accuracy: 0.0000e+00\n",
      "Epoch 60/1000\n",
      "1930/1930 - 14s - loss: 28520.0391 - accuracy: 0.0000e+00 - val_loss: 32728.5879 - val_accuracy: 0.0000e+00\n",
      "Epoch 61/1000\n",
      "1930/1930 - 14s - loss: 30145.7266 - accuracy: 0.0000e+00 - val_loss: 39634.2031 - val_accuracy: 0.0000e+00\n",
      "Epoch 62/1000\n",
      "1930/1930 - 14s - loss: 29222.0625 - accuracy: 0.0000e+00 - val_loss: 30923.5117 - val_accuracy: 0.0000e+00\n",
      "Epoch 63/1000\n",
      "1930/1930 - 14s - loss: 29243.9668 - accuracy: 0.0000e+00 - val_loss: 29159.1465 - val_accuracy: 0.0000e+00\n",
      "Epoch 64/1000\n",
      "1930/1930 - 14s - loss: 29522.8281 - accuracy: 0.0000e+00 - val_loss: 33442.3984 - val_accuracy: 0.0000e+00\n",
      "Epoch 65/1000\n",
      "1930/1930 - 14s - loss: 29974.7559 - accuracy: 0.0000e+00 - val_loss: 29080.4121 - val_accuracy: 0.0000e+00\n",
      "Epoch 66/1000\n",
      "1930/1930 - 14s - loss: 28898.8828 - accuracy: 0.0000e+00 - val_loss: 45114.3438 - val_accuracy: 0.0000e+00\n",
      "Epoch 67/1000\n",
      "1930/1930 - 14s - loss: 29489.5488 - accuracy: 0.0000e+00 - val_loss: 28351.9453 - val_accuracy: 0.0000e+00\n",
      "Epoch 68/1000\n",
      "1930/1930 - 14s - loss: 28688.9531 - accuracy: 0.0000e+00 - val_loss: 27605.3301 - val_accuracy: 0.0000e+00\n",
      "Epoch 69/1000\n",
      "1930/1930 - 14s - loss: 29454.2422 - accuracy: 0.0000e+00 - val_loss: 36475.8398 - val_accuracy: 0.0000e+00\n",
      "Epoch 70/1000\n",
      "1930/1930 - 14s - loss: 29244.9785 - accuracy: 0.0000e+00 - val_loss: 31542.8809 - val_accuracy: 0.0000e+00\n",
      "Epoch 71/1000\n",
      "1930/1930 - 14s - loss: 28428.5371 - accuracy: 0.0000e+00 - val_loss: 27098.5000 - val_accuracy: 0.0000e+00\n",
      "Epoch 72/1000\n",
      "1930/1930 - 14s - loss: 28365.7598 - accuracy: 0.0000e+00 - val_loss: 26796.6992 - val_accuracy: 0.0000e+00\n",
      "Epoch 73/1000\n",
      "1930/1930 - 14s - loss: 28927.4902 - accuracy: 0.0000e+00 - val_loss: 27501.1328 - val_accuracy: 0.0000e+00\n",
      "Epoch 74/1000\n",
      "1930/1930 - 14s - loss: 28124.8613 - accuracy: 0.0000e+00 - val_loss: 27622.0332 - val_accuracy: 0.0000e+00\n",
      "Epoch 75/1000\n",
      "1930/1930 - 14s - loss: 28871.1191 - accuracy: 0.0000e+00 - val_loss: 28626.5371 - val_accuracy: 0.0000e+00\n",
      "Epoch 76/1000\n",
      "1930/1930 - 14s - loss: 28192.9199 - accuracy: 0.0000e+00 - val_loss: 30581.6836 - val_accuracy: 0.0000e+00\n",
      "Epoch 77/1000\n",
      "1930/1930 - 13s - loss: 28181.2305 - accuracy: 0.0000e+00 - val_loss: 54142.0625 - val_accuracy: 0.0000e+00\n",
      "Epoch 78/1000\n",
      "1930/1930 - 14s - loss: 27756.8652 - accuracy: 0.0000e+00 - val_loss: 29675.8809 - val_accuracy: 0.0000e+00\n",
      "Epoch 79/1000\n",
      "1930/1930 - 13s - loss: 28246.0254 - accuracy: 0.0000e+00 - val_loss: 28464.4414 - val_accuracy: 0.0000e+00\n",
      "Epoch 80/1000\n",
      "1930/1930 - 14s - loss: 27956.1895 - accuracy: 0.0000e+00 - val_loss: 27266.3594 - val_accuracy: 0.0000e+00\n",
      "Epoch 81/1000\n",
      "1930/1930 - 14s - loss: 28740.5469 - accuracy: 0.0000e+00 - val_loss: 27961.8730 - val_accuracy: 0.0000e+00\n",
      "Epoch 82/1000\n",
      "1930/1930 - 14s - loss: 27770.4941 - accuracy: 0.0000e+00 - val_loss: 26876.9551 - val_accuracy: 0.0000e+00\n",
      "Epoch 83/1000\n",
      "1930/1930 - 14s - loss: 28032.6738 - accuracy: 0.0000e+00 - val_loss: 36750.9336 - val_accuracy: 0.0000e+00\n",
      "Epoch 84/1000\n",
      "1930/1930 - 14s - loss: 27608.7227 - accuracy: 0.0000e+00 - val_loss: 34593.2852 - val_accuracy: 0.0000e+00\n",
      "Epoch 85/1000\n",
      "1930/1930 - 14s - loss: 27971.6035 - accuracy: 0.0000e+00 - val_loss: 43311.7578 - val_accuracy: 0.0000e+00\n",
      "Epoch 86/1000\n",
      "1930/1930 - 14s - loss: 27500.1680 - accuracy: 0.0000e+00 - val_loss: 30481.7617 - val_accuracy: 0.0000e+00\n",
      "Epoch 87/1000\n",
      "1930/1930 - 14s - loss: 27519.6445 - accuracy: 0.0000e+00 - val_loss: 26823.2559 - val_accuracy: 0.0000e+00\n",
      "Epoch 88/1000\n",
      "1930/1930 - 14s - loss: 27773.9668 - accuracy: 0.0000e+00 - val_loss: 26902.3984 - val_accuracy: 0.0000e+00\n",
      "Epoch 89/1000\n",
      "1930/1930 - 14s - loss: 27681.6914 - accuracy: 0.0000e+00 - val_loss: 28399.0410 - val_accuracy: 0.0000e+00\n",
      "Epoch 90/1000\n",
      "1930/1930 - 14s - loss: 27203.2656 - accuracy: 0.0000e+00 - val_loss: 28998.1133 - val_accuracy: 0.0000e+00\n",
      "Epoch 91/1000\n",
      "1930/1930 - 14s - loss: 27623.8789 - accuracy: 0.0000e+00 - val_loss: 27236.6602 - val_accuracy: 0.0000e+00\n",
      "Epoch 92/1000\n",
      "1930/1930 - 14s - loss: 27636.8184 - accuracy: 0.0000e+00 - val_loss: 27796.9180 - val_accuracy: 0.0000e+00\n",
      "Epoch 93/1000\n",
      "1930/1930 - 14s - loss: 27770.5898 - accuracy: 0.0000e+00 - val_loss: 28361.5879 - val_accuracy: 0.0000e+00\n",
      "Epoch 94/1000\n",
      "1930/1930 - 14s - loss: 27435.6055 - accuracy: 0.0000e+00 - val_loss: 26797.4492 - val_accuracy: 0.0000e+00\n",
      "Epoch 95/1000\n",
      "1930/1930 - 14s - loss: 27434.2402 - accuracy: 0.0000e+00 - val_loss: 28022.1699 - val_accuracy: 0.0000e+00\n",
      "Epoch 96/1000\n",
      "1930/1930 - 14s - loss: 26982.4258 - accuracy: 0.0000e+00 - val_loss: 26665.2793 - val_accuracy: 0.0000e+00\n",
      "Epoch 97/1000\n",
      "1930/1930 - 14s - loss: 27320.7832 - accuracy: 0.0000e+00 - val_loss: 38470.3672 - val_accuracy: 0.0000e+00\n",
      "Epoch 98/1000\n",
      "1930/1930 - 14s - loss: 27069.2676 - accuracy: 0.0000e+00 - val_loss: 27913.8145 - val_accuracy: 0.0000e+00\n",
      "Epoch 99/1000\n",
      "1930/1930 - 14s - loss: 27272.1094 - accuracy: 0.0000e+00 - val_loss: 32769.3125 - val_accuracy: 0.0000e+00\n",
      "Epoch 100/1000\n",
      "1930/1930 - 14s - loss: 26823.1465 - accuracy: 0.0000e+00 - val_loss: 33940.2148 - val_accuracy: 0.0000e+00\n",
      "Epoch 101/1000\n",
      "1930/1930 - 14s - loss: 27027.6543 - accuracy: 0.0000e+00 - val_loss: 26703.8711 - val_accuracy: 0.0000e+00\n",
      "Epoch 102/1000\n",
      "1930/1930 - 14s - loss: 26629.3223 - accuracy: 0.0000e+00 - val_loss: 27069.9629 - val_accuracy: 0.0000e+00\n",
      "Epoch 103/1000\n",
      "1930/1930 - 14s - loss: 27017.6289 - accuracy: 0.0000e+00 - val_loss: 28172.0020 - val_accuracy: 0.0000e+00\n",
      "Epoch 104/1000\n",
      "1930/1930 - 14s - loss: 27256.0566 - accuracy: 0.0000e+00 - val_loss: 26932.8496 - val_accuracy: 0.0000e+00\n",
      "Epoch 105/1000\n",
      "1930/1930 - 14s - loss: 26767.9453 - accuracy: 0.0000e+00 - val_loss: 29820.4609 - val_accuracy: 0.0000e+00\n",
      "Epoch 106/1000\n",
      "1930/1930 - 14s - loss: 26135.6055 - accuracy: 0.0000e+00 - val_loss: 31841.0254 - val_accuracy: 0.0000e+00\n",
      "Epoch 107/1000\n",
      "1930/1930 - 14s - loss: 26569.0254 - accuracy: 0.0000e+00 - val_loss: 26773.2617 - val_accuracy: 0.0000e+00\n",
      "Epoch 108/1000\n",
      "1930/1930 - 14s - loss: 26385.8652 - accuracy: 0.0000e+00 - val_loss: 30883.4805 - val_accuracy: 0.0000e+00\n",
      "Epoch 109/1000\n",
      "1930/1930 - 14s - loss: 26231.5723 - accuracy: 0.0000e+00 - val_loss: 30855.5430 - val_accuracy: 0.0000e+00\n",
      "Epoch 110/1000\n",
      "1930/1930 - 14s - loss: 26743.8594 - accuracy: 0.0000e+00 - val_loss: 30064.5508 - val_accuracy: 0.0000e+00\n",
      "Epoch 111/1000\n",
      "1930/1930 - 13s - loss: 26488.7598 - accuracy: 0.0000e+00 - val_loss: 28482.8984 - val_accuracy: 0.0000e+00\n",
      "Epoch 112/1000\n",
      "1930/1930 - 13s - loss: 26037.3809 - accuracy: 0.0000e+00 - val_loss: 27902.3516 - val_accuracy: 0.0000e+00\n",
      "Epoch 113/1000\n",
      "1930/1930 - 14s - loss: 25896.5215 - accuracy: 0.0000e+00 - val_loss: 27084.4609 - val_accuracy: 0.0000e+00\n",
      "Epoch 114/1000\n",
      "1930/1930 - 14s - loss: 26341.8926 - accuracy: 0.0000e+00 - val_loss: 32009.1836 - val_accuracy: 0.0000e+00\n",
      "Epoch 115/1000\n",
      "1930/1930 - 14s - loss: 25995.9023 - accuracy: 0.0000e+00 - val_loss: 28572.5625 - val_accuracy: 0.0000e+00\n",
      "Epoch 116/1000\n",
      "1930/1930 - 14s - loss: 26075.3574 - accuracy: 0.0000e+00 - val_loss: 26327.4199 - val_accuracy: 0.0000e+00\n",
      "Epoch 117/1000\n",
      "1930/1930 - 14s - loss: 26422.3262 - accuracy: 0.0000e+00 - val_loss: 27228.8223 - val_accuracy: 0.0000e+00\n",
      "Epoch 118/1000\n",
      "1930/1930 - 14s - loss: 26326.6562 - accuracy: 0.0000e+00 - val_loss: 28435.3574 - val_accuracy: 0.0000e+00\n",
      "Epoch 119/1000\n",
      "1930/1930 - 14s - loss: 25830.6504 - accuracy: 0.0000e+00 - val_loss: 27935.6289 - val_accuracy: 0.0000e+00\n",
      "Epoch 120/1000\n",
      "1930/1930 - 14s - loss: 25971.7754 - accuracy: 0.0000e+00 - val_loss: 26498.7363 - val_accuracy: 0.0000e+00\n",
      "Epoch 121/1000\n",
      "1930/1930 - 14s - loss: 25863.9375 - accuracy: 0.0000e+00 - val_loss: 27365.4062 - val_accuracy: 0.0000e+00\n",
      "Epoch 122/1000\n",
      "1930/1930 - 14s - loss: 25661.0137 - accuracy: 0.0000e+00 - val_loss: 45334.7461 - val_accuracy: 0.0000e+00\n",
      "Epoch 123/1000\n",
      "1930/1930 - 14s - loss: 26178.4238 - accuracy: 0.0000e+00 - val_loss: 28582.7500 - val_accuracy: 0.0000e+00\n",
      "Epoch 124/1000\n",
      "1930/1930 - 14s - loss: 25737.1719 - accuracy: 0.0000e+00 - val_loss: 28110.4883 - val_accuracy: 0.0000e+00\n",
      "Epoch 125/1000\n",
      "1930/1930 - 14s - loss: 25696.5801 - accuracy: 0.0000e+00 - val_loss: 27402.6113 - val_accuracy: 0.0000e+00\n",
      "Epoch 126/1000\n",
      "1930/1930 - 14s - loss: 25691.2402 - accuracy: 0.0000e+00 - val_loss: 31424.8496 - val_accuracy: 0.0000e+00\n",
      "Epoch 127/1000\n",
      "1930/1930 - 14s - loss: 25531.6230 - accuracy: 0.0000e+00 - val_loss: 27201.8223 - val_accuracy: 0.0000e+00\n",
      "Epoch 128/1000\n",
      "1930/1930 - 14s - loss: 25741.5762 - accuracy: 0.0000e+00 - val_loss: 30652.8164 - val_accuracy: 0.0000e+00\n",
      "Epoch 129/1000\n",
      "1930/1930 - 14s - loss: 25715.6973 - accuracy: 0.0000e+00 - val_loss: 33383.4492 - val_accuracy: 0.0000e+00\n",
      "Epoch 130/1000\n",
      "1930/1930 - 14s - loss: 25809.9238 - accuracy: 0.0000e+00 - val_loss: 26995.8789 - val_accuracy: 0.0000e+00\n",
      "Epoch 131/1000\n",
      "1930/1930 - 14s - loss: 25541.5488 - accuracy: 0.0000e+00 - val_loss: 29551.1133 - val_accuracy: 0.0000e+00\n",
      "Epoch 132/1000\n",
      "1930/1930 - 14s - loss: 25841.2793 - accuracy: 0.0000e+00 - val_loss: 27958.9961 - val_accuracy: 0.0000e+00\n",
      "Epoch 133/1000\n",
      "1930/1930 - 14s - loss: 25164.5469 - accuracy: 0.0000e+00 - val_loss: 27227.7656 - val_accuracy: 0.0000e+00\n",
      "Epoch 134/1000\n",
      "1930/1930 - 14s - loss: 25514.1641 - accuracy: 0.0000e+00 - val_loss: 29675.8105 - val_accuracy: 0.0000e+00\n",
      "Epoch 135/1000\n",
      "1930/1930 - 14s - loss: 25261.5781 - accuracy: 0.0000e+00 - val_loss: 43231.3984 - val_accuracy: 0.0000e+00\n",
      "Epoch 136/1000\n",
      "1930/1930 - 14s - loss: 25348.0723 - accuracy: 0.0000e+00 - val_loss: 28483.7773 - val_accuracy: 0.0000e+00\n",
      "Epoch 137/1000\n",
      "1930/1930 - 14s - loss: 25598.9297 - accuracy: 0.0000e+00 - val_loss: 28552.9102 - val_accuracy: 0.0000e+00\n",
      "Epoch 138/1000\n",
      "1930/1930 - 14s - loss: 25319.5605 - accuracy: 0.0000e+00 - val_loss: 29669.3242 - val_accuracy: 0.0000e+00\n",
      "Epoch 139/1000\n",
      "1930/1930 - 14s - loss: 25092.3926 - accuracy: 0.0000e+00 - val_loss: 28331.9023 - val_accuracy: 0.0000e+00\n",
      "Epoch 140/1000\n",
      "1930/1930 - 14s - loss: 25690.3711 - accuracy: 0.0000e+00 - val_loss: 36911.0000 - val_accuracy: 0.0000e+00\n",
      "Epoch 141/1000\n",
      "1930/1930 - 14s - loss: 25142.8320 - accuracy: 0.0000e+00 - val_loss: 28520.9336 - val_accuracy: 0.0000e+00\n",
      "Epoch 142/1000\n",
      "1930/1930 - 14s - loss: 25411.6875 - accuracy: 0.0000e+00 - val_loss: 28234.8516 - val_accuracy: 0.0000e+00\n",
      "Epoch 143/1000\n",
      "1930/1930 - 14s - loss: 24899.7832 - accuracy: 0.0000e+00 - val_loss: 27848.6660 - val_accuracy: 0.0000e+00\n",
      "Epoch 144/1000\n",
      "1930/1930 - 14s - loss: 25469.0898 - accuracy: 0.0000e+00 - val_loss: 27670.2266 - val_accuracy: 0.0000e+00\n",
      "Epoch 145/1000\n",
      "1930/1930 - 14s - loss: 25149.8750 - accuracy: 0.0000e+00 - val_loss: 27088.0215 - val_accuracy: 0.0000e+00\n",
      "Epoch 146/1000\n",
      "1930/1930 - 14s - loss: 24741.1699 - accuracy: 0.0000e+00 - val_loss: 27021.9590 - val_accuracy: 0.0000e+00\n",
      "Restoring model weights from the end of the best epoch.\n",
      "Epoch 00146: early stopping\n"
     ]
    }
   ],
   "source": [
    "history = model.fit(train_x, train_y, epochs=1000,validation_data=(test_x, test_y),callbacks=[monitor], verbose=2)"
   ]
  },
  {
   "cell_type": "code",
   "execution_count": 41,
   "metadata": {},
   "outputs": [
    {
     "name": "stdout",
     "output_type": "stream",
     "text": [
      "INFO:tensorflow:Assets written to: /Users/michaelsong/Documents/GitHub/starzam/Models/m4.0/assets\n"
     ]
    }
   ],
   "source": [
    "model.save('/Users/michaelsong/Documents/GitHub/starzam/Models/m4.0')"
   ]
  },
  {
   "cell_type": "code",
   "execution_count": 33,
   "metadata": {},
   "outputs": [
    {
     "name": "stderr",
     "output_type": "stream",
     "text": [
      "2021-12-15 11:42:25.848050: I tensorflow/core/grappler/optimizers/custom_graph_optimizer_registry.cc:112] Plugin optimizer for device_type GPU is enabled.\n"
     ]
    },
    {
     "name": "stdout",
     "output_type": "stream",
     "text": [
      "(15440,) (61757,)\n",
      "[5076.4453 4859.4136 5010.996  ... 4834.709  5100.9673 4817.1587]\n",
      "[5333. 4781. 4985. ... 4958. 5016. 4755.]\n"
     ]
    }
   ],
   "source": [
    "\n",
    "pred_test_y = model.predict(test_x).reshape(-1)\n",
    "pred_train_y = model.predict(train_x).reshape(-1)\n",
    "print(pred_test_y.shape,pred_train_y.shape)\n",
    "print(pred_train_y)\n",
    "print(train_y)"
   ]
  },
  {
   "cell_type": "markdown",
   "metadata": {},
   "source": []
  },
  {
   "cell_type": "code",
   "execution_count": 38,
   "metadata": {},
   "outputs": [
    {
     "data": {
      "image/png": "[encoded data removed]",
      "text/plain": [
       "<Figure size 432x288 with 1 Axes>"
      ]
     },
     "metadata": {
      "needs_background": "light"
     },
     "output_type": "display_data"
    }
   ],
   "source": [
    "# plt.scatter(train_y,pred_train_y, c='red', alpha=0.5,s=1)\n",
    "\n",
    "plt.scatter(test_y,pred_test_y, c='blue', alpha=0.5,s=1)\n",
    "\n",
    "linex = np.linspace(3000, 7000)\n",
    "liney = linex\n",
    "lineytop = linex+500\n",
    "lineybot = linex-500\n",
    "# Create the plot\n",
    "plt.plot(linex, liney,c=\"green\")\n",
    "plt.plot(linex, lineytop,c=\"red\")\n",
    "plt.plot(linex, lineybot,c=\"red\")\n",
    "\n",
    "\n",
    "plt.xlim(3000, 7000)\n",
    "plt.ylim(3000, 7000)\n",
    "plt.gca().set_aspect('equal', adjustable='box')\n",
    "plt.show()"
   ]
  },
  {
   "cell_type": "code",
   "execution_count": 39,
   "metadata": {},
   "outputs": [],
   "source": [
    "def normalize1D(data):\n",
    "    return np.divide(np.nan_to_num(data,np.nanmean(data)),np.nanmax(data))"
   ]
  },
  {
   "cell_type": "code",
   "execution_count": 40,
   "metadata": {},
   "outputs": [
    {
     "name": "stdout",
     "output_type": "stream",
     "text": [
      "Mean Sq. Error, Mean Abs. Error\n",
      "0.065643884 0.060897335\n"
     ]
    }
   ],
   "source": [
    "mse = np.sqrt(mean_squared_error(normalize1D(test_y),normalize1D(pred_test_y)))\n",
    "mae = mean_absolute_error(normalize1D(test_y),normalize1D(pred_test_y))\n",
    "print(\"Mean Sq. Error, Mean Abs. Error\")\n",
    "print(mse,mae)"
   ]
  },
  {
   "cell_type": "code",
   "execution_count": null,
   "metadata": {},
   "outputs": [],
   "source": []
  }
 ],
 "metadata": {
  "interpreter": {
   "hash": "47065cae1920ebace9a059c93d67134c9a065e51e3ecb9809a1abf9fcf371550"
  },
  "kernelspec": {
   "display_name": "Python 3.9.7 64-bit ('base': conda)",
   "name": "python3"
  },
  "language_info": {
   "codemirror_mode": {
    "name": "ipython",
    "version": 3
   },
   "file_extension": ".py",
   "mimetype": "text/x-python",
   "name": "python",
   "nbconvert_exporter": "python",
   "pygments_lexer": "ipython3",
   "version": "3.9.7"
  },
  "orig_nbformat": 4
 },
 "nbformat": 4,
 "nbformat_minor": 2
}
