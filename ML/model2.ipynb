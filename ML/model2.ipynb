{
 "cells": [
  {
   "cell_type": "markdown",
   "metadata": {},
   "source": [
    "# Import"
   ]
  },
  {
   "cell_type": "code",
   "execution_count": 1,
   "metadata": {},
   "outputs": [],
   "source": [
    "import os\n",
    "import numpy as np\n",
    "\n",
    "from astropy.io import fits\n",
    "from matplotlib import pyplot as plt\n",
    "import numpy as np\n",
    "import lightkurve as lk\n",
    "from astroquery.simbad import Simbad\n",
    "import pandas as pd \n",
    "from numpy import genfromtxt\n",
    "from sklearn.preprocessing import normalize\n",
    "\n",
    "# #tf\n",
    "from __future__ import absolute_import, division, print_function, unicode_literals\n",
    "import tensorflow as tf\n",
    "from tensorflow import keras\n",
    "from tensorflow.keras import datasets, layers, models\n",
    "\n",
    "\n",
    "from sklearn.model_selection import train_test_split\n",
    "from sklearn.linear_model import LinearRegression\n",
    "from sklearn.metrics import r2_score, mean_squared_error, mean_absolute_error\n",
    "\n"
   ]
  },
  {
   "cell_type": "markdown",
   "metadata": {},
   "source": [
    "## Check GPU"
   ]
  },
  {
   "cell_type": "code",
   "execution_count": 2,
   "metadata": {},
   "outputs": [
    {
     "name": "stdout",
     "output_type": "stream",
     "text": [
      "[PhysicalDevice(name='/physical_device:CPU:0', device_type='CPU'), PhysicalDevice(name='/physical_device:GPU:0', device_type='GPU')]\n"
     ]
    }
   ],
   "source": [
    "devices = tf.config.list_physical_devices()\n",
    "print(devices)"
   ]
  },
  {
   "cell_type": "markdown",
   "metadata": {},
   "source": [
    "# Import Data"
   ]
  },
  {
   "cell_type": "code",
   "execution_count": 3,
   "metadata": {},
   "outputs": [
    {
     "data": {
      "text/plain": [
       "(122, 241)"
      ]
     },
     "execution_count": 3,
     "metadata": {},
     "output_type": "execute_result"
    }
   ],
   "source": [
    "pd.read_csv('/Users/michaelsong/Documents/GitHub/starzam/Data_v4/0.csv',delimiter=',').to_numpy().shape"
   ]
  },
  {
   "cell_type": "code",
   "execution_count": 4,
   "metadata": {},
   "outputs": [
    {
     "name": "stdout",
     "output_type": "stream",
     "text": [
      "(429721, 240)\n"
     ]
    }
   ],
   "source": [
    "all_data = np.empty((1,241))\n",
    "for i in range(1610):\n",
    "  try:\n",
    "    all_data = np.concatenate((all_data,pd.read_csv('/Users/michaelsong/Documents/GitHub/starzam/Data_v4/'+str(i)+'.csv',delimiter=',').to_numpy()), axis=0)\n",
    "  except:\n",
    "    continue\n",
    "for i in range(1610):\n",
    "  try:\n",
    "    all_data = np.concatenate((all_data,pd.read_csv('/Users/michaelsong/Documents/GitHub/starzam/Data_v5/'+str(i)+'.csv',delimiter=',').to_numpy()), axis=0)\n",
    "  except:\n",
    "    continue\n",
    "all_data = all_data[1:].T[1:].T\n",
    "print(all_data.shape)\n",
    "# pd.read_csv('/content/drive/MyDrive/Research - Yihong Song and Rohit Prasanna/Yihong/Data_v2/0.csv',delimiter=',').to_numpy"
   ]
  },
  {
   "cell_type": "code",
   "execution_count": 5,
   "metadata": {},
   "outputs": [
    {
     "name": "stdout",
     "output_type": "stream",
     "text": [
      "[[7.57137000e+05 4.75100000e+03 2.38300000e+00 ... 2.84220046e-01\n",
      "  1.98787545e-01 3.52143589e-01]\n",
      " [7.57137000e+05 4.75100000e+03 2.38300000e+00 ... 9.00410425e-02\n",
      "  2.38116041e-01 1.33820551e-01]\n",
      " [7.57137000e+05 4.75100000e+03 2.38300000e+00 ... 6.99888643e-02\n",
      "  1.28790969e-01 2.76750793e-01]\n",
      " ...\n",
      " [1.29345740e+07 4.83400000e+03 2.38700000e+00 ... 6.33434639e-01\n",
      "  7.42604679e-01 8.86480862e-01]\n",
      " [1.29345740e+07 4.83400000e+03 2.38700000e+00 ... 1.00337468e+00\n",
      "  9.61336114e-01 1.11301298e+00]\n",
      " [1.29345740e+07 4.83400000e+03 2.38700000e+00 ... 3.75953122e-01\n",
      "  4.91804427e-01 8.19877108e-01]]\n",
      "[4751. 4751. 4751. ... 4834. 4834. 4834.]\n"
     ]
    }
   ],
   "source": [
    "print(all_data)\n",
    "print(all_data.T[1])"
   ]
  },
  {
   "cell_type": "code",
   "execution_count": 6,
   "metadata": {},
   "outputs": [],
   "source": [
    "def isolate_observations(data):\n",
    "    kic = 0\n",
    "    res = np.empty((1,474))\n",
    "    for i in range(len(data)):\n",
    "        if(data[i][0]!=kic):\n",
    "            kic = data[i][0]\n",
    "            res = np.vstack((res,data[i]))\n",
    "    return res\n",
    "\n",
    "# iso_data = isolate_observations(all_data).T[:10].T\n",
    "# print(iso_data)"
   ]
  },
  {
   "cell_type": "code",
   "execution_count": 7,
   "metadata": {},
   "outputs": [
    {
     "name": "stdout",
     "output_type": "stream",
     "text": [
      "(429721, 236) (429721, 3)\n",
      "(429721,)\n",
      "[4751. 4751. 4751. ... 4834. 4834. 4834.]\n",
      "[ 0.         13.16467881 11.85662574  5.37137053  2.34753016  7.56242166\n",
      "  7.09166395  8.9345866   4.47222976  5.44573758  7.99705157  6.5553589\n",
      "  7.43230342  2.14978082  6.70502292  2.11453161  1.47941903  3.4679212\n",
      "  0.95694623  6.41945024 13.71684545  2.6618294   6.7777871   4.03523607\n",
      "  1.65132679  1.22634052  2.47702523  1.62667739  2.94700681  2.16647403\n",
      "  0.86192238  1.94095918  1.36412959  1.50011758  1.52687553  0.3987771\n",
      "  0.26511563  1.70271956  2.16544294  1.24192005  0.74680304  1.26339405\n",
      "  2.43964765  0.62723454  1.35998087  0.3313366   0.39359298  0.8410012\n",
      "  0.59152181  0.47106868  1.50347768  1.05735322  0.37600592  1.01079496\n",
      "  0.06908752  1.03337513  0.57106625  0.72521993  0.70155079  0.43960006\n",
      "  1.06916899  1.62702797  0.75722071  0.81743033  0.08991218  0.78076904\n",
      "  0.58342839  0.82547409  1.41460742  0.44502772  0.51703072  0.16467888\n",
      "  0.85940931  0.28964864  0.38246988  0.20737913  0.28785127  0.58893073\n",
      "  0.97170793  0.5665756   0.37795003  0.18550765  0.4765302   0.32437916\n",
      "  0.57453234  0.59868106  0.37482104  0.51073141  0.44225359  0.30711066\n",
      "  0.92353114  0.50064847  0.91215356  0.57894163  0.36252712  0.31956136\n",
      "  0.08308542  0.65082135  0.72059241  0.37254793  0.30089423  0.50794629\n",
      "  0.40514842  0.30156635  0.07473191  0.28699307  0.49907325  0.38781271\n",
      "  0.35977054  0.57016319  0.54121899  0.29528661  0.62804397  0.38156916\n",
      "  0.28386949  0.3714478   0.435151    0.17449804  0.3342446   0.16860341\n",
      "  0.11883873  0.25170539  0.54169416  0.17932242  0.08669607  0.53863821\n",
      "  0.03254515  0.18119315  0.18122242  0.4737557   0.41129707  0.20678931\n",
      "  0.34050864  0.17351718  0.36599874  0.281349    0.21239707  0.44935626\n",
      "  0.68648308  0.20712596  0.33646236  0.12142395  0.64934835  0.1786994\n",
      "  0.05475203  0.66754104  0.52315419  0.19674827  0.25974256  0.21960112\n",
      "  0.29181828  0.23806966  0.31370259  0.12431077  0.13740087  0.51369618\n",
      "  0.34713227  0.34446488  0.45744868  0.27084868  0.04018146  0.10233994\n",
      "  0.48868841  0.06564503  0.11656975  0.66153914  0.19427855  0.10851761\n",
      "  0.1132408   0.39608434  0.39824245  0.13133432  0.34678961  0.15779812\n",
      "  0.42186937  0.56323107  0.0203649   0.354523    0.24534796  0.35483136\n",
      "  0.22999484  0.1959949   0.43601723  0.21064459  0.17450227  0.33843673\n",
      "  0.32962562  0.03073625  0.20761561  0.67099048  0.56375414  0.16044186\n",
      "  0.58197553  0.45811584  0.34046823  0.12185261  0.41363375  0.18577548\n",
      "  0.37860757  0.51628618  0.32046135  0.24564932  0.5600465   0.15117467\n",
      "  0.26731506  0.13717207  0.34836886  0.6630233   0.25422949  0.24716125\n",
      "  0.32545467  0.10846223  0.39962174  0.09669517  0.50983404  0.52092023\n",
      "  0.10121907  0.3374904   0.18898709  0.41199328  0.14230277  0.08851981\n",
      "  0.68305605  0.64173611  0.12568275  0.12379807  0.25085803  0.34026245\n",
      "  0.16985945  0.17941012  0.17754396  0.13641454  0.27290125  0.28422005\n",
      "  0.19878754  0.35214359]\n"
     ]
    }
   ],
   "source": [
    "def extract_xy(all_data):\n",
    "    all_x = all_data.T[4:241].T\n",
    "    all_y = all_data.T[1:4].T\n",
    "    print(all_x.shape,all_y.shape)\n",
    "    teff_y = all_y.T[0].T\n",
    "    print(teff_y.shape)\n",
    "    print(teff_y)\n",
    "    print(all_x[0])\n",
    "    return all_x,teff_y\n",
    "\n",
    "all_x,teff_y = extract_xy(all_data)"
   ]
  },
  {
   "cell_type": "code",
   "execution_count": 8,
   "metadata": {},
   "outputs": [],
   "source": [
    "def normalize_with_moments(X_train, axes=0, epsilon=1e-8,keep_dims=True):\n",
    "    x = tf.convert_to_tensor(X_train)\n",
    "    mean, variance = tf.nn.moments(x, axes=axes)\n",
    "    x_normed = (x - mean) / tf.sqrt(variance + epsilon) # epsilon to avoid dividing by zero\n",
    "    return x_normed\n",
    "\n",
    "def normalize_x(x):\n",
    "    x = x.T\n",
    "    for i in range(len(x)):\n",
    "        x[i] = x[i] / np.linalg.norm(x[i])\n",
    "    return x.T"
   ]
  },
  {
   "cell_type": "code",
   "execution_count": 9,
   "metadata": {},
   "outputs": [],
   "source": [
    "# teff_y = normalize_with_moments(teff_y).numpy()\n",
    "# all_x = normalize_x(all_x)\n",
    "# print(teff_y)\n",
    "# print(all_x)"
   ]
  },
  {
   "cell_type": "code",
   "execution_count": 10,
   "metadata": {},
   "outputs": [
    {
     "name": "stdout",
     "output_type": "stream",
     "text": [
      "[ 1.          8.43454255  3.81606884  5.60029841  4.00062612  1.87763442\n",
      "  6.60502431  1.75453517  2.03889624  2.15967502  6.61839709 10.96603738\n",
      "  1.00941128 11.83732916  6.832062    2.11275395  0.68517313  2.80103935\n",
      "  3.12226637  2.10477594  6.60518561  0.61505648  2.00240753  3.97648499\n",
      "  1.3740333   1.3024308   2.02690753  1.48491184  1.63691857  1.22361546\n",
      "  2.55480434  1.85227138  0.76009708  0.77010233  0.35528595  1.09636679\n",
      "  0.89292322  1.34251061  0.63681166  0.43798736  1.08026908  0.28756933\n",
      "  0.23743421  0.18253782  0.52691456  0.34023662  0.32434848  0.73180473\n",
      "  0.15601266  0.71085421  0.67786938  0.25223334  0.57520825  0.52608914\n",
      "  0.17351905  0.61305125  0.5747885   0.35867008  0.50785905  0.28822274\n",
      "  0.18542083  0.72036011  0.74996212  0.78635087  0.37852229  0.35192467\n",
      "  0.29241703  0.1940635   0.62021354  0.59715896  0.32950041  0.48906543\n",
      "  0.57471503  0.23230492  0.60162748  0.24766141  0.32702928  0.24256991\n",
      "  0.30468094  0.40705864  0.32715655  0.47648729  0.44196043  0.20664143\n",
      "  0.26055127  0.1521962   0.32112873  0.0556783   0.25808449  0.30947882\n",
      "  0.70942211  0.18514628  0.24799438  0.66512354  0.20218391  0.22001476\n",
      "  0.27285095  0.3043981   0.3540561   0.41390563  0.01623525  0.24527845\n",
      "  0.28696827  0.44562306  0.12017195  0.23272139  0.09176672  0.28165604\n",
      "  0.50921641  0.39942544  0.15169818  0.32145159  0.41384215  0.40426793\n",
      "  0.19737412  0.05854984  0.54912784  0.13429385  0.10292007  0.28684851\n",
      "  0.2279082   0.19700016  0.19807364  0.10154655  0.3723095   0.23054352\n",
      "  0.11187988  0.04613397  0.30371471  0.18638318  0.13698157  0.26731481\n",
      "  0.15957712  0.06430061  0.22279994  0.03335533  0.34770177  0.45346118\n",
      "  0.24245798  0.24345653  0.18674059  0.0560869   0.20252893  0.08063438\n",
      "  0.099874    0.15943884  0.17472676  0.20465984  0.13982924  0.18720254\n",
      "  0.2278616   0.16430397  0.11064984  0.22117031  0.13862863  0.07643076\n",
      "  0.16981143  0.09443056  0.05025029  0.23947595  0.62542794  0.18802965\n",
      "  0.28934301  0.10827315  0.35985057  0.26365351  0.12928662  0.06421292\n",
      "  0.18123896  0.20829646  0.43309818  0.12338185  0.23378005  0.2083231\n",
      "  0.16500231  0.26854086  0.15062851  0.29331224  0.04807093  0.19236744\n",
      "  0.06619385  0.2883909   0.14670664  0.24783862  0.38334304  0.02410591\n",
      "  0.32547413  0.18967174  0.09593245  0.0645886   0.14217064  0.11807368\n",
      "  0.25582556  0.28396923  0.41065139  0.28435925  0.20931929  0.14561523\n",
      "  0.18882135  0.13037153  0.19008703  0.12030318  0.03087585  0.14130879\n",
      "  0.2217754   0.22300867  0.16113261  0.38193591  0.18890735  0.25987811\n",
      "  0.14035614  0.03953427  0.29424736  0.12389629  0.134572    0.12749119\n",
      "  0.16733794  0.45404825  0.16267293  0.17872833  0.1848355   0.24161194\n",
      "  0.1093464   0.23174849  0.19689392  0.09961603  0.2789789   0.24963421\n",
      "  0.21532189  0.33036912  0.13753788  0.0227194   0.26678007  0.09004104\n",
      "  0.23811604  0.13382055]\n"
     ]
    }
   ],
   "source": [
    "print(all_x[1])"
   ]
  },
  {
   "cell_type": "markdown",
   "metadata": {},
   "source": [
    "# Machine Learning"
   ]
  },
  {
   "cell_type": "code",
   "execution_count": 11,
   "metadata": {},
   "outputs": [
    {
     "name": "stdout",
     "output_type": "stream",
     "text": [
      "(343776, 236) (85945, 236) (343776,) (85945,)\n",
      "(343776, 236) (85945, 236) (343776,) (85945,)\n"
     ]
    }
   ],
   "source": [
    "train_x,test_x,train_y,test_y=train_test_split(all_x, teff_y, test_size=0.20, random_state=42)\n",
    "print(train_x.shape,test_x.shape,train_y.shape,test_y.shape)\n",
    "train_x = np.asarray(train_x).astype('float32')\n",
    "test_x = np.asarray(test_x).astype('float32')\n",
    "train_y = np.asarray(train_y).astype('float32')\n",
    "test_y = np.asarray(test_y).astype('float32')\n",
    "print(train_x.shape,test_x.shape,train_y.shape,test_y.shape)"
   ]
  },
  {
   "cell_type": "code",
   "execution_count": 13,
   "metadata": {},
   "outputs": [
    {
     "name": "stdout",
     "output_type": "stream",
     "text": [
      "Model: \"sequential\"\n",
      "_________________________________________________________________\n",
      "Layer (type)                 Output Shape              Param #   \n",
      "=================================================================\n",
      "dense (Dense)                (None, 2048)              485376    \n",
      "_________________________________________________________________\n",
      "dense_1 (Dense)              (None, 1024)              2098176   \n",
      "_________________________________________________________________\n",
      "dense_2 (Dense)              (None, 512)               524800    \n",
      "_________________________________________________________________\n",
      "dense_3 (Dense)              (None, 256)               131328    \n",
      "_________________________________________________________________\n",
      "dense_4 (Dense)              (None, 1)                 257       \n",
      "=================================================================\n",
      "Total params: 3,239,937\n",
      "Trainable params: 3,239,937\n",
      "Non-trainable params: 0\n",
      "_________________________________________________________________\n"
     ]
    },
    {
     "name": "stderr",
     "output_type": "stream",
     "text": [
      "2022-01-10 11:09:06.062322: I tensorflow/core/common_runtime/pluggable_device/pluggable_device_factory.cc:305] Could not identify NUMA node of platform GPU ID 0, defaulting to 0. Your kernel may not have been built with NUMA support.\n",
      "2022-01-10 11:09:06.062347: I tensorflow/core/common_runtime/pluggable_device/pluggable_device_factory.cc:271] Created TensorFlow device (/device:GPU:0 with 0 MB memory) -> physical PluggableDevice (device: 0, name: METAL, pci bus id: <undefined>)\n"
     ]
    }
   ],
   "source": [
    "tf.test.gpu_device_name() # No GPU Sad :v\n",
    "# tf.config.optimizer.set_jit(True)\n",
    "keras.backend.clear_session()\n",
    "# model = models.Sequential()\n",
    "\n",
    "# model.add(layers.Conv1D(1024, 1, activation='relu',batch_input_shape=train_x.shape))\n",
    "# model.add(layers.Dense(128))\n",
    "# model.add(layers.Conv1D(32, 1, activation='relu'))\n",
    "# model.add(layers.Dense(1,activation=\"sigmoid\"))\n",
    "\n",
    "# model.summary()\n",
    "model = models.Sequential()\n",
    "#model.add(layers.Conv1D(filters=16, kernel_size=1, activation='relu', batch_input_shape=(train_x.shape)))\n",
    "\n",
    "#model.add(layers.Embedding(input_dim=64, output_dim=16))\n",
    "#model.add(layers.LSTM(128,dr\n",
    "# opout=0.2,recurrent_dropout=0.2,input_dim=(train_x.shape[2])))\n",
    "#model.add(layers.Conv1D(1024,1,activation='relu',input_shape=(train_x.shape)))\n",
    "#model.add(layers.Conv1D(256,1,activation='relu'))\n",
    "model.add(layers.Dense(2048, activation=\"relu\", input_shape=((236,))))\n",
    "model.add(layers.Dense(1024, activation=\"relu\"))\n",
    "model.add(layers.Dense(512, activation=\"relu\"))\n",
    "model.add(layers.Dense(256, activation=\"relu\"))\n",
    "# model.add(layers.Dense(128, activation=\"relu\"))\n",
    "# model.add(layers.Dense(64, activation=\"relu\"))\n",
    "# model.add(layers.Dense(4, activation=\"relu\"))\n",
    "# model.add(layers.Dense(2, activation=\"relu\"))\n",
    "model.add(layers.Dense(1))\n",
    "model.summary()"
   ]
  },
  {
   "cell_type": "code",
   "execution_count": 14,
   "metadata": {},
   "outputs": [],
   "source": [
    "model.compile(optimizer='adam', loss='mse', metrics=['accuracy'])\n",
    "# reduce_lr = keras.callbacks.ReduceLROnPlateau(monitor='val_loss', factor=0.2,\n",
    "#                               patience=5, min_lr=0.001)\n",
    "monitor = keras.callbacks.EarlyStopping(monitor='val_loss', min_delta=1e-4, \n",
    "        patience=50, verbose=1, mode='auto',\n",
    "        restore_best_weights=True)\n",
    "\n",
    "# def on_epoch_end(self, epoch, logs={}):\n",
    "#     if(logs.get('loss') <= 15000):\n",
    "#         print(\"\\n\\n\\nReached 0.05 loss value so cancelling training!\\n\\n\\n\")\n",
    "#         model.stop_training = True\n",
    "\n",
    "\n",
    "# trainingStopCallback = on_epoch_end()\n"
   ]
  },
  {
   "cell_type": "code",
   "execution_count": 15,
   "metadata": {},
   "outputs": [
    {
     "name": "stderr",
     "output_type": "stream",
     "text": [
      "2022-01-10 11:09:18.009865: I tensorflow/compiler/mlir/mlir_graph_optimization_pass.cc:185] None of the MLIR Optimization Passes are enabled (registered 2)\n",
      "2022-01-10 11:09:18.011164: W tensorflow/core/platform/profile_utils/cpu_utils.cc:128] Failed to get CPU frequency: 0 Hz\n",
      "2022-01-10 11:09:18.142003: I tensorflow/core/grappler/optimizers/custom_graph_optimizer_registry.cc:112] Plugin optimizer for device_type GPU is enabled.\n"
     ]
    },
    {
     "name": "stdout",
     "output_type": "stream",
     "text": [
      "Epoch 1/1000\n"
     ]
    },
    {
     "name": "stderr",
     "output_type": "stream",
     "text": [
      "2022-01-10 11:09:55.401631: I tensorflow/core/grappler/optimizers/custom_graph_optimizer_registry.cc:112] Plugin optimizer for device_type GPU is enabled.\n"
     ]
    },
    {
     "name": "stdout",
     "output_type": "stream",
     "text": [
      "10743/10743 - 45s - loss: 356153.2500 - accuracy: 0.0000e+00 - val_loss: 47231.0625 - val_accuracy: 0.0000e+00\n",
      "Epoch 2/1000\n",
      "10743/10743 - 44s - loss: 94947.0703 - accuracy: 0.0000e+00 - val_loss: 113480.2891 - val_accuracy: 0.0000e+00\n",
      "Epoch 3/1000\n",
      "10743/10743 - 45s - loss: 68764.9297 - accuracy: 0.0000e+00 - val_loss: 61202.3945 - val_accuracy: 0.0000e+00\n",
      "Epoch 4/1000\n",
      "10743/10743 - 44s - loss: 59888.8828 - accuracy: 0.0000e+00 - val_loss: 37624.9219 - val_accuracy: 0.0000e+00\n",
      "Epoch 5/1000\n",
      "10743/10743 - 44s - loss: 50812.8789 - accuracy: 0.0000e+00 - val_loss: 43135.7930 - val_accuracy: 0.0000e+00\n",
      "Epoch 6/1000\n",
      "10743/10743 - 44s - loss: 67844.0938 - accuracy: 0.0000e+00 - val_loss: 56718.5586 - val_accuracy: 0.0000e+00\n",
      "Epoch 7/1000\n",
      "10743/10743 - 44s - loss: 51813.5586 - accuracy: 0.0000e+00 - val_loss: 35984.9766 - val_accuracy: 0.0000e+00\n",
      "Epoch 8/1000\n",
      "10743/10743 - 44s - loss: 48797.6836 - accuracy: 0.0000e+00 - val_loss: 52681.2422 - val_accuracy: 0.0000e+00\n",
      "Epoch 9/1000\n",
      "10743/10743 - 45s - loss: 48086.6445 - accuracy: 0.0000e+00 - val_loss: 35131.4023 - val_accuracy: 0.0000e+00\n",
      "Epoch 10/1000\n",
      "10743/10743 - 44s - loss: 44238.2031 - accuracy: 0.0000e+00 - val_loss: 42336.3711 - val_accuracy: 0.0000e+00\n",
      "Epoch 11/1000\n",
      "10743/10743 - 43s - loss: 42365.6797 - accuracy: 0.0000e+00 - val_loss: 38927.6328 - val_accuracy: 0.0000e+00\n",
      "Epoch 12/1000\n",
      "10743/10743 - 44s - loss: 41542.8945 - accuracy: 0.0000e+00 - val_loss: 37061.0469 - val_accuracy: 0.0000e+00\n",
      "Epoch 13/1000\n",
      "10743/10743 - 43s - loss: 40734.9961 - accuracy: 0.0000e+00 - val_loss: 43533.5742 - val_accuracy: 0.0000e+00\n",
      "Epoch 14/1000\n",
      "10743/10743 - 44s - loss: 41068.8477 - accuracy: 0.0000e+00 - val_loss: 34461.1602 - val_accuracy: 0.0000e+00\n",
      "Epoch 15/1000\n",
      "10743/10743 - 43s - loss: 41043.2812 - accuracy: 0.0000e+00 - val_loss: 38718.8281 - val_accuracy: 0.0000e+00\n",
      "Epoch 16/1000\n",
      "10743/10743 - 43s - loss: 39894.5703 - accuracy: 0.0000e+00 - val_loss: 35912.4258 - val_accuracy: 0.0000e+00\n",
      "Epoch 17/1000\n",
      "10743/10743 - 45s - loss: 38054.2656 - accuracy: 0.0000e+00 - val_loss: 37730.5625 - val_accuracy: 0.0000e+00\n",
      "Epoch 18/1000\n",
      "10743/10743 - 44s - loss: 36942.4609 - accuracy: 0.0000e+00 - val_loss: 36656.7656 - val_accuracy: 0.0000e+00\n",
      "Epoch 19/1000\n",
      "10743/10743 - 44s - loss: 35899.1562 - accuracy: 0.0000e+00 - val_loss: 34432.9805 - val_accuracy: 0.0000e+00\n",
      "Epoch 20/1000\n",
      "10743/10743 - 44s - loss: 33630.1289 - accuracy: 0.0000e+00 - val_loss: 35185.6797 - val_accuracy: 0.0000e+00\n",
      "Epoch 21/1000\n",
      "10743/10743 - 44s - loss: 33099.6875 - accuracy: 0.0000e+00 - val_loss: 32820.8320 - val_accuracy: 0.0000e+00\n",
      "Epoch 22/1000\n",
      "10743/10743 - 44s - loss: 33043.0469 - accuracy: 0.0000e+00 - val_loss: 34185.8867 - val_accuracy: 0.0000e+00\n",
      "Epoch 23/1000\n",
      "10743/10743 - 44s - loss: 32787.7578 - accuracy: 0.0000e+00 - val_loss: 33081.5039 - val_accuracy: 0.0000e+00\n",
      "Epoch 24/1000\n",
      "10743/10743 - 44s - loss: 32655.2363 - accuracy: 0.0000e+00 - val_loss: 32917.0898 - val_accuracy: 0.0000e+00\n",
      "Epoch 25/1000\n",
      "10743/10743 - 44s - loss: 32531.5469 - accuracy: 0.0000e+00 - val_loss: 36516.8203 - val_accuracy: 0.0000e+00\n",
      "Epoch 26/1000\n",
      "10743/10743 - 44s - loss: 32556.5332 - accuracy: 0.0000e+00 - val_loss: 34370.2891 - val_accuracy: 0.0000e+00\n",
      "Epoch 27/1000\n",
      "10743/10743 - 43s - loss: 32486.9023 - accuracy: 0.0000e+00 - val_loss: 33722.1445 - val_accuracy: 0.0000e+00\n",
      "Epoch 28/1000\n",
      "10743/10743 - 44s - loss: 32474.0527 - accuracy: 0.0000e+00 - val_loss: 35442.3789 - val_accuracy: 0.0000e+00\n",
      "Epoch 29/1000\n",
      "10743/10743 - 43s - loss: 32386.4883 - accuracy: 0.0000e+00 - val_loss: 33465.2031 - val_accuracy: 0.0000e+00\n",
      "Epoch 30/1000\n",
      "10743/10743 - 44s - loss: 32387.0195 - accuracy: 0.0000e+00 - val_loss: 33730.7891 - val_accuracy: 0.0000e+00\n",
      "Epoch 31/1000\n",
      "10743/10743 - 44s - loss: 32321.1602 - accuracy: 0.0000e+00 - val_loss: 33378.1836 - val_accuracy: 0.0000e+00\n",
      "Epoch 32/1000\n",
      "10743/10743 - 44s - loss: 32315.5117 - accuracy: 0.0000e+00 - val_loss: 36536.3516 - val_accuracy: 0.0000e+00\n",
      "Epoch 33/1000\n",
      "10743/10743 - 43s - loss: 32296.7852 - accuracy: 0.0000e+00 - val_loss: 36403.8594 - val_accuracy: 0.0000e+00\n",
      "Epoch 34/1000\n",
      "10743/10743 - 43s - loss: 32282.1953 - accuracy: 0.0000e+00 - val_loss: 33840.7734 - val_accuracy: 0.0000e+00\n",
      "Epoch 35/1000\n",
      "10743/10743 - 43s - loss: 32138.9902 - accuracy: 0.0000e+00 - val_loss: 32899.2031 - val_accuracy: 0.0000e+00\n",
      "Epoch 36/1000\n",
      "10743/10743 - 43s - loss: 32126.0293 - accuracy: 0.0000e+00 - val_loss: 34693.6289 - val_accuracy: 0.0000e+00\n",
      "Epoch 37/1000\n",
      "10743/10743 - 43s - loss: 32055.2832 - accuracy: 0.0000e+00 - val_loss: 32701.3125 - val_accuracy: 0.0000e+00\n",
      "Epoch 38/1000\n",
      "10743/10743 - 43s - loss: 32057.5195 - accuracy: 0.0000e+00 - val_loss: 37341.4922 - val_accuracy: 0.0000e+00\n",
      "Epoch 39/1000\n",
      "10743/10743 - 43s - loss: 31986.5547 - accuracy: 0.0000e+00 - val_loss: 34727.1914 - val_accuracy: 0.0000e+00\n",
      "Epoch 40/1000\n",
      "10743/10743 - 43s - loss: 32063.6270 - accuracy: 0.0000e+00 - val_loss: 35249.5703 - val_accuracy: 0.0000e+00\n",
      "Epoch 41/1000\n",
      "10743/10743 - 44s - loss: 32037.8633 - accuracy: 0.0000e+00 - val_loss: 35732.2305 - val_accuracy: 0.0000e+00\n",
      "Epoch 42/1000\n",
      "10743/10743 - 44s - loss: 31915.2754 - accuracy: 0.0000e+00 - val_loss: 34278.5508 - val_accuracy: 0.0000e+00\n",
      "Epoch 43/1000\n",
      "10743/10743 - 43s - loss: 31945.8516 - accuracy: 0.0000e+00 - val_loss: 36088.2852 - val_accuracy: 0.0000e+00\n",
      "Epoch 44/1000\n",
      "10743/10743 - 44s - loss: 31875.0039 - accuracy: 0.0000e+00 - val_loss: 33601.7031 - val_accuracy: 0.0000e+00\n",
      "Epoch 45/1000\n",
      "10743/10743 - 44s - loss: 31827.7969 - accuracy: 0.0000e+00 - val_loss: 36303.6406 - val_accuracy: 0.0000e+00\n",
      "Epoch 46/1000\n",
      "10743/10743 - 44s - loss: 31804.3828 - accuracy: 0.0000e+00 - val_loss: 36727.8789 - val_accuracy: 0.0000e+00\n",
      "Epoch 47/1000\n",
      "10743/10743 - 44s - loss: 31778.8809 - accuracy: 0.0000e+00 - val_loss: 32164.4141 - val_accuracy: 0.0000e+00\n",
      "Epoch 48/1000\n",
      "10743/10743 - 44s - loss: 31747.8848 - accuracy: 0.0000e+00 - val_loss: 35176.5352 - val_accuracy: 0.0000e+00\n",
      "Epoch 49/1000\n",
      "10743/10743 - 44s - loss: 31824.3848 - accuracy: 0.0000e+00 - val_loss: 33739.7734 - val_accuracy: 0.0000e+00\n",
      "Epoch 50/1000\n",
      "10743/10743 - 43s - loss: 31753.2949 - accuracy: 0.0000e+00 - val_loss: 34804.8477 - val_accuracy: 0.0000e+00\n",
      "Epoch 51/1000\n",
      "10743/10743 - 43s - loss: 31764.0117 - accuracy: 0.0000e+00 - val_loss: 33864.2539 - val_accuracy: 0.0000e+00\n",
      "Epoch 52/1000\n",
      "10743/10743 - 44s - loss: 31722.2246 - accuracy: 0.0000e+00 - val_loss: 36743.5391 - val_accuracy: 0.0000e+00\n",
      "Epoch 53/1000\n",
      "10743/10743 - 43s - loss: 31751.2363 - accuracy: 0.0000e+00 - val_loss: 36527.4297 - val_accuracy: 0.0000e+00\n",
      "Epoch 54/1000\n",
      "10743/10743 - 44s - loss: 31715.7637 - accuracy: 0.0000e+00 - val_loss: 34452.0664 - val_accuracy: 0.0000e+00\n",
      "Epoch 55/1000\n",
      "10743/10743 - 43s - loss: 31649.8633 - accuracy: 0.0000e+00 - val_loss: 34608.3828 - val_accuracy: 0.0000e+00\n",
      "Epoch 56/1000\n",
      "10743/10743 - 43s - loss: 31697.8828 - accuracy: 0.0000e+00 - val_loss: 35496.5898 - val_accuracy: 0.0000e+00\n",
      "Epoch 57/1000\n",
      "10743/10743 - 43s - loss: 31717.1074 - accuracy: 0.0000e+00 - val_loss: 35466.9375 - val_accuracy: 0.0000e+00\n",
      "Epoch 58/1000\n",
      "10743/10743 - 44s - loss: 31608.7031 - accuracy: 0.0000e+00 - val_loss: 34806.1719 - val_accuracy: 0.0000e+00\n",
      "Epoch 59/1000\n",
      "10743/10743 - 43s - loss: 31544.3340 - accuracy: 0.0000e+00 - val_loss: 37262.3906 - val_accuracy: 0.0000e+00\n",
      "Epoch 60/1000\n",
      "10743/10743 - 44s - loss: 31551.7812 - accuracy: 0.0000e+00 - val_loss: 36277.1406 - val_accuracy: 0.0000e+00\n",
      "Epoch 61/1000\n",
      "10743/10743 - 44s - loss: 31528.9023 - accuracy: 0.0000e+00 - val_loss: 34955.2461 - val_accuracy: 0.0000e+00\n",
      "Epoch 62/1000\n",
      "10743/10743 - 44s - loss: 31505.4980 - accuracy: 0.0000e+00 - val_loss: 34330.8047 - val_accuracy: 0.0000e+00\n",
      "Epoch 63/1000\n",
      "10743/10743 - 44s - loss: 31468.5742 - accuracy: 0.0000e+00 - val_loss: 40999.5742 - val_accuracy: 0.0000e+00\n",
      "Epoch 64/1000\n",
      "10743/10743 - 44s - loss: 31511.3633 - accuracy: 0.0000e+00 - val_loss: 33862.6094 - val_accuracy: 0.0000e+00\n",
      "Epoch 65/1000\n",
      "10743/10743 - 43s - loss: 31533.7598 - accuracy: 0.0000e+00 - val_loss: 35627.3984 - val_accuracy: 0.0000e+00\n",
      "Epoch 66/1000\n",
      "10743/10743 - 44s - loss: 31446.9492 - accuracy: 0.0000e+00 - val_loss: 36567.9961 - val_accuracy: 0.0000e+00\n",
      "Epoch 67/1000\n",
      "10743/10743 - 44s - loss: 31453.3418 - accuracy: 0.0000e+00 - val_loss: 35780.4570 - val_accuracy: 0.0000e+00\n",
      "Epoch 68/1000\n",
      "10743/10743 - 44s - loss: 31428.2227 - accuracy: 0.0000e+00 - val_loss: 39372.5547 - val_accuracy: 0.0000e+00\n",
      "Epoch 69/1000\n",
      "10743/10743 - 44s - loss: 31389.3867 - accuracy: 0.0000e+00 - val_loss: 33135.7969 - val_accuracy: 0.0000e+00\n",
      "Epoch 70/1000\n",
      "10743/10743 - 44s - loss: 31372.4531 - accuracy: 0.0000e+00 - val_loss: 41411.4492 - val_accuracy: 0.0000e+00\n",
      "Epoch 71/1000\n",
      "10743/10743 - 44s - loss: 31392.4512 - accuracy: 0.0000e+00 - val_loss: 39576.7734 - val_accuracy: 0.0000e+00\n",
      "Epoch 72/1000\n",
      "10743/10743 - 44s - loss: 31368.3379 - accuracy: 0.0000e+00 - val_loss: 36222.8984 - val_accuracy: 0.0000e+00\n",
      "Epoch 73/1000\n",
      "10743/10743 - 44s - loss: 31341.6641 - accuracy: 0.0000e+00 - val_loss: 38358.2031 - val_accuracy: 0.0000e+00\n",
      "Epoch 74/1000\n",
      "10743/10743 - 44s - loss: 31280.4199 - accuracy: 0.0000e+00 - val_loss: 38759.6211 - val_accuracy: 0.0000e+00\n",
      "Epoch 75/1000\n",
      "10743/10743 - 44s - loss: 31361.9473 - accuracy: 0.0000e+00 - val_loss: 38980.7227 - val_accuracy: 0.0000e+00\n",
      "Epoch 76/1000\n",
      "10743/10743 - 43s - loss: 31262.9863 - accuracy: 0.0000e+00 - val_loss: 36478.5391 - val_accuracy: 0.0000e+00\n",
      "Epoch 77/1000\n",
      "10743/10743 - 44s - loss: 31252.1035 - accuracy: 0.0000e+00 - val_loss: 38129.8906 - val_accuracy: 0.0000e+00\n",
      "Epoch 78/1000\n",
      "10743/10743 - 45s - loss: 31204.1543 - accuracy: 0.0000e+00 - val_loss: 35469.0742 - val_accuracy: 0.0000e+00\n",
      "Epoch 79/1000\n",
      "10743/10743 - 44s - loss: 31257.0137 - accuracy: 0.0000e+00 - val_loss: 40450.1094 - val_accuracy: 0.0000e+00\n",
      "Epoch 80/1000\n",
      "10743/10743 - 44s - loss: 31224.3887 - accuracy: 0.0000e+00 - val_loss: 37833.9648 - val_accuracy: 0.0000e+00\n",
      "Epoch 81/1000\n",
      "10743/10743 - 44s - loss: 31197.0137 - accuracy: 0.0000e+00 - val_loss: 45311.7734 - val_accuracy: 0.0000e+00\n",
      "Epoch 82/1000\n",
      "10743/10743 - 43s - loss: 31276.8125 - accuracy: 0.0000e+00 - val_loss: 37563.0547 - val_accuracy: 0.0000e+00\n",
      "Epoch 83/1000\n",
      "10743/10743 - 44s - loss: 31221.2324 - accuracy: 0.0000e+00 - val_loss: 41207.1250 - val_accuracy: 0.0000e+00\n",
      "Epoch 84/1000\n",
      "10743/10743 - 46s - loss: 31188.7324 - accuracy: 0.0000e+00 - val_loss: 49259.6094 - val_accuracy: 0.0000e+00\n",
      "Epoch 85/1000\n",
      "10743/10743 - 45s - loss: 31186.1230 - accuracy: 0.0000e+00 - val_loss: 39192.7734 - val_accuracy: 0.0000e+00\n",
      "Epoch 86/1000\n",
      "10743/10743 - 44s - loss: 31111.2402 - accuracy: 0.0000e+00 - val_loss: 40375.3477 - val_accuracy: 0.0000e+00\n",
      "Epoch 87/1000\n",
      "10743/10743 - 43s - loss: 31147.9160 - accuracy: 0.0000e+00 - val_loss: 38272.8984 - val_accuracy: 0.0000e+00\n",
      "Epoch 88/1000\n",
      "10743/10743 - 44s - loss: 31206.2090 - accuracy: 0.0000e+00 - val_loss: 39166.9062 - val_accuracy: 0.0000e+00\n",
      "Epoch 89/1000\n",
      "10743/10743 - 44s - loss: 31185.1523 - accuracy: 0.0000e+00 - val_loss: 44101.0898 - val_accuracy: 0.0000e+00\n",
      "Epoch 90/1000\n",
      "10743/10743 - 43s - loss: 31113.6641 - accuracy: 0.0000e+00 - val_loss: 45194.9453 - val_accuracy: 0.0000e+00\n",
      "Epoch 91/1000\n",
      "10743/10743 - 44s - loss: 31139.3398 - accuracy: 0.0000e+00 - val_loss: 37783.1445 - val_accuracy: 0.0000e+00\n",
      "Epoch 92/1000\n",
      "10743/10743 - 43s - loss: 31050.5820 - accuracy: 0.0000e+00 - val_loss: 38770.3125 - val_accuracy: 0.0000e+00\n",
      "Epoch 93/1000\n",
      "10743/10743 - 43s - loss: 31096.0938 - accuracy: 0.0000e+00 - val_loss: 39217.3516 - val_accuracy: 0.0000e+00\n",
      "Epoch 94/1000\n",
      "10743/10743 - 43s - loss: 31057.4297 - accuracy: 0.0000e+00 - val_loss: 36103.1367 - val_accuracy: 0.0000e+00\n",
      "Epoch 95/1000\n",
      "10743/10743 - 43s - loss: 31106.0977 - accuracy: 0.0000e+00 - val_loss: 46761.6680 - val_accuracy: 0.0000e+00\n",
      "Epoch 96/1000\n",
      "10743/10743 - 43s - loss: 31016.9160 - accuracy: 0.0000e+00 - val_loss: 52344.4570 - val_accuracy: 0.0000e+00\n",
      "Epoch 97/1000\n",
      "10743/10743 - 43s - loss: 31083.4434 - accuracy: 0.0000e+00 - val_loss: 37589.3711 - val_accuracy: 0.0000e+00\n",
      "Restoring model weights from the end of the best epoch.\n",
      "Epoch 00097: early stopping\n"
     ]
    }
   ],
   "source": [
    "history = model.fit(train_x, train_y, epochs=1000,validation_data=(test_x, test_y),callbacks=[monitor], verbose=2)\n",
    "# history = model.fit(train_x, train_y, epochs=150,validation_data=(test_x, test_y), verbose=2)"
   ]
  },
  {
   "cell_type": "code",
   "execution_count": 16,
   "metadata": {},
   "outputs": [
    {
     "name": "stderr",
     "output_type": "stream",
     "text": [
      "2022-01-10 12:20:04.334697: W tensorflow/python/util/util.cc:348] Sets are not currently considered sequences, but this may change in the future, so consider avoiding using them.\n"
     ]
    },
    {
     "name": "stdout",
     "output_type": "stream",
     "text": [
      "INFO:tensorflow:Assets written to: /Users/michaelsong/Documents/GitHub/starzam/Models/m5.7/assets\n"
     ]
    }
   ],
   "source": [
    "model.save('/Users/michaelsong/Documents/GitHub/starzam/Models/m5.7')"
   ]
  },
  {
   "cell_type": "code",
   "execution_count": 17,
   "metadata": {},
   "outputs": [
    {
     "data": {
      "image/png": "[encoded data removed]",
      "text/plain": [
       "<Figure size 432x288 with 1 Axes>"
      ]
     },
     "metadata": {
      "needs_background": "light"
     },
     "output_type": "display_data"
    },
    {
     "data": {
      "image/png": "[encoded data removed]",
      "text/plain": [
       "<Figure size 432x288 with 1 Axes>"
      ]
     },
     "metadata": {
      "needs_background": "light"
     },
     "output_type": "display_data"
    }
   ],
   "source": [
    "plt.plot(history.history['accuracy'])\n",
    "plt.plot(history.history['val_accuracy'])\n",
    "plt.title('Model Accuracy')\n",
    "plt.ylabel('Accuracy')\n",
    "plt.xlabel('Epoch')\n",
    "plt.legend(['train', 'test'], loc='upper left')\n",
    "plt.show()\n",
    "# summarize history for loss\n",
    "plt.plot(history.history['loss'][10:])\n",
    "plt.plot(history.history['val_loss'][10:])\n",
    "plt.title('Model loss')\n",
    "plt.ylabel('Loss')\n",
    "plt.xlabel('Epoch')\n",
    "plt.legend(['train', 'test'], loc='upper left')\n",
    "plt.savefig('/Users/michaelsong/Documents/GitHub/starzam/Results/5.7_training.png')\n",
    "plt.show()"
   ]
  },
  {
   "cell_type": "code",
   "execution_count": 84,
   "metadata": {},
   "outputs": [
    {
     "name": "stdout",
     "output_type": "stream",
     "text": [
      "Model: \"sequential\"\n",
      "_________________________________________________________________\n",
      "Layer (type)                 Output Shape              Param #   \n",
      "=================================================================\n",
      "dense (Dense)                (None, 2048)              485376    \n",
      "_________________________________________________________________\n",
      "dense_1 (Dense)              (None, 2048)              4196352   \n",
      "_________________________________________________________________\n",
      "dense_2 (Dense)              (None, 1024)              2098176   \n",
      "_________________________________________________________________\n",
      "dense_3 (Dense)              (None, 1024)              1049600   \n",
      "_________________________________________________________________\n",
      "dense_4 (Dense)              (None, 1024)              1049600   \n",
      "_________________________________________________________________\n",
      "dense_5 (Dense)              (None, 512)               524800    \n",
      "_________________________________________________________________\n",
      "dense_6 (Dense)              (None, 512)               262656    \n",
      "_________________________________________________________________\n",
      "dense_7 (Dense)              (None, 256)               131328    \n",
      "_________________________________________________________________\n",
      "dense_8 (Dense)              (None, 256)               65792     \n",
      "_________________________________________________________________\n",
      "dense_9 (Dense)              (None, 128)               32896     \n",
      "_________________________________________________________________\n",
      "dense_10 (Dense)             (None, 128)               16512     \n",
      "_________________________________________________________________\n",
      "dense_11 (Dense)             (None, 32)                4128      \n",
      "_________________________________________________________________\n",
      "dense_12 (Dense)             (None, 4)                 132       \n",
      "_________________________________________________________________\n",
      "dense_13 (Dense)             (None, 2)                 10        \n",
      "_________________________________________________________________\n",
      "dense_14 (Dense)             (None, 1)                 3         \n",
      "=================================================================\n",
      "Total params: 9,917,361\n",
      "Trainable params: 9,917,361\n",
      "Non-trainable params: 0\n",
      "_________________________________________________________________\n"
     ]
    }
   ],
   "source": [
    "# model = tf.keras.models.load_model('/Users/michaelsong/Documents/GitHub/starzam/Models/m5.3')\n",
    "\n",
    "# # Check its architecture\n",
    "# model.summary()"
   ]
  },
  {
   "cell_type": "code",
   "execution_count": 18,
   "metadata": {},
   "outputs": [
    {
     "name": "stdout",
     "output_type": "stream",
     "text": [
      "(215222, 240)\n"
     ]
    }
   ],
   "source": [
    "rand_data = np.empty((1,241))\n",
    "for i in range(1610):\n",
    "  try:\n",
    "    rand_data = np.concatenate((rand_data,pd.read_csv('/Users/michaelsong/Documents/GitHub/starzam/Data_v5/'+str(i)+'.csv',delimiter=',').to_numpy()), axis=0)\n",
    "  except:\n",
    "    continue\n",
    "rand_data = rand_data[1:].T[1:].T\n",
    "print(rand_data.shape)\n",
    "# pd.read_csv('/content/drive/MyDrive/Research - Yihong Song and Rohit Prasanna/Yihong/Data_v2/0.csv',delimiter=',').to_numpy"
   ]
  },
  {
   "cell_type": "code",
   "execution_count": 19,
   "metadata": {},
   "outputs": [
    {
     "name": "stdout",
     "output_type": "stream",
     "text": [
      "(215222, 236) (215222, 3)\n",
      "(215222,)\n",
      "[4751. 4751. 4751. ... 4834. 4834. 4834.]\n",
      "[ 0.         14.90008455 15.50298007  5.21597451  0.90830632  6.20644851\n",
      "  7.57179809 11.6459395   4.23234164  5.94067695  6.52288898  8.24150251\n",
      "  8.24082509  3.0395033   6.79973021  4.53366015  0.3684131   3.1691568\n",
      "  1.80376791  5.53454395 14.8961291   2.74725918  7.71266579  4.99388222\n",
      "  2.06427727  1.78502294  2.54900389  1.96493493  2.57559828  1.92052474\n",
      "  0.80277816  1.99947775  1.35893309  1.67625249  1.17480514  0.25672505\n",
      "  0.31081051  1.21989282  1.70213929  1.20731647  0.93159443  0.81903248\n",
      "  2.22338649  0.69065388  1.11967885  0.22592404  0.31651415  0.71181726\n",
      "  0.17388933  0.66229278  1.18461127  1.10461002  0.83177554  1.0551641\n",
      "  0.48302564  1.57553744  0.17964806  0.794371    0.86703197  0.45893159\n",
      "  1.34795274  1.30622146  0.83207013  0.63664459  0.30800708  0.87276054\n",
      "  0.45499416  0.83302011  1.15396698  0.35490575  0.63358948  0.33101004\n",
      "  0.76273555  0.2994764   0.32217782  0.10424394  0.20950762  0.57920842\n",
      "  0.85858467  0.46701196  0.41114564  0.25980626  0.39470474  0.25525033\n",
      "  0.57140187  0.50614245  0.17419186  0.42581578  0.38443322  0.18640827\n",
      "  0.78968529  0.40005793  1.2687205   0.39785127  0.35695704  0.58517187\n",
      "  0.1868834   0.62920442  0.76796191  0.57639006  0.32486743  0.55595431\n",
      "  0.37828511  0.28637616  0.20346143  0.47400464  0.46986389  0.22943556\n",
      "  0.52855201  0.62264791  0.42461747  0.22134636  0.63744999  0.25876167\n",
      "  0.45695587  0.29373708  0.47442019  0.23282769  0.35951091  0.01597495\n",
      "  0.16814318  0.21699566  0.56367739  0.13387024  0.05236678  0.59319814\n",
      "  0.12246918  0.24393141  0.21734053  0.28088666  0.37483024  0.29040991\n",
      "  0.35090641  0.12325954  0.29591425  0.32123212  0.23782763  0.38827181\n",
      "  0.66102936  0.19490963  0.30887883  0.26293593  0.59862699  0.24828972\n",
      "  0.2289834   0.60766407  0.55078317  0.23897379  0.2771015   0.23298282\n",
      "  0.36448497  0.24408701  0.28383294  0.12796578  0.19264118  0.46894264\n",
      "  0.30287386  0.31661928  0.4055104   0.46456784  0.1320282   0.19786071\n",
      "  0.41367225  0.09644319  0.14282167  0.66143252  0.24701321  0.15107281\n",
      "  0.11285557  0.47733485  0.52102124  0.10346263  0.42548263  0.22163307\n",
      "  0.49223717  0.6252625   0.05438133  0.38775306  0.34651785  0.34335105\n",
      "  0.19429172  0.28542643  0.41450641  0.1984597   0.05444981  0.43375773\n",
      "  0.31177765  0.07681846  0.11698796  0.61844861  0.56416833  0.11614014\n",
      "  0.50618994  0.35763903  0.288124    0.24002013  0.25430197  0.09825141\n",
      "  0.43536804  0.41470596  0.26265665  0.27764354  0.58164232  0.16347562\n",
      "  0.23730376  0.1351748   0.36199606  0.60780025  0.2199851   0.28628148\n",
      "  0.18617004  0.20914633  0.38049823  0.04617609  0.47231931  0.5346617\n",
      "  0.14527156  0.36728549  0.28360609  0.44302985  0.22439151  0.16456133\n",
      "  0.74218896  0.65464736  0.07867239  0.22324418  0.31945798  0.31494835\n",
      "  0.2521076   0.19940113  0.21518322  0.15983915  0.36734221  0.3413921\n",
      "  0.24124177  0.27922846]\n"
     ]
    }
   ],
   "source": [
    "rand_x,rand_y = extract_xy(rand_data)"
   ]
  },
  {
   "cell_type": "code",
   "execution_count": 20,
   "metadata": {},
   "outputs": [
    {
     "name": "stderr",
     "output_type": "stream",
     "text": [
      "2022-01-10 12:21:53.026993: I tensorflow/core/grappler/optimizers/custom_graph_optimizer_registry.cc:112] Plugin optimizer for device_type GPU is enabled.\n",
      "2022-01-10 12:21:58.658736: I tensorflow/core/grappler/optimizers/custom_graph_optimizer_registry.cc:112] Plugin optimizer for device_type GPU is enabled.\n"
     ]
    },
    {
     "name": "stdout",
     "output_type": "stream",
     "text": [
      "(85945,) (343776,)\n",
      "[5002.6123 5069.969  4885.694  ... 5018.1743 5028.9873 4930.308 ]\n",
      "[4990. 5012. 5090. ... 5145. 4924. 4820.]\n"
     ]
    }
   ],
   "source": [
    "pred_test_y = model.predict(test_x).reshape(-1)\n",
    "pred_train_y = model.predict(train_x).reshape(-1)\n",
    "pred_rand_y = model.predict(rand_x).reshape(-1)\n",
    "print(pred_test_y.shape,pred_train_y.shape)\n",
    "print(pred_train_y)\n",
    "print(train_y)"
   ]
  },
  {
   "cell_type": "code",
   "execution_count": 21,
   "metadata": {},
   "outputs": [
    {
     "data": {
      "image/png": "[encoded data removed]",
      "text/plain": [
       "<Figure size 432x288 with 1 Axes>"
      ]
     },
     "metadata": {
      "needs_background": "light"
     },
     "output_type": "display_data"
    }
   ],
   "source": [
    "plt.scatter(train_y,pred_train_y, c='red', alpha=0.5,s=0.1)\n",
    "\n",
    "plt.scatter(test_y,pred_test_y, c='blue', alpha=0.5,s=0.1)\n",
    "\n",
    "# plt.scatter(rand_y,pred_rand_y, c='orange', alpha=0.5,s=0.1)\n",
    "\n",
    "\n",
    "linex = np.linspace(4000, 6000)\n",
    "liney = linex\n",
    "lineytop = linex+150\n",
    "lineybot = linex-150\n",
    "lineytop2 = linex*1.03\n",
    "lineybot2 = linex*0.97\n",
    "# Create the plot\n",
    "plt.plot(linex, liney,c=\"green\")\n",
    "plt.plot(linex, lineytop,c=\"red\")\n",
    "plt.plot(linex, lineybot,c=\"red\")\n",
    "plt.plot(linex, lineytop2,c=\"purple\")\n",
    "plt.plot(linex, lineybot2,c=\"purple\")\n",
    "\n",
    "\n",
    "plt.xlim(4000, 6000)\n",
    "plt.ylim(4000, 6000)\n",
    "plt.gca().set_aspect('equal', adjustable='box')\n",
    "plt.savefig('/Users/michaelsong/Documents/GitHub/starzam/Results/5.7.png')\n",
    "plt.show()\n"
   ]
  },
  {
   "cell_type": "code",
   "execution_count": 22,
   "metadata": {},
   "outputs": [],
   "source": [
    "def normalize1D(data):\n",
    "    return np.divide(np.nan_to_num(data,np.nanmean(data)),np.nanmax(data))"
   ]
  },
  {
   "cell_type": "code",
   "execution_count": 23,
   "metadata": {},
   "outputs": [
    {
     "name": "stdout",
     "output_type": "stream",
     "text": [
      "Mean Sq. Error, Mean Abs. Error\n",
      "0.029412402 0.022741573\n"
     ]
    }
   ],
   "source": [
    "mse = np.sqrt(mean_squared_error(normalize1D(test_y),normalize1D(pred_test_y)))\n",
    "mae = mean_absolute_error(normalize1D(test_y),normalize1D(pred_test_y))\n",
    "print(\"Mean Sq. Error, Mean Abs. Error\")\n",
    "print(mse,mae)"
   ]
  },
  {
   "cell_type": "code",
   "execution_count": 24,
   "metadata": {},
   "outputs": [
    {
     "name": "stdout",
     "output_type": "stream",
     "text": [
      "Mean Sq. Error, Mean Abs. Error\n",
      "0.06651364 0.061038475\n"
     ]
    }
   ],
   "source": [
    "mse = np.sqrt(mean_squared_error(normalize1D(train_y),normalize1D(pred_train_y)))\n",
    "mae = mean_absolute_error(normalize1D(train_y),normalize1D(pred_train_y))\n",
    "print(\"Mean Sq. Error, Mean Abs. Error\")\n",
    "print(mse,mae)"
   ]
  },
  {
   "cell_type": "code",
   "execution_count": 25,
   "metadata": {},
   "outputs": [
    {
     "name": "stdout",
     "output_type": "stream",
     "text": [
      "Mean Sq. Error, Mean Abs. Error\n",
      "0.04377198936243973 0.03681477084403253\n"
     ]
    }
   ],
   "source": [
    "mse = np.sqrt(mean_squared_error(normalize1D(rand_y),normalize1D(pred_rand_y)))\n",
    "mae = mean_absolute_error(normalize1D(rand_y),normalize1D(pred_rand_y))\n",
    "print(\"Mean Sq. Error, Mean Abs. Error\")\n",
    "print(mse,mae)"
   ]
  },
  {
   "cell_type": "code",
   "execution_count": 26,
   "metadata": {},
   "outputs": [
    {
     "name": "stdout",
     "output_type": "stream",
     "text": [
      "64909 85945 316724 343776 197449 215222\n",
      "0.7552388155215545 0.9213092246113749 0.9174201522149222\n"
     ]
    }
   ],
   "source": [
    "errormargin = 0.06\n",
    "test_count = 0\n",
    "for i in range(len(normalize1D(test_y))):\n",
    "    if test_y[i]*(1-errormargin) <= pred_train_y[i] <= test_y[i]*(1+errormargin):\n",
    "        test_count+= 1\n",
    "train_count = 0\n",
    "for i in range(len(normalize1D(train_y))):\n",
    "    if train_y[i]*(1-errormargin) <= pred_train_y[i] <= train_y[i]*(1+errormargin):\n",
    "        train_count+= 1\n",
    "rand_count = 0\n",
    "for i in range(len(normalize1D(rand_y))):\n",
    "    if rand_y[i]*(1-errormargin) <= pred_rand_y[i] <= rand_y[i]*(1+errormargin):\n",
    "        rand_count+= 1\n",
    "\n",
    "print(test_count,len(test_y),train_count,len(train_y),rand_count,len(rand_y))\n",
    "print(test_count/len(test_y),train_count/len(train_y),rand_count/len(rand_y))"
   ]
  },
  {
   "cell_type": "code",
   "execution_count": 27,
   "metadata": {},
   "outputs": [
    {
     "name": "stdout",
     "output_type": "stream",
     "text": [
      "39105 85945 216552 343776 134684 215222\n",
      "0.4550002908837047 0.6299218095504049 0.6257910436665397\n"
     ]
    }
   ],
   "source": [
    "errormargin = 150\n",
    "test_count = 0\n",
    "for i in range(len(normalize1D(test_y))):\n",
    "    if test_y[i]-errormargin <= pred_train_y[i] <= test_y[i]+errormargin:\n",
    "        test_count+= 1\n",
    "train_count = 0\n",
    "for i in range(len(normalize1D(train_y))):\n",
    "    if train_y[i]-errormargin <= pred_train_y[i] <= train_y[i]+errormargin:\n",
    "        train_count+= 1\n",
    "rand_count = 0\n",
    "for i in range(len(normalize1D(rand_y))):\n",
    "    if rand_y[i]-errormargin <= pred_rand_y[i] <= rand_y[i]+errormargin:\n",
    "        rand_count+= 1\n",
    "\n",
    "print(test_count,len(test_y),train_count,len(train_y),rand_count,len(rand_y))\n",
    "print(test_count/len(test_y),train_count/len(train_y),rand_count/len(rand_y))"
   ]
  },
  {
   "cell_type": "markdown",
   "metadata": {},
   "source": [
    "# Testing"
   ]
  },
  {
   "cell_type": "code",
   "execution_count": 39,
   "metadata": {},
   "outputs": [
    {
     "data": {
      "text/plain": [
       "4707.60693359375"
      ]
     },
     "execution_count": 39,
     "metadata": {},
     "output_type": "execute_result"
    }
   ],
   "source": [
    "float(model.predict(all_data[i][3:121].reshape(-1,118)))"
   ]
  },
  {
   "cell_type": "code",
   "execution_count": 50,
   "metadata": {},
   "outputs": [],
   "source": [
    "def testpred_avg(all_data):\n",
    "    all_y = []\n",
    "    pred_all_y = []\n",
    "    kic = all_data[0][0]\n",
    "    kic_y = []\n",
    "    for i in range(len(all_data[:10000])):\n",
    "        kic_y.append(float(model.predict(all_data[i][3:121].reshape(-1,118))))\n",
    "        if(all_data[i][0]!=kic):\n",
    "            kic = all_data[i][0]\n",
    "            all_y.append(all_data[i][1])\n",
    "            pred_all_y.append(sum(kic_y)/len(kic_y))\n",
    "            kic_y = []\n",
    "\n",
    "    return all_y,pred_all_y\n",
    "all_y,pred_all_y = testpred_avg(all_data)"
   ]
  },
  {
   "cell_type": "code",
   "execution_count": 51,
   "metadata": {},
   "outputs": [
    {
     "data": {
      "image/png": "[encoded data removed]",
      "text/plain": [
       "<Figure size 432x288 with 1 Axes>"
      ]
     },
     "metadata": {
      "needs_background": "light"
     },
     "output_type": "display_data"
    }
   ],
   "source": [
    "plt.scatter(all_y,pred_all_y, c='red', alpha=0.5,s=2)\n",
    "\n",
    "linex = np.linspace(4000, 6000)\n",
    "liney = linex\n",
    "lineytop = linex+150\n",
    "lineybot = linex-150\n",
    "lineytop2 = linex*1.03\n",
    "lineybot2 = linex*0.97\n",
    "# Create the plot\n",
    "plt.plot(linex, liney,c=\"green\")\n",
    "plt.plot(linex, lineytop,c=\"red\")\n",
    "plt.plot(linex, lineybot,c=\"red\")\n",
    "plt.plot(linex, lineytop2,c=\"purple\")\n",
    "plt.plot(linex, lineybot2,c=\"purple\")\n",
    "\n",
    "\n",
    "plt.xlim(4000, 6000)\n",
    "plt.ylim(4000, 6000)\n",
    "plt.gca().set_aspect('equal', adjustable='box')\n",
    "plt.savefig('/Users/michaelsong/Documents/GitHub/starzam/Results/4.2.png')\n",
    "plt.show()\n"
   ]
  },
  {
   "cell_type": "code",
   "execution_count": 52,
   "metadata": {},
   "outputs": [
    {
     "name": "stdout",
     "output_type": "stream",
     "text": [
      "Mean Sq. Error, Mean Abs. Error\n",
      "0.1390003082706839 0.13103416677353238\n"
     ]
    }
   ],
   "source": [
    "mse = np.sqrt(mean_squared_error(normalize1D(all_y),normalize1D(pred_all_y)))\n",
    "mae = mean_absolute_error(normalize1D(all_y),normalize1D(pred_all_y))\n",
    "print(\"Mean Sq. Error, Mean Abs. Error\")\n",
    "print(mse,mae)"
   ]
  },
  {
   "cell_type": "code",
   "execution_count": null,
   "metadata": {},
   "outputs": [],
   "source": []
  }
 ],
 "metadata": {
  "interpreter": {
   "hash": "47065cae1920ebace9a059c93d67134c9a065e51e3ecb9809a1abf9fcf371550"
  },
  "kernelspec": {
   "display_name": "Python 3.9.7 64-bit ('base': conda)",
   "name": "python3"
  },
  "language_info": {
   "codemirror_mode": {
    "name": "ipython",
    "version": 3
   },
   "file_extension": ".py",
   "mimetype": "text/x-python",
   "name": "python",
   "nbconvert_exporter": "python",
   "pygments_lexer": "ipython3",
   "version": "3.9.7"
  },
  "orig_nbformat": 4
 },
 "nbformat": 4,
 "nbformat_minor": 2
}
