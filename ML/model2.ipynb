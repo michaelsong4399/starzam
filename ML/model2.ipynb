{
 "cells": [
  {
   "cell_type": "markdown",
   "metadata": {},
   "source": [
    "# Import"
   ]
  },
  {
   "cell_type": "code",
   "execution_count": 1,
   "metadata": {},
   "outputs": [],
   "source": [
    "import os\n",
    "import numpy as np\n",
    "\n",
    "from astropy.io import fits\n",
    "from matplotlib import pyplot as plt\n",
    "import numpy as np\n",
    "import lightkurve as lk\n",
    "from astroquery.simbad import Simbad\n",
    "import pandas as pd \n",
    "from numpy import genfromtxt\n",
    "from sklearn.preprocessing import normalize\n",
    "\n",
    "# #tf\n",
    "from __future__ import absolute_import, division, print_function, unicode_literals\n",
    "import tensorflow as tf\n",
    "from tensorflow import keras\n",
    "from tensorflow.keras import datasets, layers, models\n",
    "\n",
    "\n",
    "from sklearn.model_selection import train_test_split\n",
    "from sklearn.linear_model import LinearRegression\n",
    "from sklearn.metrics import r2_score, mean_squared_error, mean_absolute_error\n",
    "\n"
   ]
  },
  {
   "cell_type": "markdown",
   "metadata": {},
   "source": [
    "## Check GPU"
   ]
  },
  {
   "cell_type": "code",
   "execution_count": 2,
   "metadata": {},
   "outputs": [
    {
     "name": "stdout",
     "output_type": "stream",
     "text": [
      "[PhysicalDevice(name='/physical_device:CPU:0', device_type='CPU'), PhysicalDevice(name='/physical_device:GPU:0', device_type='GPU')]\n"
     ]
    }
   ],
   "source": [
    "devices = tf.config.list_physical_devices()\n",
    "print(devices)"
   ]
  },
  {
   "cell_type": "markdown",
   "metadata": {},
   "source": [
    "# Import Data"
   ]
  },
  {
   "cell_type": "code",
   "execution_count": 3,
   "metadata": {},
   "outputs": [
    {
     "data": {
      "text/plain": [
       "(122, 475)"
      ]
     },
     "execution_count": 3,
     "metadata": {},
     "output_type": "execute_result"
    }
   ],
   "source": [
    "pd.read_csv('/Users/michaelsong/Documents/GitHub/starzam/Data_v3/0.csv',delimiter=',').to_numpy().shape"
   ]
  },
  {
   "cell_type": "code",
   "execution_count": 53,
   "metadata": {},
   "outputs": [
    {
     "name": "stdout",
     "output_type": "stream",
     "text": [
      "(77197, 474)\n"
     ]
    }
   ],
   "source": [
    "all_data = np.empty((1,475))\n",
    "for i in range(1609):\n",
    "  try:\n",
    "    all_data = np.concatenate((all_data,pd.read_csv('/Users/michaelsong/Documents/GitHub/starzam/Data_v3/'+str(i)+'.csv',delimiter=',').to_numpy()), axis=0)\n",
    "  except:\n",
    "    continue\n",
    "all_data = all_data[1:].T[1:].T\n",
    "print(all_data.shape)\n",
    "# pd.read_csv('/content/drive/MyDrive/Research - Yihong Song and Rohit Prasanna/Yihong/Data_v2/0.csv',delimiter=',').to_numpy"
   ]
  },
  {
   "cell_type": "code",
   "execution_count": 54,
   "metadata": {},
   "outputs": [
    {
     "name": "stdout",
     "output_type": "stream",
     "text": [
      "[[7.57137000e+05 4.75100000e+03 2.38300000e+00 ... 5.85052317e+00\n",
      "  9.69580351e+00 7.87920306e+00]\n",
      " [7.57137000e+05 4.75100000e+03 2.38300000e+00 ... 4.51275398e+00\n",
      "  4.17921295e+00 5.35710573e+00]\n",
      " [7.57137000e+05 4.75100000e+03 2.38300000e+00 ... 2.39391900e+00\n",
      "  3.23821209e+00 3.50633041e+00]\n",
      " ...\n",
      " [1.24553570e+07 4.63300000e+03 2.35500000e+00 ... 7.22105298e+00\n",
      "  6.25722946e+00 6.97677380e+00]\n",
      " [1.24553570e+07 4.63300000e+03 2.35500000e+00 ... 5.24570461e+00\n",
      "  6.56183340e+00 5.67633786e+00]\n",
      " [1.24553570e+07 4.63300000e+03 2.35500000e+00 ... 5.01127168e+00\n",
      "  5.92280860e+00 4.84215917e+00]]\n",
      "[4751. 4751. 4751. ... 4633. 4633. 4633.]\n"
     ]
    }
   ],
   "source": [
    "print(all_data)\n",
    "print(all_data.T[1])"
   ]
  },
  {
   "cell_type": "code",
   "execution_count": 55,
   "metadata": {},
   "outputs": [],
   "source": [
    "def isolate_observations(data):\n",
    "    kic = 0\n",
    "    res = np.empty((1,474))\n",
    "    for i in range(len(data)):\n",
    "        if(data[i][0]!=kic):\n",
    "            kic = data[i][0]\n",
    "            res = np.vstack((res,data[i]))\n",
    "    return res\n",
    "\n",
    "# iso_data = isolate_observations(all_data).T[:10].T\n",
    "# print(iso_data)"
   ]
  },
  {
   "cell_type": "code",
   "execution_count": 56,
   "metadata": {},
   "outputs": [
    {
     "name": "stdout",
     "output_type": "stream",
     "text": [
      "(77197, 228) (77197, 2)\n",
      "(77197,)\n",
      "[4751. 4751. 4751. ... 4633. 4633. 4633.]\n",
      "[1.         4.20230387 5.08429584 2.8705257  3.03384979 3.09656549\n",
      " 3.75869284 3.02637558 3.31568472 3.41449566 3.89064309 4.46707678\n",
      " 2.84617214 4.34024907 4.44872399 5.03072533 2.98603345 3.9704044\n",
      " 4.04709734 2.80572554 2.4993625  2.28989815 2.79916182 3.17560122\n",
      " 2.09595172 1.70385558 2.22020202 1.28954937 1.33034144 1.36817343\n",
      " 1.44803374 1.22482013 1.17279956 1.15741269 1.02777875 0.83268147\n",
      " 1.07621558 1.01634899 1.04705778 0.75180739 0.98345645 0.52860498\n",
      " 0.64266898 0.91150894 0.64917226 0.72432438 0.53779949 0.42462443\n",
      " 0.3537338  0.4926552  0.78995761 0.55776332 0.57220055 0.57275563\n",
      " 0.49731549 0.43799971 0.4458369  0.45464592 0.62300697 0.3417187\n",
      " 0.4578065  0.49357301 0.48549321 0.46430902 0.59852467 0.39175011\n",
      " 0.46451555 0.35469993 0.4856069  0.31489359 0.29580494 0.37052073\n",
      " 0.34718435 0.3317955  0.37470149 0.33784652 0.34154617 0.28003836\n",
      " 0.34905947 0.35260452 0.31909339 0.28457844 0.3655531  0.28609421\n",
      " 0.27287525 0.32178996 0.29187161 0.32573694 0.31521757 0.29602352\n",
      " 0.31155542 0.26815045 0.25072878 0.32193828 0.30793917 0.17823744\n",
      " 0.27003274 0.21051989 0.27442812 0.3138275  0.23659274 0.21468438\n",
      " 0.22612513 0.26652898 0.21920029 0.26014059 0.21784751 0.26493008\n",
      " 0.22106845 0.15978835 0.24198511 0.26680982 0.15787763 0.29014914\n",
      " 0.21600715 0.21291571 0.22733214 0.19885346 0.24641515 0.18502171\n",
      " 0.19517101 0.2691748  0.21912635 0.23439441 0.25789088 0.20906064\n",
      " 0.23046635 0.19993283 0.24715193 0.2080895  0.21910557 0.24950728\n",
      " 0.215032   0.27231235 0.22787708 0.19641017 0.25784797 0.23838741\n",
      " 0.19286006 0.19621819 0.20270796 0.23208897 0.23195832 0.26231833\n",
      " 0.23481278 0.17661651 0.22676206 0.20679017 0.17748767 0.19412256\n",
      " 0.15159368 0.16029916 0.23158281 0.16015023 0.22042014 0.19393018\n",
      " 0.1596092  0.23867231 0.16274654 0.20766308 0.26380037 0.21308125\n",
      " 0.24186356 0.20518525 0.26120263 0.2335635  0.17171497 0.21328386\n",
      " 0.2395671  0.21244439 0.25414307 0.18330968 0.23786015 0.20688878\n",
      " 0.22705193 0.23537334 0.19711707 0.19725014 0.1815329  0.21963124\n",
      " 0.23814512 0.20852337 0.17184656 0.21546763 0.21245763 0.19883362\n",
      " 0.24248823 0.18214105 0.21811003 0.18765884 0.15305086 0.18962364\n",
      " 0.18880082 0.20605252 0.24186328 0.17097584 0.25106916 0.18343011\n",
      " 0.20053445 0.23955416 0.19835322 0.21922974 0.22217479 0.16430733\n",
      " 0.27577426 0.2046267  0.19828593 0.20418157 0.17042768 0.25793664\n",
      " 0.20120676 0.21459715 0.19057284 0.19126302 0.209826   0.14531362\n",
      " 0.18773577 0.21088573 0.16503103 0.16359656 0.20115406 0.23046745\n",
      " 0.21828066 0.17456908 0.18441237 0.23697506 0.20416312 0.20689056]\n"
     ]
    }
   ],
   "source": [
    "def extract_xy(all_data):\n",
    "    all_x = all_data.T[3:231].T\n",
    "    all_y = all_data.T[1:3].T\n",
    "    print(all_x.shape,all_y.shape)\n",
    "    teff_y = all_y.T[0].T\n",
    "    print(teff_y.shape)\n",
    "    print(teff_y)\n",
    "    print(all_x[1])\n",
    "    return all_x,teff_y\n",
    "\n",
    "all_x,teff_y = extract_xy(all_data)"
   ]
  },
  {
   "cell_type": "code",
   "execution_count": 57,
   "metadata": {},
   "outputs": [],
   "source": [
    "def normalize_with_moments(X_train, axes=0, epsilon=1e-8,keep_dims=True):\n",
    "    x = tf.convert_to_tensor(X_train)\n",
    "    mean, variance = tf.nn.moments(x, axes=axes)\n",
    "    x_normed = (x - mean) / tf.sqrt(variance + epsilon) # epsilon to avoid dividing by zero\n",
    "    return x_normed\n",
    "\n",
    "def normalize_x(x):\n",
    "    x = x.T\n",
    "    for i in range(len(x)):\n",
    "        x[i] = x[i] / np.linalg.norm(x[i])\n",
    "    return x.T"
   ]
  },
  {
   "cell_type": "code",
   "execution_count": 58,
   "metadata": {},
   "outputs": [],
   "source": [
    "# teff_y = normalize_with_moments(teff_y).numpy()\n",
    "# all_x = normalize_x(all_x)\n",
    "# print(teff_y)\n",
    "# print(all_x)"
   ]
  },
  {
   "cell_type": "code",
   "execution_count": 80,
   "metadata": {},
   "outputs": [
    {
     "name": "stdout",
     "output_type": "stream",
     "text": [
      "[1.         4.20230387 5.08429584 2.8705257  3.03384979 3.09656549\n",
      " 3.75869284 3.02637558 3.31568472 3.41449566 3.89064309 4.46707678\n",
      " 2.84617214 4.34024907 4.44872399 5.03072533 2.98603345 3.9704044\n",
      " 4.04709734 2.80572554 2.4993625  2.28989815 2.79916182 3.17560122\n",
      " 2.09595172 1.70385558 2.22020202 1.28954937 1.33034144 1.36817343\n",
      " 1.44803374 1.22482013 1.17279956 1.15741269 1.02777875 0.83268147\n",
      " 1.07621558 1.01634899 1.04705778 0.75180739 0.98345645 0.52860498\n",
      " 0.64266898 0.91150894 0.64917226 0.72432438 0.53779949 0.42462443\n",
      " 0.3537338  0.4926552  0.78995761 0.55776332 0.57220055 0.57275563\n",
      " 0.49731549 0.43799971 0.4458369  0.45464592 0.62300697 0.3417187\n",
      " 0.4578065  0.49357301 0.48549321 0.46430902 0.59852467 0.39175011\n",
      " 0.46451555 0.35469993 0.4856069  0.31489359 0.29580494 0.37052073\n",
      " 0.34718435 0.3317955  0.37470149 0.33784652 0.34154617 0.28003836\n",
      " 0.34905947 0.35260452 0.31909339 0.28457844 0.3655531  0.28609421\n",
      " 0.27287525 0.32178996 0.29187161 0.32573694 0.31521757 0.29602352\n",
      " 0.31155542 0.26815045 0.25072878 0.32193828 0.30793917 0.17823744\n",
      " 0.27003274 0.21051989 0.27442812 0.3138275  0.23659274 0.21468438\n",
      " 0.22612513 0.26652898 0.21920029 0.26014059 0.21784751 0.26493008\n",
      " 0.22106845 0.15978835 0.24198511 0.26680982 0.15787763 0.29014914\n",
      " 0.21600715 0.21291571 0.22733214 0.19885346 0.24641515 0.18502171\n",
      " 0.19517101 0.2691748  0.21912635 0.23439441 0.25789088 0.20906064\n",
      " 0.23046635 0.19993283 0.24715193 0.2080895  0.21910557 0.24950728\n",
      " 0.215032   0.27231235 0.22787708 0.19641017 0.25784797 0.23838741\n",
      " 0.19286006 0.19621819 0.20270796 0.23208897 0.23195832 0.26231833\n",
      " 0.23481278 0.17661651 0.22676206 0.20679017 0.17748767 0.19412256\n",
      " 0.15159368 0.16029916 0.23158281 0.16015023 0.22042014 0.19393018\n",
      " 0.1596092  0.23867231 0.16274654 0.20766308 0.26380037 0.21308125\n",
      " 0.24186356 0.20518525 0.26120263 0.2335635  0.17171497 0.21328386\n",
      " 0.2395671  0.21244439 0.25414307 0.18330968 0.23786015 0.20688878\n",
      " 0.22705193 0.23537334 0.19711707 0.19725014 0.1815329  0.21963124\n",
      " 0.23814512 0.20852337 0.17184656 0.21546763 0.21245763 0.19883362\n",
      " 0.24248823 0.18214105 0.21811003 0.18765884 0.15305086 0.18962364\n",
      " 0.18880082 0.20605252 0.24186328 0.17097584 0.25106916 0.18343011\n",
      " 0.20053445 0.23955416 0.19835322 0.21922974 0.22217479 0.16430733\n",
      " 0.27577426 0.2046267  0.19828593 0.20418157 0.17042768 0.25793664\n",
      " 0.20120676 0.21459715 0.19057284 0.19126302 0.209826   0.14531362\n",
      " 0.18773577 0.21088573 0.16503103 0.16359656 0.20115406 0.23046745\n",
      " 0.21828066 0.17456908 0.18441237 0.23697506 0.20416312 0.20689056]\n"
     ]
    }
   ],
   "source": [
    "print(all_x[1])"
   ]
  },
  {
   "cell_type": "markdown",
   "metadata": {},
   "source": [
    "# Machine Learning"
   ]
  },
  {
   "cell_type": "code",
   "execution_count": 81,
   "metadata": {},
   "outputs": [
    {
     "name": "stdout",
     "output_type": "stream",
     "text": [
      "(61757, 228) (15440, 228) (61757,) (15440,)\n",
      "(61757, 228) (15440, 228) (61757,) (15440,)\n"
     ]
    }
   ],
   "source": [
    "train_x,test_x,train_y,test_y=train_test_split(all_x, teff_y, test_size=0.20, random_state=42)\n",
    "print(train_x.shape,test_x.shape,train_y.shape,test_y.shape)\n",
    "train_x = np.asarray(train_x).astype('float32')\n",
    "test_x = np.asarray(test_x).astype('float32')\n",
    "train_y = np.asarray(train_y).astype('float32')\n",
    "test_y = np.asarray(test_y).astype('float32')\n",
    "print(train_x.shape,test_x.shape,train_y.shape,test_y.shape)"
   ]
  },
  {
   "cell_type": "code",
   "execution_count": 82,
   "metadata": {},
   "outputs": [
    {
     "name": "stdout",
     "output_type": "stream",
     "text": [
      "Model: \"sequential\"\n",
      "_________________________________________________________________\n",
      "Layer (type)                 Output Shape              Param #   \n",
      "=================================================================\n",
      "dense (Dense)                (None, 2048)              468992    \n",
      "_________________________________________________________________\n",
      "dense_1 (Dense)              (None, 1024)              2098176   \n",
      "_________________________________________________________________\n",
      "dense_2 (Dense)              (None, 1024)              1049600   \n",
      "_________________________________________________________________\n",
      "dense_3 (Dense)              (None, 1024)              1049600   \n",
      "_________________________________________________________________\n",
      "dense_4 (Dense)              (None, 512)               524800    \n",
      "_________________________________________________________________\n",
      "dense_5 (Dense)              (None, 512)               262656    \n",
      "_________________________________________________________________\n",
      "dense_6 (Dense)              (None, 256)               131328    \n",
      "_________________________________________________________________\n",
      "dense_7 (Dense)              (None, 256)               65792     \n",
      "_________________________________________________________________\n",
      "dense_8 (Dense)              (None, 128)               32896     \n",
      "_________________________________________________________________\n",
      "dense_9 (Dense)              (None, 128)               16512     \n",
      "_________________________________________________________________\n",
      "dense_10 (Dense)             (None, 32)                4128      \n",
      "_________________________________________________________________\n",
      "dense_11 (Dense)             (None, 4)                 132       \n",
      "_________________________________________________________________\n",
      "dense_12 (Dense)             (None, 2)                 10        \n",
      "_________________________________________________________________\n",
      "dense_13 (Dense)             (None, 1)                 3         \n",
      "=================================================================\n",
      "Total params: 5,704,625\n",
      "Trainable params: 5,704,625\n",
      "Non-trainable params: 0\n",
      "_________________________________________________________________\n"
     ]
    },
    {
     "name": "stderr",
     "output_type": "stream",
     "text": [
      "2021-12-15 19:06:27.879101: I tensorflow/core/common_runtime/pluggable_device/pluggable_device_factory.cc:305] Could not identify NUMA node of platform GPU ID 0, defaulting to 0. Your kernel may not have been built with NUMA support.\n",
      "2021-12-15 19:06:27.879123: I tensorflow/core/common_runtime/pluggable_device/pluggable_device_factory.cc:271] Created TensorFlow device (/device:GPU:0 with 0 MB memory) -> physical PluggableDevice (device: 0, name: METAL, pci bus id: <undefined>)\n"
     ]
    }
   ],
   "source": [
    "tf.test.gpu_device_name() # No GPU Sad :v\n",
    "# tf.config.optimizer.set_jit(True)\n",
    "keras.backend.clear_session()\n",
    "# model = models.Sequential()\n",
    "\n",
    "# model.add(layers.Conv1D(1024, 1, activation='relu',batch_input_shape=train_x.shape))\n",
    "# model.add(layers.Dense(128))\n",
    "# model.add(layers.Conv1D(32, 1, activation='relu'))\n",
    "# model.add(layers.Dense(1,activation=\"sigmoid\"))\n",
    "\n",
    "# model.summary()\n",
    "model = models.Sequential()\n",
    "#model.add(layers.Conv1D(filters=16, kernel_size=1, activation='relu', batch_input_shape=(train_x.shape)))\n",
    "\n",
    "#model.add(layers.Embedding(input_dim=64, output_dim=16))\n",
    "#model.add(layers.LSTM(128,dr\n",
    "# opout=0.2,recurrent_dropout=0.2,input_dim=(train_x.shape[2])))\n",
    "#model.add(layers.Conv1D(1024,1,activation='relu',input_shape=(train_x.shape)))\n",
    "#model.add(layers.Conv1D(256,1,activation='relu'))\n",
    "model.add(layers.Dense(2048, activation=\"relu\", input_shape=((228,))))\n",
    "model.add(layers.Dense(1024, activation=\"relu\"))\n",
    "model.add(layers.Dense(1024, activation=\"relu\"))\n",
    "model.add(layers.Dense(1024, activation=\"relu\"))\n",
    "model.add(layers.Dense(512, activation=\"relu\"))\n",
    "model.add(layers.Dense(512, activation=\"relu\"))\n",
    "model.add(layers.Dense(256, activation=\"relu\"))\n",
    "model.add(layers.Dense(256, activation=\"relu\"))\n",
    "model.add(layers.Dense(128, activation=\"relu\"))\n",
    "model.add(layers.Dense(128, activation=\"relu\"))\n",
    "model.add(layers.Dense(32, activation=\"relu\"))\n",
    "model.add(layers.Dense(4, activation=\"relu\"))\n",
    "model.add(layers.Dense(2, activation=\"relu\"))\n",
    "model.add(layers.Dense(1))\n",
    "model.summary()"
   ]
  },
  {
   "cell_type": "code",
   "execution_count": 83,
   "metadata": {},
   "outputs": [],
   "source": [
    "model.compile(optimizer='adam', loss='mse', metrics=['accuracy'])\n",
    "# reduce_lr = keras.callbacks.ReduceLROnPlateau(monitor='val_loss', factor=0.2,\n",
    "#                               patience=5, min_lr=0.001)\n",
    "# monitor = keras.callbacks.EarlyStopping(monitor='val_loss', min_delta=1e-4, \n",
    "#         patience=10, verbose=1, mode='auto',\n",
    "#         restore_best_weights=True)\n",
    "\n",
    "# def on_epoch_end(self, epoch, logs={}):\n",
    "#     if(logs.get('loss') <= 15000):\n",
    "#         print(\"\\n\\n\\nReached 0.05 loss value so cancelling training!\\n\\n\\n\")\n",
    "#         model.stop_training = True\n",
    "\n",
    "\n",
    "# trainingStopCallback = on_epoch_end()\n"
   ]
  },
  {
   "cell_type": "code",
   "execution_count": 84,
   "metadata": {},
   "outputs": [
    {
     "name": "stdout",
     "output_type": "stream",
     "text": [
      "Epoch 1/150\n"
     ]
    },
    {
     "name": "stderr",
     "output_type": "stream",
     "text": [
      "2021-12-15 19:06:30.243080: I tensorflow/core/grappler/optimizers/custom_graph_optimizer_registry.cc:112] Plugin optimizer for device_type GPU is enabled.\n",
      "2021-12-15 19:06:48.286820: I tensorflow/core/grappler/optimizers/custom_graph_optimizer_registry.cc:112] Plugin optimizer for device_type GPU is enabled.\n"
     ]
    },
    {
     "name": "stdout",
     "output_type": "stream",
     "text": [
      "1930/1930 - 20s - loss: 1005776.9375 - accuracy: 0.0000e+00 - val_loss: 1217053.2500 - val_accuracy: 0.0000e+00\n",
      "Epoch 2/150\n",
      "1930/1930 - 20s - loss: 112416.1875 - accuracy: 0.0000e+00 - val_loss: 39626.2891 - val_accuracy: 0.0000e+00\n",
      "Epoch 3/150\n",
      "1930/1930 - 20s - loss: 96242.3438 - accuracy: 0.0000e+00 - val_loss: 107534.1406 - val_accuracy: 0.0000e+00\n",
      "Epoch 4/150\n",
      "1930/1930 - 20s - loss: 77703.4375 - accuracy: 0.0000e+00 - val_loss: 46323.4414 - val_accuracy: 0.0000e+00\n",
      "Epoch 5/150\n",
      "1930/1930 - 23s - loss: 79570.0312 - accuracy: 0.0000e+00 - val_loss: 37518.5977 - val_accuracy: 0.0000e+00\n",
      "Epoch 6/150\n",
      "1930/1930 - 23s - loss: 70707.8984 - accuracy: 0.0000e+00 - val_loss: 69824.5703 - val_accuracy: 0.0000e+00\n",
      "Epoch 7/150\n",
      "1930/1930 - 23s - loss: 67392.6172 - accuracy: 0.0000e+00 - val_loss: 46863.8555 - val_accuracy: 0.0000e+00\n",
      "Epoch 8/150\n",
      "1930/1930 - 23s - loss: 64132.4688 - accuracy: 0.0000e+00 - val_loss: 33063.4219 - val_accuracy: 0.0000e+00\n",
      "Epoch 9/150\n",
      "1930/1930 - 23s - loss: 60788.7383 - accuracy: 0.0000e+00 - val_loss: 40616.5703 - val_accuracy: 0.0000e+00\n",
      "Epoch 10/150\n",
      "1930/1930 - 24s - loss: 56404.0938 - accuracy: 0.0000e+00 - val_loss: 40897.8984 - val_accuracy: 0.0000e+00\n",
      "Epoch 11/150\n",
      "1930/1930 - 24s - loss: 55850.3555 - accuracy: 0.0000e+00 - val_loss: 44675.7969 - val_accuracy: 0.0000e+00\n",
      "Epoch 12/150\n",
      "1930/1930 - 23s - loss: 56369.1992 - accuracy: 0.0000e+00 - val_loss: 33651.9727 - val_accuracy: 0.0000e+00\n",
      "Epoch 13/150\n",
      "1930/1930 - 23s - loss: 50808.7578 - accuracy: 0.0000e+00 - val_loss: 136736.8281 - val_accuracy: 0.0000e+00\n",
      "Epoch 14/150\n",
      "1930/1930 - 23s - loss: 52054.9609 - accuracy: 0.0000e+00 - val_loss: 34821.7070 - val_accuracy: 0.0000e+00\n",
      "Epoch 15/150\n",
      "1930/1930 - 23s - loss: 52010.7031 - accuracy: 0.0000e+00 - val_loss: 43458.7422 - val_accuracy: 0.0000e+00\n",
      "Epoch 16/150\n",
      "1930/1930 - 23s - loss: 46691.5156 - accuracy: 0.0000e+00 - val_loss: 33353.9258 - val_accuracy: 0.0000e+00\n",
      "Epoch 17/150\n",
      "1930/1930 - 23s - loss: 46607.3633 - accuracy: 0.0000e+00 - val_loss: 31145.1426 - val_accuracy: 0.0000e+00\n",
      "Epoch 18/150\n",
      "1930/1930 - 23s - loss: 45769.7383 - accuracy: 0.0000e+00 - val_loss: 47881.0547 - val_accuracy: 0.0000e+00\n",
      "Epoch 19/150\n",
      "1930/1930 - 23s - loss: 46257.1641 - accuracy: 0.0000e+00 - val_loss: 68679.3125 - val_accuracy: 0.0000e+00\n",
      "Epoch 20/150\n",
      "1930/1930 - 23s - loss: 44650.4766 - accuracy: 0.0000e+00 - val_loss: 33249.3164 - val_accuracy: 0.0000e+00\n",
      "Epoch 21/150\n",
      "1930/1930 - 23s - loss: 40522.6016 - accuracy: 0.0000e+00 - val_loss: 33714.6836 - val_accuracy: 0.0000e+00\n",
      "Epoch 22/150\n",
      "1930/1930 - 23s - loss: 42151.5586 - accuracy: 0.0000e+00 - val_loss: 43615.6602 - val_accuracy: 0.0000e+00\n",
      "Epoch 23/150\n",
      "1930/1930 - 20s - loss: 38334.5039 - accuracy: 0.0000e+00 - val_loss: 60412.8945 - val_accuracy: 0.0000e+00\n",
      "Epoch 24/150\n",
      "1930/1930 - 20s - loss: 37225.4688 - accuracy: 0.0000e+00 - val_loss: 34333.4258 - val_accuracy: 0.0000e+00\n",
      "Epoch 25/150\n",
      "1930/1930 - 20s - loss: 35335.5859 - accuracy: 0.0000e+00 - val_loss: 30333.5723 - val_accuracy: 0.0000e+00\n",
      "Epoch 26/150\n",
      "1930/1930 - 22s - loss: 33533.0000 - accuracy: 0.0000e+00 - val_loss: 62127.0508 - val_accuracy: 0.0000e+00\n",
      "Epoch 27/150\n",
      "1930/1930 - 24s - loss: 33230.6680 - accuracy: 0.0000e+00 - val_loss: 28755.6270 - val_accuracy: 0.0000e+00\n",
      "Epoch 28/150\n",
      "1930/1930 - 23s - loss: 31782.1855 - accuracy: 0.0000e+00 - val_loss: 41774.3242 - val_accuracy: 0.0000e+00\n",
      "Epoch 29/150\n",
      "1930/1930 - 24s - loss: 32510.3457 - accuracy: 0.0000e+00 - val_loss: 29161.5508 - val_accuracy: 0.0000e+00\n",
      "Epoch 30/150\n",
      "1930/1930 - 23s - loss: 31877.4121 - accuracy: 0.0000e+00 - val_loss: 29324.3379 - val_accuracy: 0.0000e+00\n",
      "Epoch 31/150\n",
      "1930/1930 - 23s - loss: 31239.1582 - accuracy: 0.0000e+00 - val_loss: 30793.0742 - val_accuracy: 0.0000e+00\n",
      "Epoch 32/150\n",
      "1930/1930 - 23s - loss: 30927.7695 - accuracy: 0.0000e+00 - val_loss: 27624.9941 - val_accuracy: 0.0000e+00\n",
      "Epoch 33/150\n",
      "1930/1930 - 23s - loss: 31327.4902 - accuracy: 0.0000e+00 - val_loss: 32563.1484 - val_accuracy: 0.0000e+00\n",
      "Epoch 34/150\n",
      "1930/1930 - 24s - loss: 31658.7188 - accuracy: 0.0000e+00 - val_loss: 50154.8047 - val_accuracy: 0.0000e+00\n",
      "Epoch 35/150\n",
      "1930/1930 - 23s - loss: 31016.3008 - accuracy: 0.0000e+00 - val_loss: 28057.6426 - val_accuracy: 0.0000e+00\n",
      "Epoch 36/150\n",
      "1930/1930 - 23s - loss: 30520.0723 - accuracy: 0.0000e+00 - val_loss: 33463.4297 - val_accuracy: 0.0000e+00\n",
      "Epoch 37/150\n",
      "1930/1930 - 23s - loss: 30768.1562 - accuracy: 0.0000e+00 - val_loss: 32294.8535 - val_accuracy: 0.0000e+00\n",
      "Epoch 38/150\n",
      "1930/1930 - 24s - loss: 30221.9492 - accuracy: 0.0000e+00 - val_loss: 27668.7539 - val_accuracy: 0.0000e+00\n",
      "Epoch 39/150\n",
      "1930/1930 - 23s - loss: 30543.8965 - accuracy: 0.0000e+00 - val_loss: 29777.9160 - val_accuracy: 0.0000e+00\n",
      "Epoch 40/150\n",
      "1930/1930 - 20s - loss: 30243.3535 - accuracy: 0.0000e+00 - val_loss: 29450.2402 - val_accuracy: 0.0000e+00\n",
      "Epoch 41/150\n",
      "1930/1930 - 20s - loss: 29665.8984 - accuracy: 0.0000e+00 - val_loss: 33222.1484 - val_accuracy: 0.0000e+00\n",
      "Epoch 42/150\n",
      "1930/1930 - 20s - loss: 30140.7871 - accuracy: 0.0000e+00 - val_loss: 32751.9668 - val_accuracy: 0.0000e+00\n",
      "Epoch 43/150\n",
      "1930/1930 - 20s - loss: 30151.8516 - accuracy: 0.0000e+00 - val_loss: 27071.1562 - val_accuracy: 0.0000e+00\n",
      "Epoch 44/150\n",
      "1930/1930 - 20s - loss: 29173.3438 - accuracy: 0.0000e+00 - val_loss: 26598.1016 - val_accuracy: 0.0000e+00\n",
      "Epoch 45/150\n",
      "1930/1930 - 20s - loss: 29747.3496 - accuracy: 0.0000e+00 - val_loss: 34826.9766 - val_accuracy: 0.0000e+00\n",
      "Epoch 46/150\n",
      "1930/1930 - 20s - loss: 29697.2305 - accuracy: 0.0000e+00 - val_loss: 30271.4180 - val_accuracy: 0.0000e+00\n",
      "Epoch 47/150\n",
      "1930/1930 - 20s - loss: 29782.4453 - accuracy: 0.0000e+00 - val_loss: 29235.3418 - val_accuracy: 0.0000e+00\n",
      "Epoch 48/150\n",
      "1930/1930 - 20s - loss: 29900.3242 - accuracy: 0.0000e+00 - val_loss: 46080.5391 - val_accuracy: 0.0000e+00\n",
      "Epoch 49/150\n",
      "1930/1930 - 23s - loss: 29353.5879 - accuracy: 0.0000e+00 - val_loss: 37120.0703 - val_accuracy: 0.0000e+00\n",
      "Epoch 50/150\n",
      "1930/1930 - 23s - loss: 28679.0098 - accuracy: 0.0000e+00 - val_loss: 26619.8789 - val_accuracy: 0.0000e+00\n",
      "Epoch 51/150\n",
      "1930/1930 - 23s - loss: 28947.9961 - accuracy: 0.0000e+00 - val_loss: 34747.0078 - val_accuracy: 0.0000e+00\n",
      "Epoch 52/150\n",
      "1930/1930 - 23s - loss: 29763.6797 - accuracy: 0.0000e+00 - val_loss: 38593.7188 - val_accuracy: 0.0000e+00\n",
      "Epoch 53/150\n",
      "1930/1930 - 23s - loss: 29191.2051 - accuracy: 0.0000e+00 - val_loss: 27184.3887 - val_accuracy: 0.0000e+00\n",
      "Epoch 54/150\n",
      "1930/1930 - 23s - loss: 28520.5762 - accuracy: 0.0000e+00 - val_loss: 35510.9180 - val_accuracy: 0.0000e+00\n",
      "Epoch 55/150\n",
      "1930/1930 - 23s - loss: 29106.9355 - accuracy: 0.0000e+00 - val_loss: 31499.8066 - val_accuracy: 0.0000e+00\n",
      "Epoch 56/150\n",
      "1930/1930 - 23s - loss: 28922.1797 - accuracy: 0.0000e+00 - val_loss: 29737.7891 - val_accuracy: 0.0000e+00\n",
      "Epoch 57/150\n",
      "1930/1930 - 23s - loss: 29004.3262 - accuracy: 0.0000e+00 - val_loss: 34923.2891 - val_accuracy: 0.0000e+00\n",
      "Epoch 58/150\n",
      "1930/1930 - 24s - loss: 29075.1738 - accuracy: 0.0000e+00 - val_loss: 28192.3594 - val_accuracy: 0.0000e+00\n",
      "Epoch 59/150\n",
      "1930/1930 - 24s - loss: 28683.5137 - accuracy: 0.0000e+00 - val_loss: 26922.9902 - val_accuracy: 0.0000e+00\n",
      "Epoch 60/150\n",
      "1930/1930 - 24s - loss: 28816.1230 - accuracy: 0.0000e+00 - val_loss: 27284.2051 - val_accuracy: 0.0000e+00\n",
      "Epoch 61/150\n",
      "1930/1930 - 24s - loss: 28818.3223 - accuracy: 0.0000e+00 - val_loss: 48346.4102 - val_accuracy: 0.0000e+00\n",
      "Epoch 62/150\n",
      "1930/1930 - 24s - loss: 28582.7578 - accuracy: 0.0000e+00 - val_loss: 28484.6328 - val_accuracy: 0.0000e+00\n",
      "Epoch 63/150\n",
      "1930/1930 - 24s - loss: 28648.2480 - accuracy: 0.0000e+00 - val_loss: 31823.8867 - val_accuracy: 0.0000e+00\n",
      "Epoch 64/150\n",
      "1930/1930 - 23s - loss: 28528.2520 - accuracy: 0.0000e+00 - val_loss: 28077.8438 - val_accuracy: 0.0000e+00\n",
      "Epoch 65/150\n",
      "1930/1930 - 22s - loss: 28711.8555 - accuracy: 0.0000e+00 - val_loss: 28602.0762 - val_accuracy: 0.0000e+00\n",
      "Epoch 66/150\n",
      "1930/1930 - 22s - loss: 28681.4043 - accuracy: 0.0000e+00 - val_loss: 30482.0625 - val_accuracy: 0.0000e+00\n",
      "Epoch 67/150\n",
      "1930/1930 - 21s - loss: 28505.9355 - accuracy: 0.0000e+00 - val_loss: 26567.0020 - val_accuracy: 0.0000e+00\n",
      "Epoch 68/150\n",
      "1930/1930 - 21s - loss: 28730.8613 - accuracy: 0.0000e+00 - val_loss: 27191.8848 - val_accuracy: 0.0000e+00\n",
      "Epoch 69/150\n",
      "1930/1930 - 22s - loss: 28332.4727 - accuracy: 0.0000e+00 - val_loss: 32855.0273 - val_accuracy: 0.0000e+00\n",
      "Epoch 70/150\n",
      "1930/1930 - 20s - loss: 28242.3906 - accuracy: 0.0000e+00 - val_loss: 26820.5566 - val_accuracy: 0.0000e+00\n",
      "Epoch 71/150\n",
      "1930/1930 - 23s - loss: 28665.2773 - accuracy: 0.0000e+00 - val_loss: 27689.9414 - val_accuracy: 0.0000e+00\n",
      "Epoch 72/150\n",
      "1930/1930 - 24s - loss: 27819.3359 - accuracy: 0.0000e+00 - val_loss: 27728.6797 - val_accuracy: 0.0000e+00\n",
      "Epoch 73/150\n",
      "1930/1930 - 24s - loss: 27744.3477 - accuracy: 0.0000e+00 - val_loss: 35875.8477 - val_accuracy: 0.0000e+00\n",
      "Epoch 74/150\n",
      "1930/1930 - 24s - loss: 28483.6133 - accuracy: 0.0000e+00 - val_loss: 26563.8730 - val_accuracy: 0.0000e+00\n",
      "Epoch 75/150\n",
      "1930/1930 - 24s - loss: 28011.7012 - accuracy: 0.0000e+00 - val_loss: 27045.5137 - val_accuracy: 0.0000e+00\n",
      "Epoch 76/150\n",
      "1930/1930 - 24s - loss: 27688.4121 - accuracy: 0.0000e+00 - val_loss: 30008.1211 - val_accuracy: 0.0000e+00\n",
      "Epoch 77/150\n",
      "1930/1930 - 24s - loss: 27752.4492 - accuracy: 0.0000e+00 - val_loss: 27854.8926 - val_accuracy: 0.0000e+00\n",
      "Epoch 78/150\n",
      "1930/1930 - 24s - loss: 27685.4941 - accuracy: 0.0000e+00 - val_loss: 29461.2441 - val_accuracy: 0.0000e+00\n",
      "Epoch 79/150\n",
      "1930/1930 - 24s - loss: 28002.9961 - accuracy: 0.0000e+00 - val_loss: 26991.9746 - val_accuracy: 0.0000e+00\n",
      "Epoch 80/150\n",
      "1930/1930 - 24s - loss: 28098.0840 - accuracy: 0.0000e+00 - val_loss: 28055.8848 - val_accuracy: 0.0000e+00\n",
      "Epoch 81/150\n",
      "1930/1930 - 24s - loss: 27771.8750 - accuracy: 0.0000e+00 - val_loss: 30146.5879 - val_accuracy: 0.0000e+00\n",
      "Epoch 82/150\n",
      "1930/1930 - 21s - loss: 28002.0469 - accuracy: 0.0000e+00 - val_loss: 29043.2773 - val_accuracy: 0.0000e+00\n",
      "Epoch 83/150\n",
      "1930/1930 - 20s - loss: 28119.7656 - accuracy: 0.0000e+00 - val_loss: 30467.8770 - val_accuracy: 0.0000e+00\n",
      "Epoch 84/150\n",
      "1930/1930 - 20s - loss: 27295.5742 - accuracy: 0.0000e+00 - val_loss: 29093.9336 - val_accuracy: 0.0000e+00\n",
      "Epoch 85/150\n",
      "1930/1930 - 20s - loss: 27751.3926 - accuracy: 0.0000e+00 - val_loss: 31890.6367 - val_accuracy: 0.0000e+00\n",
      "Epoch 86/150\n",
      "1930/1930 - 20s - loss: 27435.0527 - accuracy: 0.0000e+00 - val_loss: 27706.1621 - val_accuracy: 0.0000e+00\n",
      "Epoch 87/150\n",
      "1930/1930 - 20s - loss: 28096.5586 - accuracy: 0.0000e+00 - val_loss: 28921.7500 - val_accuracy: 0.0000e+00\n",
      "Epoch 88/150\n",
      "1930/1930 - 20s - loss: 27377.7441 - accuracy: 0.0000e+00 - val_loss: 32774.3633 - val_accuracy: 0.0000e+00\n",
      "Epoch 89/150\n",
      "1930/1930 - 20s - loss: 27507.2109 - accuracy: 0.0000e+00 - val_loss: 27184.3594 - val_accuracy: 0.0000e+00\n",
      "Epoch 90/150\n",
      "1930/1930 - 20s - loss: 27485.3711 - accuracy: 0.0000e+00 - val_loss: 32883.8281 - val_accuracy: 0.0000e+00\n",
      "Epoch 91/150\n",
      "1930/1930 - 20s - loss: 27478.3301 - accuracy: 0.0000e+00 - val_loss: 27512.0840 - val_accuracy: 0.0000e+00\n",
      "Epoch 92/150\n",
      "1930/1930 - 20s - loss: 27446.8027 - accuracy: 0.0000e+00 - val_loss: 58100.7656 - val_accuracy: 0.0000e+00\n",
      "Epoch 93/150\n",
      "1930/1930 - 20s - loss: 27010.2695 - accuracy: 0.0000e+00 - val_loss: 35792.0508 - val_accuracy: 0.0000e+00\n",
      "Epoch 94/150\n",
      "1930/1930 - 20s - loss: 27459.9043 - accuracy: 0.0000e+00 - val_loss: 31101.1602 - val_accuracy: 0.0000e+00\n",
      "Epoch 95/150\n",
      "1930/1930 - 20s - loss: 27246.2969 - accuracy: 0.0000e+00 - val_loss: 32108.5117 - val_accuracy: 0.0000e+00\n",
      "Epoch 96/150\n",
      "1930/1930 - 20s - loss: 27870.6816 - accuracy: 0.0000e+00 - val_loss: 26666.5391 - val_accuracy: 0.0000e+00\n",
      "Epoch 97/150\n",
      "1930/1930 - 20s - loss: 27326.6191 - accuracy: 0.0000e+00 - val_loss: 26929.4707 - val_accuracy: 0.0000e+00\n",
      "Epoch 98/150\n",
      "1930/1930 - 20s - loss: 27160.8203 - accuracy: 0.0000e+00 - val_loss: 27018.6035 - val_accuracy: 0.0000e+00\n",
      "Epoch 99/150\n",
      "1930/1930 - 20s - loss: 26978.9590 - accuracy: 0.0000e+00 - val_loss: 29524.4023 - val_accuracy: 0.0000e+00\n",
      "Epoch 100/150\n",
      "1930/1930 - 20s - loss: 27101.3867 - accuracy: 0.0000e+00 - val_loss: 27134.2559 - val_accuracy: 0.0000e+00\n",
      "Epoch 101/150\n",
      "1930/1930 - 20s - loss: 27427.9863 - accuracy: 0.0000e+00 - val_loss: 30563.1211 - val_accuracy: 0.0000e+00\n",
      "Epoch 102/150\n",
      "1930/1930 - 20s - loss: 26876.5332 - accuracy: 0.0000e+00 - val_loss: 29030.2695 - val_accuracy: 0.0000e+00\n",
      "Epoch 103/150\n",
      "1930/1930 - 20s - loss: 27164.8906 - accuracy: 0.0000e+00 - val_loss: 27409.7988 - val_accuracy: 0.0000e+00\n",
      "Epoch 104/150\n",
      "1930/1930 - 20s - loss: 27019.0469 - accuracy: 0.0000e+00 - val_loss: 32889.3398 - val_accuracy: 0.0000e+00\n",
      "Epoch 105/150\n",
      "1930/1930 - 20s - loss: 27334.8809 - accuracy: 0.0000e+00 - val_loss: 36872.0469 - val_accuracy: 0.0000e+00\n",
      "Epoch 106/150\n",
      "1930/1930 - 20s - loss: 27196.2930 - accuracy: 0.0000e+00 - val_loss: 27407.0898 - val_accuracy: 0.0000e+00\n",
      "Epoch 107/150\n",
      "1930/1930 - 20s - loss: 27232.8633 - accuracy: 0.0000e+00 - val_loss: 29331.8027 - val_accuracy: 0.0000e+00\n",
      "Epoch 108/150\n",
      "1930/1930 - 20s - loss: 26808.5703 - accuracy: 0.0000e+00 - val_loss: 27551.0918 - val_accuracy: 0.0000e+00\n",
      "Epoch 109/150\n",
      "1930/1930 - 20s - loss: 27400.6602 - accuracy: 0.0000e+00 - val_loss: 26510.9512 - val_accuracy: 0.0000e+00\n",
      "Epoch 110/150\n",
      "1930/1930 - 20s - loss: 26862.8594 - accuracy: 0.0000e+00 - val_loss: 26719.0996 - val_accuracy: 0.0000e+00\n",
      "Epoch 111/150\n",
      "1930/1930 - 20s - loss: 27730.7305 - accuracy: 0.0000e+00 - val_loss: 27130.2422 - val_accuracy: 0.0000e+00\n",
      "Epoch 112/150\n",
      "1930/1930 - 20s - loss: 26771.7383 - accuracy: 0.0000e+00 - val_loss: 27144.4668 - val_accuracy: 0.0000e+00\n",
      "Epoch 113/150\n",
      "1930/1930 - 20s - loss: 27200.9453 - accuracy: 0.0000e+00 - val_loss: 33450.4688 - val_accuracy: 0.0000e+00\n",
      "Epoch 114/150\n",
      "1930/1930 - 20s - loss: 26972.9531 - accuracy: 0.0000e+00 - val_loss: 36986.8203 - val_accuracy: 0.0000e+00\n",
      "Epoch 115/150\n",
      "1930/1930 - 20s - loss: 26880.8379 - accuracy: 0.0000e+00 - val_loss: 26440.3164 - val_accuracy: 0.0000e+00\n",
      "Epoch 116/150\n",
      "1930/1930 - 20s - loss: 26787.7285 - accuracy: 0.0000e+00 - val_loss: 26719.6426 - val_accuracy: 0.0000e+00\n",
      "Epoch 117/150\n",
      "1930/1930 - 20s - loss: 26598.6582 - accuracy: 0.0000e+00 - val_loss: 29604.9590 - val_accuracy: 0.0000e+00\n",
      "Epoch 118/150\n",
      "1930/1930 - 20s - loss: 27088.1758 - accuracy: 0.0000e+00 - val_loss: 28130.8926 - val_accuracy: 0.0000e+00\n",
      "Epoch 119/150\n",
      "1930/1930 - 20s - loss: 26684.1484 - accuracy: 0.0000e+00 - val_loss: 50081.3164 - val_accuracy: 0.0000e+00\n",
      "Epoch 120/150\n",
      "1930/1930 - 20s - loss: 27530.9316 - accuracy: 0.0000e+00 - val_loss: 29452.0020 - val_accuracy: 0.0000e+00\n",
      "Epoch 121/150\n",
      "1930/1930 - 20s - loss: 26710.6797 - accuracy: 0.0000e+00 - val_loss: 28965.0352 - val_accuracy: 0.0000e+00\n",
      "Epoch 122/150\n",
      "1930/1930 - 20s - loss: 27078.1953 - accuracy: 0.0000e+00 - val_loss: 30054.8965 - val_accuracy: 0.0000e+00\n",
      "Epoch 123/150\n",
      "1930/1930 - 20s - loss: 27004.7051 - accuracy: 0.0000e+00 - val_loss: 27259.1523 - val_accuracy: 0.0000e+00\n",
      "Epoch 124/150\n",
      "1930/1930 - 20s - loss: 26932.1562 - accuracy: 0.0000e+00 - val_loss: 33165.3320 - val_accuracy: 0.0000e+00\n",
      "Epoch 125/150\n",
      "1930/1930 - 21s - loss: 26481.1367 - accuracy: 0.0000e+00 - val_loss: 27510.6094 - val_accuracy: 0.0000e+00\n",
      "Epoch 126/150\n",
      "1930/1930 - 20s - loss: 26341.4492 - accuracy: 0.0000e+00 - val_loss: 26378.6191 - val_accuracy: 0.0000e+00\n",
      "Epoch 127/150\n",
      "1930/1930 - 20s - loss: 26498.0703 - accuracy: 0.0000e+00 - val_loss: 27938.3613 - val_accuracy: 0.0000e+00\n",
      "Epoch 128/150\n",
      "1930/1930 - 20s - loss: 26778.7734 - accuracy: 0.0000e+00 - val_loss: 27256.4980 - val_accuracy: 0.0000e+00\n",
      "Epoch 129/150\n",
      "1930/1930 - 20s - loss: 26961.6465 - accuracy: 0.0000e+00 - val_loss: 31993.9746 - val_accuracy: 0.0000e+00\n",
      "Epoch 130/150\n",
      "1930/1930 - 20s - loss: 26761.1426 - accuracy: 0.0000e+00 - val_loss: 27991.3516 - val_accuracy: 0.0000e+00\n",
      "Epoch 131/150\n",
      "1930/1930 - 20s - loss: 26769.1426 - accuracy: 0.0000e+00 - val_loss: 28060.5430 - val_accuracy: 0.0000e+00\n",
      "Epoch 132/150\n",
      "1930/1930 - 20s - loss: 26433.6113 - accuracy: 0.0000e+00 - val_loss: 29261.2012 - val_accuracy: 0.0000e+00\n",
      "Epoch 133/150\n",
      "1930/1930 - 20s - loss: 26482.9492 - accuracy: 0.0000e+00 - val_loss: 43126.6289 - val_accuracy: 0.0000e+00\n",
      "Epoch 134/150\n",
      "1930/1930 - 20s - loss: 26535.1309 - accuracy: 0.0000e+00 - val_loss: 34505.9961 - val_accuracy: 0.0000e+00\n",
      "Epoch 135/150\n",
      "1930/1930 - 22s - loss: 26469.9277 - accuracy: 0.0000e+00 - val_loss: 28606.4297 - val_accuracy: 0.0000e+00\n",
      "Epoch 136/150\n",
      "1930/1930 - 22s - loss: 26595.3730 - accuracy: 0.0000e+00 - val_loss: 28256.0723 - val_accuracy: 0.0000e+00\n",
      "Epoch 137/150\n",
      "1930/1930 - 21s - loss: 26228.9531 - accuracy: 0.0000e+00 - val_loss: 32481.9375 - val_accuracy: 0.0000e+00\n",
      "Epoch 138/150\n",
      "1930/1930 - 21s - loss: 26096.1699 - accuracy: 0.0000e+00 - val_loss: 28543.3848 - val_accuracy: 0.0000e+00\n",
      "Epoch 139/150\n",
      "1930/1930 - 21s - loss: 26425.5723 - accuracy: 0.0000e+00 - val_loss: 26323.8027 - val_accuracy: 0.0000e+00\n",
      "Epoch 140/150\n",
      "1930/1930 - 21s - loss: 26169.6973 - accuracy: 0.0000e+00 - val_loss: 26881.1367 - val_accuracy: 0.0000e+00\n",
      "Epoch 141/150\n",
      "1930/1930 - 21s - loss: 26616.4785 - accuracy: 0.0000e+00 - val_loss: 28135.4805 - val_accuracy: 0.0000e+00\n",
      "Epoch 142/150\n",
      "1930/1930 - 21s - loss: 26030.4434 - accuracy: 0.0000e+00 - val_loss: 26276.3574 - val_accuracy: 0.0000e+00\n",
      "Epoch 143/150\n",
      "1930/1930 - 21s - loss: 26459.1367 - accuracy: 0.0000e+00 - val_loss: 27306.1992 - val_accuracy: 0.0000e+00\n",
      "Epoch 144/150\n",
      "1930/1930 - 21s - loss: 26622.6504 - accuracy: 0.0000e+00 - val_loss: 27054.6680 - val_accuracy: 0.0000e+00\n",
      "Epoch 145/150\n",
      "1930/1930 - 21s - loss: 26276.2090 - accuracy: 0.0000e+00 - val_loss: 34476.0664 - val_accuracy: 0.0000e+00\n",
      "Epoch 146/150\n",
      "1930/1930 - 21s - loss: 26217.8125 - accuracy: 0.0000e+00 - val_loss: 42557.6289 - val_accuracy: 0.0000e+00\n",
      "Epoch 147/150\n",
      "1930/1930 - 21s - loss: 26326.6328 - accuracy: 0.0000e+00 - val_loss: 27260.3262 - val_accuracy: 0.0000e+00\n",
      "Epoch 148/150\n",
      "1930/1930 - 21s - loss: 25968.7031 - accuracy: 0.0000e+00 - val_loss: 42385.5156 - val_accuracy: 0.0000e+00\n",
      "Epoch 149/150\n",
      "1930/1930 - 20s - loss: 26126.9434 - accuracy: 0.0000e+00 - val_loss: 29557.9238 - val_accuracy: 0.0000e+00\n",
      "Epoch 150/150\n",
      "1930/1930 - 20s - loss: 26143.7422 - accuracy: 0.0000e+00 - val_loss: 28186.9766 - val_accuracy: 0.0000e+00\n"
     ]
    }
   ],
   "source": [
    "# history = model.fit(train_x, train_y, epochs=1000,validation_data=(test_x, test_y),callbacks=[monitor], verbose=2)\n",
    "history = model.fit(train_x, train_y, epochs=150,validation_data=(test_x, test_y), verbose=2)"
   ]
  },
  {
   "cell_type": "code",
   "execution_count": 85,
   "metadata": {},
   "outputs": [
    {
     "name": "stdout",
     "output_type": "stream",
     "text": [
      "INFO:tensorflow:Assets written to: /Users/michaelsong/Documents/GitHub/starzam/Models/m4.4/assets\n"
     ]
    }
   ],
   "source": [
    "model.save('/Users/michaelsong/Documents/GitHub/starzam/Models/m4.4')"
   ]
  },
  {
   "cell_type": "code",
   "execution_count": 90,
   "metadata": {},
   "outputs": [
    {
     "data": {
      "image/png": "[encoded data removed]",
      "text/plain": [
       "<Figure size 432x288 with 1 Axes>"
      ]
     },
     "metadata": {
      "needs_background": "light"
     },
     "output_type": "display_data"
    },
    {
     "data": {
      "image/png": "[encoded data removed]",
      "text/plain": [
       "<Figure size 432x288 with 1 Axes>"
      ]
     },
     "metadata": {
      "needs_background": "light"
     },
     "output_type": "display_data"
    }
   ],
   "source": [
    "plt.plot(history.history['accuracy'])\n",
    "plt.plot(history.history['val_accuracy'])\n",
    "plt.title('Model Accuracy')\n",
    "plt.ylabel('Accuracy')\n",
    "plt.xlabel('Epoch')\n",
    "plt.legend(['train', 'test'], loc='upper left')\n",
    "plt.show()\n",
    "# summarize history for loss\n",
    "plt.plot(history.history['loss'][20:])\n",
    "plt.plot(history.history['val_loss'][20:])\n",
    "plt.title('Model loss')\n",
    "plt.ylabel('Loss')\n",
    "plt.xlabel('Epoch')\n",
    "plt.legend(['train', 'test'], loc='upper left')\n",
    "plt.savefig('/Users/michaelsong/Documents/GitHub/starzam/Results/4.4_training.png')\n",
    "plt.show()"
   ]
  },
  {
   "cell_type": "code",
   "execution_count": 91,
   "metadata": {},
   "outputs": [
    {
     "name": "stdout",
     "output_type": "stream",
     "text": [
      "(15440,) (61757,)\n",
      "[5009.5005 4800.6577 4958.305  ... 4897.671  5005.0977 4645.8706]\n",
      "[5333. 4781. 4985. ... 4958. 5016. 4755.]\n"
     ]
    }
   ],
   "source": [
    "pred_test_y = model.predict(test_x).reshape(-1)\n",
    "pred_train_y = model.predict(train_x).reshape(-1)\n",
    "print(pred_test_y.shape,pred_train_y.shape)\n",
    "print(pred_train_y)\n",
    "print(train_y)"
   ]
  },
  {
   "cell_type": "code",
   "execution_count": 92,
   "metadata": {},
   "outputs": [
    {
     "data": {
      "image/png": "[encoded data removed]",
      "text/plain": [
       "<Figure size 432x288 with 1 Axes>"
      ]
     },
     "metadata": {
      "needs_background": "light"
     },
     "output_type": "display_data"
    }
   ],
   "source": [
    "plt.scatter(train_y,pred_train_y, c='red', alpha=0.5,s=0.1)\n",
    "\n",
    "plt.scatter(test_y,pred_test_y, c='blue', alpha=0.5,s=0.1)\n",
    "\n",
    "linex = np.linspace(4000, 6000)\n",
    "liney = linex\n",
    "lineytop = linex+150\n",
    "lineybot = linex-150\n",
    "lineytop2 = linex*1.03\n",
    "lineybot2 = linex*0.97\n",
    "# Create the plot\n",
    "plt.plot(linex, liney,c=\"green\")\n",
    "plt.plot(linex, lineytop,c=\"red\")\n",
    "plt.plot(linex, lineybot,c=\"red\")\n",
    "plt.plot(linex, lineytop2,c=\"purple\")\n",
    "plt.plot(linex, lineybot2,c=\"purple\")\n",
    "\n",
    "\n",
    "plt.xlim(4000, 6000)\n",
    "plt.ylim(4000, 6000)\n",
    "plt.gca().set_aspect('equal', adjustable='box')\n",
    "plt.savefig('/Users/michaelsong/Documents/GitHub/starzam/Results/4.4.png')\n",
    "plt.show()\n"
   ]
  },
  {
   "cell_type": "code",
   "execution_count": 95,
   "metadata": {},
   "outputs": [],
   "source": [
    "def normalize1D(data):\n",
    "    return np.divide(np.nan_to_num(data,np.nanmean(data)),np.nanmax(data))"
   ]
  },
  {
   "cell_type": "code",
   "execution_count": 96,
   "metadata": {},
   "outputs": [
    {
     "name": "stdout",
     "output_type": "stream",
     "text": [
      "Mean Sq. Error, Mean Abs. Error\n",
      "0.09713562 0.09341578\n"
     ]
    }
   ],
   "source": [
    "mse = np.sqrt(mean_squared_error(normalize1D(test_y),normalize1D(pred_test_y)))\n",
    "mae = mean_absolute_error(normalize1D(test_y),normalize1D(pred_test_y))\n",
    "print(\"Mean Sq. Error, Mean Abs. Error\")\n",
    "print(mse,mae)"
   ]
  },
  {
   "cell_type": "code",
   "execution_count": 97,
   "metadata": {},
   "outputs": [
    {
     "name": "stdout",
     "output_type": "stream",
     "text": [
      "Mean Sq. Error, Mean Abs. Error\n",
      "0.06261332 0.05774129\n"
     ]
    }
   ],
   "source": [
    "mse = np.sqrt(mean_squared_error(normalize1D(train_y),normalize1D(pred_train_y)))\n",
    "mae = mean_absolute_error(normalize1D(train_y),normalize1D(pred_train_y))\n",
    "print(\"Mean Sq. Error, Mean Abs. Error\")\n",
    "print(mse,mae)"
   ]
  },
  {
   "cell_type": "markdown",
   "metadata": {},
   "source": [
    "# Testing"
   ]
  },
  {
   "cell_type": "code",
   "execution_count": 39,
   "metadata": {},
   "outputs": [
    {
     "data": {
      "text/plain": [
       "4707.60693359375"
      ]
     },
     "execution_count": 39,
     "metadata": {},
     "output_type": "execute_result"
    }
   ],
   "source": [
    "float(model.predict(all_data[i][3:121].reshape(-1,118)))"
   ]
  },
  {
   "cell_type": "code",
   "execution_count": 50,
   "metadata": {},
   "outputs": [],
   "source": [
    "def testpred_avg(all_data):\n",
    "    all_y = []\n",
    "    pred_all_y = []\n",
    "    kic = all_data[0][0]\n",
    "    kic_y = []\n",
    "    for i in range(len(all_data[:10000])):\n",
    "        kic_y.append(float(model.predict(all_data[i][3:121].reshape(-1,118))))\n",
    "        if(all_data[i][0]!=kic):\n",
    "            kic = all_data[i][0]\n",
    "            all_y.append(all_data[i][1])\n",
    "            pred_all_y.append(sum(kic_y)/len(kic_y))\n",
    "            kic_y = []\n",
    "\n",
    "    return all_y,pred_all_y\n",
    "all_y,pred_all_y = testpred_avg(all_data)"
   ]
  },
  {
   "cell_type": "code",
   "execution_count": 51,
   "metadata": {},
   "outputs": [
    {
     "data": {
      "image/png": "[encoded data removed]",
      "text/plain": [
       "<Figure size 432x288 with 1 Axes>"
      ]
     },
     "metadata": {
      "needs_background": "light"
     },
     "output_type": "display_data"
    }
   ],
   "source": [
    "plt.scatter(all_y,pred_all_y, c='red', alpha=0.5,s=2)\n",
    "\n",
    "linex = np.linspace(4000, 6000)\n",
    "liney = linex\n",
    "lineytop = linex+150\n",
    "lineybot = linex-150\n",
    "lineytop2 = linex*1.03\n",
    "lineybot2 = linex*0.97\n",
    "# Create the plot\n",
    "plt.plot(linex, liney,c=\"green\")\n",
    "plt.plot(linex, lineytop,c=\"red\")\n",
    "plt.plot(linex, lineybot,c=\"red\")\n",
    "plt.plot(linex, lineytop2,c=\"purple\")\n",
    "plt.plot(linex, lineybot2,c=\"purple\")\n",
    "\n",
    "\n",
    "plt.xlim(4000, 6000)\n",
    "plt.ylim(4000, 6000)\n",
    "plt.gca().set_aspect('equal', adjustable='box')\n",
    "plt.savefig('/Users/michaelsong/Documents/GitHub/starzam/Results/4.2.png')\n",
    "plt.show()\n"
   ]
  },
  {
   "cell_type": "code",
   "execution_count": 52,
   "metadata": {},
   "outputs": [
    {
     "name": "stdout",
     "output_type": "stream",
     "text": [
      "Mean Sq. Error, Mean Abs. Error\n",
      "0.1390003082706839 0.13103416677353238\n"
     ]
    }
   ],
   "source": [
    "mse = np.sqrt(mean_squared_error(normalize1D(all_y),normalize1D(pred_all_y)))\n",
    "mae = mean_absolute_error(normalize1D(all_y),normalize1D(pred_all_y))\n",
    "print(\"Mean Sq. Error, Mean Abs. Error\")\n",
    "print(mse,mae)"
   ]
  },
  {
   "cell_type": "code",
   "execution_count": null,
   "metadata": {},
   "outputs": [],
   "source": []
  }
 ],
 "metadata": {
  "interpreter": {
   "hash": "47065cae1920ebace9a059c93d67134c9a065e51e3ecb9809a1abf9fcf371550"
  },
  "kernelspec": {
   "display_name": "Python 3.9.7 64-bit ('base': conda)",
   "name": "python3"
  },
  "language_info": {
   "codemirror_mode": {
    "name": "ipython",
    "version": 3
   },
   "file_extension": ".py",
   "mimetype": "text/x-python",
   "name": "python",
   "nbconvert_exporter": "python",
   "pygments_lexer": "ipython3",
   "version": "3.9.7"
  },
  "orig_nbformat": 4
 },
 "nbformat": 4,
 "nbformat_minor": 2
}
