{
 "cells": [
  {
   "cell_type": "markdown",
   "metadata": {},
   "source": [
    "# Import"
   ]
  },
  {
   "cell_type": "code",
   "execution_count": 4,
   "metadata": {},
   "outputs": [],
   "source": [
    "import os\n",
    "import numpy as np\n",
    "\n",
    "from astropy.io import fits\n",
    "from matplotlib import pyplot as plt\n",
    "import numpy as np\n",
    "import lightkurve as lk\n",
    "from astroquery.simbad import Simbad\n",
    "import pandas as pd \n",
    "from numpy import genfromtxt\n",
    "\n",
    "# #tf\n",
    "from __future__ import absolute_import, division, print_function, unicode_literals\n",
    "import tensorflow as tf\n",
    "from tensorflow import keras\n",
    "from tensorflow.keras import datasets, layers, models\n",
    "\n",
    "\n",
    "from sklearn.model_selection import train_test_split\n",
    "from sklearn.linear_model import LinearRegression\n",
    "from sklearn.metrics import r2_score, mean_squared_error, mean_absolute_error\n",
    "\n"
   ]
  },
  {
   "cell_type": "markdown",
   "metadata": {},
   "source": [
    "## Check GPU"
   ]
  },
  {
   "cell_type": "code",
   "execution_count": 3,
   "metadata": {},
   "outputs": [
    {
     "name": "stdout",
     "output_type": "stream",
     "text": [
      "[PhysicalDevice(name='/physical_device:CPU:0', device_type='CPU'), PhysicalDevice(name='/physical_device:GPU:0', device_type='GPU')]\n"
     ]
    }
   ],
   "source": [
    "devices = tf.config.list_physical_devices()\n",
    "print(devices)"
   ]
  },
  {
   "cell_type": "markdown",
   "metadata": {},
   "source": [
    "# Import Data"
   ]
  },
  {
   "cell_type": "code",
   "execution_count": 5,
   "metadata": {},
   "outputs": [
    {
     "name": "stdout",
     "output_type": "stream",
     "text": [
      "(36575, 481)\n",
      "[[757076 '19240929+3635532' 5174 ... 3.676494308688637 1.3925685148610372\n",
      "  2.128977297424266]\n",
      " [757076 '19240929+3635532' 5174 ... 1.3238957656734522\n",
      "  0.9937602982288734 1.309817227477979]\n",
      " [757076 '19240929+3635532' 5174 ... 1.1500678982350347\n",
      "  1.0179669104715916 1.082825031656266]\n",
      " ...\n",
      " [2306909 '19291353+3736115' 6062 ... 1.3145102925762593\n",
      "  1.783229992766084 1.8720227015615565]\n",
      " [2306909 '19291353+3736115' 6062 ... 1.886828501682419 2.179288338531378\n",
      "  1.68985685370382]\n",
      " [2306909 '19291353+3736115' 6062 ... 2.6991736792350096\n",
      "  3.328894181347369 4.246501386271241]]\n"
     ]
    }
   ],
   "source": [
    "all_data = np.empty((1,482))\n",
    "for i in range(25):\n",
    "  all_data = np.concatenate((all_data,pd.read_csv('/Users/michaelsong/Documents/GitHub/starzam/Data_v2/'+str(i)+'.csv',delimiter=',').to_numpy()), axis=0)\n",
    "all_data = all_data[1:].T[1:].T\n",
    "print(all_data.shape)\n",
    "print(all_data)\n",
    "# pd.read_csv('/content/drive/MyDrive/Research - Yihong Song and Rohit Prasanna/Yihong/Data_v2/0.csv',delimiter=',').to_numpy"
   ]
  },
  {
   "cell_type": "code",
   "execution_count": 6,
   "metadata": {},
   "outputs": [
    {
     "name": "stdout",
     "output_type": "stream",
     "text": [
      "(36575, 471) (36575, 6)\n",
      "(36575,)\n"
     ]
    }
   ],
   "source": [
    "all_x = all_data.T[10:].T\n",
    "all_y = all_data.T[2:8].T\n",
    "print(all_x.shape,all_y.shape)\n",
    "teff_y = all_y.T[0].T\n",
    "print(teff_y.shape)"
   ]
  },
  {
   "cell_type": "markdown",
   "metadata": {},
   "source": [
    "# Machine Learning"
   ]
  },
  {
   "cell_type": "code",
   "execution_count": 7,
   "metadata": {},
   "outputs": [
    {
     "name": "stdout",
     "output_type": "stream",
     "text": [
      "(29260, 471) (7315, 471) (29260,) (7315,)\n",
      "(29260, 471) (7315, 471) (29260,) (7315,)\n"
     ]
    }
   ],
   "source": [
    "train_x,test_x,train_y,test_y=train_test_split(all_x, teff_y, test_size=0.20, random_state=42)\n",
    "print(train_x.shape,test_x.shape,train_y.shape,test_y.shape)\n",
    "train_x = np.asarray(train_x).astype('float32')\n",
    "test_x = np.asarray(test_x).astype('float32')\n",
    "train_y = np.asarray(train_y).astype('float32')\n",
    "test_y = np.asarray(test_y).astype('float32')\n",
    "print(train_x.shape,test_x.shape,train_y.shape,test_y.shape)"
   ]
  },
  {
   "cell_type": "code",
   "execution_count": 8,
   "metadata": {},
   "outputs": [
    {
     "name": "stdout",
     "output_type": "stream",
     "text": [
      "Metal device set to: Apple M1 Pro\n",
      "\n",
      "systemMemory: 32.00 GB\n",
      "maxCacheSize: 10.67 GB\n",
      "\n"
     ]
    },
    {
     "name": "stderr",
     "output_type": "stream",
     "text": [
      "2021-11-27 19:41:19.751125: I tensorflow/core/common_runtime/pluggable_device/pluggable_device_factory.cc:305] Could not identify NUMA node of platform GPU ID 0, defaulting to 0. Your kernel may not have been built with NUMA support.\n",
      "2021-11-27 19:41:19.751305: I tensorflow/core/common_runtime/pluggable_device/pluggable_device_factory.cc:271] Created TensorFlow device (/device:GPU:0 with 0 MB memory) -> physical PluggableDevice (device: 0, name: METAL, pci bus id: <undefined>)\n",
      "2021-11-27 19:41:19.756449: I tensorflow/core/common_runtime/pluggable_device/pluggable_device_factory.cc:305] Could not identify NUMA node of platform GPU ID 0, defaulting to 0. Your kernel may not have been built with NUMA support.\n",
      "2021-11-27 19:41:19.756465: I tensorflow/core/common_runtime/pluggable_device/pluggable_device_factory.cc:271] Created TensorFlow device (/job:localhost/replica:0/task:0/device:GPU:0 with 0 MB memory) -> physical PluggableDevice (device: 0, name: METAL, pci bus id: <undefined>)\n"
     ]
    },
    {
     "name": "stdout",
     "output_type": "stream",
     "text": [
      "Model: \"sequential\"\n",
      "_________________________________________________________________\n",
      "Layer (type)                 Output Shape              Param #   \n",
      "=================================================================\n",
      "dense (Dense)                (None, 2048)              966656    \n",
      "_________________________________________________________________\n",
      "dense_1 (Dense)              (None, 2048)              4196352   \n",
      "_________________________________________________________________\n",
      "dense_2 (Dense)              (None, 1024)              2098176   \n",
      "_________________________________________________________________\n",
      "dense_3 (Dense)              (None, 1024)              1049600   \n",
      "_________________________________________________________________\n",
      "dense_4 (Dense)              (None, 1024)              1049600   \n",
      "_________________________________________________________________\n",
      "dense_5 (Dense)              (None, 512)               524800    \n",
      "_________________________________________________________________\n",
      "dense_6 (Dense)              (None, 512)               262656    \n",
      "_________________________________________________________________\n",
      "dense_7 (Dense)              (None, 512)               262656    \n",
      "_________________________________________________________________\n",
      "dense_8 (Dense)              (None, 256)               131328    \n",
      "_________________________________________________________________\n",
      "dense_9 (Dense)              (None, 32)                8224      \n",
      "_________________________________________________________________\n",
      "dense_10 (Dense)             (None, 4)                 132       \n",
      "_________________________________________________________________\n",
      "dense_11 (Dense)             (None, 1)                 5         \n",
      "=================================================================\n",
      "Total params: 10,550,185\n",
      "Trainable params: 10,550,185\n",
      "Non-trainable params: 0\n",
      "_________________________________________________________________\n"
     ]
    }
   ],
   "source": [
    "tf.test.gpu_device_name() # No GPU Sad :v\n",
    "keras.backend.clear_session()\n",
    "# model = models.Sequential()\n",
    "\n",
    "# model.add(layers.Conv1D(1024, 1, activation='relu',batch_input_shape=train_x.shape))\n",
    "# model.add(layers.Dense(128))\n",
    "# model.add(layers.Conv1D(32, 1, activation='relu'))\n",
    "# model.add(layers.Dense(1,activation=\"sigmoid\"))\n",
    "\n",
    "# model.summary()\n",
    "model = models.Sequential()\n",
    "#model.add(layers.Conv1D(filters=16, kernel_size=1, activation='relu', batch_input_shape=(train_x.shape)))\n",
    "\n",
    "#model.add(layers.Embedding(input_dim=64, output_dim=16))\n",
    "#model.add(layers.LSTM(128,dropout=0.2,recurrent_dropout=0.2,input_dim=(train_x.shape[2])))\n",
    "model.add(layers.Dense(2048, activation='relu', input_shape=((471,))))\n",
    "#model.add(layers.Conv1D(1024,1,activation='relu',input_shape=(train_x.shape)))\n",
    "#model.add(layers.Conv1D(256,1,activation='relu'))\n",
    "model.add(layers.Dense(2048, activation=\"relu\"))\n",
    "model.add(layers.Dense(1024, activation=\"relu\"))\n",
    "model.add(layers.Dense(1024, activation=\"relu\"))\n",
    "model.add(layers.Dense(1024, activation=\"relu\"))\n",
    "model.add(layers.Dense(512, activation=\"relu\"))\n",
    "model.add(layers.Dense(512, activation=\"relu\"))\n",
    "model.add(layers.Dense(512, activation=\"relu\"))\n",
    "model.add(layers.Dense(256, activation=\"relu\"))\n",
    "model.add(layers.Dense(32, activation=\"relu\"))\n",
    "model.add(layers.Dense(4, activation=\"relu\"))\n",
    "# model.add(layers.Dense(2, activation=\"relu\"))\n",
    "model.add(layers.Dense(1))\n",
    "model.summary()"
   ]
  },
  {
   "cell_type": "code",
   "execution_count": 9,
   "metadata": {},
   "outputs": [],
   "source": [
    "model.compile(optimizer='adam', loss='mse', metrics=['accuracy'])\n",
    "# reduce_lr = keras.callbacks.ReduceLROnPlateau(monitor='val_loss', factor=0.2,\n",
    "#                               patience=5, min_lr=0.001)\n",
    "monitor = keras.callbacks.EarlyStopping(monitor='val_loss', min_delta=1e-4, \n",
    "        patience=30, verbose=1, mode='auto',\n",
    "        restore_best_weights=True)"
   ]
  },
  {
   "cell_type": "code",
   "execution_count": 10,
   "metadata": {},
   "outputs": [
    {
     "name": "stderr",
     "output_type": "stream",
     "text": [
      "2021-11-27 19:41:56.708603: I tensorflow/compiler/mlir/mlir_graph_optimization_pass.cc:185] None of the MLIR Optimization Passes are enabled (registered 2)\n",
      "2021-11-27 19:41:56.709081: W tensorflow/core/platform/profile_utils/cpu_utils.cc:128] Failed to get CPU frequency: 0 Hz\n",
      "2021-11-27 19:41:56.895427: I tensorflow/core/grappler/optimizers/custom_graph_optimizer_registry.cc:112] Plugin optimizer for device_type GPU is enabled.\n"
     ]
    },
    {
     "name": "stdout",
     "output_type": "stream",
     "text": [
      "Epoch 1/1000\n"
     ]
    },
    {
     "name": "stderr",
     "output_type": "stream",
     "text": [
      "2021-11-27 19:42:07.379173: I tensorflow/core/grappler/optimizers/custom_graph_optimizer_registry.cc:112] Plugin optimizer for device_type GPU is enabled.\n"
     ]
    },
    {
     "name": "stdout",
     "output_type": "stream",
     "text": [
      "915/915 - 12s - loss: 13213495.0000 - accuracy: 0.0000e+00 - val_loss: 5424111.5000 - val_accuracy: 0.0000e+00\n",
      "Epoch 2/1000\n",
      "915/915 - 9s - loss: 8743984.0000 - accuracy: 0.0000e+00 - val_loss: 4424048.5000 - val_accuracy: 0.0000e+00\n",
      "Epoch 3/1000\n",
      "915/915 - 9s - loss: 3931423.5000 - accuracy: 0.0000e+00 - val_loss: 1301426.7500 - val_accuracy: 0.0000e+00\n",
      "Epoch 4/1000\n",
      "915/915 - 9s - loss: 1437554.5000 - accuracy: 0.0000e+00 - val_loss: 1459460.5000 - val_accuracy: 0.0000e+00\n",
      "Epoch 5/1000\n",
      "915/915 - 9s - loss: 1530032.6250 - accuracy: 0.0000e+00 - val_loss: 1318568.2500 - val_accuracy: 0.0000e+00\n",
      "Epoch 6/1000\n",
      "915/915 - 9s - loss: 1802247.6250 - accuracy: 0.0000e+00 - val_loss: 941889.0625 - val_accuracy: 0.0000e+00\n",
      "Epoch 7/1000\n",
      "915/915 - 9s - loss: 1250886.2500 - accuracy: 0.0000e+00 - val_loss: 2279017.5000 - val_accuracy: 0.0000e+00\n",
      "Epoch 8/1000\n",
      "915/915 - 9s - loss: 859923.5625 - accuracy: 0.0000e+00 - val_loss: 1651750.2500 - val_accuracy: 0.0000e+00\n",
      "Epoch 9/1000\n",
      "915/915 - 9s - loss: 1586098.3750 - accuracy: 0.0000e+00 - val_loss: 863645.1250 - val_accuracy: 0.0000e+00\n",
      "Epoch 10/1000\n",
      "915/915 - 9s - loss: 893755.8750 - accuracy: 0.0000e+00 - val_loss: 702702.4375 - val_accuracy: 0.0000e+00\n",
      "Epoch 11/1000\n",
      "915/915 - 9s - loss: 885635.5000 - accuracy: 0.0000e+00 - val_loss: 1656049.5000 - val_accuracy: 0.0000e+00\n",
      "Epoch 12/1000\n",
      "915/915 - 9s - loss: 828201.2500 - accuracy: 0.0000e+00 - val_loss: 1175245.7500 - val_accuracy: 0.0000e+00\n",
      "Epoch 13/1000\n",
      "915/915 - 9s - loss: 748432.3750 - accuracy: 0.0000e+00 - val_loss: 685632.6875 - val_accuracy: 0.0000e+00\n",
      "Epoch 14/1000\n",
      "915/915 - 9s - loss: 2517199.5000 - accuracy: 0.0000e+00 - val_loss: 2268366.5000 - val_accuracy: 0.0000e+00\n",
      "Epoch 15/1000\n",
      "915/915 - 9s - loss: 1003473.0000 - accuracy: 0.0000e+00 - val_loss: 1682973.8750 - val_accuracy: 0.0000e+00\n",
      "Epoch 16/1000\n",
      "915/915 - 9s - loss: 855595.5625 - accuracy: 0.0000e+00 - val_loss: 1068885.8750 - val_accuracy: 0.0000e+00\n",
      "Epoch 17/1000\n",
      "915/915 - 9s - loss: 966042.9375 - accuracy: 0.0000e+00 - val_loss: 1010212.9375 - val_accuracy: 0.0000e+00\n",
      "Epoch 18/1000\n",
      "915/915 - 9s - loss: 716085.5625 - accuracy: 0.0000e+00 - val_loss: 1174472.3750 - val_accuracy: 0.0000e+00\n",
      "Epoch 19/1000\n",
      "915/915 - 9s - loss: 658954.2500 - accuracy: 0.0000e+00 - val_loss: 1009830.9375 - val_accuracy: 0.0000e+00\n",
      "Epoch 20/1000\n",
      "915/915 - 9s - loss: 737174.2500 - accuracy: 0.0000e+00 - val_loss: 586510.5000 - val_accuracy: 0.0000e+00\n",
      "Epoch 21/1000\n",
      "915/915 - 9s - loss: 1531288.3750 - accuracy: 0.0000e+00 - val_loss: 2042768.5000 - val_accuracy: 0.0000e+00\n",
      "Epoch 22/1000\n",
      "915/915 - 9s - loss: 3048488.2500 - accuracy: 0.0000e+00 - val_loss: 1166068.7500 - val_accuracy: 0.0000e+00\n",
      "Epoch 23/1000\n",
      "915/915 - 9s - loss: 645373.1875 - accuracy: 0.0000e+00 - val_loss: 632077.1250 - val_accuracy: 0.0000e+00\n",
      "Epoch 24/1000\n",
      "915/915 - 9s - loss: 555694.0000 - accuracy: 0.0000e+00 - val_loss: 709688.5000 - val_accuracy: 0.0000e+00\n",
      "Epoch 25/1000\n",
      "915/915 - 9s - loss: 676611.7500 - accuracy: 0.0000e+00 - val_loss: 524276.6250 - val_accuracy: 0.0000e+00\n",
      "Epoch 26/1000\n",
      "915/915 - 9s - loss: 620034.1250 - accuracy: 0.0000e+00 - val_loss: 827497.2500 - val_accuracy: 0.0000e+00\n",
      "Epoch 27/1000\n",
      "915/915 - 9s - loss: 732896.3750 - accuracy: 0.0000e+00 - val_loss: 3700262.5000 - val_accuracy: 0.0000e+00\n",
      "Epoch 28/1000\n",
      "915/915 - 9s - loss: 626426.3750 - accuracy: 0.0000e+00 - val_loss: 536777.1875 - val_accuracy: 0.0000e+00\n",
      "Epoch 29/1000\n",
      "915/915 - 9s - loss: 661728.3125 - accuracy: 0.0000e+00 - val_loss: 552630.2500 - val_accuracy: 0.0000e+00\n",
      "Epoch 30/1000\n",
      "915/915 - 9s - loss: 616948.6875 - accuracy: 0.0000e+00 - val_loss: 515717.0625 - val_accuracy: 0.0000e+00\n",
      "Epoch 31/1000\n",
      "915/915 - 9s - loss: 563822.3750 - accuracy: 0.0000e+00 - val_loss: 654996.6875 - val_accuracy: 0.0000e+00\n",
      "Epoch 32/1000\n",
      "915/915 - 9s - loss: 541772.3125 - accuracy: 0.0000e+00 - val_loss: 640296.8750 - val_accuracy: 0.0000e+00\n",
      "Epoch 33/1000\n",
      "915/915 - 9s - loss: 596236.6875 - accuracy: 0.0000e+00 - val_loss: 1646264.2500 - val_accuracy: 0.0000e+00\n",
      "Epoch 34/1000\n",
      "915/915 - 9s - loss: 1117640.5000 - accuracy: 0.0000e+00 - val_loss: 563047.3125 - val_accuracy: 0.0000e+00\n",
      "Epoch 35/1000\n",
      "915/915 - 9s - loss: 553740.1250 - accuracy: 0.0000e+00 - val_loss: 930831.3750 - val_accuracy: 0.0000e+00\n",
      "Epoch 36/1000\n",
      "915/915 - 9s - loss: 524431.0625 - accuracy: 0.0000e+00 - val_loss: 659016.5000 - val_accuracy: 0.0000e+00\n",
      "Epoch 37/1000\n",
      "915/915 - 9s - loss: 526899.3125 - accuracy: 0.0000e+00 - val_loss: 527824.3750 - val_accuracy: 0.0000e+00\n",
      "Epoch 38/1000\n",
      "915/915 - 9s - loss: 560017.3125 - accuracy: 0.0000e+00 - val_loss: 586230.8125 - val_accuracy: 0.0000e+00\n",
      "Epoch 39/1000\n",
      "915/915 - 9s - loss: 509300.4688 - accuracy: 0.0000e+00 - val_loss: 554277.8125 - val_accuracy: 0.0000e+00\n",
      "Epoch 40/1000\n",
      "915/915 - 9s - loss: 553520.4375 - accuracy: 0.0000e+00 - val_loss: 562202.0625 - val_accuracy: 0.0000e+00\n",
      "Epoch 41/1000\n",
      "915/915 - 9s - loss: 676368.6250 - accuracy: 0.0000e+00 - val_loss: 1419590.2500 - val_accuracy: 0.0000e+00\n",
      "Epoch 42/1000\n",
      "915/915 - 9s - loss: 622958.1250 - accuracy: 0.0000e+00 - val_loss: 472072.0625 - val_accuracy: 0.0000e+00\n",
      "Epoch 43/1000\n",
      "915/915 - 9s - loss: 532045.6875 - accuracy: 0.0000e+00 - val_loss: 673644.4375 - val_accuracy: 0.0000e+00\n",
      "Epoch 44/1000\n",
      "915/915 - 9s - loss: 513658.7188 - accuracy: 0.0000e+00 - val_loss: 516422.1562 - val_accuracy: 0.0000e+00\n",
      "Epoch 45/1000\n",
      "915/915 - 9s - loss: 475400.0938 - accuracy: 0.0000e+00 - val_loss: 454675.0000 - val_accuracy: 0.0000e+00\n",
      "Epoch 46/1000\n",
      "915/915 - 9s - loss: 549963.2500 - accuracy: 0.0000e+00 - val_loss: 508515.8125 - val_accuracy: 0.0000e+00\n",
      "Epoch 47/1000\n",
      "915/915 - 9s - loss: 465283.7188 - accuracy: 0.0000e+00 - val_loss: 784549.0000 - val_accuracy: 0.0000e+00\n",
      "Epoch 48/1000\n",
      "915/915 - 9s - loss: 468564.8750 - accuracy: 0.0000e+00 - val_loss: 839434.6875 - val_accuracy: 0.0000e+00\n",
      "Epoch 49/1000\n",
      "915/915 - 9s - loss: 514097.1562 - accuracy: 0.0000e+00 - val_loss: 740663.3125 - val_accuracy: 0.0000e+00\n",
      "Epoch 50/1000\n",
      "915/915 - 9s - loss: 454774.3125 - accuracy: 0.0000e+00 - val_loss: 551418.6250 - val_accuracy: 0.0000e+00\n",
      "Epoch 51/1000\n",
      "915/915 - 9s - loss: 459974.5625 - accuracy: 0.0000e+00 - val_loss: 440316.6875 - val_accuracy: 0.0000e+00\n",
      "Epoch 52/1000\n",
      "915/915 - 9s - loss: 439125.5312 - accuracy: 0.0000e+00 - val_loss: 540137.2500 - val_accuracy: 0.0000e+00\n",
      "Epoch 53/1000\n",
      "915/915 - 9s - loss: 493822.0000 - accuracy: 0.0000e+00 - val_loss: 449554.3750 - val_accuracy: 0.0000e+00\n",
      "Epoch 54/1000\n",
      "915/915 - 9s - loss: 447527.4062 - accuracy: 0.0000e+00 - val_loss: 639898.6250 - val_accuracy: 0.0000e+00\n",
      "Epoch 55/1000\n",
      "915/915 - 9s - loss: 434083.1875 - accuracy: 0.0000e+00 - val_loss: 467058.3125 - val_accuracy: 0.0000e+00\n",
      "Epoch 56/1000\n",
      "915/915 - 9s - loss: 438714.3438 - accuracy: 0.0000e+00 - val_loss: 563065.0625 - val_accuracy: 0.0000e+00\n",
      "Epoch 57/1000\n",
      "915/915 - 9s - loss: 429012.2500 - accuracy: 0.0000e+00 - val_loss: 425589.4062 - val_accuracy: 0.0000e+00\n",
      "Epoch 58/1000\n",
      "915/915 - 9s - loss: 429447.6875 - accuracy: 0.0000e+00 - val_loss: 691705.3750 - val_accuracy: 0.0000e+00\n",
      "Epoch 59/1000\n",
      "915/915 - 9s - loss: 409844.6250 - accuracy: 0.0000e+00 - val_loss: 431932.8438 - val_accuracy: 0.0000e+00\n",
      "Epoch 60/1000\n",
      "915/915 - 9s - loss: 419009.2500 - accuracy: 0.0000e+00 - val_loss: 491663.6875 - val_accuracy: 0.0000e+00\n",
      "Epoch 61/1000\n",
      "915/915 - 9s - loss: 415720.1562 - accuracy: 0.0000e+00 - val_loss: 481422.9062 - val_accuracy: 0.0000e+00\n",
      "Epoch 62/1000\n",
      "915/915 - 9s - loss: 409148.9375 - accuracy: 0.0000e+00 - val_loss: 454749.3438 - val_accuracy: 0.0000e+00\n",
      "Epoch 63/1000\n",
      "915/915 - 9s - loss: 571919.0000 - accuracy: 0.0000e+00 - val_loss: 1252249.6250 - val_accuracy: 0.0000e+00\n",
      "Epoch 64/1000\n",
      "915/915 - 9s - loss: 456055.2812 - accuracy: 0.0000e+00 - val_loss: 442574.1875 - val_accuracy: 0.0000e+00\n",
      "Epoch 65/1000\n",
      "915/915 - 9s - loss: 394329.6250 - accuracy: 0.0000e+00 - val_loss: 436909.4062 - val_accuracy: 0.0000e+00\n",
      "Epoch 66/1000\n",
      "915/915 - 9s - loss: 390784.2500 - accuracy: 0.0000e+00 - val_loss: 440708.5938 - val_accuracy: 0.0000e+00\n",
      "Epoch 67/1000\n",
      "915/915 - 9s - loss: 409130.1875 - accuracy: 0.0000e+00 - val_loss: 442933.2188 - val_accuracy: 0.0000e+00\n",
      "Epoch 68/1000\n",
      "915/915 - 9s - loss: 515792.5000 - accuracy: 0.0000e+00 - val_loss: 492927.2812 - val_accuracy: 0.0000e+00\n",
      "Epoch 69/1000\n",
      "915/915 - 10s - loss: 424678.1562 - accuracy: 0.0000e+00 - val_loss: 484669.9688 - val_accuracy: 0.0000e+00\n",
      "Epoch 70/1000\n",
      "915/915 - 9s - loss: 417449.0312 - accuracy: 0.0000e+00 - val_loss: 472179.0000 - val_accuracy: 0.0000e+00\n",
      "Epoch 71/1000\n",
      "915/915 - 10s - loss: 402603.0938 - accuracy: 0.0000e+00 - val_loss: 750316.3125 - val_accuracy: 0.0000e+00\n",
      "Epoch 72/1000\n",
      "915/915 - 10s - loss: 404890.0625 - accuracy: 0.0000e+00 - val_loss: 433532.5938 - val_accuracy: 0.0000e+00\n",
      "Epoch 73/1000\n",
      "915/915 - 9s - loss: 391639.5000 - accuracy: 0.0000e+00 - val_loss: 442399.4062 - val_accuracy: 0.0000e+00\n",
      "Epoch 74/1000\n",
      "915/915 - 10s - loss: 397617.4062 - accuracy: 0.0000e+00 - val_loss: 435812.2812 - val_accuracy: 0.0000e+00\n",
      "Epoch 75/1000\n",
      "915/915 - 9s - loss: 392371.1875 - accuracy: 0.0000e+00 - val_loss: 419981.4375 - val_accuracy: 0.0000e+00\n",
      "Epoch 76/1000\n",
      "915/915 - 9s - loss: 387306.5625 - accuracy: 0.0000e+00 - val_loss: 408673.4375 - val_accuracy: 0.0000e+00\n",
      "Epoch 77/1000\n",
      "915/915 - 9s - loss: 381132.8750 - accuracy: 0.0000e+00 - val_loss: 483550.5938 - val_accuracy: 0.0000e+00\n",
      "Epoch 78/1000\n",
      "915/915 - 10s - loss: 406038.5312 - accuracy: 0.0000e+00 - val_loss: 435022.6250 - val_accuracy: 0.0000e+00\n",
      "Epoch 79/1000\n",
      "915/915 - 10s - loss: 380023.1562 - accuracy: 0.0000e+00 - val_loss: 437535.4688 - val_accuracy: 0.0000e+00\n",
      "Epoch 80/1000\n",
      "915/915 - 10s - loss: 377696.6875 - accuracy: 0.0000e+00 - val_loss: 483831.0625 - val_accuracy: 0.0000e+00\n",
      "Epoch 81/1000\n",
      "915/915 - 10s - loss: 374072.9375 - accuracy: 0.0000e+00 - val_loss: 404761.8125 - val_accuracy: 0.0000e+00\n",
      "Epoch 82/1000\n",
      "915/915 - 10s - loss: 382056.3125 - accuracy: 0.0000e+00 - val_loss: 434904.7812 - val_accuracy: 0.0000e+00\n",
      "Epoch 83/1000\n",
      "915/915 - 10s - loss: 373232.5938 - accuracy: 0.0000e+00 - val_loss: 517806.7188 - val_accuracy: 0.0000e+00\n",
      "Epoch 84/1000\n",
      "915/915 - 10s - loss: 380711.7188 - accuracy: 0.0000e+00 - val_loss: 417266.5312 - val_accuracy: 0.0000e+00\n",
      "Epoch 85/1000\n",
      "915/915 - 10s - loss: 364305.7812 - accuracy: 0.0000e+00 - val_loss: 428073.2812 - val_accuracy: 0.0000e+00\n",
      "Epoch 86/1000\n",
      "915/915 - 10s - loss: 361217.5938 - accuracy: 0.0000e+00 - val_loss: 416081.9688 - val_accuracy: 0.0000e+00\n",
      "Epoch 87/1000\n",
      "915/915 - 10s - loss: 375494.3125 - accuracy: 0.0000e+00 - val_loss: 491694.8438 - val_accuracy: 0.0000e+00\n",
      "Epoch 88/1000\n",
      "915/915 - 10s - loss: 355781.2500 - accuracy: 0.0000e+00 - val_loss: 401061.0625 - val_accuracy: 0.0000e+00\n",
      "Epoch 89/1000\n",
      "915/915 - 10s - loss: 351473.4688 - accuracy: 0.0000e+00 - val_loss: 503898.3438 - val_accuracy: 0.0000e+00\n",
      "Epoch 90/1000\n",
      "915/915 - 10s - loss: 372329.1250 - accuracy: 0.0000e+00 - val_loss: 431016.7188 - val_accuracy: 0.0000e+00\n",
      "Epoch 91/1000\n",
      "915/915 - 10s - loss: 377159.1562 - accuracy: 0.0000e+00 - val_loss: 460016.4688 - val_accuracy: 0.0000e+00\n",
      "Epoch 92/1000\n",
      "915/915 - 9s - loss: 351408.8750 - accuracy: 0.0000e+00 - val_loss: 440470.5625 - val_accuracy: 0.0000e+00\n",
      "Epoch 93/1000\n",
      "915/915 - 10s - loss: 351608.0625 - accuracy: 0.0000e+00 - val_loss: 411506.3750 - val_accuracy: 0.0000e+00\n",
      "Epoch 94/1000\n",
      "915/915 - 9s - loss: 359624.0938 - accuracy: 0.0000e+00 - val_loss: 427749.3750 - val_accuracy: 0.0000e+00\n",
      "Epoch 95/1000\n",
      "915/915 - 10s - loss: 345513.3750 - accuracy: 0.0000e+00 - val_loss: 555044.3750 - val_accuracy: 0.0000e+00\n",
      "Epoch 96/1000\n",
      "915/915 - 10s - loss: 366021.8750 - accuracy: 0.0000e+00 - val_loss: 397413.9688 - val_accuracy: 0.0000e+00\n",
      "Epoch 97/1000\n",
      "915/915 - 10s - loss: 352758.4688 - accuracy: 0.0000e+00 - val_loss: 381012.2188 - val_accuracy: 0.0000e+00\n",
      "Epoch 98/1000\n",
      "915/915 - 10s - loss: 339970.0000 - accuracy: 0.0000e+00 - val_loss: 373507.6875 - val_accuracy: 0.0000e+00\n",
      "Epoch 99/1000\n",
      "915/915 - 10s - loss: 347238.8125 - accuracy: 0.0000e+00 - val_loss: 490712.9688 - val_accuracy: 0.0000e+00\n",
      "Epoch 100/1000\n",
      "915/915 - 10s - loss: 349788.0000 - accuracy: 0.0000e+00 - val_loss: 388224.1875 - val_accuracy: 0.0000e+00\n",
      "Epoch 101/1000\n",
      "915/915 - 10s - loss: 359127.3438 - accuracy: 0.0000e+00 - val_loss: 370132.8125 - val_accuracy: 0.0000e+00\n",
      "Epoch 102/1000\n",
      "915/915 - 10s - loss: 345326.7500 - accuracy: 0.0000e+00 - val_loss: 427167.4375 - val_accuracy: 0.0000e+00\n",
      "Epoch 103/1000\n",
      "915/915 - 10s - loss: 328455.6250 - accuracy: 0.0000e+00 - val_loss: 372731.6875 - val_accuracy: 0.0000e+00\n",
      "Epoch 104/1000\n",
      "915/915 - 10s - loss: 348617.9688 - accuracy: 0.0000e+00 - val_loss: 396830.0312 - val_accuracy: 0.0000e+00\n",
      "Epoch 105/1000\n",
      "915/915 - 10s - loss: 329347.0312 - accuracy: 0.0000e+00 - val_loss: 403319.6250 - val_accuracy: 0.0000e+00\n",
      "Epoch 106/1000\n",
      "915/915 - 10s - loss: 339213.1250 - accuracy: 0.0000e+00 - val_loss: 378116.7812 - val_accuracy: 0.0000e+00\n",
      "Epoch 107/1000\n",
      "915/915 - 10s - loss: 325996.3750 - accuracy: 0.0000e+00 - val_loss: 391470.0312 - val_accuracy: 0.0000e+00\n",
      "Epoch 108/1000\n",
      "915/915 - 9s - loss: 332432.1562 - accuracy: 0.0000e+00 - val_loss: 437565.1562 - val_accuracy: 0.0000e+00\n",
      "Epoch 109/1000\n",
      "915/915 - 9s - loss: 346704.0938 - accuracy: 0.0000e+00 - val_loss: 420518.0938 - val_accuracy: 0.0000e+00\n",
      "Epoch 110/1000\n",
      "915/915 - 9s - loss: 326727.6562 - accuracy: 0.0000e+00 - val_loss: 404157.0000 - val_accuracy: 0.0000e+00\n",
      "Epoch 111/1000\n",
      "915/915 - 9s - loss: 339160.0000 - accuracy: 0.0000e+00 - val_loss: 442599.3750 - val_accuracy: 0.0000e+00\n",
      "Epoch 112/1000\n",
      "915/915 - 9s - loss: 339107.5312 - accuracy: 0.0000e+00 - val_loss: 374039.8750 - val_accuracy: 0.0000e+00\n",
      "Epoch 113/1000\n",
      "915/915 - 9s - loss: 315634.5625 - accuracy: 0.0000e+00 - val_loss: 394231.8750 - val_accuracy: 0.0000e+00\n",
      "Epoch 114/1000\n",
      "915/915 - 9s - loss: 330835.3438 - accuracy: 0.0000e+00 - val_loss: 371769.4062 - val_accuracy: 0.0000e+00\n",
      "Epoch 115/1000\n",
      "915/915 - 9s - loss: 316763.4062 - accuracy: 0.0000e+00 - val_loss: 391993.5312 - val_accuracy: 0.0000e+00\n",
      "Epoch 116/1000\n",
      "915/915 - 9s - loss: 316612.2812 - accuracy: 0.0000e+00 - val_loss: 372506.7812 - val_accuracy: 0.0000e+00\n",
      "Epoch 117/1000\n",
      "915/915 - 9s - loss: 323245.0000 - accuracy: 0.0000e+00 - val_loss: 435382.5938 - val_accuracy: 0.0000e+00\n",
      "Epoch 118/1000\n",
      "915/915 - 9s - loss: 310311.4688 - accuracy: 0.0000e+00 - val_loss: 392443.8750 - val_accuracy: 0.0000e+00\n",
      "Epoch 119/1000\n",
      "915/915 - 9s - loss: 315387.1562 - accuracy: 0.0000e+00 - val_loss: 391432.5000 - val_accuracy: 0.0000e+00\n",
      "Epoch 120/1000\n",
      "915/915 - 9s - loss: 326382.8750 - accuracy: 0.0000e+00 - val_loss: 401772.1875 - val_accuracy: 0.0000e+00\n",
      "Epoch 121/1000\n",
      "915/915 - 9s - loss: 310734.9062 - accuracy: 0.0000e+00 - val_loss: 397056.9375 - val_accuracy: 0.0000e+00\n",
      "Epoch 122/1000\n",
      "915/915 - 9s - loss: 322028.1250 - accuracy: 0.0000e+00 - val_loss: 376248.0000 - val_accuracy: 0.0000e+00\n",
      "Epoch 123/1000\n",
      "915/915 - 10s - loss: 308823.2500 - accuracy: 0.0000e+00 - val_loss: 526669.0625 - val_accuracy: 0.0000e+00\n",
      "Epoch 124/1000\n",
      "915/915 - 10s - loss: 306593.3438 - accuracy: 0.0000e+00 - val_loss: 361252.2500 - val_accuracy: 0.0000e+00\n",
      "Epoch 125/1000\n",
      "915/915 - 10s - loss: 306863.1250 - accuracy: 0.0000e+00 - val_loss: 388481.6875 - val_accuracy: 0.0000e+00\n",
      "Epoch 126/1000\n",
      "915/915 - 10s - loss: 307495.8125 - accuracy: 0.0000e+00 - val_loss: 434212.6250 - val_accuracy: 0.0000e+00\n",
      "Epoch 127/1000\n",
      "915/915 - 10s - loss: 368441.4688 - accuracy: 0.0000e+00 - val_loss: 391769.9688 - val_accuracy: 0.0000e+00\n",
      "Epoch 128/1000\n",
      "915/915 - 10s - loss: 303018.6250 - accuracy: 0.0000e+00 - val_loss: 364952.0312 - val_accuracy: 0.0000e+00\n",
      "Epoch 129/1000\n",
      "915/915 - 9s - loss: 301183.0938 - accuracy: 0.0000e+00 - val_loss: 413998.8125 - val_accuracy: 0.0000e+00\n",
      "Epoch 130/1000\n",
      "915/915 - 9s - loss: 295771.9062 - accuracy: 0.0000e+00 - val_loss: 353586.5938 - val_accuracy: 0.0000e+00\n",
      "Epoch 131/1000\n",
      "915/915 - 9s - loss: 305297.3125 - accuracy: 0.0000e+00 - val_loss: 381821.3750 - val_accuracy: 0.0000e+00\n",
      "Epoch 132/1000\n",
      "915/915 - 9s - loss: 300737.4688 - accuracy: 0.0000e+00 - val_loss: 396951.5000 - val_accuracy: 0.0000e+00\n",
      "Epoch 133/1000\n",
      "915/915 - 9s - loss: 300295.7812 - accuracy: 0.0000e+00 - val_loss: 391731.8125 - val_accuracy: 0.0000e+00\n",
      "Epoch 134/1000\n",
      "915/915 - 10s - loss: 294491.2500 - accuracy: 0.0000e+00 - val_loss: 407742.0938 - val_accuracy: 0.0000e+00\n",
      "Epoch 135/1000\n",
      "915/915 - 10s - loss: 304161.6875 - accuracy: 0.0000e+00 - val_loss: 374158.1250 - val_accuracy: 0.0000e+00\n",
      "Epoch 136/1000\n",
      "915/915 - 9s - loss: 289430.4688 - accuracy: 0.0000e+00 - val_loss: 620705.6875 - val_accuracy: 0.0000e+00\n",
      "Epoch 137/1000\n",
      "915/915 - 10s - loss: 298589.1250 - accuracy: 0.0000e+00 - val_loss: 393600.5000 - val_accuracy: 0.0000e+00\n",
      "Epoch 138/1000\n",
      "915/915 - 10s - loss: 294095.8125 - accuracy: 0.0000e+00 - val_loss: 366702.4062 - val_accuracy: 0.0000e+00\n",
      "Epoch 139/1000\n",
      "915/915 - 10s - loss: 295936.7812 - accuracy: 0.0000e+00 - val_loss: 398814.3438 - val_accuracy: 0.0000e+00\n",
      "Epoch 140/1000\n",
      "915/915 - 10s - loss: 295244.0938 - accuracy: 0.0000e+00 - val_loss: 378758.5938 - val_accuracy: 0.0000e+00\n",
      "Epoch 141/1000\n",
      "915/915 - 10s - loss: 298012.0000 - accuracy: 0.0000e+00 - val_loss: 521845.6562 - val_accuracy: 0.0000e+00\n",
      "Epoch 142/1000\n",
      "915/915 - 10s - loss: 281187.5938 - accuracy: 0.0000e+00 - val_loss: 460206.4688 - val_accuracy: 0.0000e+00\n",
      "Epoch 143/1000\n",
      "915/915 - 10s - loss: 292734.4375 - accuracy: 0.0000e+00 - val_loss: 393786.3125 - val_accuracy: 0.0000e+00\n",
      "Epoch 144/1000\n",
      "915/915 - 9s - loss: 293078.5625 - accuracy: 0.0000e+00 - val_loss: 345218.4062 - val_accuracy: 0.0000e+00\n",
      "Epoch 145/1000\n",
      "915/915 - 10s - loss: 285998.5000 - accuracy: 0.0000e+00 - val_loss: 394668.9375 - val_accuracy: 0.0000e+00\n",
      "Epoch 146/1000\n",
      "915/915 - 10s - loss: 293679.1250 - accuracy: 0.0000e+00 - val_loss: 403811.2812 - val_accuracy: 0.0000e+00\n",
      "Epoch 147/1000\n",
      "915/915 - 9s - loss: 288317.0625 - accuracy: 0.0000e+00 - val_loss: 376719.5938 - val_accuracy: 0.0000e+00\n",
      "Epoch 148/1000\n",
      "915/915 - 9s - loss: 276268.5000 - accuracy: 0.0000e+00 - val_loss: 373474.3750 - val_accuracy: 0.0000e+00\n",
      "Epoch 149/1000\n",
      "915/915 - 10s - loss: 281368.1875 - accuracy: 0.0000e+00 - val_loss: 371284.9688 - val_accuracy: 0.0000e+00\n",
      "Epoch 150/1000\n",
      "915/915 - 10s - loss: 279110.0625 - accuracy: 0.0000e+00 - val_loss: 439912.3125 - val_accuracy: 0.0000e+00\n",
      "Epoch 151/1000\n",
      "915/915 - 10s - loss: 278505.8750 - accuracy: 0.0000e+00 - val_loss: 383799.9375 - val_accuracy: 0.0000e+00\n",
      "Epoch 152/1000\n",
      "915/915 - 9s - loss: 278877.1250 - accuracy: 0.0000e+00 - val_loss: 478871.5312 - val_accuracy: 0.0000e+00\n",
      "Epoch 153/1000\n",
      "915/915 - 9s - loss: 276407.4688 - accuracy: 0.0000e+00 - val_loss: 395609.6875 - val_accuracy: 0.0000e+00\n",
      "Epoch 154/1000\n",
      "915/915 - 10s - loss: 278886.3750 - accuracy: 0.0000e+00 - val_loss: 465003.2188 - val_accuracy: 0.0000e+00\n",
      "Epoch 155/1000\n",
      "915/915 - 10s - loss: 272012.5938 - accuracy: 0.0000e+00 - val_loss: 623163.1875 - val_accuracy: 0.0000e+00\n",
      "Epoch 156/1000\n",
      "915/915 - 10s - loss: 274672.8750 - accuracy: 0.0000e+00 - val_loss: 453083.1250 - val_accuracy: 0.0000e+00\n",
      "Epoch 157/1000\n",
      "915/915 - 10s - loss: 275366.1875 - accuracy: 0.0000e+00 - val_loss: 375821.3438 - val_accuracy: 0.0000e+00\n",
      "Epoch 158/1000\n",
      "915/915 - 9s - loss: 271006.2812 - accuracy: 0.0000e+00 - val_loss: 405855.0312 - val_accuracy: 0.0000e+00\n",
      "Epoch 159/1000\n",
      "915/915 - 10s - loss: 266682.3750 - accuracy: 0.0000e+00 - val_loss: 365149.7500 - val_accuracy: 0.0000e+00\n",
      "Epoch 160/1000\n",
      "915/915 - 10s - loss: 273089.1562 - accuracy: 0.0000e+00 - val_loss: 366355.0625 - val_accuracy: 0.0000e+00\n",
      "Epoch 161/1000\n",
      "915/915 - 10s - loss: 268480.5000 - accuracy: 0.0000e+00 - val_loss: 380942.2188 - val_accuracy: 0.0000e+00\n",
      "Epoch 162/1000\n",
      "915/915 - 10s - loss: 272531.0938 - accuracy: 0.0000e+00 - val_loss: 408822.8438 - val_accuracy: 0.0000e+00\n",
      "Epoch 163/1000\n",
      "915/915 - 10s - loss: 265603.4375 - accuracy: 0.0000e+00 - val_loss: 412503.6875 - val_accuracy: 0.0000e+00\n",
      "Epoch 164/1000\n",
      "915/915 - 10s - loss: 265627.1250 - accuracy: 0.0000e+00 - val_loss: 383592.9062 - val_accuracy: 0.0000e+00\n",
      "Epoch 165/1000\n",
      "915/915 - 10s - loss: 263073.8125 - accuracy: 0.0000e+00 - val_loss: 386032.1875 - val_accuracy: 0.0000e+00\n",
      "Epoch 166/1000\n",
      "915/915 - 10s - loss: 269471.2188 - accuracy: 0.0000e+00 - val_loss: 383805.5312 - val_accuracy: 0.0000e+00\n",
      "Epoch 167/1000\n",
      "915/915 - 9s - loss: 267283.1875 - accuracy: 0.0000e+00 - val_loss: 344762.0625 - val_accuracy: 0.0000e+00\n",
      "Epoch 168/1000\n",
      "915/915 - 10s - loss: 258648.4375 - accuracy: 0.0000e+00 - val_loss: 393932.6562 - val_accuracy: 0.0000e+00\n",
      "Epoch 169/1000\n",
      "915/915 - 10s - loss: 259058.5312 - accuracy: 0.0000e+00 - val_loss: 386994.5312 - val_accuracy: 0.0000e+00\n",
      "Epoch 170/1000\n",
      "915/915 - 10s - loss: 260872.6875 - accuracy: 0.0000e+00 - val_loss: 379937.4688 - val_accuracy: 0.0000e+00\n",
      "Epoch 171/1000\n",
      "915/915 - 10s - loss: 264643.9375 - accuracy: 0.0000e+00 - val_loss: 402881.3125 - val_accuracy: 0.0000e+00\n",
      "Epoch 172/1000\n",
      "915/915 - 10s - loss: 255359.3438 - accuracy: 0.0000e+00 - val_loss: 472851.0625 - val_accuracy: 0.0000e+00\n",
      "Epoch 173/1000\n",
      "915/915 - 10s - loss: 255446.5938 - accuracy: 0.0000e+00 - val_loss: 384669.0938 - val_accuracy: 0.0000e+00\n",
      "Epoch 174/1000\n",
      "915/915 - 10s - loss: 261604.2500 - accuracy: 0.0000e+00 - val_loss: 388453.2188 - val_accuracy: 0.0000e+00\n",
      "Epoch 175/1000\n",
      "915/915 - 10s - loss: 248945.6875 - accuracy: 0.0000e+00 - val_loss: 364019.5000 - val_accuracy: 0.0000e+00\n",
      "Epoch 176/1000\n",
      "915/915 - 10s - loss: 253881.4375 - accuracy: 0.0000e+00 - val_loss: 371955.3125 - val_accuracy: 0.0000e+00\n",
      "Epoch 177/1000\n",
      "915/915 - 10s - loss: 252073.2344 - accuracy: 0.0000e+00 - val_loss: 443413.0312 - val_accuracy: 0.0000e+00\n",
      "Epoch 178/1000\n",
      "915/915 - 9s - loss: 252399.0625 - accuracy: 0.0000e+00 - val_loss: 495206.3125 - val_accuracy: 0.0000e+00\n",
      "Epoch 179/1000\n",
      "915/915 - 9s - loss: 254152.5312 - accuracy: 0.0000e+00 - val_loss: 398933.0625 - val_accuracy: 0.0000e+00\n",
      "Epoch 180/1000\n",
      "915/915 - 10s - loss: 246059.2969 - accuracy: 0.0000e+00 - val_loss: 377469.5625 - val_accuracy: 0.0000e+00\n",
      "Epoch 181/1000\n",
      "915/915 - 10s - loss: 244295.8438 - accuracy: 0.0000e+00 - val_loss: 392653.3750 - val_accuracy: 0.0000e+00\n",
      "Epoch 182/1000\n",
      "915/915 - 10s - loss: 244565.0156 - accuracy: 0.0000e+00 - val_loss: 447577.7500 - val_accuracy: 0.0000e+00\n",
      "Epoch 183/1000\n",
      "915/915 - 10s - loss: 253600.0000 - accuracy: 0.0000e+00 - val_loss: 440363.1250 - val_accuracy: 0.0000e+00\n",
      "Epoch 184/1000\n",
      "915/915 - 10s - loss: 241791.7969 - accuracy: 0.0000e+00 - val_loss: 420441.0938 - val_accuracy: 0.0000e+00\n",
      "Epoch 185/1000\n",
      "915/915 - 10s - loss: 244620.4062 - accuracy: 0.0000e+00 - val_loss: 440455.9375 - val_accuracy: 0.0000e+00\n",
      "Epoch 186/1000\n",
      "915/915 - 9s - loss: 241935.8594 - accuracy: 0.0000e+00 - val_loss: 440010.9688 - val_accuracy: 0.0000e+00\n",
      "Epoch 187/1000\n",
      "915/915 - 10s - loss: 252473.3750 - accuracy: 0.0000e+00 - val_loss: 378495.1875 - val_accuracy: 0.0000e+00\n",
      "Epoch 188/1000\n",
      "915/915 - 9s - loss: 241957.3750 - accuracy: 0.0000e+00 - val_loss: 550616.6875 - val_accuracy: 0.0000e+00\n",
      "Epoch 189/1000\n",
      "915/915 - 9s - loss: 244613.0938 - accuracy: 0.0000e+00 - val_loss: 396047.5625 - val_accuracy: 0.0000e+00\n",
      "Epoch 190/1000\n",
      "915/915 - 10s - loss: 239114.5625 - accuracy: 0.0000e+00 - val_loss: 594681.1875 - val_accuracy: 0.0000e+00\n",
      "Epoch 191/1000\n",
      "915/915 - 10s - loss: 236611.2812 - accuracy: 0.0000e+00 - val_loss: 396006.0625 - val_accuracy: 0.0000e+00\n",
      "Epoch 192/1000\n",
      "915/915 - 10s - loss: 244442.9531 - accuracy: 0.0000e+00 - val_loss: 369494.6250 - val_accuracy: 0.0000e+00\n",
      "Epoch 193/1000\n",
      "915/915 - 9s - loss: 241920.7812 - accuracy: 0.0000e+00 - val_loss: 381467.0312 - val_accuracy: 0.0000e+00\n",
      "Epoch 194/1000\n",
      "915/915 - 9s - loss: 240185.5625 - accuracy: 0.0000e+00 - val_loss: 367422.3438 - val_accuracy: 0.0000e+00\n",
      "Epoch 195/1000\n",
      "915/915 - 9s - loss: 238204.2656 - accuracy: 0.0000e+00 - val_loss: 383961.7188 - val_accuracy: 0.0000e+00\n",
      "Epoch 196/1000\n",
      "915/915 - 10s - loss: 231225.2031 - accuracy: 0.0000e+00 - val_loss: 357178.9375 - val_accuracy: 0.0000e+00\n",
      "Epoch 197/1000\n",
      "915/915 - 10s - loss: 237492.6875 - accuracy: 0.0000e+00 - val_loss: 383609.0000 - val_accuracy: 0.0000e+00\n",
      "Restoring model weights from the end of the best epoch.\n",
      "Epoch 00197: early stopping\n"
     ]
    }
   ],
   "source": [
    "history = model.fit(train_x, train_y, epochs=1000,validation_data=(test_x, test_y),callbacks=[monitor], verbose=2)"
   ]
  },
  {
   "cell_type": "code",
   "execution_count": 11,
   "metadata": {},
   "outputs": [
    {
     "name": "stderr",
     "output_type": "stream",
     "text": [
      "2021-11-27 20:14:36.037318: W tensorflow/python/util/util.cc:348] Sets are not currently considered sequences, but this may change in the future, so consider avoiding using them.\n"
     ]
    },
    {
     "name": "stdout",
     "output_type": "stream",
     "text": [
      "INFO:tensorflow:Assets written to: /Users/michaelsong/Documents/GitHub/starzam/Models/m1.3/assets\n"
     ]
    }
   ],
   "source": [
    "model.save('/Users/michaelsong/Documents/GitHub/starzam/Models/m1.3')"
   ]
  },
  {
   "cell_type": "code",
   "execution_count": 12,
   "metadata": {},
   "outputs": [
    {
     "name": "stderr",
     "output_type": "stream",
     "text": [
      "2021-11-27 20:14:48.758854: I tensorflow/core/grappler/optimizers/custom_graph_optimizer_registry.cc:112] Plugin optimizer for device_type GPU is enabled.\n"
     ]
    },
    {
     "name": "stdout",
     "output_type": "stream",
     "text": [
      "(7315,) (29260,)\n"
     ]
    }
   ],
   "source": [
    "\n",
    "pred_test_y = model.predict(test_x).reshape(-1)\n",
    "pred_train_y = model.predict(train_x).reshape(-1)\n",
    "print(pred_test_y.shape,pred_train_y.shape)\n"
   ]
  },
  {
   "cell_type": "markdown",
   "metadata": {},
   "source": []
  },
  {
   "cell_type": "code",
   "execution_count": 13,
   "metadata": {},
   "outputs": [
    {
     "data": {
      "image/png": "[encoded data removed]",
      "text/plain": [
       "<Figure size 432x288 with 1 Axes>"
      ]
     },
     "metadata": {
      "needs_background": "light"
     },
     "output_type": "display_data"
    }
   ],
   "source": [
    "plt.scatter(train_y,pred_train_y, c='red', alpha=0.5,s=1)\n",
    "\n",
    "plt.scatter(test_y,pred_test_y, c='blue', alpha=0.5,s=1)\n",
    "\n",
    "linex = np.linspace(2000,10000)\n",
    "liney = linex\n",
    "# Create the plot\n",
    "plt.plot(linex, liney,c=\"green\")\n",
    "\n",
    "plt.xlim(2000, 10000)\n",
    "plt.ylim(2000, 10000)\n",
    "plt.gca().set_aspect('equal', adjustable='box')\n",
    "plt.show()"
   ]
  },
  {
   "cell_type": "code",
   "execution_count": 14,
   "metadata": {},
   "outputs": [],
   "source": [
    "def normalize1D(data):\n",
    "    return np.divide(np.nan_to_num(data,np.nanmean(data)),np.nanmax(data))"
   ]
  },
  {
   "cell_type": "code",
   "execution_count": 15,
   "metadata": {},
   "outputs": [
    {
     "name": "stdout",
     "output_type": "stream",
     "text": [
      "Mean Sq. Error, Mean Abs. Error\n",
      "0.21156038 0.20467784\n"
     ]
    }
   ],
   "source": [
    "mse = np.sqrt(mean_squared_error(normalize1D(test_y),normalize1D(pred_test_y)))\n",
    "mae = mean_absolute_error(normalize1D(test_y),normalize1D(pred_test_y))\n",
    "print(\"Mean Sq. Error, Mean Abs. Error\")\n",
    "print(mse,mae)"
   ]
  },
  {
   "cell_type": "code",
   "execution_count": null,
   "metadata": {},
   "outputs": [],
   "source": []
  }
 ],
 "metadata": {
  "interpreter": {
   "hash": "47065cae1920ebace9a059c93d67134c9a065e51e3ecb9809a1abf9fcf371550"
  },
  "kernelspec": {
   "display_name": "Python 3.9.7 64-bit ('base': conda)",
   "name": "python3"
  },
  "language_info": {
   "codemirror_mode": {
    "name": "ipython",
    "version": 3
   },
   "file_extension": ".py",
   "mimetype": "text/x-python",
   "name": "python",
   "nbconvert_exporter": "python",
   "pygments_lexer": "ipython3",
   "version": "3.9.7"
  },
  "orig_nbformat": 4
 },
 "nbformat": 4,
 "nbformat_minor": 2
}
