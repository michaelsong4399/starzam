{
 "cells": [
  {
   "cell_type": "markdown",
   "metadata": {},
   "source": [
    "# Import"
   ]
  },
  {
   "cell_type": "code",
   "execution_count": 1,
   "metadata": {},
   "outputs": [],
   "source": [
    "import os\n",
    "import numpy as np\n",
    "\n",
    "from astropy.io import fits\n",
    "from matplotlib import pyplot as plt\n",
    "import numpy as np\n",
    "import lightkurve as lk\n",
    "from astroquery.simbad import Simbad\n",
    "import pandas as pd \n",
    "from numpy import genfromtxt\n",
    "\n",
    "# #tf\n",
    "from __future__ import absolute_import, division, print_function, unicode_literals\n",
    "import tensorflow as tf\n",
    "from tensorflow import keras\n",
    "from tensorflow.keras import datasets, layers, models\n",
    "\n",
    "\n",
    "from sklearn.model_selection import train_test_split\n",
    "from sklearn.linear_model import LinearRegression\n",
    "from sklearn.metrics import r2_score, mean_squared_error, mean_absolute_error\n",
    "\n"
   ]
  },
  {
   "cell_type": "markdown",
   "metadata": {},
   "source": [
    "## Check GPU"
   ]
  },
  {
   "cell_type": "code",
   "execution_count": 2,
   "metadata": {},
   "outputs": [
    {
     "name": "stdout",
     "output_type": "stream",
     "text": [
      "[PhysicalDevice(name='/physical_device:CPU:0', device_type='CPU'), PhysicalDevice(name='/physical_device:GPU:0', device_type='GPU')]\n"
     ]
    }
   ],
   "source": [
    "devices = tf.config.list_physical_devices()\n",
    "print(devices)"
   ]
  },
  {
   "cell_type": "markdown",
   "metadata": {},
   "source": [
    "# Import Data"
   ]
  },
  {
   "cell_type": "code",
   "execution_count": 24,
   "metadata": {},
   "outputs": [
    {
     "name": "stdout",
     "output_type": "stream",
     "text": [
      "(36575, 481)\n",
      "[[757076 '19240929+3635532' 5174 ... 3.676494308688637 1.3925685148610372\n",
      "  2.128977297424266]\n",
      " [757076 '19240929+3635532' 5174 ... 1.3238957656734522\n",
      "  0.9937602982288734 1.309817227477979]\n",
      " [757076 '19240929+3635532' 5174 ... 1.1500678982350347\n",
      "  1.0179669104715916 1.082825031656266]\n",
      " ...\n",
      " [2306909 '19291353+3736115' 6062 ... 1.3145102925762593\n",
      "  1.783229992766084 1.8720227015615565]\n",
      " [2306909 '19291353+3736115' 6062 ... 1.886828501682419 2.179288338531378\n",
      "  1.68985685370382]\n",
      " [2306909 '19291353+3736115' 6062 ... 2.6991736792350096\n",
      "  3.328894181347369 4.246501386271241]]\n"
     ]
    }
   ],
   "source": [
    "all_data = np.empty((1,482))\n",
    "for i in range(25):\n",
    "  all_data = np.concatenate((all_data,pd.read_csv('/Users/michaelsong/Documents/GitHub/starzam/Data_v2/'+str(i)+'.csv',delimiter=',').to_numpy()), axis=0)\n",
    "all_data = all_data[1:].T[1:].T\n",
    "print(all_data.shape)\n",
    "print(all_data)\n",
    "# pd.read_csv('/content/drive/MyDrive/Research - Yihong Song and Rohit Prasanna/Yihong/Data_v2/0.csv',delimiter=',').to_numpy"
   ]
  },
  {
   "cell_type": "code",
   "execution_count": 26,
   "metadata": {},
   "outputs": [
    {
     "name": "stdout",
     "output_type": "stream",
     "text": [
      "(36575, 471) (36575, 6)\n",
      "(36575,)\n"
     ]
    }
   ],
   "source": [
    "all_x = all_data.T[10:].T\n",
    "all_y = all_data.T[2:8].T\n",
    "print(all_x.shape,all_y.shape)\n",
    "teff_y = all_y.T[1].T\n",
    "print(teff_y.shape)"
   ]
  },
  {
   "cell_type": "markdown",
   "metadata": {},
   "source": [
    "# Machine Learning"
   ]
  },
  {
   "cell_type": "code",
   "execution_count": 27,
   "metadata": {},
   "outputs": [
    {
     "name": "stdout",
     "output_type": "stream",
     "text": [
      "(29260, 471) (7315, 471) (29260,) (7315,)\n",
      "(29260, 471) (7315, 471) (29260,) (7315,)\n"
     ]
    }
   ],
   "source": [
    "train_x,test_x,train_y,test_y=train_test_split(all_x, teff_y, test_size=0.20, random_state=42)\n",
    "print(train_x.shape,test_x.shape,train_y.shape,test_y.shape)\n",
    "train_x = np.asarray(train_x).astype('float32')\n",
    "test_x = np.asarray(test_x).astype('float32')\n",
    "train_y = np.asarray(train_y).astype('float32')\n",
    "test_y = np.asarray(test_y).astype('float32')\n",
    "print(train_x.shape,test_x.shape,train_y.shape,test_y.shape)"
   ]
  },
  {
   "cell_type": "code",
   "execution_count": 28,
   "metadata": {},
   "outputs": [
    {
     "name": "stdout",
     "output_type": "stream",
     "text": [
      "Model: \"sequential\"\n",
      "_________________________________________________________________\n",
      "Layer (type)                 Output Shape              Param #   \n",
      "=================================================================\n",
      "dense (Dense)                (None, 4096)              1933312   \n",
      "_________________________________________________________________\n",
      "dense_1 (Dense)              (None, 2048)              8390656   \n",
      "_________________________________________________________________\n",
      "dense_2 (Dense)              (None, 2048)              4196352   \n",
      "_________________________________________________________________\n",
      "dense_3 (Dense)              (None, 2048)              4196352   \n",
      "_________________________________________________________________\n",
      "dense_4 (Dense)              (None, 1024)              2098176   \n",
      "_________________________________________________________________\n",
      "dense_5 (Dense)              (None, 1024)              1049600   \n",
      "_________________________________________________________________\n",
      "dense_6 (Dense)              (None, 1024)              1049600   \n",
      "_________________________________________________________________\n",
      "dense_7 (Dense)              (None, 512)               524800    \n",
      "_________________________________________________________________\n",
      "dense_8 (Dense)              (None, 512)               262656    \n",
      "_________________________________________________________________\n",
      "dense_9 (Dense)              (None, 512)               262656    \n",
      "_________________________________________________________________\n",
      "dense_10 (Dense)             (None, 256)               131328    \n",
      "_________________________________________________________________\n",
      "dense_11 (Dense)             (None, 32)                8224      \n",
      "_________________________________________________________________\n",
      "dense_12 (Dense)             (None, 4)                 132       \n",
      "_________________________________________________________________\n",
      "dense_13 (Dense)             (None, 1)                 5         \n",
      "=================================================================\n",
      "Total params: 24,103,849\n",
      "Trainable params: 24,103,849\n",
      "Non-trainable params: 0\n",
      "_________________________________________________________________\n"
     ]
    },
    {
     "name": "stderr",
     "output_type": "stream",
     "text": [
      "2021-11-28 14:38:13.594539: I tensorflow/core/common_runtime/pluggable_device/pluggable_device_factory.cc:305] Could not identify NUMA node of platform GPU ID 0, defaulting to 0. Your kernel may not have been built with NUMA support.\n",
      "2021-11-28 14:38:13.594558: I tensorflow/core/common_runtime/pluggable_device/pluggable_device_factory.cc:271] Created TensorFlow device (/device:GPU:0 with 0 MB memory) -> physical PluggableDevice (device: 0, name: METAL, pci bus id: <undefined>)\n"
     ]
    }
   ],
   "source": [
    "tf.test.gpu_device_name() # No GPU Sad :v\n",
    "keras.backend.clear_session()\n",
    "# model = models.Sequential()\n",
    "\n",
    "# model.add(layers.Conv1D(1024, 1, activation='relu',batch_input_shape=train_x.shape))\n",
    "# model.add(layers.Dense(128))\n",
    "# model.add(layers.Conv1D(32, 1, activation='relu'))\n",
    "# model.add(layers.Dense(1,activation=\"sigmoid\"))\n",
    "\n",
    "# model.summary()\n",
    "model = models.Sequential()\n",
    "#model.add(layers.Conv1D(filters=16, kernel_size=1, activation='relu', batch_input_shape=(train_x.shape)))\n",
    "\n",
    "#model.add(layers.Embedding(input_dim=64, output_dim=16))\n",
    "#model.add(layers.LSTM(128,dropout=0.2,recurrent_dropout=0.2,input_dim=(train_x.shape[2])))\n",
    "model.add(layers.Dense(4096, activation='relu', input_shape=((471,))))\n",
    "#model.add(layers.Conv1D(1024,1,activation='relu',input_shape=(train_x.shape)))\n",
    "#model.add(layers.Conv1D(256,1,activation='relu'))\n",
    "model.add(layers.Dense(2048, activation=\"relu\"))\n",
    "model.add(layers.Dense(2048, activation=\"relu\"))\n",
    "model.add(layers.Dense(2048, activation=\"relu\"))\n",
    "model.add(layers.Dense(1024, activation=\"relu\"))\n",
    "model.add(layers.Dense(1024, activation=\"relu\"))\n",
    "model.add(layers.Dense(1024, activation=\"relu\"))\n",
    "model.add(layers.Dense(512, activation=\"relu\"))\n",
    "model.add(layers.Dense(512, activation=\"relu\"))\n",
    "model.add(layers.Dense(512, activation=\"relu\"))\n",
    "model.add(layers.Dense(256, activation=\"relu\"))\n",
    "model.add(layers.Dense(32, activation=\"relu\"))\n",
    "model.add(layers.Dense(4, activation=\"relu\"))\n",
    "# model.add(layers.Dense(2, activation=\"relu\"))\n",
    "model.add(layers.Dense(1))\n",
    "model.summary()"
   ]
  },
  {
   "cell_type": "code",
   "execution_count": 29,
   "metadata": {},
   "outputs": [],
   "source": [
    "model.compile(optimizer='adam', loss='mse', metrics=['accuracy'])\n",
    "# reduce_lr = keras.callbacks.ReduceLROnPlateau(monitor='val_loss', factor=0.2,\n",
    "#                               patience=5, min_lr=0.001)\n",
    "monitor = keras.callbacks.EarlyStopping(monitor='val_loss', min_delta=1e-4, \n",
    "        patience=30, verbose=1, mode='auto',\n",
    "        restore_best_weights=True)"
   ]
  },
  {
   "cell_type": "code",
   "execution_count": 30,
   "metadata": {},
   "outputs": [
    {
     "name": "stdout",
     "output_type": "stream",
     "text": [
      "Epoch 1/1000\n"
     ]
    },
    {
     "name": "stderr",
     "output_type": "stream",
     "text": [
      "2021-11-28 14:38:24.091124: I tensorflow/core/grappler/optimizers/custom_graph_optimizer_registry.cc:112] Plugin optimizer for device_type GPU is enabled.\n",
      "2021-11-28 14:38:37.389705: I tensorflow/core/grappler/optimizers/custom_graph_optimizer_registry.cc:112] Plugin optimizer for device_type GPU is enabled.\n"
     ]
    },
    {
     "name": "stdout",
     "output_type": "stream",
     "text": [
      "915/915 - 15s - loss: 11.4096 - accuracy: 0.0000e+00 - val_loss: 0.1606 - val_accuracy: 0.0000e+00\n",
      "Epoch 2/1000\n",
      "915/915 - 14s - loss: 0.1752 - accuracy: 0.0000e+00 - val_loss: 0.1683 - val_accuracy: 0.0000e+00\n",
      "Epoch 3/1000\n",
      "915/915 - 15s - loss: 0.1588 - accuracy: 0.0000e+00 - val_loss: 0.1926 - val_accuracy: 0.0000e+00\n",
      "Epoch 4/1000\n",
      "915/915 - 15s - loss: 0.1521 - accuracy: 0.0000e+00 - val_loss: 0.1556 - val_accuracy: 0.0000e+00\n",
      "Epoch 5/1000\n",
      "915/915 - 15s - loss: 0.1735 - accuracy: 0.0000e+00 - val_loss: 0.1676 - val_accuracy: 0.0000e+00\n",
      "Epoch 6/1000\n",
      "915/915 - 15s - loss: 0.1753 - accuracy: 0.0000e+00 - val_loss: 0.1431 - val_accuracy: 0.0000e+00\n",
      "Epoch 7/1000\n",
      "915/915 - 15s - loss: 0.1586 - accuracy: 0.0000e+00 - val_loss: 0.1538 - val_accuracy: 0.0000e+00\n",
      "Epoch 8/1000\n",
      "915/915 - 15s - loss: 0.1707 - accuracy: 0.0000e+00 - val_loss: 0.1921 - val_accuracy: 0.0000e+00\n",
      "Epoch 9/1000\n",
      "915/915 - 15s - loss: 0.4740 - accuracy: 0.0000e+00 - val_loss: 0.3930 - val_accuracy: 0.0000e+00\n",
      "Epoch 10/1000\n",
      "915/915 - 15s - loss: 0.3957 - accuracy: 0.0000e+00 - val_loss: 0.4031 - val_accuracy: 0.0000e+00\n",
      "Epoch 11/1000\n",
      "915/915 - 15s - loss: 0.3950 - accuracy: 0.0000e+00 - val_loss: 0.3913 - val_accuracy: 0.0000e+00\n",
      "Epoch 12/1000\n",
      "915/915 - 15s - loss: 0.3971 - accuracy: 0.0000e+00 - val_loss: 0.3911 - val_accuracy: 0.0000e+00\n",
      "Epoch 13/1000\n",
      "915/915 - 15s - loss: 0.3738 - accuracy: 0.0000e+00 - val_loss: 0.1900 - val_accuracy: 0.0000e+00\n",
      "Epoch 14/1000\n",
      "915/915 - 15s - loss: 0.1912 - accuracy: 0.0000e+00 - val_loss: 0.2064 - val_accuracy: 0.0000e+00\n",
      "Epoch 15/1000\n",
      "915/915 - 15s - loss: 0.2188 - accuracy: 0.0000e+00 - val_loss: 0.1850 - val_accuracy: 0.0000e+00\n",
      "Epoch 16/1000\n",
      "915/915 - 15s - loss: 0.1862 - accuracy: 0.0000e+00 - val_loss: 0.1531 - val_accuracy: 0.0000e+00\n",
      "Epoch 17/1000\n",
      "915/915 - 15s - loss: 0.1615 - accuracy: 0.0000e+00 - val_loss: 0.1543 - val_accuracy: 0.0000e+00\n",
      "Epoch 18/1000\n",
      "915/915 - 15s - loss: 0.8403 - accuracy: 0.0000e+00 - val_loss: 0.1567 - val_accuracy: 0.0000e+00\n",
      "Epoch 19/1000\n",
      "915/915 - 15s - loss: 0.1583 - accuracy: 0.0000e+00 - val_loss: 0.1453 - val_accuracy: 0.0000e+00\n",
      "Epoch 20/1000\n",
      "915/915 - 15s - loss: 0.2130 - accuracy: 0.0000e+00 - val_loss: 0.1449 - val_accuracy: 0.0000e+00\n",
      "Epoch 21/1000\n",
      "915/915 - 15s - loss: 0.1561 - accuracy: 0.0000e+00 - val_loss: 0.1949 - val_accuracy: 0.0000e+00\n",
      "Epoch 22/1000\n",
      "915/915 - 15s - loss: 1.0711 - accuracy: 0.0000e+00 - val_loss: 0.1504 - val_accuracy: 0.0000e+00\n",
      "Epoch 23/1000\n",
      "915/915 - 15s - loss: 0.1566 - accuracy: 0.0000e+00 - val_loss: 0.1413 - val_accuracy: 0.0000e+00\n",
      "Epoch 24/1000\n",
      "915/915 - 15s - loss: 0.1508 - accuracy: 0.0000e+00 - val_loss: 0.1393 - val_accuracy: 0.0000e+00\n",
      "Epoch 25/1000\n",
      "915/915 - 15s - loss: 0.1515 - accuracy: 0.0000e+00 - val_loss: 0.1584 - val_accuracy: 0.0000e+00\n",
      "Epoch 26/1000\n",
      "915/915 - 15s - loss: 0.1915 - accuracy: 0.0000e+00 - val_loss: 0.1567 - val_accuracy: 0.0000e+00\n",
      "Epoch 27/1000\n",
      "915/915 - 15s - loss: 0.1579 - accuracy: 0.0000e+00 - val_loss: 0.1514 - val_accuracy: 0.0000e+00\n",
      "Epoch 28/1000\n",
      "915/915 - 16s - loss: 0.1487 - accuracy: 0.0000e+00 - val_loss: 0.1365 - val_accuracy: 0.0000e+00\n",
      "Epoch 29/1000\n",
      "915/915 - 15s - loss: 0.1456 - accuracy: 0.0000e+00 - val_loss: 0.1551 - val_accuracy: 0.0000e+00\n",
      "Epoch 30/1000\n",
      "915/915 - 15s - loss: 0.1964 - accuracy: 0.0000e+00 - val_loss: 0.1578 - val_accuracy: 0.0000e+00\n",
      "Epoch 31/1000\n",
      "915/915 - 15s - loss: 0.2054 - accuracy: 0.0000e+00 - val_loss: 0.1588 - val_accuracy: 0.0000e+00\n",
      "Epoch 32/1000\n",
      "915/915 - 15s - loss: 0.1524 - accuracy: 0.0000e+00 - val_loss: 0.1546 - val_accuracy: 0.0000e+00\n",
      "Epoch 33/1000\n",
      "915/915 - 14s - loss: 0.1493 - accuracy: 0.0000e+00 - val_loss: 0.1394 - val_accuracy: 0.0000e+00\n",
      "Epoch 34/1000\n",
      "915/915 - 15s - loss: 0.2013 - accuracy: 0.0000e+00 - val_loss: 0.1875 - val_accuracy: 0.0000e+00\n",
      "Epoch 35/1000\n",
      "915/915 - 15s - loss: 0.1728 - accuracy: 0.0000e+00 - val_loss: 0.1535 - val_accuracy: 0.0000e+00\n",
      "Epoch 36/1000\n",
      "915/915 - 16s - loss: 0.1575 - accuracy: 0.0000e+00 - val_loss: 0.1505 - val_accuracy: 0.0000e+00\n",
      "Epoch 37/1000\n",
      "915/915 - 15s - loss: 0.1479 - accuracy: 0.0000e+00 - val_loss: 0.1308 - val_accuracy: 0.0000e+00\n",
      "Epoch 38/1000\n",
      "915/915 - 15s - loss: 0.1753 - accuracy: 0.0000e+00 - val_loss: 0.1993 - val_accuracy: 0.0000e+00\n",
      "Epoch 39/1000\n",
      "915/915 - 15s - loss: 0.1743 - accuracy: 0.0000e+00 - val_loss: 0.1337 - val_accuracy: 0.0000e+00\n",
      "Epoch 40/1000\n",
      "915/915 - 15s - loss: 0.1660 - accuracy: 0.0000e+00 - val_loss: 0.1423 - val_accuracy: 0.0000e+00\n",
      "Epoch 41/1000\n",
      "915/915 - 15s - loss: 0.1675 - accuracy: 0.0000e+00 - val_loss: 0.1705 - val_accuracy: 0.0000e+00\n",
      "Epoch 42/1000\n",
      "915/915 - 15s - loss: 0.1799 - accuracy: 0.0000e+00 - val_loss: 0.1778 - val_accuracy: 0.0000e+00\n",
      "Epoch 43/1000\n",
      "915/915 - 15s - loss: 0.1511 - accuracy: 0.0000e+00 - val_loss: 0.1626 - val_accuracy: 0.0000e+00\n",
      "Epoch 44/1000\n",
      "915/915 - 15s - loss: 0.6144 - accuracy: 0.0000e+00 - val_loss: 0.1391 - val_accuracy: 0.0000e+00\n",
      "Epoch 45/1000\n",
      "915/915 - 15s - loss: 0.1411 - accuracy: 0.0000e+00 - val_loss: 0.1444 - val_accuracy: 0.0000e+00\n",
      "Epoch 46/1000\n",
      "915/915 - 15s - loss: 0.1530 - accuracy: 0.0000e+00 - val_loss: 0.1302 - val_accuracy: 0.0000e+00\n",
      "Epoch 47/1000\n",
      "915/915 - 15s - loss: 0.1698 - accuracy: 0.0000e+00 - val_loss: 0.1419 - val_accuracy: 0.0000e+00\n",
      "Epoch 48/1000\n",
      "915/915 - 15s - loss: 0.1395 - accuracy: 0.0000e+00 - val_loss: 0.1325 - val_accuracy: 0.0000e+00\n",
      "Epoch 49/1000\n",
      "915/915 - 15s - loss: 0.1423 - accuracy: 0.0000e+00 - val_loss: 0.1246 - val_accuracy: 0.0000e+00\n",
      "Epoch 50/1000\n",
      "915/915 - 15s - loss: 0.1410 - accuracy: 0.0000e+00 - val_loss: 0.1325 - val_accuracy: 0.0000e+00\n",
      "Epoch 51/1000\n",
      "915/915 - 15s - loss: 0.1362 - accuracy: 0.0000e+00 - val_loss: 0.1279 - val_accuracy: 0.0000e+00\n",
      "Epoch 52/1000\n",
      "915/915 - 15s - loss: 0.1598 - accuracy: 0.0000e+00 - val_loss: 0.5263 - val_accuracy: 0.0000e+00\n",
      "Epoch 53/1000\n",
      "915/915 - 15s - loss: 0.1490 - accuracy: 0.0000e+00 - val_loss: 0.1278 - val_accuracy: 0.0000e+00\n",
      "Epoch 54/1000\n",
      "915/915 - 15s - loss: 0.1309 - accuracy: 0.0000e+00 - val_loss: 0.1336 - val_accuracy: 0.0000e+00\n",
      "Epoch 55/1000\n",
      "915/915 - 15s - loss: 0.1530 - accuracy: 0.0000e+00 - val_loss: 0.1560 - val_accuracy: 0.0000e+00\n",
      "Epoch 56/1000\n",
      "915/915 - 15s - loss: 0.1618 - accuracy: 0.0000e+00 - val_loss: 0.1299 - val_accuracy: 0.0000e+00\n",
      "Epoch 57/1000\n",
      "915/915 - 15s - loss: 0.1320 - accuracy: 0.0000e+00 - val_loss: 0.1266 - val_accuracy: 0.0000e+00\n",
      "Epoch 58/1000\n",
      "915/915 - 15s - loss: 0.1318 - accuracy: 0.0000e+00 - val_loss: 0.1529 - val_accuracy: 0.0000e+00\n",
      "Epoch 59/1000\n",
      "915/915 - 15s - loss: 0.1322 - accuracy: 0.0000e+00 - val_loss: 0.1310 - val_accuracy: 0.0000e+00\n",
      "Epoch 60/1000\n",
      "915/915 - 15s - loss: 0.1333 - accuracy: 0.0000e+00 - val_loss: 0.1514 - val_accuracy: 0.0000e+00\n",
      "Epoch 61/1000\n",
      "915/915 - 15s - loss: 0.1562 - accuracy: 0.0000e+00 - val_loss: 0.1643 - val_accuracy: 0.0000e+00\n",
      "Epoch 62/1000\n",
      "915/915 - 15s - loss: 0.1896 - accuracy: 0.0000e+00 - val_loss: 0.1634 - val_accuracy: 0.0000e+00\n",
      "Epoch 63/1000\n",
      "915/915 - 15s - loss: 0.1611 - accuracy: 0.0000e+00 - val_loss: 0.1397 - val_accuracy: 0.0000e+00\n",
      "Epoch 64/1000\n",
      "915/915 - 15s - loss: 0.1348 - accuracy: 0.0000e+00 - val_loss: 0.1317 - val_accuracy: 0.0000e+00\n",
      "Epoch 65/1000\n",
      "915/915 - 15s - loss: 0.1303 - accuracy: 0.0000e+00 - val_loss: 0.1256 - val_accuracy: 0.0000e+00\n",
      "Epoch 66/1000\n",
      "915/915 - 15s - loss: 0.1398 - accuracy: 0.0000e+00 - val_loss: 0.1460 - val_accuracy: 0.0000e+00\n",
      "Epoch 67/1000\n",
      "915/915 - 15s - loss: 0.1464 - accuracy: 0.0000e+00 - val_loss: 0.1513 - val_accuracy: 0.0000e+00\n",
      "Epoch 68/1000\n",
      "915/915 - 15s - loss: 0.1378 - accuracy: 0.0000e+00 - val_loss: 0.1211 - val_accuracy: 0.0000e+00\n",
      "Epoch 69/1000\n",
      "915/915 - 15s - loss: 0.1294 - accuracy: 0.0000e+00 - val_loss: 0.1280 - val_accuracy: 0.0000e+00\n",
      "Epoch 70/1000\n",
      "915/915 - 15s - loss: 0.1427 - accuracy: 0.0000e+00 - val_loss: 0.1248 - val_accuracy: 0.0000e+00\n",
      "Epoch 71/1000\n",
      "915/915 - 15s - loss: 0.1406 - accuracy: 0.0000e+00 - val_loss: 0.1247 - val_accuracy: 0.0000e+00\n",
      "Epoch 72/1000\n",
      "915/915 - 16s - loss: 0.1284 - accuracy: 0.0000e+00 - val_loss: 0.1290 - val_accuracy: 0.0000e+00\n",
      "Epoch 73/1000\n",
      "915/915 - 16s - loss: 0.1283 - accuracy: 0.0000e+00 - val_loss: 0.1304 - val_accuracy: 0.0000e+00\n",
      "Epoch 74/1000\n",
      "915/915 - 15s - loss: 0.1250 - accuracy: 0.0000e+00 - val_loss: 0.1204 - val_accuracy: 0.0000e+00\n",
      "Epoch 75/1000\n",
      "915/915 - 15s - loss: 0.1248 - accuracy: 0.0000e+00 - val_loss: 0.1179 - val_accuracy: 0.0000e+00\n",
      "Epoch 76/1000\n",
      "915/915 - 15s - loss: 0.1443 - accuracy: 0.0000e+00 - val_loss: 0.1291 - val_accuracy: 0.0000e+00\n",
      "Epoch 77/1000\n",
      "915/915 - 15s - loss: 0.1254 - accuracy: 0.0000e+00 - val_loss: 0.1231 - val_accuracy: 0.0000e+00\n",
      "Epoch 78/1000\n",
      "915/915 - 15s - loss: 0.1220 - accuracy: 0.0000e+00 - val_loss: 0.1171 - val_accuracy: 0.0000e+00\n",
      "Epoch 79/1000\n",
      "915/915 - 15s - loss: 0.3962 - accuracy: 0.0000e+00 - val_loss: 0.3912 - val_accuracy: 0.0000e+00\n",
      "Epoch 80/1000\n",
      "915/915 - 15s - loss: 0.3900 - accuracy: 0.0000e+00 - val_loss: 0.3911 - val_accuracy: 0.0000e+00\n",
      "Epoch 81/1000\n",
      "915/915 - 16s - loss: 0.3901 - accuracy: 0.0000e+00 - val_loss: 0.3912 - val_accuracy: 0.0000e+00\n",
      "Epoch 82/1000\n",
      "915/915 - 15s - loss: 0.3902 - accuracy: 0.0000e+00 - val_loss: 0.3912 - val_accuracy: 0.0000e+00\n",
      "Epoch 83/1000\n",
      "915/915 - 15s - loss: 0.3900 - accuracy: 0.0000e+00 - val_loss: 0.3913 - val_accuracy: 0.0000e+00\n",
      "Epoch 84/1000\n",
      "915/915 - 16s - loss: 0.3901 - accuracy: 0.0000e+00 - val_loss: 0.3912 - val_accuracy: 0.0000e+00\n",
      "Epoch 85/1000\n",
      "915/915 - 15s - loss: 0.3901 - accuracy: 0.0000e+00 - val_loss: 0.3912 - val_accuracy: 0.0000e+00\n",
      "Epoch 86/1000\n",
      "915/915 - 15s - loss: 0.3901 - accuracy: 0.0000e+00 - val_loss: 0.3916 - val_accuracy: 0.0000e+00\n",
      "Epoch 87/1000\n",
      "915/915 - 15s - loss: 0.3902 - accuracy: 0.0000e+00 - val_loss: 0.3922 - val_accuracy: 0.0000e+00\n",
      "Epoch 88/1000\n",
      "915/915 - 15s - loss: 0.3900 - accuracy: 0.0000e+00 - val_loss: 0.3917 - val_accuracy: 0.0000e+00\n",
      "Epoch 89/1000\n",
      "915/915 - 15s - loss: 0.3901 - accuracy: 0.0000e+00 - val_loss: 0.3929 - val_accuracy: 0.0000e+00\n",
      "Epoch 90/1000\n",
      "915/915 - 15s - loss: 0.3901 - accuracy: 0.0000e+00 - val_loss: 0.3915 - val_accuracy: 0.0000e+00\n",
      "Epoch 91/1000\n",
      "915/915 - 15s - loss: 0.3902 - accuracy: 0.0000e+00 - val_loss: 0.3914 - val_accuracy: 0.0000e+00\n",
      "Epoch 92/1000\n",
      "915/915 - 15s - loss: 0.3902 - accuracy: 0.0000e+00 - val_loss: 0.3913 - val_accuracy: 0.0000e+00\n",
      "Epoch 93/1000\n",
      "915/915 - 15s - loss: 0.3901 - accuracy: 0.0000e+00 - val_loss: 0.3915 - val_accuracy: 0.0000e+00\n",
      "Epoch 94/1000\n",
      "915/915 - 15s - loss: 0.3901 - accuracy: 0.0000e+00 - val_loss: 0.3936 - val_accuracy: 0.0000e+00\n",
      "Epoch 95/1000\n",
      "915/915 - 15s - loss: 0.3903 - accuracy: 0.0000e+00 - val_loss: 0.3930 - val_accuracy: 0.0000e+00\n",
      "Epoch 96/1000\n",
      "915/915 - 15s - loss: 0.3903 - accuracy: 0.0000e+00 - val_loss: 0.3914 - val_accuracy: 0.0000e+00\n",
      "Epoch 97/1000\n",
      "915/915 - 15s - loss: 0.3902 - accuracy: 0.0000e+00 - val_loss: 0.3917 - val_accuracy: 0.0000e+00\n",
      "Epoch 98/1000\n",
      "915/915 - 15s - loss: 0.3902 - accuracy: 0.0000e+00 - val_loss: 0.3914 - val_accuracy: 0.0000e+00\n",
      "Epoch 99/1000\n",
      "915/915 - 15s - loss: 0.3901 - accuracy: 0.0000e+00 - val_loss: 0.3918 - val_accuracy: 0.0000e+00\n",
      "Epoch 100/1000\n",
      "915/915 - 15s - loss: 0.3901 - accuracy: 0.0000e+00 - val_loss: 0.3915 - val_accuracy: 0.0000e+00\n",
      "Epoch 101/1000\n",
      "915/915 - 15s - loss: 0.3901 - accuracy: 0.0000e+00 - val_loss: 0.3919 - val_accuracy: 0.0000e+00\n",
      "Epoch 102/1000\n",
      "915/915 - 16s - loss: 0.3901 - accuracy: 0.0000e+00 - val_loss: 0.3926 - val_accuracy: 0.0000e+00\n",
      "Epoch 103/1000\n",
      "915/915 - 15s - loss: 0.3903 - accuracy: 0.0000e+00 - val_loss: 0.3914 - val_accuracy: 0.0000e+00\n",
      "Epoch 104/1000\n",
      "915/915 - 15s - loss: 0.3902 - accuracy: 0.0000e+00 - val_loss: 0.3914 - val_accuracy: 0.0000e+00\n",
      "Epoch 105/1000\n",
      "915/915 - 15s - loss: 0.3901 - accuracy: 0.0000e+00 - val_loss: 0.3913 - val_accuracy: 0.0000e+00\n",
      "Epoch 106/1000\n",
      "915/915 - 15s - loss: 0.3902 - accuracy: 0.0000e+00 - val_loss: 0.3914 - val_accuracy: 0.0000e+00\n",
      "Epoch 107/1000\n",
      "915/915 - 15s - loss: 0.3902 - accuracy: 0.0000e+00 - val_loss: 0.3917 - val_accuracy: 0.0000e+00\n",
      "Epoch 108/1000\n",
      "915/915 - 15s - loss: 0.3900 - accuracy: 0.0000e+00 - val_loss: 0.3911 - val_accuracy: 0.0000e+00\n",
      "Restoring model weights from the end of the best epoch.\n",
      "Epoch 00108: early stopping\n"
     ]
    }
   ],
   "source": [
    "history = model.fit(train_x, train_y, epochs=1000,validation_data=(test_x, test_y),callbacks=[monitor], verbose=2)"
   ]
  },
  {
   "cell_type": "code",
   "execution_count": 31,
   "metadata": {},
   "outputs": [
    {
     "name": "stdout",
     "output_type": "stream",
     "text": [
      "INFO:tensorflow:Assets written to: /Users/michaelsong/Documents/GitHub/starzam/Models/m2.1/assets\n"
     ]
    }
   ],
   "source": [
    "model.save('/Users/michaelsong/Documents/GitHub/starzam/Models/m2.1')"
   ]
  },
  {
   "cell_type": "code",
   "execution_count": 32,
   "metadata": {},
   "outputs": [
    {
     "name": "stderr",
     "output_type": "stream",
     "text": [
      "2021-11-28 15:08:23.817341: I tensorflow/core/grappler/optimizers/custom_graph_optimizer_registry.cc:112] Plugin optimizer for device_type GPU is enabled.\n"
     ]
    },
    {
     "name": "stdout",
     "output_type": "stream",
     "text": [
      "(7315,) (29260,)\n"
     ]
    }
   ],
   "source": [
    "\n",
    "pred_test_y = model.predict(test_x).reshape(-1)\n",
    "pred_train_y = model.predict(train_x).reshape(-1)\n",
    "print(pred_test_y.shape,pred_train_y.shape)\n"
   ]
  },
  {
   "cell_type": "markdown",
   "metadata": {},
   "source": []
  },
  {
   "cell_type": "code",
   "execution_count": 39,
   "metadata": {},
   "outputs": [
    {
     "data": {
      "image/png": "[encoded data removed]",
      "text/plain": [
       "<Figure size 432x288 with 1 Axes>"
      ]
     },
     "metadata": {
      "needs_background": "light"
     },
     "output_type": "display_data"
    }
   ],
   "source": [
    "plt.scatter(train_y,pred_train_y, c='red', alpha=0.5,s=1)\n",
    "\n",
    "plt.scatter(test_y,pred_test_y, c='blue', alpha=0.5,s=1)\n",
    "\n",
    "linex = np.linspace(2000,10000)\n",
    "liney = linex\n",
    "# Create the plot\n",
    "plt.plot(linex, liney,c=\"green\")\n",
    "\n",
    "plt.xlim(2000, 10000)\n",
    "plt.ylim(2000, 10000)\n",
    "plt.gca().set_aspect('equal', adjustable='box')\n",
    "plt.show()"
   ]
  },
  {
   "cell_type": "code",
   "execution_count": 22,
   "metadata": {},
   "outputs": [],
   "source": [
    "def normalize1D(data):\n",
    "    return np.divide(np.nan_to_num(data,np.nanmean(data)),np.nanmax(data))"
   ]
  },
  {
   "cell_type": "code",
   "execution_count": 23,
   "metadata": {},
   "outputs": [
    {
     "name": "stdout",
     "output_type": "stream",
     "text": [
      "Mean Sq. Error, Mean Abs. Error\n",
      "0.20206538 0.1949369\n"
     ]
    }
   ],
   "source": [
    "mse = np.sqrt(mean_squared_error(normalize1D(test_y),normalize1D(pred_test_y)))\n",
    "mae = mean_absolute_error(normalize1D(test_y),normalize1D(pred_test_y))\n",
    "print(\"Mean Sq. Error, Mean Abs. Error\")\n",
    "print(mse,mae)"
   ]
  },
  {
   "cell_type": "code",
   "execution_count": null,
   "metadata": {},
   "outputs": [],
   "source": []
  }
 ],
 "metadata": {
  "interpreter": {
   "hash": "47065cae1920ebace9a059c93d67134c9a065e51e3ecb9809a1abf9fcf371550"
  },
  "kernelspec": {
   "display_name": "Python 3.9.7 64-bit ('base': conda)",
   "name": "python3"
  },
  "language_info": {
   "codemirror_mode": {
    "name": "ipython",
    "version": 3
   },
   "file_extension": ".py",
   "mimetype": "text/x-python",
   "name": "python",
   "nbconvert_exporter": "python",
   "pygments_lexer": "ipython3",
   "version": "3.9.7"
  },
  "orig_nbformat": 4
 },
 "nbformat": 4,
 "nbformat_minor": 2
}
